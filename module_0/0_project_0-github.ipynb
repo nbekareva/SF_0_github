{
 "cells": [
  {
   "cell_type": "markdown",
   "metadata": {},
   "source": [
    "# Угадай число от 1 до 100\n",
    "## Первый git-проект в SkillFactory\n",
    "\n",
    "Игра заключается в следующем: рандомно \"загадывается\" число от 1 до 100, необходимо его угадать с помощью скрипта за наименьшее число попыток."
   ]
  },
  {
   "cell_type": "code",
   "execution_count": 1,
   "metadata": {},
   "outputs": [],
   "source": [
    "import numpy as np"
   ]
  },
  {
   "cell_type": "code",
   "execution_count": 27,
   "metadata": {},
   "outputs": [
    {
     "name": "stdout",
     "output_type": "stream",
     "text": [
      "Загадано число от 1 до 99\n",
      "56\n",
      "Угадываемое число меньше 56 \n",
      "45\n",
      "Угадываемое число меньше 45 \n",
      "13\n",
      "Угадываемое число больше 13 \n",
      "25\n",
      "Угадываемое число больше 25 \n",
      "35\n",
      "Угадываемое число меньше 35 \n",
      "30\n",
      "Вы угадали число 30 за 6 попыток.\n"
     ]
    }
   ],
   "source": [
    "'''Игра вручную'''\n",
    "\n",
    "count = 0                            # счетчик попыток\n",
    "number = np.random.randint(1,101)    # загадали число\n",
    "print (\"Загадано число от 1 до 99\")\n",
    "\n",
    "while True:                        # бесконечный цикл\n",
    "    predict = int(input())         # предполагаемое число\n",
    "    count += 1                     # плюсуем попытку\n",
    "    \n",
    "    if number == predict: break    # выход из цикла, если угадали\n",
    "    elif number > predict: print (f\"Угадываемое число больше {predict} \")\n",
    "    elif number < predict: print (f\"Угадываемое число меньше {predict} \")\n",
    "        \n",
    "print (f\"Вы угадали число {number} за {count} попыток.\")"
   ]
  },
  {
   "cell_type": "code",
   "execution_count": 47,
   "metadata": {},
   "outputs": [],
   "source": [
    "'''Исходный алгоритм, предложенный SkillFactory - перебор всех значений от 1 по порядку. Алгоритм запускается 1000 раз, чтобы вычислить среднее число попыток.'''\n",
    "\n",
    "def game_core_v1(number):\n",
    "    '''\n",
    "    Просто угадываем перебором никак не используя информацию о больше или меньше.\n",
    "    Функция принимает загаданное число и возвращает число попыток.\n",
    "    '''\n",
    "    count = 0\n",
    "    \n",
    "    while True:\n",
    "        count+=1\n",
    "        predict = np.random.randint(1,101) # предполагаемое число\n",
    "        \n",
    "        if number == count: \n",
    "            return(count) # выход из цикла, если угадали  \n",
    "\n",
    "\n",
    "def score_game(game_core_v1):\n",
    "    '''Запускаем игру 1000 раз, чтоб узнать как быстро игра угадывает число'''\n",
    "    count_ls = []\n",
    "    np.random.seed(1)  # фиксируем RANDOM SEED, чтобы ваш эксперимент был воспроизводим!\n",
    "    random_array = np.random.randint(1, 101, size=(1000))       #поправлено мной на интервал (1, 100, size=(1000)) для избежания бесконечного цикла\n",
    "    \n",
    "    for number in random_array:\n",
    "        count_ls.append(game_core_v1(number))\n",
    "    \n",
    "    score = int(np.mean(count_ls))\n",
    "    \n",
    "    print(f\"Ваш алгоритм угадывает число в среднем за {score} попыток\")\n",
    "    \n",
    "    return(score)"
   ]
  },
  {
   "cell_type": "code",
   "execution_count": 48,
   "metadata": {},
   "outputs": [
    {
     "name": "stdout",
     "output_type": "stream",
     "text": [
      "Ваш алгоритм угадывает число в среднем за 50 попыток\n"
     ]
    },
    {
     "data": {
      "text/plain": [
       "50"
      ]
     },
     "execution_count": 48,
     "metadata": {},
     "output_type": "execute_result"
    }
   ],
   "source": [
    "score_game(game_core_v1)     # checking the average number of tries"
   ]
  },
  {
   "cell_type": "code",
   "execution_count": 49,
   "metadata": {},
   "outputs": [],
   "source": [
    "'''Модификация функции поиска - также предложена SkillFatory.'''\n",
    "\n",
    "def game_core_v2(number):\n",
    "    '''\n",
    "    Сначала устанавливаем любое random число, а потом уменьшаем или увеличиваем его в зависимости от того,\n",
    "    больше оно или меньше нужного. Функция принимает загаданное число и возвращает число попыток.\n",
    "    '''\n",
    "    \n",
    "    count = 0\n",
    "    predict = np.random.randint(1,101)\n",
    "    \n",
    "    while number != predict:\n",
    "        count+=1\n",
    "        \n",
    "        if number > predict: \n",
    "            predict += 1\n",
    "        elif number < predict: \n",
    "            predict -= 1\n",
    "    \n",
    "    return(count) # выход из цикла, если угадали"
   ]
  },
  {
   "cell_type": "code",
   "execution_count": 50,
   "metadata": {},
   "outputs": [
    {
     "name": "stdout",
     "output_type": "stream",
     "text": [
      "Ваш алгоритм угадывает число в среднем за 32 попыток\n"
     ]
    },
    {
     "data": {
      "text/plain": [
       "32"
      ]
     },
     "execution_count": 50,
     "metadata": {},
     "output_type": "execute_result"
    }
   ],
   "source": [
    "score_game(game_core_v2)     # checking the average number of tries"
   ]
  },
  {
   "cell_type": "code",
   "execution_count": 51,
   "metadata": {},
   "outputs": [],
   "source": [
    "def game_core_v3(number):\n",
    "    '''\n",
    "    My first own method - realization of the same logic as when playing manually. \n",
    "    The predicted number is compared to the random one, the interval of search gets \n",
    "    reduced depending on the result of comparison operation.\n",
    "    '''\n",
    "    \n",
    "    count = 0\n",
    "    low = 1\n",
    "    high = 101\n",
    "    \n",
    "    while True:    # infinite cycle\n",
    "        predict = np.random.randint(low, high)     # [low; high) - 'low' inclusively, 'high' exclusively\n",
    "        count += 1\n",
    "        \n",
    "        if number == predict:\n",
    "            break\n",
    "        elif number > predict:\n",
    "            low = predict + 1    # set predicted number as lower threshold\n",
    "        elif number < predict:\n",
    "            high = predict       # set predicted number as higher threshold\n",
    "\n",
    "    return count"
   ]
  },
  {
   "cell_type": "code",
   "execution_count": 52,
   "metadata": {},
   "outputs": [
    {
     "name": "stdout",
     "output_type": "stream",
     "text": [
      "Ваш алгоритм угадывает число в среднем за 7 попыток\n"
     ]
    },
    {
     "data": {
      "text/plain": [
       "7"
      ]
     },
     "execution_count": 52,
     "metadata": {},
     "output_type": "execute_result"
    }
   ],
   "source": [
    "score_game(game_core_v3)     # checking the average number of tries"
   ]
  },
  {
   "cell_type": "code",
   "execution_count": 53,
   "metadata": {},
   "outputs": [],
   "source": [
    "def game_core_v4(number):\n",
    "    '''\n",
    "    The second method - dividing intervals in halves.\n",
    "    '''\n",
    "    \n",
    "    count = 0\n",
    "    low = 1\n",
    "    high = 101\n",
    "    \n",
    "    while True:\n",
    "        predict = low + (high - low) // 2\n",
    "        count += 1\n",
    "        \n",
    "        if number == predict:\n",
    "            break\n",
    "        elif number > predict:\n",
    "            low = predict + 1    # set predicted number as lower threshold\n",
    "        elif number < predict:\n",
    "            high = predict       # set predicted number as higher threshold\n",
    "\n",
    "    return count"
   ]
  },
  {
   "cell_type": "code",
   "execution_count": 54,
   "metadata": {},
   "outputs": [
    {
     "name": "stdout",
     "output_type": "stream",
     "text": [
      "Ваш алгоритм угадывает число в среднем за 5 попыток\n"
     ]
    },
    {
     "data": {
      "text/plain": [
       "5"
      ]
     },
     "execution_count": 54,
     "metadata": {},
     "output_type": "execute_result"
    }
   ],
   "source": [
    "score_game(game_core_v4)     # checking the average number of tries"
   ]
  },
  {
   "cell_type": "markdown",
   "metadata": {},
   "source": [
    "#### Попробуем совместить разработанные нами методы и сравним быстродействие:"
   ]
  },
  {
   "cell_type": "code",
   "execution_count": 55,
   "metadata": {},
   "outputs": [],
   "source": [
    "def game_core_v5(number):\n",
    "    '''\n",
    "    The third method - a combination of first two methods.\n",
    "    '''\n",
    "    \n",
    "    count = 0\n",
    "    low = 1\n",
    "    high = 101\n",
    "    \n",
    "    while True:\n",
    "        predict1 = np.random.randint(low, high)     # this methods tries two numbers at once\n",
    "        predict2 = low + (high - low) // 2\n",
    "        count += 1\n",
    "        \n",
    "        maximum = max(predict1, predict2)     # comparing two predicted numbers, setting them as min and max for defining an interval if the number is in range\n",
    "        minimum = min(predict1, predict2)\n",
    "        \n",
    "        if number == predict1:\n",
    "            break\n",
    "        \n",
    "        elif number == predict2:\n",
    "            break\n",
    "        \n",
    "        elif number < minimum:\n",
    "            high = minimum       # set as higher threshold\n",
    "        \n",
    "        elif number > maximum:\n",
    "            low = maximum + 1    # sets as lower threshold\n",
    "        \n",
    "        elif number in range(minimum, maximum):     # checking if the number is in between\n",
    "            count += 1\n",
    "            low = minimum + 1\n",
    "            high = maximum\n",
    "\n",
    "    return count"
   ]
  },
  {
   "cell_type": "code",
   "execution_count": 56,
   "metadata": {},
   "outputs": [
    {
     "name": "stdout",
     "output_type": "stream",
     "text": [
      "Ваш алгоритм угадывает число в среднем за 5 попыток\n"
     ]
    },
    {
     "data": {
      "text/plain": [
       "5"
      ]
     },
     "execution_count": 56,
     "metadata": {},
     "output_type": "execute_result"
    }
   ],
   "source": [
    "score_game(game_core_v5)"
   ]
  },
  {
   "cell_type": "markdown",
   "metadata": {},
   "source": [
    "Как видим, быстродействие не повысилось."
   ]
  },
  {
   "cell_type": "markdown",
   "metadata": {},
   "source": [
    "## Проверяем, в каких интервалах какой из методов наиболее эффективен\n",
    "\n",
    "Изменяем функции, чтобы передавать верхний и нижний пределы только один раз, сравниваем быстродействие трех методов. Цель - определить, будет ли какой-то из методов более эффективен в более узком/широком интервале, чтобы применять каждый из методов в соответствующих интервалах (по мере сокращения основного)."
   ]
  },
  {
   "cell_type": "code",
   "execution_count": 14,
   "metadata": {},
   "outputs": [],
   "source": [
    "def compare_methods():\n",
    "    \"\"\"\n",
    "    Comparison of the speed of the three developed methods.\n",
    "    \"\"\"\n",
    "    \n",
    "    low = int(input())\n",
    "    high = int(input())\n",
    "    \n",
    "    score_game1(game_core_v21, low, high)\n",
    "    score_game1(game_core_v31, low, high)\n",
    "    score_game1(game_core_v41, low, high)\n",
    "    \n",
    "    return True\n",
    "\n",
    "\n",
    "def score_game1(game_core_v1, low, high):\n",
    "    '''\n",
    "    Запускаем игру 1000 раз, чтоб узнать как быстро игра угадывает число.\n",
    "    '''\n",
    "    \n",
    "    count_ls = []\n",
    "    np.random.seed(1)  # фиксируем RANDOM SEED, чтобы ваш эксперимент был воспроизводим!\n",
    "    \n",
    "    random_array = np.random.randint(low, high, size=(1000))       #поправлено мной на интервал (1, 100, size=(1000)) для избежания бесконечного цикла\n",
    "    \n",
    "    for number in random_array:\n",
    "        count_ls.append(game_core_v1(number, low, high))\n",
    "    \n",
    "    score = int(np.mean(count_ls))\n",
    "    \n",
    "    print(f\"Ваш алгоритм угадывает число в среднем за {score} попыток\")\n",
    "    \n",
    "    return(score)\n",
    "\n",
    "\n",
    "def game_core_v21(number, low, high):\n",
    "    '''\n",
    "    Сначала устанавливаем любое random число, а потом уменьшаем или увеличиваем его в зависимости от того,\n",
    "    больше оно или меньше нужного. Функция принимает загаданное число и возвращает число попыток.\n",
    "    Метод предложен Skillfactory.\n",
    "    '''\n",
    "    \n",
    "    count = 0\n",
    "    predict = np.random.randint(low,high)\n",
    "    \n",
    "    while number != predict:\n",
    "        count+=1\n",
    "        \n",
    "        if number > predict: \n",
    "            predict += 1\n",
    "        elif number < predict: \n",
    "            predict -= 1\n",
    "    \n",
    "    return(count) # выход из цикла, если угадали\n",
    "\n",
    "\n",
    "def game_core_v31(number, low, high):\n",
    "    '''\n",
    "    My first own method - realization of the same logic as when playing manually. \n",
    "    The predicted number is compared to the random one, the interval of search gets \n",
    "    reduced depending on the result of comparison operation.\n",
    "    '''\n",
    "    \n",
    "    count = 0\n",
    "    \n",
    "    while True:    # infinite cycle\n",
    "        predict = np.random.randint(low, high)     # [low; high) - 'low' inclusively, 'high' exclusively\n",
    "        count += 1\n",
    "        \n",
    "        if number == predict:\n",
    "            break\n",
    "        elif number > predict:\n",
    "            low = predict + 1    # set as lower threshold\n",
    "        elif number < predict:\n",
    "            high = predict       # set as higher threshold\n",
    "\n",
    "    return count\n",
    "\n",
    "\n",
    "def game_core_v41(number, low, high):\n",
    "    '''\n",
    "    The second method - dividing intervals in halves.\n",
    "    '''\n",
    "    \n",
    "    count = 0\n",
    "    \n",
    "    while True:\n",
    "        predict = low + (high - low) // 2\n",
    "        count += 1\n",
    "        \n",
    "        if number == predict:\n",
    "            break\n",
    "        elif number > predict:\n",
    "            low = predict + 1    # set as lower threshold\n",
    "        elif number < predict:\n",
    "            high = predict       # set as higher threshold\n",
    "\n",
    "    return count"
   ]
  },
  {
   "cell_type": "code",
   "execution_count": 15,
   "metadata": {},
   "outputs": [
    {
     "name": "stdout",
     "output_type": "stream",
     "text": [
      "1\n",
      "101\n",
      "Ваш алгоритм угадывает число в среднем за 32 попыток\n",
      "Ваш алгоритм угадывает число в среднем за 7 попыток\n",
      "Ваш алгоритм угадывает число в среднем за 5 попыток\n"
     ]
    },
    {
     "data": {
      "text/plain": [
       "True"
      ]
     },
     "execution_count": 15,
     "metadata": {},
     "output_type": "execute_result"
    }
   ],
   "source": [
    "compare_methods()"
   ]
  },
  {
   "cell_type": "code",
   "execution_count": 16,
   "metadata": {},
   "outputs": [
    {
     "name": "stdout",
     "output_type": "stream",
     "text": [
      "1\n",
      "51\n",
      "Ваш алгоритм угадывает число в среднем за 16 попыток\n",
      "Ваш алгоритм угадывает число в среднем за 6 попыток\n",
      "Ваш алгоритм угадывает число в среднем за 4 попыток\n"
     ]
    },
    {
     "data": {
      "text/plain": [
       "True"
      ]
     },
     "execution_count": 16,
     "metadata": {},
     "output_type": "execute_result"
    }
   ],
   "source": [
    "compare_methods()"
   ]
  },
  {
   "cell_type": "code",
   "execution_count": 17,
   "metadata": {},
   "outputs": [
    {
     "name": "stdout",
     "output_type": "stream",
     "text": [
      "1\n",
      "26\n",
      "Ваш алгоритм угадывает число в среднем за 8 попыток\n",
      "Ваш алгоритм угадывает число в среднем за 4 попыток\n",
      "Ваш алгоритм угадывает число в среднем за 3 попыток\n"
     ]
    },
    {
     "data": {
      "text/plain": [
       "True"
      ]
     },
     "execution_count": 17,
     "metadata": {},
     "output_type": "execute_result"
    }
   ],
   "source": [
    "compare_methods()"
   ]
  },
  {
   "cell_type": "code",
   "execution_count": 18,
   "metadata": {},
   "outputs": [
    {
     "name": "stdout",
     "output_type": "stream",
     "text": [
      "1\n",
      "13\n",
      "Ваш алгоритм угадывает число в среднем за 4 попыток\n",
      "Ваш алгоритм угадывает число в среднем за 3 попыток\n",
      "Ваш алгоритм угадывает число в среднем за 3 попыток\n"
     ]
    },
    {
     "data": {
      "text/plain": [
       "True"
      ]
     },
     "execution_count": 18,
     "metadata": {},
     "output_type": "execute_result"
    }
   ],
   "source": [
    "compare_methods()"
   ]
  },
  {
   "cell_type": "code",
   "execution_count": 23,
   "metadata": {},
   "outputs": [
    {
     "name": "stdout",
     "output_type": "stream",
     "text": [
      "1\n",
      "10\n",
      "Ваш алгоритм угадывает число в среднем за 2 попыток\n",
      "Ваш алгоритм угадывает число в среднем за 3 попыток\n",
      "Ваш алгоритм угадывает число в среднем за 2 попыток\n"
     ]
    },
    {
     "data": {
      "text/plain": [
       "True"
      ]
     },
     "execution_count": 23,
     "metadata": {},
     "output_type": "execute_result"
    }
   ],
   "source": [
    "compare_methods()"
   ]
  },
  {
   "cell_type": "code",
   "execution_count": 24,
   "metadata": {},
   "outputs": [
    {
     "name": "stdout",
     "output_type": "stream",
     "text": [
      "1\n",
      "8\n",
      "Ваш алгоритм угадывает число в среднем за 2 попыток\n",
      "Ваш алгоритм угадывает число в среднем за 2 попыток\n",
      "Ваш алгоритм угадывает число в среднем за 2 попыток\n"
     ]
    },
    {
     "data": {
      "text/plain": [
       "True"
      ]
     },
     "execution_count": 24,
     "metadata": {},
     "output_type": "execute_result"
    }
   ],
   "source": [
    "compare_methods()"
   ]
  },
  {
   "cell_type": "code",
   "execution_count": 25,
   "metadata": {},
   "outputs": [
    {
     "name": "stdout",
     "output_type": "stream",
     "text": [
      "1\n",
      "7\n",
      "Ваш алгоритм угадывает число в среднем за 1 попыток\n",
      "Ваш алгоритм угадывает число в среднем за 2 попыток\n",
      "Ваш алгоритм угадывает число в среднем за 2 попыток\n"
     ]
    },
    {
     "data": {
      "text/plain": [
       "True"
      ]
     },
     "execution_count": 25,
     "metadata": {},
     "output_type": "execute_result"
    }
   ],
   "source": [
    "compare_methods()"
   ]
  },
  {
   "cell_type": "markdown",
   "metadata": {},
   "source": [
    "## Вывод\n",
    "\n",
    "Видим, что метод деления интервала поиска пополам остается наиболее эффективным вплоть до сокращения интервала до \\[1, 10), далее эффективность трех методов становится одинаковой (до [1, 8)), и в узком интервале [1, 7) первый метод, предложенный Skillfactory, быстрее всех находит нужное число. Напишем код, совмещающий первый и последний методы:"
   ]
  },
  {
   "cell_type": "code",
   "execution_count": 46,
   "metadata": {},
   "outputs": [],
   "source": [
    "def game_core_v42(number, low, high):\n",
    "    '''\n",
    "    The second method - dividing intervals in halves.\n",
    "    UPD: modified!\n",
    "    '''\n",
    "    \n",
    "    count = 0\n",
    "    \n",
    "    while high-low != 6:\n",
    "        predict = low + (high - low) // 2\n",
    "        count += 1\n",
    "        \n",
    "        if number == predict:\n",
    "            break\n",
    "        elif number > predict:\n",
    "            low = predict + 1    # set as lower threshold\n",
    "        elif number < predict:\n",
    "            high = predict       # set as higher threshold\n",
    "\n",
    "    return [count, low, high]\n",
    "\n",
    "\n",
    "def game_core_v22(number, low, high):\n",
    "    '''\n",
    "    Сначала устанавливаем любое random число, а потом уменьшаем или увеличиваем его в зависимости от того,\n",
    "    больше оно или меньше нужного. Функция принимает загаданное число и возвращает число попыток.\n",
    "    Метод предложен Skillfactory.\n",
    "    UPD: modified!\n",
    "    '''\n",
    "    \n",
    "    count = 0\n",
    "    predict = np.random.randint(low,high)\n",
    "    \n",
    "    while number != predict:\n",
    "        count+=1\n",
    "        \n",
    "        if number > predict: \n",
    "            predict += 1\n",
    "        elif number < predict: \n",
    "            predict -= 1\n",
    "    \n",
    "    return count # выход из цикла, если угадали\n",
    "\n",
    "\n",
    "def game_core_v6(number):\n",
    "    \"\"\"\n",
    "    Combination of the two methods - division in halves and Skillfactory method 1.\n",
    "    \"\"\"\n",
    "    \n",
    "    low = 1\n",
    "    high = 101\n",
    "    \n",
    "    result1 = game_core_v42(number, low, high) # results of executing the first method\n",
    "    \n",
    "    count = result1[0] # current number of tries\n",
    "    low = result1[1]\n",
    "    high = result1[2] # reassigning low and high according to the results of the first method\n",
    "    \n",
    "    count += game_core_v22(number, low, high) # adding the tries of using the second method\n",
    "    \n",
    "    return count"
   ]
  },
  {
   "cell_type": "code",
   "execution_count": 45,
   "metadata": {},
   "outputs": [
    {
     "name": "stdout",
     "output_type": "stream",
     "text": [
      "Ваш алгоритм угадывает число в среднем за 6 попыток\n"
     ]
    },
    {
     "data": {
      "text/plain": [
       "6"
      ]
     },
     "execution_count": 45,
     "metadata": {},
     "output_type": "execute_result"
    }
   ],
   "source": [
    "score_game(game_core_v6)"
   ]
  },
  {
   "cell_type": "markdown",
   "metadata": {},
   "source": [
    "## Вывод:\n",
    "\n",
    "Как видно, скорость угадывания числа от совмещения двух алгоритмов только снизилась, поэтому наиболее эффективным методом является деление интервала поиска пополам (game_core_v4)."
   ]
  }
 ],
 "metadata": {
  "kernelspec": {
   "display_name": "Python 3",
   "language": "python",
   "name": "python3"
  },
  "language_info": {
   "codemirror_mode": {
    "name": "ipython",
    "version": 3
   },
   "file_extension": ".py",
   "mimetype": "text/x-python",
   "name": "python",
   "nbconvert_exporter": "python",
   "pygments_lexer": "ipython3",
   "version": "3.7.6"
  }
 },
 "nbformat": 4,
 "nbformat_minor": 4
}
