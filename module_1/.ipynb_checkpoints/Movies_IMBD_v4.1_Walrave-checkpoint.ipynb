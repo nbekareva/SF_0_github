{
 "cells": [
  {
   "cell_type": "code",
   "execution_count": 1,
   "metadata": {
    "_cell_guid": "b1076dfc-b9ad-4769-8c92-a6c4dae69d19",
    "_uuid": "8f2839f25d086af736a60e9eeb907d3b93b6e0e5",
    "colab": {},
    "colab_type": "code",
    "id": "U2D2gTdJVp90"
   },
   "outputs": [],
   "source": [
    "import numpy as np\n",
    "import pandas as pd\n",
    "import seaborn as sns\n",
    "import matplotlib.pyplot as plt\n",
    "from collections import Counter"
   ]
  },
  {
   "cell_type": "code",
   "execution_count": 2,
   "metadata": {
    "_cell_guid": "79c7e3d0-c299-4dcb-8224-4455121ee9b0",
    "_uuid": "d629ff2d2480ee46fbb7e2d37f6b5fab8052498a",
    "colab": {},
    "colab_type": "code",
    "id": "oyGfxL3eVp9-",
    "scrolled": false
   },
   "outputs": [
    {
     "data": {
      "text/html": [
       "<div>\n",
       "<style scoped>\n",
       "    .dataframe tbody tr th:only-of-type {\n",
       "        vertical-align: middle;\n",
       "    }\n",
       "\n",
       "    .dataframe tbody tr th {\n",
       "        vertical-align: top;\n",
       "    }\n",
       "\n",
       "    .dataframe thead th {\n",
       "        text-align: right;\n",
       "    }\n",
       "</style>\n",
       "<table border=\"1\" class=\"dataframe\">\n",
       "  <thead>\n",
       "    <tr style=\"text-align: right;\">\n",
       "      <th></th>\n",
       "      <th>imdb_id</th>\n",
       "      <th>budget</th>\n",
       "      <th>revenue</th>\n",
       "      <th>original_title</th>\n",
       "      <th>cast</th>\n",
       "      <th>director</th>\n",
       "      <th>tagline</th>\n",
       "      <th>overview</th>\n",
       "      <th>runtime</th>\n",
       "      <th>genres</th>\n",
       "      <th>production_companies</th>\n",
       "      <th>release_date</th>\n",
       "      <th>vote_average</th>\n",
       "      <th>release_year</th>\n",
       "    </tr>\n",
       "  </thead>\n",
       "  <tbody>\n",
       "    <tr>\n",
       "      <th>913</th>\n",
       "      <td>tt0264935</td>\n",
       "      <td>50000000</td>\n",
       "      <td>56714147</td>\n",
       "      <td>Murder by Numbers</td>\n",
       "      <td>Sandra Bullock|Ben Chaplin|Ryan Gosling|Michae...</td>\n",
       "      <td>Barbet Schroeder</td>\n",
       "      <td>The only flaw in their plan was her.</td>\n",
       "      <td>Tenacious homicide detective Cassie Mayweather...</td>\n",
       "      <td>120</td>\n",
       "      <td>Crime|Drama|Thriller</td>\n",
       "      <td>Castle Rock Entertainment|Warner Bros. Picture...</td>\n",
       "      <td>4/19/2002</td>\n",
       "      <td>6.1</td>\n",
       "      <td>2002</td>\n",
       "    </tr>\n",
       "    <tr>\n",
       "      <th>700</th>\n",
       "      <td>tt0871426</td>\n",
       "      <td>30000000</td>\n",
       "      <td>63833449</td>\n",
       "      <td>Baby Mama</td>\n",
       "      <td>Tina Fey|Amy Poehler|Dax Shepard|Sigourney Wea...</td>\n",
       "      <td>Michael McCullers</td>\n",
       "      <td>Would you put your eggs...in this basket?</td>\n",
       "      <td>A successful, single businesswoman who dreams ...</td>\n",
       "      <td>99</td>\n",
       "      <td>Comedy</td>\n",
       "      <td>Relativity Media|Michaels-Goldwyn</td>\n",
       "      <td>4/23/2008</td>\n",
       "      <td>5.8</td>\n",
       "      <td>2008</td>\n",
       "    </tr>\n",
       "    <tr>\n",
       "      <th>1367</th>\n",
       "      <td>tt0355295</td>\n",
       "      <td>88000000</td>\n",
       "      <td>105316267</td>\n",
       "      <td>The Brothers Grimm</td>\n",
       "      <td>Heath Ledger|Matt Damon|Mackenzie Crook|Roger ...</td>\n",
       "      <td>Terry Gilliam</td>\n",
       "      <td>Eliminating Evil Since 1812.</td>\n",
       "      <td>Folklore collectors and con artists, Jake and ...</td>\n",
       "      <td>118</td>\n",
       "      <td>Adventure|Fantasy|Action|Comedy|Thriller</td>\n",
       "      <td>The Weinstein Company|Summit Entertainment|Atl...</td>\n",
       "      <td>8/25/2005</td>\n",
       "      <td>5.4</td>\n",
       "      <td>2005</td>\n",
       "    </tr>\n",
       "    <tr>\n",
       "      <th>461</th>\n",
       "      <td>tt0808510</td>\n",
       "      <td>48000000</td>\n",
       "      <td>112462508</td>\n",
       "      <td>Tooth Fairy</td>\n",
       "      <td>Dwayne Johnson|Stephen Merchant|Ashley Judd|Ju...</td>\n",
       "      <td>Michael Lembeck</td>\n",
       "      <td>You can't handle the tooth.</td>\n",
       "      <td>When minor-league hockey player Derek Thompson...</td>\n",
       "      <td>101</td>\n",
       "      <td>Comedy|Family|Fantasy</td>\n",
       "      <td>Dune Entertainment|Dune Entertainment III|Twen...</td>\n",
       "      <td>1/14/2010</td>\n",
       "      <td>5.2</td>\n",
       "      <td>2010</td>\n",
       "    </tr>\n",
       "    <tr>\n",
       "      <th>784</th>\n",
       "      <td>tt0479997</td>\n",
       "      <td>40000000</td>\n",
       "      <td>88100000</td>\n",
       "      <td>Season of the Witch</td>\n",
       "      <td>Nicolas Cage|Ron Perlman|Ulrich Thomsen|Christ...</td>\n",
       "      <td>Dominic Sena</td>\n",
       "      <td>Not all souls can be saved.</td>\n",
       "      <td>A 14th century Crusader (Cage) returns with hi...</td>\n",
       "      <td>95</td>\n",
       "      <td>Adventure|Fantasy|Action</td>\n",
       "      <td>Atlas Entertainment|Relativity Media</td>\n",
       "      <td>1/7/2011</td>\n",
       "      <td>5.2</td>\n",
       "      <td>2011</td>\n",
       "    </tr>\n",
       "  </tbody>\n",
       "</table>\n",
       "</div>"
      ],
      "text/plain": [
       "        imdb_id    budget    revenue       original_title  \\\n",
       "913   tt0264935  50000000   56714147    Murder by Numbers   \n",
       "700   tt0871426  30000000   63833449            Baby Mama   \n",
       "1367  tt0355295  88000000  105316267   The Brothers Grimm   \n",
       "461   tt0808510  48000000  112462508          Tooth Fairy   \n",
       "784   tt0479997  40000000   88100000  Season of the Witch   \n",
       "\n",
       "                                                   cast           director  \\\n",
       "913   Sandra Bullock|Ben Chaplin|Ryan Gosling|Michae...   Barbet Schroeder   \n",
       "700   Tina Fey|Amy Poehler|Dax Shepard|Sigourney Wea...  Michael McCullers   \n",
       "1367  Heath Ledger|Matt Damon|Mackenzie Crook|Roger ...      Terry Gilliam   \n",
       "461   Dwayne Johnson|Stephen Merchant|Ashley Judd|Ju...    Michael Lembeck   \n",
       "784   Nicolas Cage|Ron Perlman|Ulrich Thomsen|Christ...       Dominic Sena   \n",
       "\n",
       "                                        tagline  \\\n",
       "913        The only flaw in their plan was her.   \n",
       "700   Would you put your eggs...in this basket?   \n",
       "1367               Eliminating Evil Since 1812.   \n",
       "461                 You can't handle the tooth.   \n",
       "784                 Not all souls can be saved.   \n",
       "\n",
       "                                               overview  runtime  \\\n",
       "913   Tenacious homicide detective Cassie Mayweather...      120   \n",
       "700   A successful, single businesswoman who dreams ...       99   \n",
       "1367  Folklore collectors and con artists, Jake and ...      118   \n",
       "461   When minor-league hockey player Derek Thompson...      101   \n",
       "784   A 14th century Crusader (Cage) returns with hi...       95   \n",
       "\n",
       "                                        genres  \\\n",
       "913                       Crime|Drama|Thriller   \n",
       "700                                     Comedy   \n",
       "1367  Adventure|Fantasy|Action|Comedy|Thriller   \n",
       "461                      Comedy|Family|Fantasy   \n",
       "784                   Adventure|Fantasy|Action   \n",
       "\n",
       "                                   production_companies release_date  \\\n",
       "913   Castle Rock Entertainment|Warner Bros. Picture...    4/19/2002   \n",
       "700                   Relativity Media|Michaels-Goldwyn    4/23/2008   \n",
       "1367  The Weinstein Company|Summit Entertainment|Atl...    8/25/2005   \n",
       "461   Dune Entertainment|Dune Entertainment III|Twen...    1/14/2010   \n",
       "784                Atlas Entertainment|Relativity Media     1/7/2011   \n",
       "\n",
       "      vote_average  release_year  \n",
       "913            6.1          2002  \n",
       "700            5.8          2008  \n",
       "1367           5.4          2005  \n",
       "461            5.2          2010  \n",
       "784            5.2          2011  "
      ]
     },
     "execution_count": 2,
     "metadata": {},
     "output_type": "execute_result"
    }
   ],
   "source": [
    "data = pd.read_csv('movie_bd_v5.csv')\n",
    "data.sample(5)"
   ]
  },
  {
   "cell_type": "code",
   "execution_count": 3,
   "metadata": {
    "colab": {},
    "colab_type": "code",
    "id": "CoYUnagMVp-C"
   },
   "outputs": [
    {
     "data": {
      "text/html": [
       "<div>\n",
       "<style scoped>\n",
       "    .dataframe tbody tr th:only-of-type {\n",
       "        vertical-align: middle;\n",
       "    }\n",
       "\n",
       "    .dataframe tbody tr th {\n",
       "        vertical-align: top;\n",
       "    }\n",
       "\n",
       "    .dataframe thead th {\n",
       "        text-align: right;\n",
       "    }\n",
       "</style>\n",
       "<table border=\"1\" class=\"dataframe\">\n",
       "  <thead>\n",
       "    <tr style=\"text-align: right;\">\n",
       "      <th></th>\n",
       "      <th>budget</th>\n",
       "      <th>revenue</th>\n",
       "      <th>runtime</th>\n",
       "      <th>vote_average</th>\n",
       "      <th>release_year</th>\n",
       "    </tr>\n",
       "  </thead>\n",
       "  <tbody>\n",
       "    <tr>\n",
       "      <th>count</th>\n",
       "      <td>1.889000e+03</td>\n",
       "      <td>1.889000e+03</td>\n",
       "      <td>1889.000000</td>\n",
       "      <td>1889.000000</td>\n",
       "      <td>1889.000000</td>\n",
       "    </tr>\n",
       "    <tr>\n",
       "      <th>mean</th>\n",
       "      <td>5.431083e+07</td>\n",
       "      <td>1.553653e+08</td>\n",
       "      <td>109.658549</td>\n",
       "      <td>6.140762</td>\n",
       "      <td>2007.860773</td>\n",
       "    </tr>\n",
       "    <tr>\n",
       "      <th>std</th>\n",
       "      <td>4.858721e+07</td>\n",
       "      <td>2.146698e+08</td>\n",
       "      <td>18.017041</td>\n",
       "      <td>0.764763</td>\n",
       "      <td>4.468841</td>\n",
       "    </tr>\n",
       "    <tr>\n",
       "      <th>min</th>\n",
       "      <td>5.000000e+06</td>\n",
       "      <td>2.033165e+06</td>\n",
       "      <td>63.000000</td>\n",
       "      <td>3.300000</td>\n",
       "      <td>2000.000000</td>\n",
       "    </tr>\n",
       "    <tr>\n",
       "      <th>25%</th>\n",
       "      <td>2.000000e+07</td>\n",
       "      <td>3.456058e+07</td>\n",
       "      <td>97.000000</td>\n",
       "      <td>5.600000</td>\n",
       "      <td>2004.000000</td>\n",
       "    </tr>\n",
       "    <tr>\n",
       "      <th>50%</th>\n",
       "      <td>3.800000e+07</td>\n",
       "      <td>8.361541e+07</td>\n",
       "      <td>107.000000</td>\n",
       "      <td>6.100000</td>\n",
       "      <td>2008.000000</td>\n",
       "    </tr>\n",
       "    <tr>\n",
       "      <th>75%</th>\n",
       "      <td>7.200000e+07</td>\n",
       "      <td>1.782626e+08</td>\n",
       "      <td>120.000000</td>\n",
       "      <td>6.600000</td>\n",
       "      <td>2012.000000</td>\n",
       "    </tr>\n",
       "    <tr>\n",
       "      <th>max</th>\n",
       "      <td>3.800000e+08</td>\n",
       "      <td>2.781506e+09</td>\n",
       "      <td>214.000000</td>\n",
       "      <td>8.100000</td>\n",
       "      <td>2015.000000</td>\n",
       "    </tr>\n",
       "  </tbody>\n",
       "</table>\n",
       "</div>"
      ],
      "text/plain": [
       "             budget       revenue      runtime  vote_average  release_year\n",
       "count  1.889000e+03  1.889000e+03  1889.000000   1889.000000   1889.000000\n",
       "mean   5.431083e+07  1.553653e+08   109.658549      6.140762   2007.860773\n",
       "std    4.858721e+07  2.146698e+08    18.017041      0.764763      4.468841\n",
       "min    5.000000e+06  2.033165e+06    63.000000      3.300000   2000.000000\n",
       "25%    2.000000e+07  3.456058e+07    97.000000      5.600000   2004.000000\n",
       "50%    3.800000e+07  8.361541e+07   107.000000      6.100000   2008.000000\n",
       "75%    7.200000e+07  1.782626e+08   120.000000      6.600000   2012.000000\n",
       "max    3.800000e+08  2.781506e+09   214.000000      8.100000   2015.000000"
      ]
     },
     "execution_count": 3,
     "metadata": {},
     "output_type": "execute_result"
    }
   ],
   "source": [
    "data.describe()"
   ]
  },
  {
   "cell_type": "code",
   "execution_count": 4,
   "metadata": {},
   "outputs": [
    {
     "name": "stdout",
     "output_type": "stream",
     "text": [
      "<class 'pandas.core.frame.DataFrame'>\n",
      "RangeIndex: 1889 entries, 0 to 1888\n",
      "Data columns (total 14 columns):\n",
      " #   Column                Non-Null Count  Dtype  \n",
      "---  ------                --------------  -----  \n",
      " 0   imdb_id               1889 non-null   object \n",
      " 1   budget                1889 non-null   int64  \n",
      " 2   revenue               1889 non-null   int64  \n",
      " 3   original_title        1889 non-null   object \n",
      " 4   cast                  1889 non-null   object \n",
      " 5   director              1889 non-null   object \n",
      " 6   tagline               1889 non-null   object \n",
      " 7   overview              1889 non-null   object \n",
      " 8   runtime               1889 non-null   int64  \n",
      " 9   genres                1889 non-null   object \n",
      " 10  production_companies  1889 non-null   object \n",
      " 11  release_date          1889 non-null   object \n",
      " 12  vote_average          1889 non-null   float64\n",
      " 13  release_year          1889 non-null   int64  \n",
      "dtypes: float64(1), int64(4), object(9)\n",
      "memory usage: 206.7+ KB\n"
     ]
    }
   ],
   "source": [
    "data.info()"
   ]
  },
  {
   "cell_type": "markdown",
   "metadata": {
    "colab_type": "text",
    "id": "DTIt7ezGVp-G"
   },
   "source": [
    "# Предобработка"
   ]
  },
  {
   "cell_type": "code",
   "execution_count": 2,
   "metadata": {
    "colab": {},
    "colab_type": "code",
    "id": "jNb40DwKVp-H"
   },
   "outputs": [],
   "source": [
    "answers = {} # создадим словарь для ответов\n",
    "\n",
    "# тут другие ваши предобработки колонок например:\n",
    "\n",
    "#the time given in the dataset is in string format.\n",
    "#So we need to change this in datetime format\n",
    "# ..."
   ]
  },
  {
   "cell_type": "code",
   "execution_count": 8,
   "metadata": {},
   "outputs": [
    {
     "data": {
      "text/plain": [
       "0      2015-06-09\n",
       "1      2015-05-13\n",
       "2      2015-03-18\n",
       "3      2015-12-15\n",
       "4      2015-04-01\n",
       "          ...    \n",
       "1884   2000-07-13\n",
       "1885   2000-10-27\n",
       "1886   2000-06-30\n",
       "1887   2000-02-16\n",
       "1888   2000-07-19\n",
       "Name: release_date, Length: 1889, dtype: datetime64[ns]"
      ]
     },
     "execution_count": 8,
     "metadata": {},
     "output_type": "execute_result"
    }
   ],
   "source": [
    "# 1\n",
    "data['release_date'] = pd.to_datetime(data['release_date']) # turning release date strings into a Series with dtype datetime64[ns]\n",
    "data['release_date']"
   ]
  },
  {
   "cell_type": "code",
   "execution_count": 9,
   "metadata": {},
   "outputs": [
    {
     "data": {
      "text/plain": [
       "0       [Action, Adventure, Science Fiction, Thriller]\n",
       "1       [Action, Adventure, Science Fiction, Thriller]\n",
       "2               [Adventure, Science Fiction, Thriller]\n",
       "3        [Action, Adventure, Science Fiction, Fantasy]\n",
       "4                            [Action, Crime, Thriller]\n",
       "                             ...                      \n",
       "1884              [Adventure, Action, Science Fiction]\n",
       "1885                         [Horror, Family, Foreign]\n",
       "1886    [Adventure, Animation, Action, Comedy, Family]\n",
       "1887                                   [Comedy, Drama]\n",
       "1888                                        [Thriller]\n",
       "Name: genres, Length: 1889, dtype: object"
      ]
     },
     "execution_count": 9,
     "metadata": {},
     "output_type": "execute_result"
    }
   ],
   "source": [
    "# 2\n",
    "data['genres'] = data['genres'].apply(lambda x: x.split('|')) # splitting genres strings into lists\n",
    "data['genres']"
   ]
  },
  {
   "cell_type": "code",
   "execution_count": 10,
   "metadata": {},
   "outputs": [
    {
     "data": {
      "text/plain": [
       "0        [Colin Trevorrow]\n",
       "1          [George Miller]\n",
       "2       [Robert Schwentke]\n",
       "3            [J.J. Abrams]\n",
       "4              [James Wan]\n",
       "               ...        \n",
       "1884        [Bryan Singer]\n",
       "1885            [Uli Edel]\n",
       "1886         [Des McAnuff]\n",
       "1887        [Diane Keaton]\n",
       "1888        [Mary Lambert]\n",
       "Name: director, Length: 1889, dtype: object"
      ]
     },
     "execution_count": 10,
     "metadata": {},
     "output_type": "execute_result"
    }
   ],
   "source": [
    "# 3\n",
    "data['director'] = data['director'].apply(lambda x: x.split('|')) # splitting directors strings into lists\n",
    "data['director']"
   ]
  },
  {
   "cell_type": "code",
   "execution_count": 11,
   "metadata": {},
   "outputs": [
    {
     "data": {
      "text/plain": [
       "0       [Chris Pratt, Bryce Dallas Howard, Irrfan Khan...\n",
       "1       [Tom Hardy, Charlize Theron, Hugh Keays-Byrne,...\n",
       "2       [Shailene Woodley, Theo James, Kate Winslet, A...\n",
       "3       [Harrison Ford, Mark Hamill, Carrie Fisher, Ad...\n",
       "4       [Vin Diesel, Paul Walker, Jason Statham, Miche...\n",
       "                              ...                        \n",
       "1884    [Patrick Stewart, Hugh Jackman, Ian McKellen, ...\n",
       "1885    [Richard E. Grant, Jonathan Lipnicki, Jim Cart...\n",
       "1886    [Rene Russo, Jason Alexander, Piper Perabo, Ra...\n",
       "1887    [Meg Ryan, Diane Keaton, Lisa Kudrow, Walter M...\n",
       "1888    [Susan Ward, Lori Heuring, Matthew Settle, Nat...\n",
       "Name: cast, Length: 1889, dtype: object"
      ]
     },
     "execution_count": 11,
     "metadata": {},
     "output_type": "execute_result"
    }
   ],
   "source": [
    "# 4\n",
    "data['cast'] = data['cast'].apply(lambda x: x.split('|')) # splitting actors strings into lists\n",
    "data['cast']"
   ]
  },
  {
   "cell_type": "code",
   "execution_count": 12,
   "metadata": {},
   "outputs": [
    {
     "data": {
      "text/plain": [
       "0       [Universal Studios, Amblin Entertainment, Lege...\n",
       "1       [Village Roadshow Pictures, Kennedy Miller Pro...\n",
       "2       [Summit Entertainment, Mandeville Films, Red W...\n",
       "3           [Lucasfilm, Truenorth Productions, Bad Robot]\n",
       "4       [Universal Pictures, Original Film, Media Righ...\n",
       "                              ...                        \n",
       "1884    [Twentieth Century Fox Film Corporation, Donne...\n",
       "1885                                    [New Line Cinema]\n",
       "1886    [Universal Pictures, Capella International, KC...\n",
       "1887    [Laurence Mark Productions, Columbia Pictures ...\n",
       "1888                              [Warner Bros. Pictures]\n",
       "Name: production_companies, Length: 1889, dtype: object"
      ]
     },
     "execution_count": 12,
     "metadata": {},
     "output_type": "execute_result"
    }
   ],
   "source": [
    "# 5\n",
    "data['production_companies'] = data['production_companies'].apply(lambda x: x.split('|')) # splitting prod companies strings into lists\n",
    "data['production_companies']"
   ]
  },
  {
   "cell_type": "code",
   "execution_count": 13,
   "metadata": {
    "scrolled": true
   },
   "outputs": [
    {
     "data": {
      "text/html": [
       "<div>\n",
       "<style scoped>\n",
       "    .dataframe tbody tr th:only-of-type {\n",
       "        vertical-align: middle;\n",
       "    }\n",
       "\n",
       "    .dataframe tbody tr th {\n",
       "        vertical-align: top;\n",
       "    }\n",
       "\n",
       "    .dataframe thead th {\n",
       "        text-align: right;\n",
       "    }\n",
       "</style>\n",
       "<table border=\"1\" class=\"dataframe\">\n",
       "  <thead>\n",
       "    <tr style=\"text-align: right;\">\n",
       "      <th></th>\n",
       "      <th>imdb_id</th>\n",
       "      <th>budget</th>\n",
       "      <th>revenue</th>\n",
       "      <th>original_title</th>\n",
       "      <th>cast</th>\n",
       "      <th>director</th>\n",
       "      <th>tagline</th>\n",
       "      <th>overview</th>\n",
       "      <th>runtime</th>\n",
       "      <th>genres</th>\n",
       "      <th>production_companies</th>\n",
       "      <th>release_date</th>\n",
       "      <th>vote_average</th>\n",
       "      <th>release_year</th>\n",
       "      <th>profit</th>\n",
       "    </tr>\n",
       "  </thead>\n",
       "  <tbody>\n",
       "    <tr>\n",
       "      <th>0</th>\n",
       "      <td>tt0369610</td>\n",
       "      <td>150000000</td>\n",
       "      <td>1513528810</td>\n",
       "      <td>Jurassic World</td>\n",
       "      <td>[Chris Pratt, Bryce Dallas Howard, Irrfan Khan...</td>\n",
       "      <td>[Colin Trevorrow]</td>\n",
       "      <td>The park is open.</td>\n",
       "      <td>Twenty-two years after the events of Jurassic ...</td>\n",
       "      <td>124</td>\n",
       "      <td>[Action, Adventure, Science Fiction, Thriller]</td>\n",
       "      <td>[Universal Studios, Amblin Entertainment, Lege...</td>\n",
       "      <td>2015-06-09</td>\n",
       "      <td>6.5</td>\n",
       "      <td>2015</td>\n",
       "      <td>1363528810</td>\n",
       "    </tr>\n",
       "    <tr>\n",
       "      <th>1</th>\n",
       "      <td>tt1392190</td>\n",
       "      <td>150000000</td>\n",
       "      <td>378436354</td>\n",
       "      <td>Mad Max: Fury Road</td>\n",
       "      <td>[Tom Hardy, Charlize Theron, Hugh Keays-Byrne,...</td>\n",
       "      <td>[George Miller]</td>\n",
       "      <td>What a Lovely Day.</td>\n",
       "      <td>An apocalyptic story set in the furthest reach...</td>\n",
       "      <td>120</td>\n",
       "      <td>[Action, Adventure, Science Fiction, Thriller]</td>\n",
       "      <td>[Village Roadshow Pictures, Kennedy Miller Pro...</td>\n",
       "      <td>2015-05-13</td>\n",
       "      <td>7.1</td>\n",
       "      <td>2015</td>\n",
       "      <td>228436354</td>\n",
       "    </tr>\n",
       "    <tr>\n",
       "      <th>2</th>\n",
       "      <td>tt2908446</td>\n",
       "      <td>110000000</td>\n",
       "      <td>295238201</td>\n",
       "      <td>Insurgent</td>\n",
       "      <td>[Shailene Woodley, Theo James, Kate Winslet, A...</td>\n",
       "      <td>[Robert Schwentke]</td>\n",
       "      <td>One Choice Can Destroy You</td>\n",
       "      <td>Beatrice Prior must confront her inner demons ...</td>\n",
       "      <td>119</td>\n",
       "      <td>[Adventure, Science Fiction, Thriller]</td>\n",
       "      <td>[Summit Entertainment, Mandeville Films, Red W...</td>\n",
       "      <td>2015-03-18</td>\n",
       "      <td>6.3</td>\n",
       "      <td>2015</td>\n",
       "      <td>185238201</td>\n",
       "    </tr>\n",
       "    <tr>\n",
       "      <th>3</th>\n",
       "      <td>tt2488496</td>\n",
       "      <td>200000000</td>\n",
       "      <td>2068178225</td>\n",
       "      <td>Star Wars: The Force Awakens</td>\n",
       "      <td>[Harrison Ford, Mark Hamill, Carrie Fisher, Ad...</td>\n",
       "      <td>[J.J. Abrams]</td>\n",
       "      <td>Every generation has a story.</td>\n",
       "      <td>Thirty years after defeating the Galactic Empi...</td>\n",
       "      <td>136</td>\n",
       "      <td>[Action, Adventure, Science Fiction, Fantasy]</td>\n",
       "      <td>[Lucasfilm, Truenorth Productions, Bad Robot]</td>\n",
       "      <td>2015-12-15</td>\n",
       "      <td>7.5</td>\n",
       "      <td>2015</td>\n",
       "      <td>1868178225</td>\n",
       "    </tr>\n",
       "    <tr>\n",
       "      <th>4</th>\n",
       "      <td>tt2820852</td>\n",
       "      <td>190000000</td>\n",
       "      <td>1506249360</td>\n",
       "      <td>Furious 7</td>\n",
       "      <td>[Vin Diesel, Paul Walker, Jason Statham, Miche...</td>\n",
       "      <td>[James Wan]</td>\n",
       "      <td>Vengeance Hits Home</td>\n",
       "      <td>Deckard Shaw seeks revenge against Dominic Tor...</td>\n",
       "      <td>137</td>\n",
       "      <td>[Action, Crime, Thriller]</td>\n",
       "      <td>[Universal Pictures, Original Film, Media Righ...</td>\n",
       "      <td>2015-04-01</td>\n",
       "      <td>7.3</td>\n",
       "      <td>2015</td>\n",
       "      <td>1316249360</td>\n",
       "    </tr>\n",
       "  </tbody>\n",
       "</table>\n",
       "</div>"
      ],
      "text/plain": [
       "     imdb_id     budget     revenue                original_title  \\\n",
       "0  tt0369610  150000000  1513528810                Jurassic World   \n",
       "1  tt1392190  150000000   378436354            Mad Max: Fury Road   \n",
       "2  tt2908446  110000000   295238201                     Insurgent   \n",
       "3  tt2488496  200000000  2068178225  Star Wars: The Force Awakens   \n",
       "4  tt2820852  190000000  1506249360                     Furious 7   \n",
       "\n",
       "                                                cast            director  \\\n",
       "0  [Chris Pratt, Bryce Dallas Howard, Irrfan Khan...   [Colin Trevorrow]   \n",
       "1  [Tom Hardy, Charlize Theron, Hugh Keays-Byrne,...     [George Miller]   \n",
       "2  [Shailene Woodley, Theo James, Kate Winslet, A...  [Robert Schwentke]   \n",
       "3  [Harrison Ford, Mark Hamill, Carrie Fisher, Ad...       [J.J. Abrams]   \n",
       "4  [Vin Diesel, Paul Walker, Jason Statham, Miche...         [James Wan]   \n",
       "\n",
       "                         tagline  \\\n",
       "0              The park is open.   \n",
       "1             What a Lovely Day.   \n",
       "2     One Choice Can Destroy You   \n",
       "3  Every generation has a story.   \n",
       "4            Vengeance Hits Home   \n",
       "\n",
       "                                            overview  runtime  \\\n",
       "0  Twenty-two years after the events of Jurassic ...      124   \n",
       "1  An apocalyptic story set in the furthest reach...      120   \n",
       "2  Beatrice Prior must confront her inner demons ...      119   \n",
       "3  Thirty years after defeating the Galactic Empi...      136   \n",
       "4  Deckard Shaw seeks revenge against Dominic Tor...      137   \n",
       "\n",
       "                                           genres  \\\n",
       "0  [Action, Adventure, Science Fiction, Thriller]   \n",
       "1  [Action, Adventure, Science Fiction, Thriller]   \n",
       "2          [Adventure, Science Fiction, Thriller]   \n",
       "3   [Action, Adventure, Science Fiction, Fantasy]   \n",
       "4                       [Action, Crime, Thriller]   \n",
       "\n",
       "                                production_companies release_date  \\\n",
       "0  [Universal Studios, Amblin Entertainment, Lege...   2015-06-09   \n",
       "1  [Village Roadshow Pictures, Kennedy Miller Pro...   2015-05-13   \n",
       "2  [Summit Entertainment, Mandeville Films, Red W...   2015-03-18   \n",
       "3      [Lucasfilm, Truenorth Productions, Bad Robot]   2015-12-15   \n",
       "4  [Universal Pictures, Original Film, Media Righ...   2015-04-01   \n",
       "\n",
       "   vote_average  release_year      profit  \n",
       "0           6.5          2015  1363528810  \n",
       "1           7.1          2015   228436354  \n",
       "2           6.3          2015   185238201  \n",
       "3           7.5          2015  1868178225  \n",
       "4           7.3          2015  1316249360  "
      ]
     },
     "execution_count": 13,
     "metadata": {},
     "output_type": "execute_result"
    }
   ],
   "source": [
    "# 6\n",
    "data['profit'] = data['revenue'] - data['budget'] # add the column with profit\n",
    "data.head()"
   ]
  },
  {
   "cell_type": "code",
   "execution_count": 1,
   "metadata": {},
   "outputs": [],
   "source": [
    "# User functions:\n",
    "\n",
    "# to question 12\n",
    "def genres_profit(row, counter):\n",
    "    \"\"\"\n",
    "    Takes a row of a movies dataframe and an outer genres Counter, adds up 1 to each genre if a movie is profitable.\n",
    "    \"\"\"\n",
    "    \n",
    "    for genre in row['genres']:\n",
    "        if row['profit'] > 0:\n",
    "            counter[genre] += 1\n",
    "    \n",
    "    return True\n",
    "\n",
    "\n",
    "# to question 14\n",
    "def action_dir_count(row, counter):\n",
    "    \"\"\"\n",
    "    Counts directors of action movies in a dataframe row by row. Uses an external collections.Counter.\n",
    "    \"\"\"\n",
    "    \n",
    "    for director in row['director']:\n",
    "        if 'Action' in row['genres']:\n",
    "            counter[director] += 1\n",
    "    \n",
    "    return True\n",
    "\n",
    "\n",
    "# to question 15\n",
    "def actor_revenue(row):\n",
    "    \"\"\"\n",
    "    Sums up each actor revenues from a dataframe to an external collections.Counter.\n",
    "    \"\"\"\n",
    "    \n",
    "    for actor in row['cast']:\n",
    "        actor_revenue_count[actor] += row['revenue']\n",
    "    \n",
    "    return True\n",
    "\n",
    "\n",
    "# to question 11 (second method)\n",
    "def genres_count(item):\n",
    "    \"\"\"\n",
    "    Counts up genres into an external collections.Counter().\n",
    "    \"\"\"\n",
    "    \n",
    "    for genre in item: # listing each genre in list\n",
    "        genres_counter[genre] += 1\n",
    "    \n",
    "    return True\n",
    "\n",
    "\n",
    "# to question 26\n",
    "def find_set(titles_list):\n",
    "    \"\"\"\n",
    "    Returns the number of titles list that fully matches with dataframe containing 1% best voted movies.\n",
    "    \"\"\"\n",
    "    \n",
    "    for i in range(len(titles_list)):\n",
    "        temp_data = data_best_vote[data_best_vote['original_title'].isin(titles_list[i])]\n",
    "        \n",
    "        if len(temp_data) == len(titles_list[i]):\n",
    "            return i+1"
   ]
  },
  {
   "cell_type": "markdown",
   "metadata": {
    "colab_type": "text",
    "id": "YxZaH-nPVp-L"
   },
   "source": [
    "# 1. У какого фильма из списка самый большой бюджет?"
   ]
  },
  {
   "cell_type": "markdown",
   "metadata": {
    "colab_type": "text",
    "id": "Nd-G5gX6Vp-M"
   },
   "source": [
    "Использовать варианты ответов в коде решения запрещено.    \n",
    "Вы думаете и в жизни у вас будут варианты ответов?)"
   ]
  },
  {
   "cell_type": "code",
   "execution_count": 3,
   "metadata": {
    "colab": {},
    "colab_type": "code",
    "id": "uVnXAY5RVp-O"
   },
   "outputs": [],
   "source": [
    "# в словарь вставляем номер вопроса и ваш ответ на него\n",
    "# Пример: \n",
    "# answers['1'] = '2. Spider-Man 3 (tt0413300)'\n",
    "# запишите свой вариант ответа\n",
    "answers['1'] = 'tt1298650 Pirates of the Caribbean: On Stranger Tides'\n",
    "# если ответили верно, можете добавить комментарий со значком \"+\""
   ]
  },
  {
   "cell_type": "code",
   "execution_count": 15,
   "metadata": {
    "colab": {},
    "colab_type": "code",
    "id": "dZwb3m28Vp-S"
   },
   "outputs": [
    {
     "data": {
      "text/html": [
       "<div>\n",
       "<style scoped>\n",
       "    .dataframe tbody tr th:only-of-type {\n",
       "        vertical-align: middle;\n",
       "    }\n",
       "\n",
       "    .dataframe tbody tr th {\n",
       "        vertical-align: top;\n",
       "    }\n",
       "\n",
       "    .dataframe thead th {\n",
       "        text-align: right;\n",
       "    }\n",
       "</style>\n",
       "<table border=\"1\" class=\"dataframe\">\n",
       "  <thead>\n",
       "    <tr style=\"text-align: right;\">\n",
       "      <th></th>\n",
       "      <th>imdb_id</th>\n",
       "      <th>original_title</th>\n",
       "      <th>budget</th>\n",
       "    </tr>\n",
       "  </thead>\n",
       "  <tbody>\n",
       "    <tr>\n",
       "      <th>723</th>\n",
       "      <td>tt1298650</td>\n",
       "      <td>Pirates of the Caribbean: On Stranger Tides</td>\n",
       "      <td>380000000</td>\n",
       "    </tr>\n",
       "  </tbody>\n",
       "</table>\n",
       "</div>"
      ],
      "text/plain": [
       "       imdb_id                               original_title     budget\n",
       "723  tt1298650  Pirates of the Caribbean: On Stranger Tides  380000000"
      ]
     },
     "execution_count": 15,
     "metadata": {},
     "output_type": "execute_result"
    }
   ],
   "source": [
    "# тут пишем ваш код для решения данного вопроса:\n",
    "data[data['budget'] == data['budget'].max()][['imdb_id', 'original_title', 'budget']]"
   ]
  },
  {
   "cell_type": "markdown",
   "metadata": {
    "colab_type": "text",
    "id": "K7L3nbRXVp-X"
   },
   "source": [
    "ВАРИАНТ 2"
   ]
  },
  {
   "cell_type": "code",
   "execution_count": null,
   "metadata": {
    "colab": {},
    "colab_type": "code",
    "id": "OGaoQI7rVp-X"
   },
   "outputs": [],
   "source": [
    "# можно добавлять разные варианты решения"
   ]
  },
  {
   "cell_type": "markdown",
   "metadata": {
    "colab_type": "text",
    "id": "FNRbbI3vVp-c"
   },
   "source": [
    "# 2. Какой из фильмов самый длительный (в минутах)?"
   ]
  },
  {
   "cell_type": "code",
   "execution_count": 4,
   "metadata": {
    "colab": {},
    "colab_type": "code",
    "id": "vHAoEXNTVp-d"
   },
   "outputs": [],
   "source": [
    "# думаю логику работы с этим словарем вы уже поняли, \n",
    "# по этому не буду больше его дублировать\n",
    "answers['2'] = 'tt0279111 Gods and Generals'"
   ]
  },
  {
   "cell_type": "code",
   "execution_count": 17,
   "metadata": {
    "colab": {},
    "colab_type": "code",
    "id": "ot-VX2XrVp-g"
   },
   "outputs": [
    {
     "data": {
      "text/html": [
       "<div>\n",
       "<style scoped>\n",
       "    .dataframe tbody tr th:only-of-type {\n",
       "        vertical-align: middle;\n",
       "    }\n",
       "\n",
       "    .dataframe tbody tr th {\n",
       "        vertical-align: top;\n",
       "    }\n",
       "\n",
       "    .dataframe thead th {\n",
       "        text-align: right;\n",
       "    }\n",
       "</style>\n",
       "<table border=\"1\" class=\"dataframe\">\n",
       "  <thead>\n",
       "    <tr style=\"text-align: right;\">\n",
       "      <th></th>\n",
       "      <th>imdb_id</th>\n",
       "      <th>original_title</th>\n",
       "      <th>runtime</th>\n",
       "    </tr>\n",
       "  </thead>\n",
       "  <tbody>\n",
       "    <tr>\n",
       "      <th>1157</th>\n",
       "      <td>tt0279111</td>\n",
       "      <td>Gods and Generals</td>\n",
       "      <td>214</td>\n",
       "    </tr>\n",
       "  </tbody>\n",
       "</table>\n",
       "</div>"
      ],
      "text/plain": [
       "        imdb_id     original_title  runtime\n",
       "1157  tt0279111  Gods and Generals      214"
      ]
     },
     "execution_count": 17,
     "metadata": {},
     "output_type": "execute_result"
    }
   ],
   "source": [
    "data[data['runtime'] == data['runtime'].max()][['imdb_id', 'original_title', 'runtime']]"
   ]
  },
  {
   "cell_type": "markdown",
   "metadata": {
    "colab_type": "text",
    "id": "bapLlpW8Vp-k"
   },
   "source": [
    "# 3. Какой из фильмов самый короткий (в минутах)?\n",
    "\n",
    "\n",
    "\n"
   ]
  },
  {
   "cell_type": "code",
   "execution_count": 5,
   "metadata": {},
   "outputs": [],
   "source": [
    "answers['3'] = 'tt1449283 Winnie the Pooh'"
   ]
  },
  {
   "cell_type": "code",
   "execution_count": 19,
   "metadata": {
    "colab": {},
    "colab_type": "code",
    "id": "YBxaSHuAVp-l"
   },
   "outputs": [
    {
     "data": {
      "text/html": [
       "<div>\n",
       "<style scoped>\n",
       "    .dataframe tbody tr th:only-of-type {\n",
       "        vertical-align: middle;\n",
       "    }\n",
       "\n",
       "    .dataframe tbody tr th {\n",
       "        vertical-align: top;\n",
       "    }\n",
       "\n",
       "    .dataframe thead th {\n",
       "        text-align: right;\n",
       "    }\n",
       "</style>\n",
       "<table border=\"1\" class=\"dataframe\">\n",
       "  <thead>\n",
       "    <tr style=\"text-align: right;\">\n",
       "      <th></th>\n",
       "      <th>imdb_id</th>\n",
       "      <th>original_title</th>\n",
       "      <th>runtime</th>\n",
       "    </tr>\n",
       "  </thead>\n",
       "  <tbody>\n",
       "    <tr>\n",
       "      <th>768</th>\n",
       "      <td>tt1449283</td>\n",
       "      <td>Winnie the Pooh</td>\n",
       "      <td>63</td>\n",
       "    </tr>\n",
       "  </tbody>\n",
       "</table>\n",
       "</div>"
      ],
      "text/plain": [
       "       imdb_id   original_title  runtime\n",
       "768  tt1449283  Winnie the Pooh       63"
      ]
     },
     "execution_count": 19,
     "metadata": {},
     "output_type": "execute_result"
    }
   ],
   "source": [
    "data[data['runtime'] == data['runtime'].min()][['imdb_id', 'original_title', 'runtime']]"
   ]
  },
  {
   "cell_type": "markdown",
   "metadata": {
    "colab_type": "text",
    "id": "TfQbxbfNVp-p"
   },
   "source": [
    "# 4. Какова средняя длительность фильмов?\n"
   ]
  },
  {
   "cell_type": "code",
   "execution_count": 6,
   "metadata": {},
   "outputs": [],
   "source": [
    "answers['4'] = 110"
   ]
  },
  {
   "cell_type": "code",
   "execution_count": 21,
   "metadata": {
    "colab": {},
    "colab_type": "code",
    "id": "5K6dKZYVVp-q"
   },
   "outputs": [
    {
     "data": {
      "text/plain": [
       "109.6585494970884"
      ]
     },
     "execution_count": 21,
     "metadata": {},
     "output_type": "execute_result"
    }
   ],
   "source": [
    "data['runtime'].mean()"
   ]
  },
  {
   "cell_type": "markdown",
   "metadata": {
    "colab_type": "text",
    "id": "r5TvbnT_Vp-u"
   },
   "source": [
    "# 5. Каково медианное значение длительности фильмов? "
   ]
  },
  {
   "cell_type": "code",
   "execution_count": 7,
   "metadata": {
    "colab": {},
    "colab_type": "code",
    "id": "iBROplKnVp-v"
   },
   "outputs": [],
   "source": [
    "answers['5'] = 107"
   ]
  },
  {
   "cell_type": "code",
   "execution_count": 23,
   "metadata": {},
   "outputs": [
    {
     "data": {
      "text/plain": [
       "107.0"
      ]
     },
     "execution_count": 23,
     "metadata": {},
     "output_type": "execute_result"
    }
   ],
   "source": [
    "data['runtime'].median()"
   ]
  },
  {
   "cell_type": "markdown",
   "metadata": {
    "colab_type": "text",
    "id": "39P-deDSVp-y"
   },
   "source": [
    "# 6. Какой самый прибыльный фильм?\n",
    "#### Внимание! Здесь и далее под «прибылью» или «убытками» понимается разность между сборами и бюджетом фильма. (прибыль = сборы - бюджет) в нашем датасете это будет (profit = revenue - budget) "
   ]
  },
  {
   "cell_type": "code",
   "execution_count": 8,
   "metadata": {},
   "outputs": [],
   "source": [
    "answers['6'] = 'tt0499549 Avatar'"
   ]
  },
  {
   "cell_type": "code",
   "execution_count": 25,
   "metadata": {
    "colab": {},
    "colab_type": "code",
    "id": "UYZh4T9WVp-y"
   },
   "outputs": [
    {
     "data": {
      "text/html": [
       "<div>\n",
       "<style scoped>\n",
       "    .dataframe tbody tr th:only-of-type {\n",
       "        vertical-align: middle;\n",
       "    }\n",
       "\n",
       "    .dataframe tbody tr th {\n",
       "        vertical-align: top;\n",
       "    }\n",
       "\n",
       "    .dataframe thead th {\n",
       "        text-align: right;\n",
       "    }\n",
       "</style>\n",
       "<table border=\"1\" class=\"dataframe\">\n",
       "  <thead>\n",
       "    <tr style=\"text-align: right;\">\n",
       "      <th></th>\n",
       "      <th>imdb_id</th>\n",
       "      <th>original_title</th>\n",
       "      <th>profit</th>\n",
       "    </tr>\n",
       "  </thead>\n",
       "  <tbody>\n",
       "    <tr>\n",
       "      <th>239</th>\n",
       "      <td>tt0499549</td>\n",
       "      <td>Avatar</td>\n",
       "      <td>2544505847</td>\n",
       "    </tr>\n",
       "  </tbody>\n",
       "</table>\n",
       "</div>"
      ],
      "text/plain": [
       "       imdb_id original_title      profit\n",
       "239  tt0499549         Avatar  2544505847"
      ]
     },
     "execution_count": 25,
     "metadata": {},
     "output_type": "execute_result"
    }
   ],
   "source": [
    "# лучше код получения столбца profit вынести в Предобработку что в начале\n",
    "data[data['profit'] == data['profit'].max()][['imdb_id', 'original_title', 'profit']]"
   ]
  },
  {
   "cell_type": "markdown",
   "metadata": {
    "colab_type": "text",
    "id": "M99JmIX4Vp-2"
   },
   "source": [
    "# 7. Какой фильм самый убыточный? "
   ]
  },
  {
   "cell_type": "code",
   "execution_count": 9,
   "metadata": {
    "colab": {},
    "colab_type": "code",
    "id": "w-D2m4XPVp-3"
   },
   "outputs": [],
   "source": [
    "answers['7'] = 'tt1210819 The Lone Ranger'"
   ]
  },
  {
   "cell_type": "code",
   "execution_count": 27,
   "metadata": {},
   "outputs": [
    {
     "data": {
      "text/html": [
       "<div>\n",
       "<style scoped>\n",
       "    .dataframe tbody tr th:only-of-type {\n",
       "        vertical-align: middle;\n",
       "    }\n",
       "\n",
       "    .dataframe tbody tr th {\n",
       "        vertical-align: top;\n",
       "    }\n",
       "\n",
       "    .dataframe thead th {\n",
       "        text-align: right;\n",
       "    }\n",
       "</style>\n",
       "<table border=\"1\" class=\"dataframe\">\n",
       "  <thead>\n",
       "    <tr style=\"text-align: right;\">\n",
       "      <th></th>\n",
       "      <th>imdb_id</th>\n",
       "      <th>original_title</th>\n",
       "      <th>profit</th>\n",
       "    </tr>\n",
       "  </thead>\n",
       "  <tbody>\n",
       "    <tr>\n",
       "      <th>1245</th>\n",
       "      <td>tt1210819</td>\n",
       "      <td>The Lone Ranger</td>\n",
       "      <td>-165710090</td>\n",
       "    </tr>\n",
       "  </tbody>\n",
       "</table>\n",
       "</div>"
      ],
      "text/plain": [
       "        imdb_id   original_title     profit\n",
       "1245  tt1210819  The Lone Ranger -165710090"
      ]
     },
     "execution_count": 27,
     "metadata": {},
     "output_type": "execute_result"
    }
   ],
   "source": [
    "data[data['profit'] == data['profit'].min()][['imdb_id', 'original_title', 'profit']]"
   ]
  },
  {
   "cell_type": "markdown",
   "metadata": {
    "colab_type": "text",
    "id": "wEOM5ERVVp-6"
   },
   "source": [
    "# 8. У скольких фильмов из датасета объем сборов оказался выше бюджета?"
   ]
  },
  {
   "cell_type": "code",
   "execution_count": 10,
   "metadata": {
    "colab": {},
    "colab_type": "code",
    "id": "y00_7HD6Vp-7"
   },
   "outputs": [],
   "source": [
    "answers['8'] = 1478"
   ]
  },
  {
   "cell_type": "code",
   "execution_count": 31,
   "metadata": {},
   "outputs": [
    {
     "data": {
      "text/plain": [
       "1478"
      ]
     },
     "execution_count": 31,
     "metadata": {},
     "output_type": "execute_result"
    }
   ],
   "source": [
    "len(data[data['profit'] > 0])"
   ]
  },
  {
   "cell_type": "markdown",
   "metadata": {
    "colab_type": "text",
    "id": "xhpspA9KVp_A"
   },
   "source": [
    "# 9. Какой фильм оказался самым кассовым в 2008 году?"
   ]
  },
  {
   "cell_type": "code",
   "execution_count": 11,
   "metadata": {
    "colab": {},
    "colab_type": "code",
    "id": "MoUyQr9RVp_B"
   },
   "outputs": [],
   "source": [
    "answers['9'] = 'tt0468569 The Dark Knight'"
   ]
  },
  {
   "cell_type": "markdown",
   "metadata": {},
   "source": [
    "* FIRST METHOD: Using the column 'release_date'. If 'release_date' stays string."
   ]
  },
  {
   "cell_type": "code",
   "execution_count": 7,
   "metadata": {
    "scrolled": true
   },
   "outputs": [
    {
     "name": "stdout",
     "output_type": "stream",
     "text": [
      "1.5 ms ± 363 µs per loop (mean ± std. dev. of 7 runs, 1000 loops each)\n"
     ]
    },
    {
     "data": {
      "text/html": [
       "<div>\n",
       "<style scoped>\n",
       "    .dataframe tbody tr th:only-of-type {\n",
       "        vertical-align: middle;\n",
       "    }\n",
       "\n",
       "    .dataframe tbody tr th {\n",
       "        vertical-align: top;\n",
       "    }\n",
       "\n",
       "    .dataframe thead th {\n",
       "        text-align: right;\n",
       "    }\n",
       "</style>\n",
       "<table border=\"1\" class=\"dataframe\">\n",
       "  <thead>\n",
       "    <tr style=\"text-align: right;\">\n",
       "      <th></th>\n",
       "      <th>imdb_id</th>\n",
       "      <th>original_title</th>\n",
       "      <th>revenue</th>\n",
       "    </tr>\n",
       "  </thead>\n",
       "  <tbody>\n",
       "    <tr>\n",
       "      <th>599</th>\n",
       "      <td>tt0468569</td>\n",
       "      <td>The Dark Knight</td>\n",
       "      <td>1001921825</td>\n",
       "    </tr>\n",
       "  </tbody>\n",
       "</table>\n",
       "</div>"
      ],
      "text/plain": [
       "       imdb_id   original_title     revenue\n",
       "599  tt0468569  The Dark Knight  1001921825"
      ]
     },
     "execution_count": 7,
     "metadata": {},
     "output_type": "execute_result"
    }
   ],
   "source": [
    "import time\n",
    "\n",
    "%timeit released_2008 = data[data['release_date'].str.contains('2008')]\n",
    "released_2008[released_2008['revenue'] == released_2008['revenue'].max()][['imdb_id', 'original_title', 'revenue']]"
   ]
  },
  {
   "cell_type": "markdown",
   "metadata": {},
   "source": [
    "* SECOND METHOD: using the column 'release_date'. If 'release_date' is turned into datetime"
   ]
  },
  {
   "cell_type": "code",
   "execution_count": 34,
   "metadata": {
    "scrolled": true
   },
   "outputs": [
    {
     "name": "stdout",
     "output_type": "stream",
     "text": [
      "1.01 ms ± 26.2 µs per loop (mean ± std. dev. of 7 runs, 1000 loops each)\n"
     ]
    },
    {
     "data": {
      "text/html": [
       "<div>\n",
       "<style scoped>\n",
       "    .dataframe tbody tr th:only-of-type {\n",
       "        vertical-align: middle;\n",
       "    }\n",
       "\n",
       "    .dataframe tbody tr th {\n",
       "        vertical-align: top;\n",
       "    }\n",
       "\n",
       "    .dataframe thead th {\n",
       "        text-align: right;\n",
       "    }\n",
       "</style>\n",
       "<table border=\"1\" class=\"dataframe\">\n",
       "  <thead>\n",
       "    <tr style=\"text-align: right;\">\n",
       "      <th></th>\n",
       "      <th>imdb_id</th>\n",
       "      <th>original_title</th>\n",
       "      <th>revenue</th>\n",
       "    </tr>\n",
       "  </thead>\n",
       "  <tbody>\n",
       "    <tr>\n",
       "      <th>599</th>\n",
       "      <td>tt0468569</td>\n",
       "      <td>The Dark Knight</td>\n",
       "      <td>1001921825</td>\n",
       "    </tr>\n",
       "  </tbody>\n",
       "</table>\n",
       "</div>"
      ],
      "text/plain": [
       "       imdb_id   original_title     revenue\n",
       "599  tt0468569  The Dark Knight  1001921825"
      ]
     },
     "execution_count": 34,
     "metadata": {},
     "output_type": "execute_result"
    }
   ],
   "source": [
    "%timeit released_2008 = data[(data['release_date'] >= '2008-01-01') & (data['release_date'] <= '2008-12-31')]\n",
    "released_2008[released_2008['revenue'] == released_2008['revenue'].max()][['imdb_id', 'original_title', 'revenue']]"
   ]
  },
  {
   "cell_type": "markdown",
   "metadata": {},
   "source": [
    "The second method is much faster"
   ]
  },
  {
   "cell_type": "markdown",
   "metadata": {},
   "source": [
    "* THIRD METHOD: Using the column 'release_year' (int64)"
   ]
  },
  {
   "cell_type": "code",
   "execution_count": 35,
   "metadata": {},
   "outputs": [
    {
     "name": "stdout",
     "output_type": "stream",
     "text": [
      "707 µs ± 6.25 µs per loop (mean ± std. dev. of 7 runs, 1000 loops each)\n"
     ]
    },
    {
     "data": {
      "text/html": [
       "<div>\n",
       "<style scoped>\n",
       "    .dataframe tbody tr th:only-of-type {\n",
       "        vertical-align: middle;\n",
       "    }\n",
       "\n",
       "    .dataframe tbody tr th {\n",
       "        vertical-align: top;\n",
       "    }\n",
       "\n",
       "    .dataframe thead th {\n",
       "        text-align: right;\n",
       "    }\n",
       "</style>\n",
       "<table border=\"1\" class=\"dataframe\">\n",
       "  <thead>\n",
       "    <tr style=\"text-align: right;\">\n",
       "      <th></th>\n",
       "      <th>imdb_id</th>\n",
       "      <th>original_title</th>\n",
       "      <th>revenue</th>\n",
       "    </tr>\n",
       "  </thead>\n",
       "  <tbody>\n",
       "    <tr>\n",
       "      <th>599</th>\n",
       "      <td>tt0468569</td>\n",
       "      <td>The Dark Knight</td>\n",
       "      <td>1001921825</td>\n",
       "    </tr>\n",
       "  </tbody>\n",
       "</table>\n",
       "</div>"
      ],
      "text/plain": [
       "       imdb_id   original_title     revenue\n",
       "599  tt0468569  The Dark Knight  1001921825"
      ]
     },
     "execution_count": 35,
     "metadata": {},
     "output_type": "execute_result"
    }
   ],
   "source": [
    "%timeit released_2008 = data[data['release_year'] == 2008]\n",
    "released_2008[released_2008['revenue'] == released_2008['revenue'].max()][['imdb_id', 'original_title', 'revenue']]"
   ]
  },
  {
   "cell_type": "markdown",
   "metadata": {},
   "source": [
    "The third one is the fastest."
   ]
  },
  {
   "cell_type": "markdown",
   "metadata": {
    "colab_type": "text",
    "id": "Zi4hDKidVp_F"
   },
   "source": [
    "# 10. Самый убыточный фильм за период с 2012 по 2014 г. (включительно)?\n"
   ]
  },
  {
   "cell_type": "code",
   "execution_count": 12,
   "metadata": {
    "colab": {},
    "colab_type": "code",
    "id": "XqyRmufJVp_F"
   },
   "outputs": [],
   "source": [
    "answers['10'] = 'tt1210819 The Lone Ranger'"
   ]
  },
  {
   "cell_type": "markdown",
   "metadata": {},
   "source": [
    "* FIRST METHOD: Using the column 'release_date'. If 'release_date' is turned into datetime"
   ]
  },
  {
   "cell_type": "code",
   "execution_count": 38,
   "metadata": {},
   "outputs": [
    {
     "name": "stdout",
     "output_type": "stream",
     "text": [
      "1.08 ms ± 22.9 µs per loop (mean ± std. dev. of 7 runs, 1000 loops each)\n"
     ]
    },
    {
     "data": {
      "text/html": [
       "<div>\n",
       "<style scoped>\n",
       "    .dataframe tbody tr th:only-of-type {\n",
       "        vertical-align: middle;\n",
       "    }\n",
       "\n",
       "    .dataframe tbody tr th {\n",
       "        vertical-align: top;\n",
       "    }\n",
       "\n",
       "    .dataframe thead th {\n",
       "        text-align: right;\n",
       "    }\n",
       "</style>\n",
       "<table border=\"1\" class=\"dataframe\">\n",
       "  <thead>\n",
       "    <tr style=\"text-align: right;\">\n",
       "      <th></th>\n",
       "      <th>imdb_id</th>\n",
       "      <th>original_title</th>\n",
       "      <th>profit</th>\n",
       "    </tr>\n",
       "  </thead>\n",
       "  <tbody>\n",
       "    <tr>\n",
       "      <th>1245</th>\n",
       "      <td>tt1210819</td>\n",
       "      <td>The Lone Ranger</td>\n",
       "      <td>-165710090</td>\n",
       "    </tr>\n",
       "  </tbody>\n",
       "</table>\n",
       "</div>"
      ],
      "text/plain": [
       "        imdb_id   original_title     profit\n",
       "1245  tt1210819  The Lone Ranger -165710090"
      ]
     },
     "execution_count": 38,
     "metadata": {},
     "output_type": "execute_result"
    }
   ],
   "source": [
    "%timeit movies_2012_2014 = data[(data['release_date'] >= '2012-01-01') & (data['release_date'] <= '2014-12-31')]\n",
    "movies_2012_2014[movies_2012_2014['profit'] == movies_2012_2014['profit'].min()][['imdb_id', 'original_title', 'profit']]"
   ]
  },
  {
   "cell_type": "markdown",
   "metadata": {},
   "source": [
    "* SECOND METHOD: Using the column 'release_year' (int64)"
   ]
  },
  {
   "cell_type": "code",
   "execution_count": 39,
   "metadata": {
    "scrolled": true
   },
   "outputs": [
    {
     "name": "stdout",
     "output_type": "stream",
     "text": [
      "608 µs ± 10.4 µs per loop (mean ± std. dev. of 7 runs, 1000 loops each)\n"
     ]
    },
    {
     "data": {
      "text/html": [
       "<div>\n",
       "<style scoped>\n",
       "    .dataframe tbody tr th:only-of-type {\n",
       "        vertical-align: middle;\n",
       "    }\n",
       "\n",
       "    .dataframe tbody tr th {\n",
       "        vertical-align: top;\n",
       "    }\n",
       "\n",
       "    .dataframe thead th {\n",
       "        text-align: right;\n",
       "    }\n",
       "</style>\n",
       "<table border=\"1\" class=\"dataframe\">\n",
       "  <thead>\n",
       "    <tr style=\"text-align: right;\">\n",
       "      <th></th>\n",
       "      <th>imdb_id</th>\n",
       "      <th>original_title</th>\n",
       "      <th>profit</th>\n",
       "    </tr>\n",
       "  </thead>\n",
       "  <tbody>\n",
       "    <tr>\n",
       "      <th>1245</th>\n",
       "      <td>tt1210819</td>\n",
       "      <td>The Lone Ranger</td>\n",
       "      <td>-165710090</td>\n",
       "    </tr>\n",
       "  </tbody>\n",
       "</table>\n",
       "</div>"
      ],
      "text/plain": [
       "        imdb_id   original_title     profit\n",
       "1245  tt1210819  The Lone Ranger -165710090"
      ]
     },
     "execution_count": 39,
     "metadata": {},
     "output_type": "execute_result"
    }
   ],
   "source": [
    "%timeit movies_2012_2014 = data[(data['release_year'] >= 2012) & (data['release_year'] <= 2014)]\n",
    "movies_2012_2014[movies_2012_2014['profit'] == movies_2012_2014['profit'].min()][['imdb_id', 'original_title', 'profit']]"
   ]
  },
  {
   "cell_type": "markdown",
   "metadata": {},
   "source": [
    "* THIRD METHOD - Using pandas.Series.isin() instead of math operators"
   ]
  },
  {
   "cell_type": "code",
   "execution_count": 120,
   "metadata": {},
   "outputs": [
    {
     "name": "stdout",
     "output_type": "stream",
     "text": [
      "936 µs ± 31.1 µs per loop (mean ± std. dev. of 7 runs, 1000 loops each)\n"
     ]
    },
    {
     "data": {
      "text/html": [
       "<div>\n",
       "<style scoped>\n",
       "    .dataframe tbody tr th:only-of-type {\n",
       "        vertical-align: middle;\n",
       "    }\n",
       "\n",
       "    .dataframe tbody tr th {\n",
       "        vertical-align: top;\n",
       "    }\n",
       "\n",
       "    .dataframe thead th {\n",
       "        text-align: right;\n",
       "    }\n",
       "</style>\n",
       "<table border=\"1\" class=\"dataframe\">\n",
       "  <thead>\n",
       "    <tr style=\"text-align: right;\">\n",
       "      <th></th>\n",
       "      <th>imdb_id</th>\n",
       "      <th>original_title</th>\n",
       "      <th>profit</th>\n",
       "    </tr>\n",
       "  </thead>\n",
       "  <tbody>\n",
       "    <tr>\n",
       "      <th>1245</th>\n",
       "      <td>tt1210819</td>\n",
       "      <td>The Lone Ranger</td>\n",
       "      <td>-165710090</td>\n",
       "    </tr>\n",
       "  </tbody>\n",
       "</table>\n",
       "</div>"
      ],
      "text/plain": [
       "        imdb_id   original_title     profit\n",
       "1245  tt1210819  The Lone Ranger -165710090"
      ]
     },
     "execution_count": 120,
     "metadata": {},
     "output_type": "execute_result"
    }
   ],
   "source": [
    "%timeit movies_2012_2014 = data[data['release_year'].isin(range(2012, 2015))]\n",
    "movies_2012_2014[movies_2012_2014['profit'] == movies_2012_2014['profit'].min()][['imdb_id', 'original_title', 'profit']]"
   ]
  },
  {
   "cell_type": "markdown",
   "metadata": {},
   "source": [
    "Again, working with numerical objects is faster than parcing string dates to datetime objects, therefore using 'release_year' column (method 2) is better in this case."
   ]
  },
  {
   "cell_type": "markdown",
   "metadata": {
    "colab_type": "text",
    "id": "EA7Sa9dkVp_I"
   },
   "source": [
    "# 11. Какого жанра фильмов больше всего?"
   ]
  },
  {
   "cell_type": "code",
   "execution_count": null,
   "metadata": {
    "colab": {},
    "colab_type": "code",
    "id": "zsJAwJ8QVp_J"
   },
   "outputs": [],
   "source": [
    "# эту задачу тоже можно решать разными подходами, попробуй реализовать разные варианты\n",
    "# если будешь добавлять функцию - выноси ее в предобработку что в начале"
   ]
  },
  {
   "cell_type": "code",
   "execution_count": 13,
   "metadata": {},
   "outputs": [],
   "source": [
    "answers['11'] = 'Drama'"
   ]
  },
  {
   "cell_type": "markdown",
   "metadata": {},
   "source": [
    "* FIRST METHOD - Raw, without a function (ineffective)"
   ]
  },
  {
   "cell_type": "code",
   "execution_count": 43,
   "metadata": {},
   "outputs": [
    {
     "data": {
      "text/plain": [
       "{'Drama': 782,\n",
       " 'Comedy': 683,\n",
       " 'Thriller': 596,\n",
       " 'Action': 582,\n",
       " 'Adventure': 415,\n",
       " 'Crime': 315,\n",
       " 'Romance': 308,\n",
       " 'Family': 260,\n",
       " 'Science Fiction': 248,\n",
       " 'Fantasy': 222,\n",
       " 'Horror': 176,\n",
       " 'Mystery': 168,\n",
       " 'Animation': 139,\n",
       " 'Music': 64,\n",
       " 'History': 62,\n",
       " 'War': 58,\n",
       " 'Western': 19,\n",
       " 'Documentary': 8,\n",
       " 'Foreign': 2}"
      ]
     },
     "execution_count": 43,
     "metadata": {},
     "output_type": "execute_result"
    }
   ],
   "source": [
    "genres_counter = Counter() # genres Counter\n",
    "\n",
    "for genre_list in data['genres']: # listing each list in Series\n",
    "    for genre in genre_list: # listing each genre in list\n",
    "        genres_counter[genre] += 1\n",
    "\n",
    "genres_counter_ordered = {\n",
    "    key: value for key, value in sorted(genres_counter.items(), key=lambda item: item[1], reverse=True)\n",
    "    } # sorting dictionary by values - returning a dictionary\n",
    "genres_counter_ordered"
   ]
  },
  {
   "cell_type": "markdown",
   "metadata": {},
   "source": [
    "* Another method of sorting"
   ]
  },
  {
   "cell_type": "code",
   "execution_count": 46,
   "metadata": {},
   "outputs": [
    {
     "data": {
      "text/plain": [
       "'Drama'"
      ]
     },
     "execution_count": 46,
     "metadata": {},
     "output_type": "execute_result"
    }
   ],
   "source": [
    "genres_counter_ordered_keys = sorted(genres_counter, key=genres_counter.get, reverse=True) # sorting dictionary by values - returning a list of keys\n",
    "genres_counter_ordered_keys[0]"
   ]
  },
  {
   "cell_type": "markdown",
   "metadata": {},
   "source": [
    "* SECOND METHOD - Using a user function"
   ]
  },
  {
   "cell_type": "code",
   "execution_count": 124,
   "metadata": {},
   "outputs": [
    {
     "data": {
      "text/plain": [
       "'Drama'"
      ]
     },
     "execution_count": 124,
     "metadata": {},
     "output_type": "execute_result"
    }
   ],
   "source": [
    "genres_counter = Counter() # external genres Counter\n",
    "\n",
    "data['genres'].apply(genres_count)\n",
    "\n",
    "genres_counter_ordered_keys = sorted(genres_counter, key=genres_counter.get, reverse=True) # sorting dictionary by values - returning a list of keys\n",
    "genres_counter_ordered_keys[0]"
   ]
  },
  {
   "cell_type": "markdown",
   "metadata": {},
   "source": [
    "* THIRD METHOD - adviced in Slack"
   ]
  },
  {
   "cell_type": "code",
   "execution_count": 48,
   "metadata": {},
   "outputs": [
    {
     "data": {
      "text/plain": [
       "'Drama'"
      ]
     },
     "execution_count": 48,
     "metadata": {},
     "output_type": "execute_result"
    }
   ],
   "source": [
    "genres = data['genres'].sum() # merging the lists into one\n",
    "c = Counter()\n",
    "\n",
    "for item in genres:\n",
    "    c[item] += 1\n",
    "\n",
    "sorted(c, key=c.get, reverse=True)[0] # decending sorting and getting the first item (dict to list)"
   ]
  },
  {
   "cell_type": "markdown",
   "metadata": {},
   "source": [
    "* Another method of sorting"
   ]
  },
  {
   "cell_type": "code",
   "execution_count": 51,
   "metadata": {
    "scrolled": true
   },
   "outputs": [
    {
     "data": {
      "text/plain": [
       "{'Drama': 782,\n",
       " 'Comedy': 683,\n",
       " 'Thriller': 596,\n",
       " 'Action': 582,\n",
       " 'Adventure': 415,\n",
       " 'Crime': 315,\n",
       " 'Romance': 308,\n",
       " 'Family': 260,\n",
       " 'Science Fiction': 248,\n",
       " 'Fantasy': 222,\n",
       " 'Horror': 176,\n",
       " 'Mystery': 168,\n",
       " 'Animation': 139,\n",
       " 'Music': 64,\n",
       " 'History': 62,\n",
       " 'War': 58,\n",
       " 'Western': 19,\n",
       " 'Documentary': 8,\n",
       " 'Foreign': 2}"
      ]
     },
     "execution_count": 51,
     "metadata": {},
     "output_type": "execute_result"
    }
   ],
   "source": [
    "c_sorted = {key: value for key, value in sorted(c.items(), key=lambda item: item[1], reverse=True)} # sorting dict to dict by descending values\n",
    "c_sorted"
   ]
  },
  {
   "cell_type": "markdown",
   "metadata": {},
   "source": [
    "* FORTH METHOD - Using pandas.Series (most effective)"
   ]
  },
  {
   "cell_type": "code",
   "execution_count": 126,
   "metadata": {},
   "outputs": [
    {
     "data": {
      "text/plain": [
       "Drama              782\n",
       "Comedy             683\n",
       "Thriller           596\n",
       "Action             582\n",
       "Adventure          415\n",
       "Crime              315\n",
       "Romance            308\n",
       "Family             260\n",
       "Science Fiction    248\n",
       "Fantasy            222\n",
       "Horror             176\n",
       "Mystery            168\n",
       "Animation          139\n",
       "Music               64\n",
       "History             62\n",
       "War                 58\n",
       "Western             19\n",
       "Documentary          8\n",
       "Foreign              2\n",
       "dtype: int64"
      ]
     },
     "execution_count": 126,
     "metadata": {},
     "output_type": "execute_result"
    }
   ],
   "source": [
    "pd.Series(data['genres'].sum()).value_counts(ascending=False)"
   ]
  },
  {
   "cell_type": "markdown",
   "metadata": {
    "colab": {},
    "colab_type": "code",
    "id": "Tmt8MaK1Vp_R"
   },
   "source": [
    "# 12. Фильмы какого жанра чаще всего становятся прибыльными?"
   ]
  },
  {
   "cell_type": "code",
   "execution_count": 14,
   "metadata": {},
   "outputs": [],
   "source": [
    "answers['12'] = 'Drama'"
   ]
  },
  {
   "cell_type": "markdown",
   "metadata": {},
   "source": [
    "* FIRST METHOD - Using collections.Counter()"
   ]
  },
  {
   "cell_type": "code",
   "execution_count": 54,
   "metadata": {},
   "outputs": [
    {
     "data": {
      "text/plain": [
       "{'Drama': 560,\n",
       " 'Comedy': 551,\n",
       " 'Thriller': 446,\n",
       " 'Action': 444,\n",
       " 'Adventure': 337,\n",
       " 'Romance': 242,\n",
       " 'Crime': 231,\n",
       " 'Family': 226,\n",
       " 'Science Fiction': 195,\n",
       " 'Fantasy': 188,\n",
       " 'Horror': 150,\n",
       " 'Animation': 120,\n",
       " 'Mystery': 119,\n",
       " 'Music': 47,\n",
       " 'History': 46,\n",
       " 'War': 41,\n",
       " 'Western': 12,\n",
       " 'Documentary': 7}"
      ]
     },
     "execution_count": 54,
     "metadata": {},
     "output_type": "execute_result"
    }
   ],
   "source": [
    "genres_profit_counter = Counter()\n",
    "\n",
    "data.apply(genres_profit, axis=1, counter=genres_profit_counter) # applying function to the dataframe\n",
    "\n",
    "genres_profit_counter_ordered = {\n",
    "    key: value for key, value in sorted(genres_profit_counter.items(), key=lambda item: item[1], reverse=True)\n",
    "} # sorting dict to dict by descending values\n",
    "\n",
    "genres_profit_counter_ordered"
   ]
  },
  {
   "cell_type": "code",
   "execution_count": 56,
   "metadata": {
    "scrolled": false
   },
   "outputs": [
    {
     "data": {
      "text/html": [
       "<div>\n",
       "<style scoped>\n",
       "    .dataframe tbody tr th:only-of-type {\n",
       "        vertical-align: middle;\n",
       "    }\n",
       "\n",
       "    .dataframe tbody tr th {\n",
       "        vertical-align: top;\n",
       "    }\n",
       "\n",
       "    .dataframe thead th {\n",
       "        text-align: right;\n",
       "    }\n",
       "</style>\n",
       "<table border=\"1\" class=\"dataframe\">\n",
       "  <thead>\n",
       "    <tr style=\"text-align: right;\">\n",
       "      <th></th>\n",
       "      <th>imdb_id</th>\n",
       "      <th>budget</th>\n",
       "      <th>revenue</th>\n",
       "      <th>original_title</th>\n",
       "      <th>cast</th>\n",
       "      <th>director</th>\n",
       "      <th>tagline</th>\n",
       "      <th>overview</th>\n",
       "      <th>runtime</th>\n",
       "      <th>genres</th>\n",
       "      <th>production_companies</th>\n",
       "      <th>release_date</th>\n",
       "      <th>vote_average</th>\n",
       "      <th>release_year</th>\n",
       "      <th>profit</th>\n",
       "    </tr>\n",
       "  </thead>\n",
       "  <tbody>\n",
       "    <tr>\n",
       "      <th>494</th>\n",
       "      <td>tt1396208</td>\n",
       "      <td>10000000</td>\n",
       "      <td>5000000</td>\n",
       "      <td>Action Replayy</td>\n",
       "      <td>[Akshay Kumar, Aishwarya Rai Bachchan, Neha Dh...</td>\n",
       "      <td>[Vipul Amrutlal Shah]</td>\n",
       "      <td>Romance 1970s style</td>\n",
       "      <td>A young man tries to revive his parents' wilti...</td>\n",
       "      <td>100</td>\n",
       "      <td>[Drama, Comedy, Romance, Foreign]</td>\n",
       "      <td>[PVR Cinemas, Hari Om Entertainment Co., Block...</td>\n",
       "      <td>2010-11-05</td>\n",
       "      <td>4.9</td>\n",
       "      <td>2010</td>\n",
       "      <td>-5000000</td>\n",
       "    </tr>\n",
       "    <tr>\n",
       "      <th>1885</th>\n",
       "      <td>tt0192255</td>\n",
       "      <td>22000000</td>\n",
       "      <td>13555988</td>\n",
       "      <td>The Little Vampire</td>\n",
       "      <td>[Richard E. Grant, Jonathan Lipnicki, Jim Cart...</td>\n",
       "      <td>[Uli Edel]</td>\n",
       "      <td>They're not just best friends, they're blood b...</td>\n",
       "      <td>Based on the popular books, the story tells of...</td>\n",
       "      <td>95</td>\n",
       "      <td>[Horror, Family, Foreign]</td>\n",
       "      <td>[New Line Cinema]</td>\n",
       "      <td>2000-10-27</td>\n",
       "      <td>6.4</td>\n",
       "      <td>2000</td>\n",
       "      <td>-8444012</td>\n",
       "    </tr>\n",
       "  </tbody>\n",
       "</table>\n",
       "</div>"
      ],
      "text/plain": [
       "        imdb_id    budget   revenue      original_title  \\\n",
       "494   tt1396208  10000000   5000000      Action Replayy   \n",
       "1885  tt0192255  22000000  13555988  The Little Vampire   \n",
       "\n",
       "                                                   cast  \\\n",
       "494   [Akshay Kumar, Aishwarya Rai Bachchan, Neha Dh...   \n",
       "1885  [Richard E. Grant, Jonathan Lipnicki, Jim Cart...   \n",
       "\n",
       "                   director  \\\n",
       "494   [Vipul Amrutlal Shah]   \n",
       "1885             [Uli Edel]   \n",
       "\n",
       "                                                tagline  \\\n",
       "494                                 Romance 1970s style   \n",
       "1885  They're not just best friends, they're blood b...   \n",
       "\n",
       "                                               overview  runtime  \\\n",
       "494   A young man tries to revive his parents' wilti...      100   \n",
       "1885  Based on the popular books, the story tells of...       95   \n",
       "\n",
       "                                 genres  \\\n",
       "494   [Drama, Comedy, Romance, Foreign]   \n",
       "1885          [Horror, Family, Foreign]   \n",
       "\n",
       "                                   production_companies release_date  \\\n",
       "494   [PVR Cinemas, Hari Om Entertainment Co., Block...   2010-11-05   \n",
       "1885                                  [New Line Cinema]   2000-10-27   \n",
       "\n",
       "      vote_average  release_year   profit  \n",
       "494            4.9          2010 -5000000  \n",
       "1885           6.4          2000 -8444012  "
      ]
     },
     "execution_count": 56,
     "metadata": {},
     "output_type": "execute_result"
    }
   ],
   "source": [
    "data[data['genres'].map(lambda x: 'Foreign' in x) == True] # why genre 'Foreign' is not in 'genres_profit_counter_ordered'\n",
    "# using usual sorting of df in [] but also using map cause each member of Series contains a list"
   ]
  },
  {
   "cell_type": "markdown",
   "metadata": {},
   "source": [
    "=> see that their profit is < 0"
   ]
  },
  {
   "cell_type": "markdown",
   "metadata": {},
   "source": [
    "Ответ получен (драма), ОДНАКО количество фильмов в различных жанрах различно - соответственно, ожидаемо, что прибыльность наиболее часто встречающихся жанров будет выше. Поэтому имеет смысл посчитать прибыльность относительно частоты появления фильмов в каждом из жанров."
   ]
  },
  {
   "cell_type": "code",
   "execution_count": 57,
   "metadata": {},
   "outputs": [],
   "source": [
    "genres_profit_counter_ordered['Foreign'] = 0 # adding profitability of the genre 'Foreign' to 'genres_profit_counter_ordered' (to make lengths of both dicts equal)"
   ]
  },
  {
   "cell_type": "code",
   "execution_count": 58,
   "metadata": {},
   "outputs": [
    {
     "data": {
      "text/html": [
       "<div>\n",
       "<style scoped>\n",
       "    .dataframe tbody tr th:only-of-type {\n",
       "        vertical-align: middle;\n",
       "    }\n",
       "\n",
       "    .dataframe tbody tr th {\n",
       "        vertical-align: top;\n",
       "    }\n",
       "\n",
       "    .dataframe thead th {\n",
       "        text-align: right;\n",
       "    }\n",
       "</style>\n",
       "<table border=\"1\" class=\"dataframe\">\n",
       "  <thead>\n",
       "    <tr style=\"text-align: right;\">\n",
       "      <th></th>\n",
       "      <th>movies_number</th>\n",
       "      <th>abs_profitability</th>\n",
       "      <th>rel_profitability</th>\n",
       "    </tr>\n",
       "  </thead>\n",
       "  <tbody>\n",
       "    <tr>\n",
       "      <th>Drama</th>\n",
       "      <td>782</td>\n",
       "      <td>560</td>\n",
       "      <td>0.7161</td>\n",
       "    </tr>\n",
       "    <tr>\n",
       "      <th>Comedy</th>\n",
       "      <td>683</td>\n",
       "      <td>551</td>\n",
       "      <td>0.8067</td>\n",
       "    </tr>\n",
       "    <tr>\n",
       "      <th>Thriller</th>\n",
       "      <td>596</td>\n",
       "      <td>446</td>\n",
       "      <td>0.7483</td>\n",
       "    </tr>\n",
       "    <tr>\n",
       "      <th>Action</th>\n",
       "      <td>582</td>\n",
       "      <td>444</td>\n",
       "      <td>0.7629</td>\n",
       "    </tr>\n",
       "    <tr>\n",
       "      <th>Adventure</th>\n",
       "      <td>415</td>\n",
       "      <td>337</td>\n",
       "      <td>0.8120</td>\n",
       "    </tr>\n",
       "    <tr>\n",
       "      <th>Crime</th>\n",
       "      <td>315</td>\n",
       "      <td>242</td>\n",
       "      <td>0.7683</td>\n",
       "    </tr>\n",
       "    <tr>\n",
       "      <th>Romance</th>\n",
       "      <td>308</td>\n",
       "      <td>231</td>\n",
       "      <td>0.7500</td>\n",
       "    </tr>\n",
       "    <tr>\n",
       "      <th>Family</th>\n",
       "      <td>260</td>\n",
       "      <td>226</td>\n",
       "      <td>0.8692</td>\n",
       "    </tr>\n",
       "    <tr>\n",
       "      <th>Science Fiction</th>\n",
       "      <td>248</td>\n",
       "      <td>195</td>\n",
       "      <td>0.7863</td>\n",
       "    </tr>\n",
       "    <tr>\n",
       "      <th>Fantasy</th>\n",
       "      <td>222</td>\n",
       "      <td>188</td>\n",
       "      <td>0.8468</td>\n",
       "    </tr>\n",
       "    <tr>\n",
       "      <th>Horror</th>\n",
       "      <td>176</td>\n",
       "      <td>150</td>\n",
       "      <td>0.8523</td>\n",
       "    </tr>\n",
       "    <tr>\n",
       "      <th>Mystery</th>\n",
       "      <td>168</td>\n",
       "      <td>120</td>\n",
       "      <td>0.7143</td>\n",
       "    </tr>\n",
       "    <tr>\n",
       "      <th>Animation</th>\n",
       "      <td>139</td>\n",
       "      <td>119</td>\n",
       "      <td>0.8561</td>\n",
       "    </tr>\n",
       "    <tr>\n",
       "      <th>Music</th>\n",
       "      <td>64</td>\n",
       "      <td>47</td>\n",
       "      <td>0.7344</td>\n",
       "    </tr>\n",
       "    <tr>\n",
       "      <th>History</th>\n",
       "      <td>62</td>\n",
       "      <td>46</td>\n",
       "      <td>0.7419</td>\n",
       "    </tr>\n",
       "    <tr>\n",
       "      <th>War</th>\n",
       "      <td>58</td>\n",
       "      <td>41</td>\n",
       "      <td>0.7069</td>\n",
       "    </tr>\n",
       "    <tr>\n",
       "      <th>Western</th>\n",
       "      <td>19</td>\n",
       "      <td>12</td>\n",
       "      <td>0.6316</td>\n",
       "    </tr>\n",
       "    <tr>\n",
       "      <th>Documentary</th>\n",
       "      <td>8</td>\n",
       "      <td>7</td>\n",
       "      <td>0.8750</td>\n",
       "    </tr>\n",
       "    <tr>\n",
       "      <th>Foreign</th>\n",
       "      <td>2</td>\n",
       "      <td>0</td>\n",
       "      <td>0.0000</td>\n",
       "    </tr>\n",
       "  </tbody>\n",
       "</table>\n",
       "</div>"
      ],
      "text/plain": [
       "                 movies_number  abs_profitability  rel_profitability\n",
       "Drama                      782                560             0.7161\n",
       "Comedy                     683                551             0.8067\n",
       "Thriller                   596                446             0.7483\n",
       "Action                     582                444             0.7629\n",
       "Adventure                  415                337             0.8120\n",
       "Crime                      315                242             0.7683\n",
       "Romance                    308                231             0.7500\n",
       "Family                     260                226             0.8692\n",
       "Science Fiction            248                195             0.7863\n",
       "Fantasy                    222                188             0.8468\n",
       "Horror                     176                150             0.8523\n",
       "Mystery                    168                120             0.7143\n",
       "Animation                  139                119             0.8561\n",
       "Music                       64                 47             0.7344\n",
       "History                     62                 46             0.7419\n",
       "War                         58                 41             0.7069\n",
       "Western                     19                 12             0.6316\n",
       "Documentary                  8                  7             0.8750\n",
       "Foreign                      2                  0             0.0000"
      ]
     },
     "execution_count": 58,
     "metadata": {},
     "output_type": "execute_result"
    }
   ],
   "source": [
    "# creating the dataframe of genres profitability\n",
    "genres = pd.DataFrame({\n",
    "    'movies_number': [value for value in genres_counter_ordered.values()], # dict from question 11\n",
    "    'abs_profitability': [value for value in genres_profit_counter_ordered.values()]\n",
    "})\n",
    "genres['rel_profitability'] = round(genres['abs_profitability'] / genres['movies_number'], 4)\n",
    "genres.index = [key for key in genres_counter_ordered.keys()]\n",
    "genres"
   ]
  },
  {
   "cell_type": "code",
   "execution_count": 59,
   "metadata": {},
   "outputs": [
    {
     "data": {
      "text/html": [
       "<div>\n",
       "<style scoped>\n",
       "    .dataframe tbody tr th:only-of-type {\n",
       "        vertical-align: middle;\n",
       "    }\n",
       "\n",
       "    .dataframe tbody tr th {\n",
       "        vertical-align: top;\n",
       "    }\n",
       "\n",
       "    .dataframe thead th {\n",
       "        text-align: right;\n",
       "    }\n",
       "</style>\n",
       "<table border=\"1\" class=\"dataframe\">\n",
       "  <thead>\n",
       "    <tr style=\"text-align: right;\">\n",
       "      <th></th>\n",
       "      <th>movies_number</th>\n",
       "      <th>abs_profitability</th>\n",
       "      <th>rel_profitability</th>\n",
       "    </tr>\n",
       "  </thead>\n",
       "  <tbody>\n",
       "    <tr>\n",
       "      <th>count</th>\n",
       "      <td>19.000000</td>\n",
       "      <td>19.000000</td>\n",
       "      <td>19.000000</td>\n",
       "    </tr>\n",
       "    <tr>\n",
       "      <th>mean</th>\n",
       "      <td>268.789474</td>\n",
       "      <td>208.526316</td>\n",
       "      <td>0.735742</td>\n",
       "    </tr>\n",
       "    <tr>\n",
       "      <th>std</th>\n",
       "      <td>239.699019</td>\n",
       "      <td>181.700415</td>\n",
       "      <td>0.189598</td>\n",
       "    </tr>\n",
       "    <tr>\n",
       "      <th>min</th>\n",
       "      <td>2.000000</td>\n",
       "      <td>0.000000</td>\n",
       "      <td>0.000000</td>\n",
       "    </tr>\n",
       "    <tr>\n",
       "      <th>25%</th>\n",
       "      <td>63.000000</td>\n",
       "      <td>46.500000</td>\n",
       "      <td>0.725250</td>\n",
       "    </tr>\n",
       "    <tr>\n",
       "      <th>50%</th>\n",
       "      <td>222.000000</td>\n",
       "      <td>188.000000</td>\n",
       "      <td>0.762900</td>\n",
       "    </tr>\n",
       "    <tr>\n",
       "      <th>75%</th>\n",
       "      <td>365.000000</td>\n",
       "      <td>289.500000</td>\n",
       "      <td>0.829400</td>\n",
       "    </tr>\n",
       "    <tr>\n",
       "      <th>max</th>\n",
       "      <td>782.000000</td>\n",
       "      <td>560.000000</td>\n",
       "      <td>0.875000</td>\n",
       "    </tr>\n",
       "  </tbody>\n",
       "</table>\n",
       "</div>"
      ],
      "text/plain": [
       "       movies_number  abs_profitability  rel_profitability\n",
       "count      19.000000          19.000000          19.000000\n",
       "mean      268.789474         208.526316           0.735742\n",
       "std       239.699019         181.700415           0.189598\n",
       "min         2.000000           0.000000           0.000000\n",
       "25%        63.000000          46.500000           0.725250\n",
       "50%       222.000000         188.000000           0.762900\n",
       "75%       365.000000         289.500000           0.829400\n",
       "max       782.000000         560.000000           0.875000"
      ]
     },
     "execution_count": 59,
     "metadata": {},
     "output_type": "execute_result"
    }
   ],
   "source": [
    "genres.describe()"
   ]
  },
  {
   "cell_type": "code",
   "execution_count": 60,
   "metadata": {},
   "outputs": [
    {
     "data": {
      "text/html": [
       "<div>\n",
       "<style scoped>\n",
       "    .dataframe tbody tr th:only-of-type {\n",
       "        vertical-align: middle;\n",
       "    }\n",
       "\n",
       "    .dataframe tbody tr th {\n",
       "        vertical-align: top;\n",
       "    }\n",
       "\n",
       "    .dataframe thead th {\n",
       "        text-align: right;\n",
       "    }\n",
       "</style>\n",
       "<table border=\"1\" class=\"dataframe\">\n",
       "  <thead>\n",
       "    <tr style=\"text-align: right;\">\n",
       "      <th></th>\n",
       "      <th>movies_number</th>\n",
       "      <th>abs_profitability</th>\n",
       "      <th>rel_profitability</th>\n",
       "    </tr>\n",
       "  </thead>\n",
       "  <tbody>\n",
       "    <tr>\n",
       "      <th>Family</th>\n",
       "      <td>260</td>\n",
       "      <td>226</td>\n",
       "      <td>0.8692</td>\n",
       "    </tr>\n",
       "    <tr>\n",
       "      <th>Fantasy</th>\n",
       "      <td>222</td>\n",
       "      <td>188</td>\n",
       "      <td>0.8468</td>\n",
       "    </tr>\n",
       "    <tr>\n",
       "      <th>Horror</th>\n",
       "      <td>176</td>\n",
       "      <td>150</td>\n",
       "      <td>0.8523</td>\n",
       "    </tr>\n",
       "    <tr>\n",
       "      <th>Animation</th>\n",
       "      <td>139</td>\n",
       "      <td>119</td>\n",
       "      <td>0.8561</td>\n",
       "    </tr>\n",
       "    <tr>\n",
       "      <th>Documentary</th>\n",
       "      <td>8</td>\n",
       "      <td>7</td>\n",
       "      <td>0.8750</td>\n",
       "    </tr>\n",
       "  </tbody>\n",
       "</table>\n",
       "</div>"
      ],
      "text/plain": [
       "             movies_number  abs_profitability  rel_profitability\n",
       "Family                 260                226             0.8692\n",
       "Fantasy                222                188             0.8468\n",
       "Horror                 176                150             0.8523\n",
       "Animation              139                119             0.8561\n",
       "Documentary              8                  7             0.8750"
      ]
     },
     "execution_count": 60,
     "metadata": {},
     "output_type": "execute_result"
    }
   ],
   "source": [
    "genres[genres['rel_profitability'] >= 0.8294] # checking the 4th quartile"
   ]
  },
  {
   "cell_type": "markdown",
   "metadata": {},
   "source": [
    "Таким образом, из всех выпущенных фильмов в жанрах семейные, фэнтэзи, хоррор, анимационные, документальные наибольшее процентное количество становится прибыльными."
   ]
  },
  {
   "cell_type": "markdown",
   "metadata": {},
   "source": [
    "* SECOND METHOD - Using pandas.Series"
   ]
  },
  {
   "cell_type": "code",
   "execution_count": 66,
   "metadata": {},
   "outputs": [
    {
     "data": {
      "text/plain": [
       "Drama              560\n",
       "Comedy             551\n",
       "Thriller           446\n",
       "Action             444\n",
       "Adventure          337\n",
       "Romance            242\n",
       "Crime              231\n",
       "Family             226\n",
       "Science Fiction    195\n",
       "Fantasy            188\n",
       "Horror             150\n",
       "Animation          120\n",
       "Mystery            119\n",
       "Music               47\n",
       "History             46\n",
       "War                 41\n",
       "Western             12\n",
       "Documentary          7\n",
       "dtype: int64"
      ]
     },
     "execution_count": 66,
     "metadata": {},
     "output_type": "execute_result"
    }
   ],
   "source": [
    "profitable = data[data['profit'] > 0]\n",
    "pd.Series(profitable['genres'].sum()).value_counts(ascending=False)"
   ]
  },
  {
   "cell_type": "markdown",
   "metadata": {},
   "source": [
    "Second method, working with Series, is much more effective, clear and short."
   ]
  },
  {
   "cell_type": "markdown",
   "metadata": {
    "colab_type": "text",
    "id": "0F23bgsDVp_U"
   },
   "source": [
    "# 13. У какого режиссера самые большие суммарные кассовые сборы?"
   ]
  },
  {
   "cell_type": "code",
   "execution_count": 15,
   "metadata": {
    "colab": {},
    "colab_type": "code",
    "id": "K6Z3J8ygVp_X"
   },
   "outputs": [],
   "source": [
    "answers['13'] = 'Peter Jackson'"
   ]
  },
  {
   "cell_type": "code",
   "execution_count": 111,
   "metadata": {},
   "outputs": [
    {
     "data": {
      "text/plain": [
       "Peter Jackson        6490593685\n",
       "Christopher Nolan    4167548502\n",
       "David Yates          4154295625\n",
       "Michael Bay          3886938960\n",
       "J.J. Abrams          3579169916\n",
       "                        ...    \n",
       "David MichÃ´d           2295423\n",
       "Steven Shainberg        2281089\n",
       "Paul Schrader           2062066\n",
       "Keanu Reeves            2054941\n",
       "Simon Hunter            2033165\n",
       "Length: 997, dtype: int64"
      ]
     },
     "execution_count": 111,
     "metadata": {},
     "output_type": "execute_result"
    }
   ],
   "source": [
    "dir_rev = pd.Series(data['director'].sum()) # merging lists of directors into Series; dir_rev = 'director_revenue'\n",
    "dir_rev = dir_rev.value_counts() # now index contains unique directors; we could also use Series.unique() -> numpy.ndarray of directors\n",
    "\n",
    "for director in dir_rev.index:\n",
    "    dir_rev[director] = data[data['director'].map(lambda x: director in x)]['revenue'].sum()\n",
    "\n",
    "dir_rev.sort_values(ascending=False)"
   ]
  },
  {
   "cell_type": "markdown",
   "metadata": {
    "colab_type": "text",
    "id": "PsYC9FgRVp_a"
   },
   "source": [
    "# 14. Какой режисер снял больше всего фильмов в стиле Action?"
   ]
  },
  {
   "cell_type": "code",
   "execution_count": 16,
   "metadata": {
    "colab": {},
    "colab_type": "code",
    "id": "wd2M-wHeVp_b"
   },
   "outputs": [],
   "source": [
    "answers['14'] = 'Robert Rodriguez'"
   ]
  },
  {
   "cell_type": "markdown",
   "metadata": {},
   "source": [
    "FIRST METHOD: Using collections.Counter"
   ]
  },
  {
   "cell_type": "code",
   "execution_count": 73,
   "metadata": {},
   "outputs": [
    {
     "data": {
      "text/plain": [
       "'Robert Rodriguez'"
      ]
     },
     "execution_count": 73,
     "metadata": {},
     "output_type": "execute_result"
    }
   ],
   "source": [
    "action_dir_counter = Counter()\n",
    "\n",
    "data.apply(action_dir_count, axis=1, counter=action_dir_counter)\n",
    "\n",
    "# sorting dict to list of keys by descending values, taking the first key\n",
    "sorted(action_dir_counter, key=action_dir_counter.get, reverse=True)[0]"
   ]
  },
  {
   "cell_type": "code",
   "execution_count": 74,
   "metadata": {},
   "outputs": [
    {
     "data": {
      "text/plain": [
       "{'Robert Rodriguez': 9,\n",
       " 'Michael Bay': 7,\n",
       " 'Paul W.S. Anderson': 7,\n",
       " 'Antoine Fuqua': 6,\n",
       " 'Ridley Scott': 6,\n",
       " 'Brett Ratner': 5,\n",
       " 'Quentin Tarantino': 5,\n",
       " 'Zack Snyder': 5,\n",
       " 'Roland Emmerich': 5,\n",
       " 'Andrzej Bartkowiak': 5,\n",
       " 'Louis Leterrier': 5,\n",
       " 'Tony Scott': 5,\n",
       " 'Paul Greengrass': 5,\n",
       " 'Peter Jackson': 5,\n",
       " 'Lee Tamahori': 5,\n",
       " 'Gore Verbinski': 5,\n",
       " 'Rob Cohen': 5,\n",
       " 'Peter Berg': 5,\n",
       " 'J.J. Abrams': 4,\n",
       " 'Lana Wachowski': 4,\n",
       " 'Lilly Wachowski': 4,\n",
       " 'Olivier Megaton': 4,\n",
       " 'Guy Ritchie': 4,\n",
       " 'Bryan Singer': 4,\n",
       " 'Tim Story': 4,\n",
       " 'Renny Harlin': 4,\n",
       " 'Mark Neveldine': 4,\n",
       " 'Brian Taylor': 4,\n",
       " 'Dominic Sena': 4,\n",
       " 'Justin Lin': 4,\n",
       " 'Christopher Nolan': 4,\n",
       " 'Simon West': 4,\n",
       " 'John Moore': 4,\n",
       " 'Steven Spielberg': 4,\n",
       " 'Martin Campbell': 4,\n",
       " 'John Singleton': 4,\n",
       " 'Len Wiseman': 4,\n",
       " 'Brad Bird': 3,\n",
       " 'Matthew Vaughn': 3,\n",
       " 'Neill Blomkamp': 3,\n",
       " 'Jaume Collet-Serra': 3,\n",
       " 'Breck Eisner': 3,\n",
       " 'Pierre Morel': 3,\n",
       " 'David Ayer': 3,\n",
       " 'Doug Liman': 3,\n",
       " 'Clint Eastwood': 3,\n",
       " 'Phil Lord': 3,\n",
       " 'Christopher Miller': 3,\n",
       " 'McG': 3,\n",
       " 'Stephen Sommers': 3,\n",
       " 'Shawn Levy': 3,\n",
       " 'Jonathan Mostow': 3,\n",
       " 'Jon Favreau': 3,\n",
       " 'Jon Turteltaub': 3,\n",
       " 'Joe Carnahan': 3,\n",
       " 'M. Night Shyamalan': 3,\n",
       " 'Harald Zwart': 3,\n",
       " 'Marc Forster': 3,\n",
       " 'D.J. Caruso': 3,\n",
       " 'Edward Zwick': 3,\n",
       " 'Sam Raimi': 3,\n",
       " 'Barry Sonnenfeld': 3,\n",
       " 'Guillermo del Toro': 3,\n",
       " 'John Woo': 3,\n",
       " 'Uwe Boll': 3,\n",
       " 'David Twohy': 3,\n",
       " 'James Wan': 2,\n",
       " 'Alan Taylor': 2,\n",
       " 'Sam Mendes': 2,\n",
       " 'Joss Whedon': 2,\n",
       " 'Peyton Reed': 2,\n",
       " 'Brad Peyton': 2,\n",
       " 'Wes Ball': 2,\n",
       " 'Michael Mann': 2,\n",
       " 'Paul Feig': 2,\n",
       " 'Ron Howard': 2,\n",
       " 'Camille Delamarre': 2,\n",
       " 'Luc Besson': 2,\n",
       " 'Jonathan Liebesman': 2,\n",
       " 'Matt Reeves': 2,\n",
       " 'Marc Webb': 2,\n",
       " 'Evan Goldberg': 2,\n",
       " 'Seth Rogen': 2,\n",
       " 'Roger Donaldson': 2,\n",
       " 'J.C. Chandor': 2,\n",
       " 'Kenneth Branagh': 2,\n",
       " 'Scott Waugh': 2,\n",
       " 'Alex Proyas': 2,\n",
       " 'James McTeigue': 2,\n",
       " 'NimrÃ³d Antal': 2,\n",
       " 'Gavin Hood': 2,\n",
       " 'Sylvester Stallone': 2,\n",
       " 'Joseph Kosinski': 2,\n",
       " 'Edgar Wright': 2,\n",
       " 'Robert Schwentke': 2,\n",
       " 'James Mangold': 2,\n",
       " 'Neil Marshall': 2,\n",
       " 'Kevin Munroe': 2,\n",
       " 'Peter Howitt': 2,\n",
       " 'Frank Oz': 2,\n",
       " 'Joe Johnston': 2,\n",
       " 'Peter Hyams': 2,\n",
       " 'Timur Bekmambetov': 2,\n",
       " 'David Gordon Green': 2,\n",
       " 'Pete Travis': 2,\n",
       " 'Frank Miller': 2,\n",
       " 'Jason Friedberg': 2,\n",
       " 'Aaron Seltzer': 2,\n",
       " 'Rob Marshall': 2,\n",
       " 'Andrew Niccol': 2,\n",
       " 'Marcus Nispel': 2,\n",
       " 'Ruben Fleischer': 2,\n",
       " 'George Lucas': 2,\n",
       " 'Andrew Davis': 2,\n",
       " 'Walter Hill': 2,\n",
       " 'Rob Bowman': 2,\n",
       " 'Ang Lee': 2,\n",
       " 'Baltasar KormÃ¡kur': 2,\n",
       " 'Mark Steven Johnson': 2,\n",
       " 'F. Gary Gray': 2,\n",
       " 'David Dobkin': 2,\n",
       " 'Clark Johnson': 2,\n",
       " 'Richard Donner': 2,\n",
       " 'William Friedkin': 2,\n",
       " 'Francis Lawrence': 2,\n",
       " 'Courtney Solomon': 2,\n",
       " 'David R. Ellis': 2,\n",
       " 'David S. Goyer': 2,\n",
       " 'Colin Trevorrow': 1,\n",
       " 'George Miller': 1,\n",
       " 'Chris Columbus': 1,\n",
       " 'Christopher McQuarrie': 1,\n",
       " 'Ilya Naishuller': 1,\n",
       " 'Ericson Core': 1,\n",
       " 'Denis Villeneuve': 1,\n",
       " 'Josh Trank': 1,\n",
       " 'Aleksander Bach': 1,\n",
       " 'Andy Fickman': 1,\n",
       " 'John Erick Dowdle': 1,\n",
       " 'Anne Fletcher': 1,\n",
       " 'James Gunn': 1,\n",
       " 'Joe Russo': 1,\n",
       " 'Anthony Russo': 1,\n",
       " 'Chad Stahelski': 1,\n",
       " 'David Leitch': 1,\n",
       " 'Don Hall': 1,\n",
       " 'Chris Williams': 1,\n",
       " 'Neil Burger': 1,\n",
       " 'Gareth Edwards': 1,\n",
       " 'Robert Stromberg': 1,\n",
       " 'Dean DeBlois': 1,\n",
       " 'Patrick Hughes': 1,\n",
       " 'Gary Shore': 1,\n",
       " 'Noam Murro': 1,\n",
       " 'Vic Armstrong': 1,\n",
       " 'JosÃ© Padilha': 1,\n",
       " 'George Clooney': 1,\n",
       " 'Brian A Miller': 1,\n",
       " 'Steven Quale': 1,\n",
       " 'Adam Wingard': 1,\n",
       " 'James Cameron': 1,\n",
       " 'Patrick Tatopoulos': 1,\n",
       " 'Shane Acker': 1,\n",
       " 'Steve Carr': 1,\n",
       " 'Christian Alvart': 1,\n",
       " 'Hoyt Yeatman': 1,\n",
       " 'Kevin Macdonald': 1,\n",
       " 'Michael Spierig': 1,\n",
       " 'Peter Spierig': 1,\n",
       " 'Paul McGuigan': 1,\n",
       " 'Troy Duffy': 1,\n",
       " 'Paul Weitz': 1,\n",
       " 'David Bowers': 1,\n",
       " 'Daniel Barber': 1,\n",
       " 'Michael J. Bassett': 1,\n",
       " 'Pierre Coffin': 1,\n",
       " 'Chris Renaud': 1,\n",
       " 'Phillip Noyce': 1,\n",
       " 'Florian Henckel von Donnersmarck': 1,\n",
       " 'Mike Newell': 1,\n",
       " 'Ethan Maniquis': 1,\n",
       " 'Albert Hughes': 1,\n",
       " 'Allen Hughes': 1,\n",
       " 'Tom McGrath': 1,\n",
       " 'Adam McKay': 1,\n",
       " 'Miguel Sapochnik': 1,\n",
       " 'Andy Tennant': 1,\n",
       " 'Jonathan Lynn': 1,\n",
       " 'Jimmy Hayward': 1,\n",
       " 'Robert Luketic': 1,\n",
       " 'John Luessenhop': 1,\n",
       " 'Kevin Smith': 1,\n",
       " 'Jorma Taccone': 1,\n",
       " 'Brian Levant': 1,\n",
       " 'Stuart Beattie': 1,\n",
       " 'Tim Burton': 1,\n",
       " 'Brian Helgeland': 1,\n",
       " 'John A. Davis': 1,\n",
       " 'Chris Nahon': 1,\n",
       " 'Hironobu Sakaguchi': 1,\n",
       " 'Motonori Sakakibara': 1,\n",
       " 'Rod Lurie': 1,\n",
       " 'John Herzfeld': 1,\n",
       " 'Ivan Reitman': 1,\n",
       " 'Demian Lichtenstein': 1,\n",
       " 'John Carpenter': 1,\n",
       " 'Bobby Farrelly': 1,\n",
       " 'Peter Farrelly': 1,\n",
       " 'Barry Levinson': 1,\n",
       " 'Luke Greenfield': 1,\n",
       " 'Les Mayfield': 1,\n",
       " 'Henry Selick': 1,\n",
       " 'Rob Pritts': 1,\n",
       " 'Ernest R. Dickerson': 1,\n",
       " 'DJ Pooh': 1,\n",
       " 'Eric Brevig': 1,\n",
       " 'Ben Stiller': 1,\n",
       " 'Jeff Wadlow': 1,\n",
       " 'Lexi Alexander': 1,\n",
       " 'Peter Segal': 1,\n",
       " 'Mathieu Kassovitz': 1,\n",
       " 'Rob Minkoff': 1,\n",
       " 'Jon Avnet': 1,\n",
       " 'Dennis Dugan': 1,\n",
       " 'Howard McCain': 1,\n",
       " 'Oxide Pang Chun': 1,\n",
       " 'Danny Pang': 1,\n",
       " 'Craig Mazin': 1,\n",
       " 'Simon Hunter': 1,\n",
       " 'Nicolas Winding Refn': 1,\n",
       " 'Rupert Wyatt': 1,\n",
       " 'Patrick Lussier': 1,\n",
       " 'Gary McKendry': 1,\n",
       " 'Scott Stewart': 1,\n",
       " 'Tarsem Singh': 1,\n",
       " 'Chris Gorak': 1,\n",
       " 'Chris Miller': 1,\n",
       " 'Michel Gondry': 1,\n",
       " 'Oliver Parker': 1,\n",
       " 'Joe Cornish': 1,\n",
       " 'Joe Wright': 1,\n",
       " 'John Michael McDonagh': 1,\n",
       " 'Alister Grierson': 1,\n",
       " 'Sean McNamara': 1,\n",
       " 'John Whitesell': 1,\n",
       " 'Benny Chan': 1,\n",
       " 'Corey Yuen Kwai': 1,\n",
       " 'Stuart Baird': 1,\n",
       " 'Kurt Wimmer': 1,\n",
       " 'Jay Roach': 1,\n",
       " 'Jim Gillespie': 1,\n",
       " 'Chuck Russell': 1,\n",
       " 'Betty Thomas': 1,\n",
       " 'Randall Wallace': 1,\n",
       " 'Ron Shelton': 1,\n",
       " 'Simon Wells': 1,\n",
       " 'Roger Michell': 1,\n",
       " 'Michael Apted': 1,\n",
       " 'Tom Dey': 1,\n",
       " 'Joel Schumacher': 1,\n",
       " 'Luis Mandoki': 1,\n",
       " 'Tamra Davis': 1,\n",
       " 'Ron Underwood': 1,\n",
       " 'Kevin Bray': 1,\n",
       " 'Malcolm D. Lee': 1,\n",
       " 'MÃ¥ns MÃ¥rlind': 1,\n",
       " 'BjÃ¶rn Stein': 1,\n",
       " 'Tony Gilroy': 1,\n",
       " 'Mark Andrews': 1,\n",
       " 'Steve Purcell': 1,\n",
       " 'Brenda Chapman': 1,\n",
       " 'Boaz Yakin': 1,\n",
       " 'Andrew Stanton': 1,\n",
       " 'Rian Johnson': 1,\n",
       " 'Mike McCoy': 1,\n",
       " 'Stephen St. Leger': 1,\n",
       " 'James Mather': 1,\n",
       " 'Daniel Espinosa': 1,\n",
       " 'Asger Leth': 1,\n",
       " 'Mabrouk El Mechri': 1,\n",
       " 'Dan Bradley': 1,\n",
       " 'Julie Anne Robinson': 1,\n",
       " 'Anthony Hemingway': 1,\n",
       " 'David Koepp': 1,\n",
       " 'David Barrett': 1,\n",
       " 'Stephen Norrington': 1,\n",
       " 'Jan de Bont': 1,\n",
       " 'Jon Amiel': 1,\n",
       " 'John McTiernan': 1,\n",
       " 'Shane Black': 1,\n",
       " 'Tommy Wirkola': 1,\n",
       " 'Carl Rinsch': 1,\n",
       " 'Gary Fleder': 1,\n",
       " 'Mikael HÃ¥fstrÃ¶m': 1,\n",
       " 'Taylor Hackford': 1,\n",
       " 'Steven Knight': 1,\n",
       " 'Spike Lee': 1,\n",
       " 'Dito Montiel': 1,\n",
       " 'Keanu Reeves': 1,\n",
       " 'Fyodor Bondarchuk': 1,\n",
       " 'Karyn Kusama': 1,\n",
       " 'Adam Shankman': 1,\n",
       " 'John Stockwell': 1,\n",
       " 'Sydney Pollack': 1,\n",
       " 'Terry Gilliam': 1,\n",
       " 'Jay Chandrasekhar': 1,\n",
       " 'Richard Shepard': 1,\n",
       " 'John Dahl': 1,\n",
       " 'Bruce Hunt': 1,\n",
       " 'Alfonso CuarÃ³n': 1,\n",
       " 'Stefen Fangmeier': 1,\n",
       " 'Mel Gibson': 1,\n",
       " 'Bruce Beresford': 1,\n",
       " 'Wolfgang Petersen': 1,\n",
       " 'Jeff Tremaine': 1,\n",
       " 'John Bonito': 1,\n",
       " 'Geoffrey Sax': 1,\n",
       " 'Tony Bill': 1,\n",
       " 'Wayne Kramer': 1,\n",
       " 'Sanjay Gadhvi': 1,\n",
       " 'Phil Joanou': 1,\n",
       " 'Alexander Witt': 1,\n",
       " 'Bibo Bergeron': 1,\n",
       " 'Vicky Jenson': 1,\n",
       " 'Rob Letterman': 1,\n",
       " 'Kerry Conran': 1,\n",
       " 'Oliver Stone': 1,\n",
       " 'Jonathan Hensleigh': 1,\n",
       " 'Pitof': 1,\n",
       " 'Philip Kaufman': 1,\n",
       " 'Trey Parker': 1,\n",
       " 'Steven Brill': 1,\n",
       " 'Frank Coraci': 1,\n",
       " 'Paul Abascal': 1,\n",
       " 'Joseph Kahn': 1,\n",
       " 'David Mamet': 1,\n",
       " 'Jay Russell': 1,\n",
       " 'Robert Redford': 1,\n",
       " 'Philip G. Atwell': 1,\n",
       " 'Michael Davis': 1,\n",
       " 'Xavier Gens': 1,\n",
       " 'Eli Roth': 1,\n",
       " 'Rob Zombie': 1,\n",
       " 'Jason Eisener': 1,\n",
       " 'Dave Meyers': 1,\n",
       " 'Russell Mulcahy': 1,\n",
       " 'Andrew Dominik': 1,\n",
       " 'Doug Lefler': 1,\n",
       " 'David Leland': 1,\n",
       " 'Feng Xiaogang': 1,\n",
       " 'Ben Garant': 1,\n",
       " 'Joel Coen': 1,\n",
       " 'Donald Petrie': 1,\n",
       " 'Paul Verhoeven': 1,\n",
       " 'Roger Spottiswoode': 1,\n",
       " 'Antony Hoffman': 1,\n",
       " 'Stephen T. Kay': 1,\n",
       " 'Don Bluth': 1,\n",
       " 'Gary Goldman': 1,\n",
       " 'Christian Duguay': 1,\n",
       " 'Douglas Aarniokoski': 1,\n",
       " 'Gina Prince-Bythewood': 1,\n",
       " 'Brian Robbins': 1,\n",
       " 'Des McAnuff': 1}"
      ]
     },
     "execution_count": 74,
     "metadata": {},
     "output_type": "execute_result"
    }
   ],
   "source": [
    "# sorting dict to dict by descending values\n",
    "action_dir_counter_sorted = {\n",
    "    key: value for key, value in sorted(action_dir_counter.items(), key=lambda item: item[1], reverse=True)\n",
    "}\n",
    "action_dir_counter_sorted"
   ]
  },
  {
   "cell_type": "markdown",
   "metadata": {},
   "source": [
    "SECOND METHOD"
   ]
  },
  {
   "cell_type": "code",
   "execution_count": 75,
   "metadata": {},
   "outputs": [],
   "source": [
    "data_action = data[data['genres'].map(lambda genres: 'Action' in genres)] # using usual sorting of df in [] but also using map cause each cell of 'genres' contains a list\n",
    "directors = data_action['director'].sum() # merging the Series of lists of directors"
   ]
  },
  {
   "cell_type": "markdown",
   "metadata": {},
   "source": [
    "a) Using collections.Counter()"
   ]
  },
  {
   "cell_type": "code",
   "execution_count": 76,
   "metadata": {
    "scrolled": true
   },
   "outputs": [
    {
     "data": {
      "text/plain": [
       "{'Robert Rodriguez': 9,\n",
       " 'Michael Bay': 7,\n",
       " 'Paul W.S. Anderson': 7,\n",
       " 'Antoine Fuqua': 6,\n",
       " 'Ridley Scott': 6,\n",
       " 'Brett Ratner': 5,\n",
       " 'Quentin Tarantino': 5,\n",
       " 'Zack Snyder': 5,\n",
       " 'Roland Emmerich': 5,\n",
       " 'Andrzej Bartkowiak': 5,\n",
       " 'Louis Leterrier': 5,\n",
       " 'Tony Scott': 5,\n",
       " 'Paul Greengrass': 5,\n",
       " 'Peter Jackson': 5,\n",
       " 'Lee Tamahori': 5,\n",
       " 'Gore Verbinski': 5,\n",
       " 'Rob Cohen': 5,\n",
       " 'Peter Berg': 5,\n",
       " 'J.J. Abrams': 4,\n",
       " 'Lana Wachowski': 4,\n",
       " 'Lilly Wachowski': 4,\n",
       " 'Olivier Megaton': 4,\n",
       " 'Guy Ritchie': 4,\n",
       " 'Bryan Singer': 4,\n",
       " 'Tim Story': 4,\n",
       " 'Renny Harlin': 4,\n",
       " 'Mark Neveldine': 4,\n",
       " 'Brian Taylor': 4,\n",
       " 'Dominic Sena': 4,\n",
       " 'Justin Lin': 4,\n",
       " 'Christopher Nolan': 4,\n",
       " 'Simon West': 4,\n",
       " 'John Moore': 4,\n",
       " 'Steven Spielberg': 4,\n",
       " 'Martin Campbell': 4,\n",
       " 'John Singleton': 4,\n",
       " 'Len Wiseman': 4,\n",
       " 'Brad Bird': 3,\n",
       " 'Matthew Vaughn': 3,\n",
       " 'Neill Blomkamp': 3,\n",
       " 'Jaume Collet-Serra': 3,\n",
       " 'Breck Eisner': 3,\n",
       " 'Pierre Morel': 3,\n",
       " 'David Ayer': 3,\n",
       " 'Doug Liman': 3,\n",
       " 'Clint Eastwood': 3,\n",
       " 'Phil Lord': 3,\n",
       " 'Christopher Miller': 3,\n",
       " 'McG': 3,\n",
       " 'Stephen Sommers': 3,\n",
       " 'Shawn Levy': 3,\n",
       " 'Jonathan Mostow': 3,\n",
       " 'Jon Favreau': 3,\n",
       " 'Jon Turteltaub': 3,\n",
       " 'Joe Carnahan': 3,\n",
       " 'M. Night Shyamalan': 3,\n",
       " 'Harald Zwart': 3,\n",
       " 'Marc Forster': 3,\n",
       " 'D.J. Caruso': 3,\n",
       " 'Edward Zwick': 3,\n",
       " 'Sam Raimi': 3,\n",
       " 'Barry Sonnenfeld': 3,\n",
       " 'Guillermo del Toro': 3,\n",
       " 'John Woo': 3,\n",
       " 'Uwe Boll': 3,\n",
       " 'David Twohy': 3,\n",
       " 'James Wan': 2,\n",
       " 'Alan Taylor': 2,\n",
       " 'Sam Mendes': 2,\n",
       " 'Joss Whedon': 2,\n",
       " 'Peyton Reed': 2,\n",
       " 'Brad Peyton': 2,\n",
       " 'Wes Ball': 2,\n",
       " 'Michael Mann': 2,\n",
       " 'Paul Feig': 2,\n",
       " 'Ron Howard': 2,\n",
       " 'Camille Delamarre': 2,\n",
       " 'Luc Besson': 2,\n",
       " 'Jonathan Liebesman': 2,\n",
       " 'Matt Reeves': 2,\n",
       " 'Marc Webb': 2,\n",
       " 'Evan Goldberg': 2,\n",
       " 'Seth Rogen': 2,\n",
       " 'Roger Donaldson': 2,\n",
       " 'J.C. Chandor': 2,\n",
       " 'Kenneth Branagh': 2,\n",
       " 'Scott Waugh': 2,\n",
       " 'Alex Proyas': 2,\n",
       " 'James McTeigue': 2,\n",
       " 'NimrÃ³d Antal': 2,\n",
       " 'Gavin Hood': 2,\n",
       " 'Sylvester Stallone': 2,\n",
       " 'Joseph Kosinski': 2,\n",
       " 'Edgar Wright': 2,\n",
       " 'Robert Schwentke': 2,\n",
       " 'James Mangold': 2,\n",
       " 'Neil Marshall': 2,\n",
       " 'Kevin Munroe': 2,\n",
       " 'Peter Howitt': 2,\n",
       " 'Frank Oz': 2,\n",
       " 'Joe Johnston': 2,\n",
       " 'Peter Hyams': 2,\n",
       " 'Timur Bekmambetov': 2,\n",
       " 'David Gordon Green': 2,\n",
       " 'Pete Travis': 2,\n",
       " 'Frank Miller': 2,\n",
       " 'Jason Friedberg': 2,\n",
       " 'Aaron Seltzer': 2,\n",
       " 'Rob Marshall': 2,\n",
       " 'Andrew Niccol': 2,\n",
       " 'Marcus Nispel': 2,\n",
       " 'Ruben Fleischer': 2,\n",
       " 'George Lucas': 2,\n",
       " 'Andrew Davis': 2,\n",
       " 'Walter Hill': 2,\n",
       " 'Rob Bowman': 2,\n",
       " 'Ang Lee': 2,\n",
       " 'Baltasar KormÃ¡kur': 2,\n",
       " 'Mark Steven Johnson': 2,\n",
       " 'F. Gary Gray': 2,\n",
       " 'David Dobkin': 2,\n",
       " 'Clark Johnson': 2,\n",
       " 'Richard Donner': 2,\n",
       " 'William Friedkin': 2,\n",
       " 'Francis Lawrence': 2,\n",
       " 'Courtney Solomon': 2,\n",
       " 'David R. Ellis': 2,\n",
       " 'David S. Goyer': 2,\n",
       " 'Colin Trevorrow': 1,\n",
       " 'George Miller': 1,\n",
       " 'Chris Columbus': 1,\n",
       " 'Christopher McQuarrie': 1,\n",
       " 'Ilya Naishuller': 1,\n",
       " 'Ericson Core': 1,\n",
       " 'Denis Villeneuve': 1,\n",
       " 'Josh Trank': 1,\n",
       " 'Aleksander Bach': 1,\n",
       " 'Andy Fickman': 1,\n",
       " 'John Erick Dowdle': 1,\n",
       " 'Anne Fletcher': 1,\n",
       " 'James Gunn': 1,\n",
       " 'Joe Russo': 1,\n",
       " 'Anthony Russo': 1,\n",
       " 'Chad Stahelski': 1,\n",
       " 'David Leitch': 1,\n",
       " 'Don Hall': 1,\n",
       " 'Chris Williams': 1,\n",
       " 'Neil Burger': 1,\n",
       " 'Gareth Edwards': 1,\n",
       " 'Robert Stromberg': 1,\n",
       " 'Dean DeBlois': 1,\n",
       " 'Patrick Hughes': 1,\n",
       " 'Gary Shore': 1,\n",
       " 'Noam Murro': 1,\n",
       " 'Vic Armstrong': 1,\n",
       " 'JosÃ© Padilha': 1,\n",
       " 'George Clooney': 1,\n",
       " 'Brian A Miller': 1,\n",
       " 'Steven Quale': 1,\n",
       " 'Adam Wingard': 1,\n",
       " 'James Cameron': 1,\n",
       " 'Patrick Tatopoulos': 1,\n",
       " 'Shane Acker': 1,\n",
       " 'Steve Carr': 1,\n",
       " 'Christian Alvart': 1,\n",
       " 'Hoyt Yeatman': 1,\n",
       " 'Kevin Macdonald': 1,\n",
       " 'Michael Spierig': 1,\n",
       " 'Peter Spierig': 1,\n",
       " 'Paul McGuigan': 1,\n",
       " 'Troy Duffy': 1,\n",
       " 'Paul Weitz': 1,\n",
       " 'David Bowers': 1,\n",
       " 'Daniel Barber': 1,\n",
       " 'Michael J. Bassett': 1,\n",
       " 'Pierre Coffin': 1,\n",
       " 'Chris Renaud': 1,\n",
       " 'Phillip Noyce': 1,\n",
       " 'Florian Henckel von Donnersmarck': 1,\n",
       " 'Mike Newell': 1,\n",
       " 'Ethan Maniquis': 1,\n",
       " 'Albert Hughes': 1,\n",
       " 'Allen Hughes': 1,\n",
       " 'Tom McGrath': 1,\n",
       " 'Adam McKay': 1,\n",
       " 'Miguel Sapochnik': 1,\n",
       " 'Andy Tennant': 1,\n",
       " 'Jonathan Lynn': 1,\n",
       " 'Jimmy Hayward': 1,\n",
       " 'Robert Luketic': 1,\n",
       " 'John Luessenhop': 1,\n",
       " 'Kevin Smith': 1,\n",
       " 'Jorma Taccone': 1,\n",
       " 'Brian Levant': 1,\n",
       " 'Stuart Beattie': 1,\n",
       " 'Tim Burton': 1,\n",
       " 'Brian Helgeland': 1,\n",
       " 'John A. Davis': 1,\n",
       " 'Chris Nahon': 1,\n",
       " 'Hironobu Sakaguchi': 1,\n",
       " 'Motonori Sakakibara': 1,\n",
       " 'Rod Lurie': 1,\n",
       " 'John Herzfeld': 1,\n",
       " 'Ivan Reitman': 1,\n",
       " 'Demian Lichtenstein': 1,\n",
       " 'John Carpenter': 1,\n",
       " 'Bobby Farrelly': 1,\n",
       " 'Peter Farrelly': 1,\n",
       " 'Barry Levinson': 1,\n",
       " 'Luke Greenfield': 1,\n",
       " 'Les Mayfield': 1,\n",
       " 'Henry Selick': 1,\n",
       " 'Rob Pritts': 1,\n",
       " 'Ernest R. Dickerson': 1,\n",
       " 'DJ Pooh': 1,\n",
       " 'Eric Brevig': 1,\n",
       " 'Ben Stiller': 1,\n",
       " 'Jeff Wadlow': 1,\n",
       " 'Lexi Alexander': 1,\n",
       " 'Peter Segal': 1,\n",
       " 'Mathieu Kassovitz': 1,\n",
       " 'Rob Minkoff': 1,\n",
       " 'Jon Avnet': 1,\n",
       " 'Dennis Dugan': 1,\n",
       " 'Howard McCain': 1,\n",
       " 'Oxide Pang Chun': 1,\n",
       " 'Danny Pang': 1,\n",
       " 'Craig Mazin': 1,\n",
       " 'Simon Hunter': 1,\n",
       " 'Nicolas Winding Refn': 1,\n",
       " 'Rupert Wyatt': 1,\n",
       " 'Patrick Lussier': 1,\n",
       " 'Gary McKendry': 1,\n",
       " 'Scott Stewart': 1,\n",
       " 'Tarsem Singh': 1,\n",
       " 'Chris Gorak': 1,\n",
       " 'Chris Miller': 1,\n",
       " 'Michel Gondry': 1,\n",
       " 'Oliver Parker': 1,\n",
       " 'Joe Cornish': 1,\n",
       " 'Joe Wright': 1,\n",
       " 'John Michael McDonagh': 1,\n",
       " 'Alister Grierson': 1,\n",
       " 'Sean McNamara': 1,\n",
       " 'John Whitesell': 1,\n",
       " 'Benny Chan': 1,\n",
       " 'Corey Yuen Kwai': 1,\n",
       " 'Stuart Baird': 1,\n",
       " 'Kurt Wimmer': 1,\n",
       " 'Jay Roach': 1,\n",
       " 'Jim Gillespie': 1,\n",
       " 'Chuck Russell': 1,\n",
       " 'Betty Thomas': 1,\n",
       " 'Randall Wallace': 1,\n",
       " 'Ron Shelton': 1,\n",
       " 'Simon Wells': 1,\n",
       " 'Roger Michell': 1,\n",
       " 'Michael Apted': 1,\n",
       " 'Tom Dey': 1,\n",
       " 'Joel Schumacher': 1,\n",
       " 'Luis Mandoki': 1,\n",
       " 'Tamra Davis': 1,\n",
       " 'Ron Underwood': 1,\n",
       " 'Kevin Bray': 1,\n",
       " 'Malcolm D. Lee': 1,\n",
       " 'MÃ¥ns MÃ¥rlind': 1,\n",
       " 'BjÃ¶rn Stein': 1,\n",
       " 'Tony Gilroy': 1,\n",
       " 'Mark Andrews': 1,\n",
       " 'Steve Purcell': 1,\n",
       " 'Brenda Chapman': 1,\n",
       " 'Boaz Yakin': 1,\n",
       " 'Andrew Stanton': 1,\n",
       " 'Rian Johnson': 1,\n",
       " 'Mike McCoy': 1,\n",
       " 'Stephen St. Leger': 1,\n",
       " 'James Mather': 1,\n",
       " 'Daniel Espinosa': 1,\n",
       " 'Asger Leth': 1,\n",
       " 'Mabrouk El Mechri': 1,\n",
       " 'Dan Bradley': 1,\n",
       " 'Julie Anne Robinson': 1,\n",
       " 'Anthony Hemingway': 1,\n",
       " 'David Koepp': 1,\n",
       " 'David Barrett': 1,\n",
       " 'Stephen Norrington': 1,\n",
       " 'Jan de Bont': 1,\n",
       " 'Jon Amiel': 1,\n",
       " 'John McTiernan': 1,\n",
       " 'Shane Black': 1,\n",
       " 'Tommy Wirkola': 1,\n",
       " 'Carl Rinsch': 1,\n",
       " 'Gary Fleder': 1,\n",
       " 'Mikael HÃ¥fstrÃ¶m': 1,\n",
       " 'Taylor Hackford': 1,\n",
       " 'Steven Knight': 1,\n",
       " 'Spike Lee': 1,\n",
       " 'Dito Montiel': 1,\n",
       " 'Keanu Reeves': 1,\n",
       " 'Fyodor Bondarchuk': 1,\n",
       " 'Karyn Kusama': 1,\n",
       " 'Adam Shankman': 1,\n",
       " 'John Stockwell': 1,\n",
       " 'Sydney Pollack': 1,\n",
       " 'Terry Gilliam': 1,\n",
       " 'Jay Chandrasekhar': 1,\n",
       " 'Richard Shepard': 1,\n",
       " 'John Dahl': 1,\n",
       " 'Bruce Hunt': 1,\n",
       " 'Alfonso CuarÃ³n': 1,\n",
       " 'Stefen Fangmeier': 1,\n",
       " 'Mel Gibson': 1,\n",
       " 'Bruce Beresford': 1,\n",
       " 'Wolfgang Petersen': 1,\n",
       " 'Jeff Tremaine': 1,\n",
       " 'John Bonito': 1,\n",
       " 'Geoffrey Sax': 1,\n",
       " 'Tony Bill': 1,\n",
       " 'Wayne Kramer': 1,\n",
       " 'Sanjay Gadhvi': 1,\n",
       " 'Phil Joanou': 1,\n",
       " 'Alexander Witt': 1,\n",
       " 'Bibo Bergeron': 1,\n",
       " 'Vicky Jenson': 1,\n",
       " 'Rob Letterman': 1,\n",
       " 'Kerry Conran': 1,\n",
       " 'Oliver Stone': 1,\n",
       " 'Jonathan Hensleigh': 1,\n",
       " 'Pitof': 1,\n",
       " 'Philip Kaufman': 1,\n",
       " 'Trey Parker': 1,\n",
       " 'Steven Brill': 1,\n",
       " 'Frank Coraci': 1,\n",
       " 'Paul Abascal': 1,\n",
       " 'Joseph Kahn': 1,\n",
       " 'David Mamet': 1,\n",
       " 'Jay Russell': 1,\n",
       " 'Robert Redford': 1,\n",
       " 'Philip G. Atwell': 1,\n",
       " 'Michael Davis': 1,\n",
       " 'Xavier Gens': 1,\n",
       " 'Eli Roth': 1,\n",
       " 'Rob Zombie': 1,\n",
       " 'Jason Eisener': 1,\n",
       " 'Dave Meyers': 1,\n",
       " 'Russell Mulcahy': 1,\n",
       " 'Andrew Dominik': 1,\n",
       " 'Doug Lefler': 1,\n",
       " 'David Leland': 1,\n",
       " 'Feng Xiaogang': 1,\n",
       " 'Ben Garant': 1,\n",
       " 'Joel Coen': 1,\n",
       " 'Donald Petrie': 1,\n",
       " 'Paul Verhoeven': 1,\n",
       " 'Roger Spottiswoode': 1,\n",
       " 'Antony Hoffman': 1,\n",
       " 'Stephen T. Kay': 1,\n",
       " 'Don Bluth': 1,\n",
       " 'Gary Goldman': 1,\n",
       " 'Christian Duguay': 1,\n",
       " 'Douglas Aarniokoski': 1,\n",
       " 'Gina Prince-Bythewood': 1,\n",
       " 'Brian Robbins': 1,\n",
       " 'Des McAnuff': 1}"
      ]
     },
     "execution_count": 76,
     "metadata": {},
     "output_type": "execute_result"
    }
   ],
   "source": [
    "# counting using collections.Counter\n",
    "dir_count = Counter()\n",
    "\n",
    "for director in directors:\n",
    "    dir_count[director] += 1\n",
    "\n",
    "dir_count_sorted = {\n",
    "    key: value for key, value in sorted(dir_count.items(), key=lambda item: item[1], reverse=True)\n",
    "}\n",
    "dir_count_sorted"
   ]
  },
  {
   "cell_type": "markdown",
   "metadata": {},
   "source": [
    "b) Using Series.value_counts()"
   ]
  },
  {
   "cell_type": "code",
   "execution_count": 77,
   "metadata": {},
   "outputs": [
    {
     "data": {
      "text/plain": [
       "Robert Rodriguez         9\n",
       "Paul W.S. Anderson       7\n",
       "Michael Bay              7\n",
       "Ridley Scott             6\n",
       "Antoine Fuqua            6\n",
       "                        ..\n",
       "Vicky Jenson             1\n",
       "Nicolas Winding Refn     1\n",
       "Anthony Hemingway        1\n",
       "Corey Yuen Kwai          1\n",
       "Christopher McQuarrie    1\n",
       "Length: 364, dtype: int64"
      ]
     },
     "execution_count": 77,
     "metadata": {},
     "output_type": "execute_result"
    }
   ],
   "source": [
    "# counting using pd.Series.value_counts()\n",
    "directors = pd.Series(directors)\n",
    "\n",
    "directors.value_counts(ascending=False)"
   ]
  },
  {
   "cell_type": "markdown",
   "metadata": {},
   "source": [
    "Second method with value_counts() is preferable."
   ]
  },
  {
   "cell_type": "markdown",
   "metadata": {
    "colab_type": "text",
    "id": "PQ0KciD7Vp_f"
   },
   "source": [
    "# 15. Фильмы с каким актером принесли самые высокие кассовые сборы в 2012 году? "
   ]
  },
  {
   "cell_type": "code",
   "execution_count": 17,
   "metadata": {
    "colab": {},
    "colab_type": "code",
    "id": "aga62oeKVp_g"
   },
   "outputs": [],
   "source": [
    "answers['15'] = 'Chris Hemsworth'"
   ]
  },
  {
   "cell_type": "code",
   "execution_count": 78,
   "metadata": {},
   "outputs": [],
   "source": [
    "data_2012 = data[data['release_year'] == 2012]"
   ]
  },
  {
   "cell_type": "markdown",
   "metadata": {},
   "source": [
    "* FIRST METHOD - Using collections.Counter()"
   ]
  },
  {
   "cell_type": "code",
   "execution_count": 81,
   "metadata": {},
   "outputs": [
    {
     "data": {
      "text/plain": [
       "[('Chris Hemsworth', 2027450773),\n",
       " ('Denis Leary', 1629460639),\n",
       " ('Anne Hathaway', 1522851057),\n",
       " ('Robert Downey Jr.', 1519557910),\n",
       " ('Chris Evans', 1519557910),\n",
       " ('Mark Ruffalo', 1519557910),\n",
       " ('Scarlett Johansson', 1519557910),\n",
       " ('Ralph Fiennes', 1409561013),\n",
       " ('Sacha Baron Cohen', 1368110577),\n",
       " ('Kristen Stewart', 1234384318),\n",
       " ('Emma Thompson', 1163009983),\n",
       " ('Tom Hardy', 1134717867),\n",
       " ('Seann William Scott', 1112234366),\n",
       " ('Daniel Craig', 1108561013),\n",
       " ('Judi Dench', 1108561013),\n",
       " ('Javier Bardem', 1108561013),\n",
       " ('Naomie Harris', 1108561013),\n",
       " ('Josh Hutcherson', 1091710235),\n",
       " ('Christian Bale', 1081041287),\n",
       " ('Michael Caine', 1081041287),\n",
       " ('Gary Oldman', 1081041287),\n",
       " ('Ian McKellen', 1017003568),\n",
       " ('Martin Freeman', 1017003568),\n",
       " ('Richard Armitage', 1017003568),\n",
       " ('Andy Serkis', 1017003568),\n",
       " ('Cate Blanchett', 1017003568),\n",
       " ('John Leguizamo', 914138503),\n",
       " ('Jennifer Lawrence', 896949406),\n",
       " ('Ray Romano', 877244782),\n",
       " ('Chris Wedge', 877244782),\n",
       " ('Robert Pattinson', 835063556),\n",
       " ('Elizabeth Banks', 829566659),\n",
       " ('Taylor Lautner', 829000000),\n",
       " ('Peter Facinelli', 829000000),\n",
       " ('Elizabeth Reaser', 829000000),\n",
       " ('Rhys Ifans', 806125608),\n",
       " ('Charlize Theron', 799770142),\n",
       " ('Frances McDormand', 755060062),\n",
       " ('Andrew Garfield', 752215857),\n",
       " ('Emma Stone', 752215857),\n",
       " ('Martin Sheen', 752215857),\n",
       " ('Hugh Jackman', 748751440),\n",
       " ('Ben Stiller', 746921274),\n",
       " ('David Schwimmer', 746921274),\n",
       " ('Chris Rock', 746921274),\n",
       " ('Tommy Lee Jones', 738307827),\n",
       " ('Woody Harrelson', 710632953),\n",
       " ('Liam Hemsworth', 691210692),\n",
       " ('Liam Neeson', 677141306),\n",
       " ('Taylor Kitsch', 634164585),\n",
       " ('Will Smith', 624026776),\n",
       " ('Josh Brolin', 624026776),\n",
       " ('Michael Stuhlbarg', 624026776),\n",
       " ('Mark Wahlberg', 612468315),\n",
       " ('Giovanni Ribisi', 612468315),\n",
       " ('Suraj Sharma', 609016565),\n",
       " ('Irrfan Khan', 609016565),\n",
       " ('Ayush Tandon', 609016565),\n",
       " ('Gautam Belur', 609016565),\n",
       " ('Adil Hussain', 609016565),\n",
       " ('Billy Connolly', 598503505),\n",
       " ('Channing Tatum', 598294075),\n",
       " ('Mila Kunis', 549368315),\n",
       " ('Seth MacFarlane', 549368315),\n",
       " ('Joel McHale', 549368315),\n",
       " ('Bryan Cranston', 540910192),\n",
       " ('Kelly Macdonald', 538983207),\n",
       " ('Julie Walters', 538983207),\n",
       " ('Kevin McKidd', 538983207),\n",
       " ('Jane Lynch', 526042190),\n",
       " ('Rosamund Pike', 519340595),\n",
       " ('Guy Pearce', 489050752),\n",
       " ('John C. Reilly', 471222889),\n",
       " ('Sarah Silverman', 471222889),\n",
       " ('Jack McBrayer', 471222889),\n",
       " ('Jamie Elman', 471222889),\n",
       " ('Bruce Willis', 449378341),\n",
       " ('Kerry Washington', 447412515),\n",
       " ('Russell Crowe', 441809770),\n",
       " ('Amanda Seyfried', 441809770),\n",
       " ('Michael Fassbender', 436542748),\n",
       " ('Jamie Foxx', 425368238),\n",
       " ('Christoph Waltz', 425368238),\n",
       " ('Leonardo DiCaprio', 425368238),\n",
       " ('Samuel L. Jackson', 425368238),\n",
       " ('Mark Strong', 416959816),\n",
       " ('Adam Sandler', 416433970),\n",
       " ('CiarÃ¡n Hinds', 411869836),\n",
       " ('Maggie Grace', 408345336),\n",
       " ('Noomi Rapace', 403170142),\n",
       " ('Idris Elba', 403170142),\n",
       " ('Sam Claflin', 396600000),\n",
       " ('Ian McShane', 396600000),\n",
       " ('Kate Beckinsale', 394302074),\n",
       " ('Brooklyn Decker', 382725485),\n",
       " ('Famke Janssen', 376141306),\n",
       " ('Rade Serbedzija', 376141306),\n",
       " ('Luke Grimes', 376141306),\n",
       " ('Alec Baldwin', 366360283),\n",
       " ('Steve Buscemi', 358375603),\n",
       " ('David Spade', 358375603),\n",
       " ('Kevin James', 358375603),\n",
       " ('Selena Gomez', 358375603),\n",
       " ('Brendan Gleeson', 356072317),\n",
       " ('Dwayne Johnson', 355692760),\n",
       " ('Kristin Davis', 355692760),\n",
       " ('Vanessa Hudgens', 355692760),\n",
       " ('Luis GuzmÃ¡n', 355692760),\n",
       " ('Jason Statham', 352919609),\n",
       " ('Anna Kendrick', 350316209),\n",
       " ('Zac Efron', 348840316),\n",
       " ('Danny DeVito', 348840316),\n",
       " ('Taylor Swift', 348840316),\n",
       " ('Ed Helms', 348840316),\n",
       " ('Rob Riggle', 348840316),\n",
       " ('Sam Worthington', 347221189),\n",
       " ('Edward Norton', 344836104),\n",
       " ('Chris Pine', 319376448),\n",
       " ('Sylvester Stallone', 312573423),\n",
       " ('Dolph Lundgren', 312573423),\n",
       " ('Arnold Schwarzenegger', 312573423),\n",
       " ('Jude Law', 306941670),\n",
       " ('Isla Fisher', 306941670),\n",
       " ('Alexander SkarsgÃ¥rd', 303025485),\n",
       " ('Rihanna', 303025485),\n",
       " ('Tadanobu Asano', 303025485),\n",
       " ('Edgar RamÃ\\xadrez', 301000000),\n",
       " ('Lynn Collins', 284139100),\n",
       " ('Willem Dafoe', 284139100),\n",
       " ('Tom Cruise', 277759208),\n",
       " ('Jeremy Renner', 276572938),\n",
       " ('Rachel Weisz', 276572938),\n",
       " ('Scott Glenn', 276572938),\n",
       " ('Stacy Keach', 276572938),\n",
       " ('David Oyelowo', 268705972),\n",
       " ('Megan Fox', 267438319),\n",
       " ('Michelle Pfeiffer', 257961927),\n",
       " ('Johnny Depp', 245527149),\n",
       " ('Helena Bonham Carter', 245527149),\n",
       " ('Jackie Earle Haley', 245527149),\n",
       " ('Jonny Lee Miller', 245527149),\n",
       " ('Milla Jovovich', 240159255),\n",
       " ('Sienna Guillory', 240159255),\n",
       " ('Michelle Rodriguez', 240159255),\n",
       " ('Aryana Engineer', 240159255),\n",
       " ('Li Bingbing', 240159255),\n",
       " ('Jason Biggs', 234989584),\n",
       " ('Alyson Hannigan', 234989584),\n",
       " ('Chris Klein', 234989584),\n",
       " ('Thomas Ian Nicholas', 234989584),\n",
       " ('Ben Affleck', 232324128),\n",
       " ('Alan Arkin', 232324128),\n",
       " ('John Goodman', 232324128),\n",
       " ('Victor Garber', 232324128),\n",
       " ('Michael Ealy', 228470507),\n",
       " ('Bradley Cooper', 218970175),\n",
       " ('Richard Jenkins', 218340595),\n",
       " ('Werner Herzog', 218340595),\n",
       " ('Colin Farrell', 218224335),\n",
       " ('Ewan McGregor', 213646729),\n",
       " ('Denzel Washington', 208076205),\n",
       " ('Ryan Reynolds', 208076205),\n",
       " ('Vera Farmiga', 208076205),\n",
       " ('Joel Kinnaman', 208076205),\n",
       " ('Robert De Niro', 205738714),\n",
       " ('Jacki Weaver', 205738714),\n",
       " ('Chris Tucker', 205738714),\n",
       " ('Jonah Hill', 201585328),\n",
       " ('Brie Larson', 201585328),\n",
       " ('Dave Franco', 201585328),\n",
       " ('Ellie Kemper', 201585328),\n",
       " ('Jessica Biel', 198802074),\n",
       " ('Bill Nighy', 198802074),\n",
       " ('Rachel McAdams', 196114570),\n",
       " ('Sam Neill', 196114570),\n",
       " ('Scott Speedman', 196114570),\n",
       " ('Jessica Lange', 196114570),\n",
       " ('Chris Pratt', 186730467),\n",
       " ('Jessica Chastain', 186497296),\n",
       " ('Julia Roberts', 183018522),\n",
       " ('Lily Collins', 183018522),\n",
       " ('Armie Hammer', 183018522),\n",
       " ('Nathan Lane', 183018522),\n",
       " ('Martin Klebba', 183018522),\n",
       " ('Naomi Watts', 180274123),\n",
       " ('Tom Holland', 180274123),\n",
       " ('Samuel Joslin', 180274123),\n",
       " ('Oaklee Pendergast', 180274123),\n",
       " ('Sayed Badreya', 179379533),\n",
       " ('Aasif Mandvi', 179379533),\n",
       " ('Anna Faris', 179379533),\n",
       " ('Matthew McConaughey', 167221571),\n",
       " ('Olivia Munn', 167221571),\n",
       " ('Cody Horn', 167221571),\n",
       " ('Alex Pettyfer', 167221571),\n",
       " ('Salma Hayek', 165338361),\n",
       " ('Paul Rudd', 145618720),\n",
       " ('Dane DeHaan', 145000000),\n",
       " ('Alex Russell', 145000000),\n",
       " ('Michael B. Jordan', 145000000),\n",
       " ('Michael Kelly', 145000000),\n",
       " ('Anna Wood', 145000000),\n",
       " ('Katie Featherston', 142817992),\n",
       " ('Kathryn Newton', 142817992),\n",
       " ('Matt Shively', 142817992),\n",
       " ('Brady Allen', 142817992),\n",
       " ('Sprague Grayden', 142817992),\n",
       " ('Jason Segel', 141968537),\n",
       " ('Kathryn McCormick', 140470746),\n",
       " ('Ryan Guzman', 140470746),\n",
       " ('Stephen Boss', 140470746),\n",
       " ('Megan Boone', 140470746),\n",
       " ('Jessica Guadix', 140470746),\n",
       " ('Jim Sturgess', 138589343),\n",
       " ('Jason Clarke', 132820716),\n",
       " ('Joel Edgerton', 132820716),\n",
       " ('Stephen Rea', 132400000),\n",
       " ('Theo James', 132400000),\n",
       " ('India Eisley', 132400000),\n",
       " ('Tom Hanks', 130482868),\n",
       " ('Halle Berry', 130482868),\n",
       " ('Jim Broadbent', 130482868),\n",
       " ('Hugo Weaving', 130482868),\n",
       " ('Jeffrey Dean Morgan', 130252858),\n",
       " ('Daniel Radcliffe', 127730736),\n",
       " ('Sidney Johnston', 127730736),\n",
       " ('Alisa Khazanova', 127730736),\n",
       " ('Mary Stockley', 127730736),\n",
       " ('Billy Crystal', 119772232),\n",
       " ('Bette Midler', 119772232),\n",
       " ('Marisa Tomei', 119772232),\n",
       " ('Tom Everett Scott', 119772232),\n",
       " ('Bailee Madison', 119772232),\n",
       " ('Hugh Grant', 118338361),\n",
       " ('Jeremy Piven', 118338361),\n",
       " ('Brian Blessed', 118338361),\n",
       " ('Skylar Astin', 115350426),\n",
       " ('Brittany Snow', 115350426),\n",
       " ('Anna Camp', 115350426),\n",
       " ('Rebel Wilson', 115350426),\n",
       " ('Meryl Streep', 114281051),\n",
       " ('Steve Carell', 114281051),\n",
       " ('Jean Smart', 114281051),\n",
       " ('Marin Ireland', 114281051),\n",
       " ('Benjamin Walker', 112265139),\n",
       " ('Dominic Cooper', 112265139),\n",
       " ('Anthony Mackie', 112265139),\n",
       " ('Mary Elizabeth Winstead', 112265139),\n",
       " ('Rufus Sewell', 112265139),\n",
       " ('Kodi Smit-McPhee', 107139399),\n",
       " ('Tucker Albrizzi', 107139399),\n",
       " ('Jodelle Ferland', 107139399),\n",
       " ('Casey Affleck', 107139399),\n",
       " ('Emily Blunt', 100951751),\n",
       " ('Oliver Cooper', 100000000),\n",
       " ('Jonathan Daniel Brown', 100000000),\n",
       " ('Thomas Mann', 100000000),\n",
       " ('Dax Flame', 100000000),\n",
       " ('Kirby Bliss Blanton', 100000000),\n",
       " ('Jerry Ferrara', 96070507),\n",
       " ('Meagan Good', 96070507),\n",
       " ('Regina Hall', 96070507),\n",
       " ('Kevin Hart', 96070507),\n",
       " ('Susan Sarandon', 93543423),\n",
       " ('Leslie Mann', 88058786),\n",
       " ('Maude Apatow', 88058786),\n",
       " ('Natasha Calis', 85446075),\n",
       " ('Madison Davenport', 85446075),\n",
       " ('Kyra Sedgwick', 85446075),\n",
       " ('Rob LaBelle', 85446075),\n",
       " ('Charlie Tahan', 81491068),\n",
       " ('Winona Ryder', 81491068),\n",
       " (\"Catherine O'Hara\", 81491068),\n",
       " ('Martin Short', 81491068),\n",
       " ('Martin Landau', 81491068),\n",
       " ('Roselyn SÃ¡nchez', 81272766),\n",
       " ('Emilio Rivera', 81272766),\n",
       " ('Nestor Serrano', 81272766),\n",
       " ('Gonzalo Menendez', 81272766),\n",
       " ('Alexander Asefa', 81272766),\n",
       " ('Cameron Diaz', 79700000),\n",
       " ('Jennifer Lopez', 79700000),\n",
       " ('Joseph Gordon-Levitt', 78125599),\n",
       " ('Devon Bostick', 77112176),\n",
       " ('Steve Zahn', 77112176),\n",
       " ('Peyton List', 77112176),\n",
       " ('Rachael Harris', 77112176),\n",
       " ('Zachary Gordon', 77112176),\n",
       " ('Jared Gilman', 68263166),\n",
       " ('Kara Hayward', 68263166),\n",
       " ('Bill Murray', 68263166),\n",
       " ('Kristen Connolly', 66486080),\n",
       " ('Anna Hutchison', 66486080),\n",
       " ('Fran Kranz', 66486080),\n",
       " ('Jesse Williams', 66486080),\n",
       " ('Ben Foster', 63100000),\n",
       " ('J.K. Simmons', 63100000),\n",
       " ('Maggie Smith', 59520298),\n",
       " ('Tom Courtenay', 59520298),\n",
       " ('Pauline Collins', 59520298),\n",
       " ('Michael Gambon', 59520298),\n",
       " ('Diego Boneta', 59418613),\n",
       " ('Julianne Hough', 59418613),\n",
       " ('Eva Amurri Martino', 58058367),\n",
       " ('Leighton Meester', 58058367),\n",
       " ('Andy Samberg', 58058367),\n",
       " ('Sean Hayes', 54819301),\n",
       " ('Will Sasso', 54819301),\n",
       " ('Chris Diamantopoulos', 54819301),\n",
       " ('SofÃ\\xada Vergara', 54819301),\n",
       " ('Alison Brie', 53909751),\n",
       " ('Shia LaBeouf', 53676580),\n",
       " ('Mia Wasikowska', 53676580),\n",
       " ('Adelaide Clemens', 52302796),\n",
       " ('Kit Harington', 52302796),\n",
       " ('Sean Bean', 52302796),\n",
       " ('Carrie-Anne Moss', 52302796),\n",
       " ('Radha Mitchell', 52302796),\n",
       " ('Cuba Gooding Jr.', 50365377),\n",
       " ('Daniela Ruah', 50365377),\n",
       " ('Terrence Howard', 50365377),\n",
       " ('Jake Gyllenhaal', 48126384),\n",
       " ('Michael PeÃ±a', 48126384),\n",
       " ('Natalie Martinez', 48126384),\n",
       " ('David Harbour', 48126384),\n",
       " ('Paul Dano', 47042000),\n",
       " ('Noah Segan', 47042000),\n",
       " ('Blake Lively', 47000000),\n",
       " ('Aaron Taylor-Johnson', 47000000),\n",
       " ('Benicio del Toro', 47000000),\n",
       " ('Jamie Bell', 46221189),\n",
       " ('Ed Harris', 46221189),\n",
       " ('Edward Burns', 46221189),\n",
       " ('Isabel Lucas', 44806783),\n",
       " ('Adrianne Palicki', 44806783),\n",
       " ('Karl Urban', 41037742),\n",
       " ('Olivia Thirlby', 41037742),\n",
       " ('Lena Headey', 41037742),\n",
       " ('Wood Harris', 41037742),\n",
       " ('Jason Cope', 41037742),\n",
       " ('Chris Sarandon', 40346186),\n",
       " ('James Hong', 40346186),\n",
       " ('Catherine Chan', 40346186),\n",
       " ('Robert John Burke', 40346186),\n",
       " ('Brad Pitt', 37930465),\n",
       " ('Scoot McNairy', 37930465),\n",
       " ('Ben Mendelsohn', 37930465),\n",
       " ('James Gandolfini', 37930465),\n",
       " ('Ray Liotta', 37930465),\n",
       " ('Katherine Heigl', 36893721),\n",
       " ('Debbie Reynolds', 36893721),\n",
       " ('Sherri Shepherd', 36893721),\n",
       " ('Patrick Fischler', 36893721),\n",
       " ('Richard Gere', 35485056),\n",
       " ('Tim Roth', 35485056),\n",
       " ('Brit Marling', 35485056),\n",
       " ('Monica Raymund', 35485056),\n",
       " ('Logan Lerman', 33400000),\n",
       " ('Emma Watson', 33400000),\n",
       " ('Ezra Miller', 33400000),\n",
       " ('Nina Dobrev', 33400000),\n",
       " ('Gina Carano', 33372606),\n",
       " ('Bill Paxton', 33372606),\n",
       " ('John Krasinski', 32858003),\n",
       " ('Katy Perry', 32726956),\n",
       " ('Russell Brand', 32726956),\n",
       " ('Shannon Woodward', 32726956),\n",
       " ('Rachael Markarian', 32726956),\n",
       " ('Mia Moretti', 32726956),\n",
       " ('Joseph Gilgun', 32204030),\n",
       " ('Lennie James', 32204030),\n",
       " ('Peter Stormare', 32204030),\n",
       " ('Michael Shannon', 31083599),\n",
       " ('Dania Ramirez', 31083599),\n",
       " ('Jamie Chung', 31083599),\n",
       " ('WolÃ© Parks', 31083599),\n",
       " ('Tyler Perry', 30353232),\n",
       " ('Rachel Nichols', 30353232),\n",
       " ('Jean Reno', 30353232),\n",
       " ('Matthew Fox', 30353232),\n",
       " ('Giancarlo Esposito', 30353232),\n",
       " ('John Cusack', 29657751),\n",
       " ('Luke Evans', 29657751),\n",
       " ('Alice Eve', 29657751),\n",
       " ('Kevin McNally', 29657751),\n",
       " ('Joaquin Phoenix', 28258060),\n",
       " ('Philip Seymour Hoffman', 28258060),\n",
       " ('Amy Adams', 28258060),\n",
       " ('Laura Dern', 28258060),\n",
       " ('Jesse Plemons', 28258060),\n",
       " ('Malin Ã…kerman', 26266491),\n",
       " ('Olivia Wilde', 25666239),\n",
       " ('Drew Barrymore', 24719215),\n",
       " ('Kristen Bell', 24719215),\n",
       " ('Vinessa Shaw', 24719215),\n",
       " ('Dermot Mulroney', 24719215),\n",
       " ('Whitney Houston', 24637469),\n",
       " ('Cee Lo Green', 24637469),\n",
       " ('Derek Luke', 24637469),\n",
       " ('Mike Epps', 24637469),\n",
       " ('Carmen Ejogo', 24637469),\n",
       " ('Jennifer Aniston', 24159934),\n",
       " ('Justin Theroux', 24159934),\n",
       " ('Lauren Ambrose', 24159934),\n",
       " ('Eddie Murphy', 22044277),\n",
       " ('Allison Janney', 22044277),\n",
       " ('Cliff Curtis', 22044277),\n",
       " ('Clark Duke', 22044277),\n",
       " ('Sam Rockwell', 19422261),\n",
       " ('Christopher Walken', 19422261),\n",
       " ('Abbie Cornish', 19422261),\n",
       " ('Kirsten Dunst', 16890793),\n",
       " ('Henry Cavill', 16863583),\n",
       " ('VerÃ³nica Echegui', 16863583),\n",
       " ('Sigourney Weaver', 16863583),\n",
       " ('Caroline Goodall', 16863583),\n",
       " ('Zoe Saldana', 13231461),\n",
       " ('Jeremy Irons', 13231461),\n",
       " ('Dennis Quaid', 13231461),\n",
       " ('Mark Duplass', 12434778),\n",
       " ('Victoria Justice', 11417362),\n",
       " ('Jackson Nicoll', 11417362),\n",
       " ('Chelsea Handler', 11417362),\n",
       " ('Josh Pence', 11417362),\n",
       " ('Jane Levy', 11417362),\n",
       " ('Ashley Greene', 9627492),\n",
       " ('Sebastian Stan', 9627492),\n",
       " ('Tom Felton', 9627492),\n",
       " ('Julianna Guill', 9627492),\n",
       " ('Luke Pasqualino', 9627492),\n",
       " ('Eva Longoria', 9622846),\n",
       " ('Andy GarcÃ\\xada', 9622846),\n",
       " ('Oscar Isaac', 9622846),\n",
       " (\"Peter O'Toole\", 9622846),\n",
       " ('RubÃ©n Blades', 9622846),\n",
       " ('Garrett Hedlund', 8784318),\n",
       " ('Sam Riley', 8784318),\n",
       " ('Tom Sturridge', 8784318),\n",
       " ('Danielle Panabaker', 8493728),\n",
       " ('Matt Bush', 8493728),\n",
       " ('Katrina Bowden', 8493728),\n",
       " ('Jean-Luc Bilodeau', 8493728),\n",
       " ('David Koechner', 8493728),\n",
       " ('Matt Damon', 8138788),\n",
       " ('Rosemarie DeWitt', 8138788),\n",
       " ('Lucas Black', 8138788),\n",
       " ('Timothy Spall', 8106475),\n",
       " ('James Kidnie', 8106475),\n",
       " ('Heidi Hawkins', 8106475),\n",
       " ('Sarah Gadon', 6063556),\n",
       " ('Juliette Binoche', 6063556),\n",
       " ('Paul Giamatti', 6063556),\n",
       " ('Samantha Morton', 6063556),\n",
       " ('Josh Duhamel', 4636169),\n",
       " ('Rosario Dawson', 4636169),\n",
       " (\"Vincent D'Onofrio\", 4636169),\n",
       " ('50 Cent', 4636169),\n",
       " ('Jason Bateman', 3428048),\n",
       " ('Hope Davis', 3428048),\n",
       " ('Frank Grillo', 3428048),\n",
       " ('Paula Patton', 3428048),\n",
       " ('Michael Nyqvist', 3428048),\n",
       " ('Nicolas Cage', 2106557),\n",
       " ('Josh Lucas', 2106557),\n",
       " ('Sami Gayle', 2106557),\n",
       " ('Danny Huston', 2106557)]"
      ]
     },
     "execution_count": 81,
     "metadata": {},
     "output_type": "execute_result"
    }
   ],
   "source": [
    "actor_revenue_count = Counter()\n",
    "\n",
    "data_2012.apply(actor_revenue, axis=1)\n",
    "\n",
    "actor_revenue_count = sorted(actor_revenue_count.items(), key=lambda item: item[1], reverse=True) # sorting dict to list of tuples\n",
    "actor_revenue_count"
   ]
  },
  {
   "cell_type": "markdown",
   "metadata": {},
   "source": [
    "* SECOND METHOD - Using pd.Series.value_counts()"
   ]
  },
  {
   "cell_type": "code",
   "execution_count": 82,
   "metadata": {},
   "outputs": [
    {
     "data": {
      "text/plain": [
       "Chris Hemsworth       2027450773\n",
       "Denis Leary           1629460639\n",
       "Anne Hathaway         1522851057\n",
       "Scarlett Johansson    1519557910\n",
       "Chris Evans           1519557910\n",
       "                         ...    \n",
       "Jason Bateman            3428048\n",
       "Danny Huston             2106557\n",
       "Sami Gayle               2106557\n",
       "Nicolas Cage             2106557\n",
       "Josh Lucas               2106557\n",
       "Length: 466, dtype: int64"
      ]
     },
     "execution_count": 82,
     "metadata": {},
     "output_type": "execute_result"
    }
   ],
   "source": [
    "cast = pd.Series(data_2012['cast'].sum())\n",
    "cast = cast.value_counts(ascending=False)\n",
    "\n",
    "for actor in cast.index:\n",
    "    cast[actor] = data_2012[data_2012['cast'].map(lambda x: actor in x)]['revenue'].sum() # sorting the rows containing every certain actor out of the dataframe, summing up their revenues\n",
    "\n",
    "cast.sort_values(ascending=False)"
   ]
  },
  {
   "cell_type": "markdown",
   "metadata": {
    "colab_type": "text",
    "id": "mWHyyL7QVp_j"
   },
   "source": [
    "# 16. Какой актер снялся в большем количестве высокобюджетных фильмов?"
   ]
  },
  {
   "cell_type": "code",
   "execution_count": 18,
   "metadata": {},
   "outputs": [],
   "source": [
    "answers['16'] = 'Matt Damon'"
   ]
  },
  {
   "cell_type": "code",
   "execution_count": 85,
   "metadata": {
    "colab": {},
    "colab_type": "code",
    "id": "qQtmHKTFVp_k"
   },
   "outputs": [
    {
     "data": {
      "text/plain": [
       "Matt Damon           18\n",
       "Adam Sandler         17\n",
       "Angelina Jolie       16\n",
       "Tom Cruise           15\n",
       "Eddie Murphy         15\n",
       "                     ..\n",
       "Joss Ackland          1\n",
       "Bridget Moynahan      1\n",
       "Jason Schwartzman     1\n",
       "Johnny Strong         1\n",
       "Betty Buckley         1\n",
       "Length: 1505, dtype: int64"
      ]
     },
     "execution_count": 85,
     "metadata": {},
     "output_type": "execute_result"
    }
   ],
   "source": [
    "high_budget_data = data[data['budget'] > data['budget'].mean()]\n",
    "pd.Series(high_budget_data['cast'].sum()).value_counts(ascending=False)"
   ]
  },
  {
   "cell_type": "markdown",
   "metadata": {
    "colab_type": "text",
    "id": "NIh6AaW5Vp_n"
   },
   "source": [
    "# 17. В фильмах какого жанра больше всего снимался Nicolas Cage? "
   ]
  },
  {
   "cell_type": "code",
   "execution_count": 19,
   "metadata": {},
   "outputs": [],
   "source": [
    "answers['17'] = 'Action'"
   ]
  },
  {
   "cell_type": "code",
   "execution_count": 87,
   "metadata": {
    "colab": {},
    "colab_type": "code",
    "id": "H74SJDIBVp_n"
   },
   "outputs": [
    {
     "data": {
      "text/plain": [
       "Action             17\n",
       "Thriller           15\n",
       "Drama              12\n",
       "Crime              10\n",
       "Fantasy             8\n",
       "Adventure           7\n",
       "Comedy              6\n",
       "Science Fiction     4\n",
       "Mystery             3\n",
       "Animation           3\n",
       "Family              3\n",
       "History             2\n",
       "Romance             1\n",
       "War                 1\n",
       "Horror              1\n",
       "dtype: int64"
      ]
     },
     "execution_count": 87,
     "metadata": {},
     "output_type": "execute_result"
    }
   ],
   "source": [
    "NCage_data = data[data['cast'].map(lambda x: 'Nicolas Cage' in x)]\n",
    "pd.Series(NCage_data['genres'].sum()).value_counts(ascending=False)"
   ]
  },
  {
   "cell_type": "markdown",
   "metadata": {
    "colab_type": "text",
    "id": "RqOmPRfWVp_q"
   },
   "source": [
    "# 18. Самый убыточный фильм от Paramount Pictures"
   ]
  },
  {
   "cell_type": "code",
   "execution_count": 20,
   "metadata": {},
   "outputs": [],
   "source": [
    "answers['18'] = 'tt0267626 K-19: The Widowmaker'"
   ]
  },
  {
   "cell_type": "code",
   "execution_count": 89,
   "metadata": {
    "colab": {},
    "colab_type": "code",
    "id": "9E_B0Y96Vp_r"
   },
   "outputs": [
    {
     "data": {
      "text/html": [
       "<div>\n",
       "<style scoped>\n",
       "    .dataframe tbody tr th:only-of-type {\n",
       "        vertical-align: middle;\n",
       "    }\n",
       "\n",
       "    .dataframe tbody tr th {\n",
       "        vertical-align: top;\n",
       "    }\n",
       "\n",
       "    .dataframe thead th {\n",
       "        text-align: right;\n",
       "    }\n",
       "</style>\n",
       "<table border=\"1\" class=\"dataframe\">\n",
       "  <thead>\n",
       "    <tr style=\"text-align: right;\">\n",
       "      <th></th>\n",
       "      <th>imdb_id</th>\n",
       "      <th>original_title</th>\n",
       "      <th>profit</th>\n",
       "    </tr>\n",
       "  </thead>\n",
       "  <tbody>\n",
       "    <tr>\n",
       "      <th>925</th>\n",
       "      <td>tt0267626</td>\n",
       "      <td>K-19: The Widowmaker</td>\n",
       "      <td>-64831034</td>\n",
       "    </tr>\n",
       "  </tbody>\n",
       "</table>\n",
       "</div>"
      ],
      "text/plain": [
       "       imdb_id        original_title    profit\n",
       "925  tt0267626  K-19: The Widowmaker -64831034"
      ]
     },
     "execution_count": 89,
     "metadata": {},
     "output_type": "execute_result"
    }
   ],
   "source": [
    "ParPic_data = data[data['production_companies'].map(lambda x: 'Paramount Pictures' in x)]\n",
    "ParPic_data[ParPic_data['profit'] == ParPic_data['profit'].min()][['imdb_id', 'original_title', 'profit']]"
   ]
  },
  {
   "cell_type": "markdown",
   "metadata": {
    "colab_type": "text",
    "id": "vS8Ur6ddVp_u"
   },
   "source": [
    "# 19. Какой год стал самым успешным по суммарным кассовым сборам?"
   ]
  },
  {
   "cell_type": "code",
   "execution_count": 21,
   "metadata": {
    "colab": {},
    "colab_type": "code",
    "id": "Dnbt4GdIVp_v"
   },
   "outputs": [],
   "source": [
    "answers['19'] = 2015"
   ]
  },
  {
   "cell_type": "markdown",
   "metadata": {},
   "source": [
    "* FIRST METHOD - Using pandas.Series"
   ]
  },
  {
   "cell_type": "code",
   "execution_count": 91,
   "metadata": {},
   "outputs": [
    {
     "data": {
      "text/plain": [
       "2015    25449202382\n",
       "2014    23405862953\n",
       "2013    23213799791\n",
       "2012    23079001687\n",
       "2011    22676791872\n",
       "2010    21071204961\n",
       "2009    20261791024\n",
       "2008    18252781990\n",
       "2007    18162406801\n",
       "2004    15663430720\n",
       "2005    15309425558\n",
       "2006    14775042320\n",
       "2003    14346123312\n",
       "2002    14136361487\n",
       "2001    13017764865\n",
       "2000    10664099805\n",
       "Name: release_year, dtype: int64"
      ]
     },
     "execution_count": 91,
     "metadata": {},
     "output_type": "execute_result"
    }
   ],
   "source": [
    "year_revenue = data['release_year'].value_counts()\n",
    "\n",
    "for year in year_revenue.index:\n",
    "    year_revenue[year] = data[data['release_year'] == year]['revenue'].sum()\n",
    "\n",
    "year_revenue.sort_values(ascending=False)"
   ]
  },
  {
   "cell_type": "markdown",
   "metadata": {},
   "source": [
    "* SECOND METHOD - Using collections.Counter()"
   ]
  },
  {
   "cell_type": "code",
   "execution_count": 94,
   "metadata": {},
   "outputs": [
    {
     "data": {
      "text/plain": [
       "{2015: 25449202382,\n",
       " 2014: 23405862953,\n",
       " 2013: 23213799791,\n",
       " 2012: 23079001687,\n",
       " 2011: 22676791872,\n",
       " 2010: 21071204961,\n",
       " 2009: 20261791024,\n",
       " 2008: 18252781990,\n",
       " 2007: 18162406801,\n",
       " 2004: 15663430720,\n",
       " 2005: 15309425558,\n",
       " 2006: 14775042320,\n",
       " 2003: 14346123312,\n",
       " 2002: 14136361487,\n",
       " 2001: 13017764865,\n",
       " 2000: 10664099805}"
      ]
     },
     "execution_count": 94,
     "metadata": {},
     "output_type": "execute_result"
    }
   ],
   "source": [
    "year_revenue_dict = Counter()\n",
    "\n",
    "for year in data['release_year'].value_counts().index:\n",
    "    year_revenue_dict[year] = data[data['release_year'] == year]['revenue'].sum()\n",
    "\n",
    "year_revenue_dict = {\n",
    "    key: value for key, value in sorted(year_revenue_dict.items(), key=lambda item: item[1], reverse=True)\n",
    "} # sorting dict to dict by descending values\n",
    "\n",
    "year_revenue_dict"
   ]
  },
  {
   "cell_type": "markdown",
   "metadata": {
    "colab_type": "text",
    "id": "JAzJh4QAVp_z"
   },
   "source": [
    "# 20. Какой самый прибыльный год для студии Warner Bros?"
   ]
  },
  {
   "cell_type": "code",
   "execution_count": 22,
   "metadata": {
    "colab": {},
    "colab_type": "code",
    "id": "wgVu02DEVp_0"
   },
   "outputs": [],
   "source": [
    "answers['20'] = 2014"
   ]
  },
  {
   "cell_type": "code",
   "execution_count": 97,
   "metadata": {
    "scrolled": true
   },
   "outputs": [
    {
     "data": {
      "text/plain": [
       "Warp Films                                  1\n",
       "Warner Independent Pictures (WIP)           4\n",
       "Warner Bros. Pictures                      13\n",
       "Warner Bros. Interactive Entertainment      1\n",
       "Warner Bros. Animation                      5\n",
       "Warner Bros.                              168\n",
       "Wandering Star Pictures                     1\n",
       "Walt Disney Television Animation            2\n",
       "Walt Disney Studios Motion Pictures         3\n",
       "Walt Disney Pictures                       82\n",
       "dtype: int64"
      ]
     },
     "execution_count": 97,
     "metadata": {},
     "output_type": "execute_result"
    }
   ],
   "source": [
    "# preprocessing\n",
    "companies = pd.Series(data['production_companies'].sum()).value_counts() # проверяем название компании в датасете, тк по 'Warner Bros' найти нечего не удалось\n",
    "companies.sort_index(ascending=False)[60:70] # видим, что в поиск включать нужно все 4"
   ]
  },
  {
   "cell_type": "code",
   "execution_count": 99,
   "metadata": {},
   "outputs": [
    {
     "data": {
      "text/plain": [
       "2014    3243064519\n",
       "2007    3183675217\n",
       "2008    3050595031\n",
       "2010    3008712985\n",
       "2011    2845393682\n",
       "2003    2745493377\n",
       "2009    2737954136\n",
       "2004    2731933725\n",
       "2013    2599953400\n",
       "2005    2412980298\n",
       "2001    2266545668\n",
       "2012    1869520056\n",
       "2002    1702709901\n",
       "2015    1691168351\n",
       "2006    1521170743\n",
       "2000    1025531386\n",
       "Name: release_year, dtype: int64"
      ]
     },
     "execution_count": 99,
     "metadata": {},
     "output_type": "execute_result"
    }
   ],
   "source": [
    "WB_data = data[data['production_companies'].map(lambda x: 'Warner Bros' in '|'.join(x))] # join companies back to string because of 4 different company names include 'Warner Bros' string\n",
    "WB_year_revenue = WB_data['release_year'].value_counts() # collecting all unique release years\n",
    "\n",
    "for year in WB_year_revenue.index:\n",
    "    WB_year_revenue[year] = WB_data[WB_data['release_year'] == year]['revenue'].sum()\n",
    "\n",
    "WB_year_revenue.sort_values(ascending=False)"
   ]
  },
  {
   "cell_type": "markdown",
   "metadata": {
    "colab_type": "text",
    "id": "8Im1S2HRVp_4"
   },
   "source": [
    "# 21. В каком месяце за все годы суммарно вышло больше всего фильмов?"
   ]
  },
  {
   "cell_type": "code",
   "execution_count": 23,
   "metadata": {
    "colab": {},
    "colab_type": "code",
    "id": "lev6TH7gVp_4"
   },
   "outputs": [],
   "source": [
    "answers['21'] = 9"
   ]
  },
  {
   "cell_type": "code",
   "execution_count": 110,
   "metadata": {},
   "outputs": [
    {
     "data": {
      "text/plain": [
       "9     227\n",
       "12    190\n",
       "10    186\n",
       "8     161\n",
       "3     156\n",
       "4     149\n",
       "6     147\n",
       "11    146\n",
       "7     142\n",
       "5     140\n",
       "2     135\n",
       "1     110\n",
       "Name: release_month, dtype: int64"
      ]
     },
     "execution_count": 110,
     "metadata": {},
     "output_type": "execute_result"
    }
   ],
   "source": [
    "data['release_month'] = data['release_date'].dt.month\n",
    "month_movies = data['release_month'].value_counts().sort_index() # creating index of month movies Series\n",
    "\n",
    "for month in month_movies.index:\n",
    "    month_movies[month] = len(data[data['release_month'] == month]) # filling it in with movies numbers\n",
    "\n",
    "month_movies.sort_values(ascending=False)"
   ]
  },
  {
   "cell_type": "markdown",
   "metadata": {
    "colab_type": "text",
    "id": "uAJsZ_NeVp_7"
   },
   "source": [
    "# 22. Сколько суммарно вышло фильмов летом? (за июнь, июль, август)"
   ]
  },
  {
   "cell_type": "code",
   "execution_count": 24,
   "metadata": {
    "colab": {},
    "colab_type": "code",
    "id": "Aa-hEREoVp_8"
   },
   "outputs": [],
   "source": [
    "answers['22'] = 450"
   ]
  },
  {
   "cell_type": "markdown",
   "metadata": {},
   "source": [
    "* FIRST METHOD"
   ]
  },
  {
   "cell_type": "code",
   "execution_count": 115,
   "metadata": {
    "scrolled": true
   },
   "outputs": [
    {
     "name": "stdout",
     "output_type": "stream",
     "text": [
      "1.02 ms ± 141 µs per loop (mean ± std. dev. of 7 runs, 1000 loops each)\n"
     ]
    },
    {
     "data": {
      "text/plain": [
       "450"
      ]
     },
     "execution_count": 115,
     "metadata": {},
     "output_type": "execute_result"
    }
   ],
   "source": [
    "%timeit num = len(data[(data['release_month'] >= 6) & (data['release_month'] < 9)]) # or dataframe.count()\n",
    "num"
   ]
  },
  {
   "cell_type": "markdown",
   "metadata": {},
   "source": [
    "* SECOND METHOD"
   ]
  },
  {
   "cell_type": "code",
   "execution_count": 123,
   "metadata": {
    "scrolled": true
   },
   "outputs": [
    {
     "name": "stdout",
     "output_type": "stream",
     "text": [
      "960 µs ± 9.5 µs per loop (mean ± std. dev. of 7 runs, 1000 loops each)\n"
     ]
    },
    {
     "data": {
      "text/plain": [
       "450"
      ]
     },
     "execution_count": 123,
     "metadata": {},
     "output_type": "execute_result"
    }
   ],
   "source": [
    "%timeit num1 = len(data[data['release_month'].isin(range(6, 9))])\n",
    "num1"
   ]
  },
  {
   "cell_type": "markdown",
   "metadata": {
    "colab_type": "text",
    "id": "G94ppOY1VqAA"
   },
   "source": [
    "# 23. Для какого режиссера зима – самое продуктивное время года? "
   ]
  },
  {
   "cell_type": "code",
   "execution_count": 25,
   "metadata": {},
   "outputs": [],
   "source": [
    "answers['23'] = 'Peter Jackson'"
   ]
  },
  {
   "cell_type": "code",
   "execution_count": 128,
   "metadata": {
    "colab": {},
    "colab_type": "code",
    "id": "RhNTsamuVqAB",
    "scrolled": false
   },
   "outputs": [
    {
     "data": {
      "text/plain": [
       "Peter Jackson        7\n",
       "Steven Soderbergh    6\n",
       "Clint Eastwood       6\n",
       "Martin Scorsese      4\n",
       "Shawn Levy           4\n",
       "                    ..\n",
       "Charles Stone III    1\n",
       "Peter Howitt         1\n",
       "James Duffy          1\n",
       "Rob Letterman        1\n",
       "Joel Gallen          1\n",
       "Length: 358, dtype: int64"
      ]
     },
     "execution_count": 128,
     "metadata": {},
     "output_type": "execute_result"
    }
   ],
   "source": [
    "data_winter = data[data['release_month'].isin([12, 1, 2])]\n",
    "pd.Series(data_winter['director'].sum()).value_counts().sort_values(ascending=False)"
   ]
  },
  {
   "cell_type": "markdown",
   "metadata": {
    "colab_type": "text",
    "id": "RBo0JVjVVqAF"
   },
   "source": [
    "# 24. Какая студия дает самые длинные названия своим фильмам по количеству символов?"
   ]
  },
  {
   "cell_type": "code",
   "execution_count": 26,
   "metadata": {
    "colab": {},
    "colab_type": "code",
    "id": "QRGS8L0iVqAG"
   },
   "outputs": [],
   "source": [
    "answers['24'] = 'Four By Two Productions'"
   ]
  },
  {
   "cell_type": "code",
   "execution_count": 131,
   "metadata": {
    "scrolled": true
   },
   "outputs": [
    {
     "data": {
      "text/plain": [
       "Four By Two Productions       83\n",
       "Jim Henson Company, The       59\n",
       "Dos Corazones                 47\n",
       "Museum Canada Productions     46\n",
       "Polsky Films                  46\n",
       "                              ..\n",
       "Everest Entertainment          3\n",
       "Berlanti Productions           3\n",
       "Ixtlan Productions             2\n",
       "XM2 Productions                2\n",
       "Global Entertainment Group     2\n",
       "Length: 1771, dtype: int64"
      ]
     },
     "execution_count": 131,
     "metadata": {},
     "output_type": "execute_result"
    }
   ],
   "source": [
    "comp_titles = pd.Series(data['production_companies'].sum()).value_counts()\n",
    "\n",
    "for company in comp_titles.index:\n",
    "    titles = data[data['production_companies'].map(lambda x: company in x)]['original_title']\n",
    "    titles = titles.map(lambda x: len(x))\n",
    "    comp_titles[company] = round(titles.mean())\n",
    "\n",
    "comp_titles.sort_values(ascending=False)"
   ]
  },
  {
   "cell_type": "code",
   "execution_count": 133,
   "metadata": {},
   "outputs": [
    {
     "data": {
      "text/html": [
       "<div>\n",
       "<style scoped>\n",
       "    .dataframe tbody tr th:only-of-type {\n",
       "        vertical-align: middle;\n",
       "    }\n",
       "\n",
       "    .dataframe tbody tr th {\n",
       "        vertical-align: top;\n",
       "    }\n",
       "\n",
       "    .dataframe thead th {\n",
       "        text-align: right;\n",
       "    }\n",
       "</style>\n",
       "<table border=\"1\" class=\"dataframe\">\n",
       "  <thead>\n",
       "    <tr style=\"text-align: right;\">\n",
       "      <th></th>\n",
       "      <th>imdb_id</th>\n",
       "      <th>budget</th>\n",
       "      <th>revenue</th>\n",
       "      <th>original_title</th>\n",
       "      <th>cast</th>\n",
       "      <th>director</th>\n",
       "      <th>tagline</th>\n",
       "      <th>overview</th>\n",
       "      <th>runtime</th>\n",
       "      <th>genres</th>\n",
       "      <th>production_companies</th>\n",
       "      <th>release_date</th>\n",
       "      <th>vote_average</th>\n",
       "      <th>release_year</th>\n",
       "      <th>profit</th>\n",
       "      <th>release_month</th>\n",
       "    </tr>\n",
       "  </thead>\n",
       "  <tbody>\n",
       "    <tr>\n",
       "      <th>1448</th>\n",
       "      <td>tt0443453</td>\n",
       "      <td>18000000</td>\n",
       "      <td>261572744</td>\n",
       "      <td>Borat: Cultural Learnings of America for Make ...</td>\n",
       "      <td>[Sacha Baron Cohen, Ken Davitian, Luenell, Pam...</td>\n",
       "      <td>[Larry Charles]</td>\n",
       "      <td>Come to Kazakhstan, it's nice!</td>\n",
       "      <td>Kazakh journalist Borat Sagdiyev travels to Am...</td>\n",
       "      <td>82</td>\n",
       "      <td>[Comedy]</td>\n",
       "      <td>[Twentieth Century Fox Film Corporation, Four ...</td>\n",
       "      <td>2006-11-02</td>\n",
       "      <td>6.4</td>\n",
       "      <td>2006</td>\n",
       "      <td>243572744</td>\n",
       "      <td>11</td>\n",
       "    </tr>\n",
       "  </tbody>\n",
       "</table>\n",
       "</div>"
      ],
      "text/plain": [
       "        imdb_id    budget    revenue  \\\n",
       "1448  tt0443453  18000000  261572744   \n",
       "\n",
       "                                         original_title  \\\n",
       "1448  Borat: Cultural Learnings of America for Make ...   \n",
       "\n",
       "                                                   cast         director  \\\n",
       "1448  [Sacha Baron Cohen, Ken Davitian, Luenell, Pam...  [Larry Charles]   \n",
       "\n",
       "                             tagline  \\\n",
       "1448  Come to Kazakhstan, it's nice!   \n",
       "\n",
       "                                               overview  runtime    genres  \\\n",
       "1448  Kazakh journalist Borat Sagdiyev travels to Am...       82  [Comedy]   \n",
       "\n",
       "                                   production_companies release_date  \\\n",
       "1448  [Twentieth Century Fox Film Corporation, Four ...   2006-11-02   \n",
       "\n",
       "      vote_average  release_year     profit  release_month  \n",
       "1448           6.4          2006  243572744             11  "
      ]
     },
     "execution_count": 133,
     "metadata": {},
     "output_type": "execute_result"
    }
   ],
   "source": [
    "# let's see how come the average title length is 83 symbols\n",
    "data[data['production_companies'].map(lambda x: 'Four By Two Productions' in x)]"
   ]
  },
  {
   "cell_type": "markdown",
   "metadata": {
    "colab_type": "text",
    "id": "9G0hbvR7VqAK"
   },
   "source": [
    "# 25. Описание фильмов какой студии в среднем самые длинные по количеству слов?"
   ]
  },
  {
   "cell_type": "code",
   "execution_count": 27,
   "metadata": {},
   "outputs": [],
   "source": [
    "answers['25'] = 'Midnight Picture Show'"
   ]
  },
  {
   "cell_type": "code",
   "execution_count": 138,
   "metadata": {},
   "outputs": [
    {
     "data": {
      "text/plain": [
       "Midnight Picture Show                          175\n",
       "Room 9 Entertainment                           161\n",
       "Heineken Branded Entertainment                 161\n",
       "98 MPH Productions                             159\n",
       "Brookwell-McNamara Entertainment               156\n",
       "                                              ... \n",
       "Phantom Four                                    13\n",
       "Sony Pictures Worldwide Acquisitions (SPWA)     13\n",
       "London Boulevard                                13\n",
       "Motion Picture Corporation of America           11\n",
       "Empire Pictures                                 11\n",
       "Length: 1771, dtype: int64"
      ]
     },
     "execution_count": 138,
     "metadata": {},
     "output_type": "execute_result"
    }
   ],
   "source": [
    "from statistics import mean\n",
    "\n",
    "comp_descr = pd.Series(data['production_companies'].sum()).value_counts() # creating a list of unique company names (Series.index)\n",
    "# display(comp_descr)\n",
    "\n",
    "for company in comp_descr.index:\n",
    "    temp = list(data[data['production_companies'].map(lambda x: company in x)]['overview'].values) # list of overviews of a certain company\n",
    "    comp_descr[company] = mean([len(item.split(' ')) for item in temp]) # turning temp into a list of overview lengths, calculating mean length, writing down into Series\n",
    "\n",
    "comp_descr.sort_values(ascending=False)"
   ]
  },
  {
   "cell_type": "markdown",
   "metadata": {
    "colab_type": "text",
    "id": "FJ1AFt90VqAP"
   },
   "source": [
    "# 26. Какие фильмы входят в 1 процент лучших по рейтингу? \n",
    "по vote_average"
   ]
  },
  {
   "cell_type": "code",
   "execution_count": 29,
   "metadata": {
    "colab": {},
    "colab_type": "code",
    "id": "8qmJVq4CVqAQ",
    "scrolled": true
   },
   "outputs": [],
   "source": [
    "answers['26'] = 'Inside Out, The Dark Knight, 12 Years a Slave'"
   ]
  },
  {
   "cell_type": "code",
   "execution_count": 143,
   "metadata": {
    "scrolled": true
   },
   "outputs": [
    {
     "data": {
      "text/html": [
       "<div>\n",
       "<style scoped>\n",
       "    .dataframe tbody tr th:only-of-type {\n",
       "        vertical-align: middle;\n",
       "    }\n",
       "\n",
       "    .dataframe tbody tr th {\n",
       "        vertical-align: top;\n",
       "    }\n",
       "\n",
       "    .dataframe thead th {\n",
       "        text-align: right;\n",
       "    }\n",
       "</style>\n",
       "<table border=\"1\" class=\"dataframe\">\n",
       "  <thead>\n",
       "    <tr style=\"text-align: right;\">\n",
       "      <th></th>\n",
       "      <th>imdb_id</th>\n",
       "      <th>budget</th>\n",
       "      <th>revenue</th>\n",
       "      <th>original_title</th>\n",
       "      <th>cast</th>\n",
       "      <th>director</th>\n",
       "      <th>tagline</th>\n",
       "      <th>overview</th>\n",
       "      <th>runtime</th>\n",
       "      <th>genres</th>\n",
       "      <th>production_companies</th>\n",
       "      <th>release_date</th>\n",
       "      <th>vote_average</th>\n",
       "      <th>release_year</th>\n",
       "      <th>profit</th>\n",
       "      <th>release_month</th>\n",
       "    </tr>\n",
       "  </thead>\n",
       "  <tbody>\n",
       "    <tr>\n",
       "      <th>599</th>\n",
       "      <td>tt0468569</td>\n",
       "      <td>185000000</td>\n",
       "      <td>1001921825</td>\n",
       "      <td>The Dark Knight</td>\n",
       "      <td>[Christian Bale, Michael Caine, Heath Ledger, ...</td>\n",
       "      <td>[Christopher Nolan]</td>\n",
       "      <td>Why So Serious?</td>\n",
       "      <td>Batman raises the stakes in his war on crime. ...</td>\n",
       "      <td>152</td>\n",
       "      <td>[Drama, Action, Crime, Thriller]</td>\n",
       "      <td>[DC Comics, Legendary Pictures, Warner Bros., ...</td>\n",
       "      <td>2008-07-16</td>\n",
       "      <td>8.1</td>\n",
       "      <td>2008</td>\n",
       "      <td>816921825</td>\n",
       "      <td>7</td>\n",
       "    </tr>\n",
       "    <tr>\n",
       "      <th>125</th>\n",
       "      <td>tt2084970</td>\n",
       "      <td>14000000</td>\n",
       "      <td>233555708</td>\n",
       "      <td>The Imitation Game</td>\n",
       "      <td>[Benedict Cumberbatch, Keira Knightley, Matthe...</td>\n",
       "      <td>[Morten Tyldum]</td>\n",
       "      <td>The true enigma was the man who cracked the code.</td>\n",
       "      <td>Based on the real life story of legendary cryp...</td>\n",
       "      <td>113</td>\n",
       "      <td>[History, Drama, Thriller, War]</td>\n",
       "      <td>[Black Bear Pictures, Bristol Automotive]</td>\n",
       "      <td>2014-11-14</td>\n",
       "      <td>8.0</td>\n",
       "      <td>2014</td>\n",
       "      <td>219555708</td>\n",
       "      <td>11</td>\n",
       "    </tr>\n",
       "    <tr>\n",
       "      <th>9</th>\n",
       "      <td>tt2096673</td>\n",
       "      <td>175000000</td>\n",
       "      <td>853708609</td>\n",
       "      <td>Inside Out</td>\n",
       "      <td>[Amy Poehler, Phyllis Smith, Richard Kind, Bil...</td>\n",
       "      <td>[Pete Docter]</td>\n",
       "      <td>Meet the little voices inside your head.</td>\n",
       "      <td>Growing up can be a bumpy road, and it's no ex...</td>\n",
       "      <td>94</td>\n",
       "      <td>[Comedy, Animation, Family]</td>\n",
       "      <td>[Walt Disney Pictures, Pixar Animation Studios...</td>\n",
       "      <td>2015-06-09</td>\n",
       "      <td>8.0</td>\n",
       "      <td>2015</td>\n",
       "      <td>678708609</td>\n",
       "      <td>6</td>\n",
       "    </tr>\n",
       "    <tr>\n",
       "      <th>118</th>\n",
       "      <td>tt0816692</td>\n",
       "      <td>165000000</td>\n",
       "      <td>621752480</td>\n",
       "      <td>Interstellar</td>\n",
       "      <td>[Matthew McConaughey, Jessica Chastain, Anne H...</td>\n",
       "      <td>[Christopher Nolan]</td>\n",
       "      <td>Mankind was born on Earth. It was never meant ...</td>\n",
       "      <td>Interstellar chronicles the adventures of a gr...</td>\n",
       "      <td>169</td>\n",
       "      <td>[Adventure, Drama, Science Fiction]</td>\n",
       "      <td>[Paramount Pictures, Legendary Pictures, Warne...</td>\n",
       "      <td>2014-11-05</td>\n",
       "      <td>8.0</td>\n",
       "      <td>2014</td>\n",
       "      <td>456752480</td>\n",
       "      <td>11</td>\n",
       "    </tr>\n",
       "    <tr>\n",
       "      <th>34</th>\n",
       "      <td>tt3170832</td>\n",
       "      <td>6000000</td>\n",
       "      <td>35401758</td>\n",
       "      <td>Room</td>\n",
       "      <td>[Brie Larson, Jacob Tremblay, Joan Allen, Sean...</td>\n",
       "      <td>[Lenny Abrahamson]</td>\n",
       "      <td>Love knows no boundaries</td>\n",
       "      <td>Jack is a young boy of 5 years old who has liv...</td>\n",
       "      <td>117</td>\n",
       "      <td>[Drama, Thriller]</td>\n",
       "      <td>[Element Pictures, No Trace Camping, A24, Dupe...</td>\n",
       "      <td>2015-10-16</td>\n",
       "      <td>8.0</td>\n",
       "      <td>2015</td>\n",
       "      <td>29401758</td>\n",
       "      <td>10</td>\n",
       "    </tr>\n",
       "    <tr>\n",
       "      <th>1081</th>\n",
       "      <td>tt0167260</td>\n",
       "      <td>94000000</td>\n",
       "      <td>1118888979</td>\n",
       "      <td>The Lord of the Rings: The Return of the King</td>\n",
       "      <td>[Elijah Wood, Ian McKellen, Viggo Mortensen, L...</td>\n",
       "      <td>[Peter Jackson]</td>\n",
       "      <td>The eye of the enemy is moving.</td>\n",
       "      <td>Aragorn is revealed as the heir to the ancient...</td>\n",
       "      <td>201</td>\n",
       "      <td>[Adventure, Fantasy, Action]</td>\n",
       "      <td>[WingNut Films, New Line Cinema]</td>\n",
       "      <td>2003-12-01</td>\n",
       "      <td>7.9</td>\n",
       "      <td>2003</td>\n",
       "      <td>1024888979</td>\n",
       "      <td>12</td>\n",
       "    </tr>\n",
       "    <tr>\n",
       "      <th>138</th>\n",
       "      <td>tt2278388</td>\n",
       "      <td>30000000</td>\n",
       "      <td>174600318</td>\n",
       "      <td>The Grand Budapest Hotel</td>\n",
       "      <td>[Ralph Fiennes, Tony Revolori, F. Murray Abrah...</td>\n",
       "      <td>[Wes Anderson]</td>\n",
       "      <td>A perfect holiday without leaving home.</td>\n",
       "      <td>The Grand Budapest Hotel tells of a legendary ...</td>\n",
       "      <td>99</td>\n",
       "      <td>[Comedy, Drama]</td>\n",
       "      <td>[Fox Searchlight Pictures, Scott Rudin Product...</td>\n",
       "      <td>2014-02-26</td>\n",
       "      <td>7.9</td>\n",
       "      <td>2014</td>\n",
       "      <td>144600318</td>\n",
       "      <td>2</td>\n",
       "    </tr>\n",
       "    <tr>\n",
       "      <th>1183</th>\n",
       "      <td>tt0993846</td>\n",
       "      <td>100000000</td>\n",
       "      <td>392000694</td>\n",
       "      <td>The Wolf of Wall Street</td>\n",
       "      <td>[Leonardo DiCaprio, Jonah Hill, Margot Robbie,...</td>\n",
       "      <td>[Martin Scorsese]</td>\n",
       "      <td>EARN. SPEND. PARTY.</td>\n",
       "      <td>A New York stockbroker refuses to cooperate in...</td>\n",
       "      <td>180</td>\n",
       "      <td>[Crime, Drama, Comedy]</td>\n",
       "      <td>[Paramount Pictures, Appian Way, EMJAG Product...</td>\n",
       "      <td>2013-12-25</td>\n",
       "      <td>7.9</td>\n",
       "      <td>2013</td>\n",
       "      <td>292000694</td>\n",
       "      <td>12</td>\n",
       "    </tr>\n",
       "    <tr>\n",
       "      <th>370</th>\n",
       "      <td>tt1375666</td>\n",
       "      <td>160000000</td>\n",
       "      <td>825500000</td>\n",
       "      <td>Inception</td>\n",
       "      <td>[Leonardo DiCaprio, Joseph Gordon-Levitt, Elle...</td>\n",
       "      <td>[Christopher Nolan]</td>\n",
       "      <td>Your mind is the scene of the crime.</td>\n",
       "      <td>Cobb, a skilled thief who commits corporate es...</td>\n",
       "      <td>148</td>\n",
       "      <td>[Action, Thriller, Science Fiction, Mystery, A...</td>\n",
       "      <td>[Legendary Pictures, Warner Bros., Syncopy]</td>\n",
       "      <td>2010-07-14</td>\n",
       "      <td>7.9</td>\n",
       "      <td>2010</td>\n",
       "      <td>665500000</td>\n",
       "      <td>7</td>\n",
       "    </tr>\n",
       "    <tr>\n",
       "      <th>119</th>\n",
       "      <td>tt2015381</td>\n",
       "      <td>170000000</td>\n",
       "      <td>773312399</td>\n",
       "      <td>Guardians of the Galaxy</td>\n",
       "      <td>[Chris Pratt, Zoe Saldana, Dave Bautista, Vin ...</td>\n",
       "      <td>[James Gunn]</td>\n",
       "      <td>All heroes start somewhere.</td>\n",
       "      <td>Light years from Earth, 26 years after being a...</td>\n",
       "      <td>121</td>\n",
       "      <td>[Action, Science Fiction, Adventure]</td>\n",
       "      <td>[Marvel Studios, Moving Picture Company (MPC),...</td>\n",
       "      <td>2014-07-30</td>\n",
       "      <td>7.9</td>\n",
       "      <td>2014</td>\n",
       "      <td>603312399</td>\n",
       "      <td>7</td>\n",
       "    </tr>\n",
       "    <tr>\n",
       "      <th>1800</th>\n",
       "      <td>tt0209144</td>\n",
       "      <td>9000000</td>\n",
       "      <td>39723096</td>\n",
       "      <td>Memento</td>\n",
       "      <td>[Guy Pearce, Carrie-Anne Moss, Joe Pantoliano,...</td>\n",
       "      <td>[Christopher Nolan]</td>\n",
       "      <td>Some memories are best forgotten.</td>\n",
       "      <td>Suffering short-term memory loss after a head ...</td>\n",
       "      <td>113</td>\n",
       "      <td>[Mystery, Thriller]</td>\n",
       "      <td>[Summit Entertainment, Newmarket Capital Group...</td>\n",
       "      <td>2000-10-11</td>\n",
       "      <td>7.9</td>\n",
       "      <td>2000</td>\n",
       "      <td>30723096</td>\n",
       "      <td>10</td>\n",
       "    </tr>\n",
       "    <tr>\n",
       "      <th>128</th>\n",
       "      <td>tt2267998</td>\n",
       "      <td>61000000</td>\n",
       "      <td>369330363</td>\n",
       "      <td>Gone Girl</td>\n",
       "      <td>[Ben Affleck, Rosamund Pike, Carrie Coon, Neil...</td>\n",
       "      <td>[David Fincher]</td>\n",
       "      <td>You don't know what you've got 'til it's...</td>\n",
       "      <td>With his wife's disappearance having become th...</td>\n",
       "      <td>145</td>\n",
       "      <td>[Mystery, Thriller, Drama]</td>\n",
       "      <td>[Twentieth Century Fox Film Corporation, Regen...</td>\n",
       "      <td>2014-10-01</td>\n",
       "      <td>7.9</td>\n",
       "      <td>2014</td>\n",
       "      <td>308330363</td>\n",
       "      <td>10</td>\n",
       "    </tr>\n",
       "    <tr>\n",
       "      <th>872</th>\n",
       "      <td>tt0253474</td>\n",
       "      <td>35000000</td>\n",
       "      <td>120072577</td>\n",
       "      <td>The Pianist</td>\n",
       "      <td>[Adrien Brody, Thomas Kretschmann, Frank Finla...</td>\n",
       "      <td>[Roman Polanski]</td>\n",
       "      <td>Music was his passion. Survival was his master...</td>\n",
       "      <td>The Pianist is a film adapted from the biograp...</td>\n",
       "      <td>150</td>\n",
       "      <td>[Drama, War]</td>\n",
       "      <td>[Bac Films, Canal+Polska, Heritage Films, Stud...</td>\n",
       "      <td>2002-09-24</td>\n",
       "      <td>7.9</td>\n",
       "      <td>2002</td>\n",
       "      <td>85072577</td>\n",
       "      <td>9</td>\n",
       "    </tr>\n",
       "    <tr>\n",
       "      <th>1191</th>\n",
       "      <td>tt2024544</td>\n",
       "      <td>20000000</td>\n",
       "      <td>187000000</td>\n",
       "      <td>12 Years a Slave</td>\n",
       "      <td>[Chiwetel Ejiofor, Michael Fassbender, Lupita ...</td>\n",
       "      <td>[Steve McQueen]</td>\n",
       "      <td>The extraordinary true story of Solomon Northup</td>\n",
       "      <td>In the pre-Civil War United States, Solomon No...</td>\n",
       "      <td>134</td>\n",
       "      <td>[Drama, History]</td>\n",
       "      <td>[Plan B Entertainment, Regency Enterprises, Ri...</td>\n",
       "      <td>2013-10-18</td>\n",
       "      <td>7.9</td>\n",
       "      <td>2013</td>\n",
       "      <td>167000000</td>\n",
       "      <td>10</td>\n",
       "    </tr>\n",
       "    <tr>\n",
       "      <th>283</th>\n",
       "      <td>tt0485947</td>\n",
       "      <td>47000000</td>\n",
       "      <td>3547209</td>\n",
       "      <td>Mr. Nobody</td>\n",
       "      <td>[Jared Leto, Diane Kruger, Linh Äan Pháº¡m, Sa...</td>\n",
       "      <td>[Jaco Van Dormael]</td>\n",
       "      <td>Nothing is real, everything is possible.</td>\n",
       "      <td>Nemo Nobody leads an ordinary existence with h...</td>\n",
       "      <td>141</td>\n",
       "      <td>[Science Fiction, Drama, Romance, Fantasy]</td>\n",
       "      <td>[Pan EuropÃ©enne Production, Virtual Films]</td>\n",
       "      <td>2009-09-11</td>\n",
       "      <td>7.8</td>\n",
       "      <td>2009</td>\n",
       "      <td>-43452791</td>\n",
       "      <td>9</td>\n",
       "    </tr>\n",
       "    <tr>\n",
       "      <th>1688</th>\n",
       "      <td>tt0469494</td>\n",
       "      <td>25000000</td>\n",
       "      <td>76181545</td>\n",
       "      <td>There Will Be Blood</td>\n",
       "      <td>[Daniel Day-Lewis, Paul Dano, Dillon Freasier,...</td>\n",
       "      <td>[Paul Thomas Anderson]</td>\n",
       "      <td>There Will Be Greed. There Will Be Vengeance.</td>\n",
       "      <td>When ruthless oil prospector, Daniel Plainview...</td>\n",
       "      <td>158</td>\n",
       "      <td>[Drama]</td>\n",
       "      <td>[Miramax Films, Ghoulardi Film Company, Paramo...</td>\n",
       "      <td>2007-12-28</td>\n",
       "      <td>7.8</td>\n",
       "      <td>2007</td>\n",
       "      <td>51181545</td>\n",
       "      <td>12</td>\n",
       "    </tr>\n",
       "    <tr>\n",
       "      <th>863</th>\n",
       "      <td>tt0167261</td>\n",
       "      <td>79000000</td>\n",
       "      <td>926287400</td>\n",
       "      <td>The Lord of the Rings: The Two Towers</td>\n",
       "      <td>[Elijah Wood, Ian McKellen, Viggo Mortensen, L...</td>\n",
       "      <td>[Peter Jackson]</td>\n",
       "      <td>A New Power Is Rising.</td>\n",
       "      <td>Frodo and Sam are trekking to Mordor to destro...</td>\n",
       "      <td>179</td>\n",
       "      <td>[Adventure, Fantasy, Action]</td>\n",
       "      <td>[WingNut Films, New Line Cinema, The Saul Zaen...</td>\n",
       "      <td>2002-12-18</td>\n",
       "      <td>7.8</td>\n",
       "      <td>2002</td>\n",
       "      <td>847287400</td>\n",
       "      <td>12</td>\n",
       "    </tr>\n",
       "    <tr>\n",
       "      <th>155</th>\n",
       "      <td>tt2980516</td>\n",
       "      <td>15000000</td>\n",
       "      <td>121201940</td>\n",
       "      <td>The Theory of Everything</td>\n",
       "      <td>[Eddie Redmayne, Felicity Jones, Harry Lloyd, ...</td>\n",
       "      <td>[James Marsh]</td>\n",
       "      <td>His Mind Changed Our World. Her Love Changed His.</td>\n",
       "      <td>A look at the relationship between the famous ...</td>\n",
       "      <td>123</td>\n",
       "      <td>[Drama, Romance]</td>\n",
       "      <td>[Working Title Films]</td>\n",
       "      <td>2014-11-26</td>\n",
       "      <td>7.8</td>\n",
       "      <td>2014</td>\n",
       "      <td>106201940</td>\n",
       "      <td>11</td>\n",
       "    </tr>\n",
       "    <tr>\n",
       "      <th>1563</th>\n",
       "      <td>tt0338013</td>\n",
       "      <td>20000000</td>\n",
       "      <td>72258126</td>\n",
       "      <td>Eternal Sunshine of the Spotless Mind</td>\n",
       "      <td>[Jim Carrey, Kate Winslet, Elijah Wood, Mark R...</td>\n",
       "      <td>[Michel Gondry]</td>\n",
       "      <td>I already forget how I used to feel about you.</td>\n",
       "      <td>Joel Barish, heartbroken that his girlfriend u...</td>\n",
       "      <td>108</td>\n",
       "      <td>[Science Fiction, Drama, Romance]</td>\n",
       "      <td>[Anonymous Content, This Is That Productions, ...</td>\n",
       "      <td>2004-03-19</td>\n",
       "      <td>7.8</td>\n",
       "      <td>2004</td>\n",
       "      <td>52258126</td>\n",
       "      <td>3</td>\n",
       "    </tr>\n",
       "  </tbody>\n",
       "</table>\n",
       "</div>"
      ],
      "text/plain": [
       "        imdb_id     budget     revenue  \\\n",
       "599   tt0468569  185000000  1001921825   \n",
       "125   tt2084970   14000000   233555708   \n",
       "9     tt2096673  175000000   853708609   \n",
       "118   tt0816692  165000000   621752480   \n",
       "34    tt3170832    6000000    35401758   \n",
       "1081  tt0167260   94000000  1118888979   \n",
       "138   tt2278388   30000000   174600318   \n",
       "1183  tt0993846  100000000   392000694   \n",
       "370   tt1375666  160000000   825500000   \n",
       "119   tt2015381  170000000   773312399   \n",
       "1800  tt0209144    9000000    39723096   \n",
       "128   tt2267998   61000000   369330363   \n",
       "872   tt0253474   35000000   120072577   \n",
       "1191  tt2024544   20000000   187000000   \n",
       "283   tt0485947   47000000     3547209   \n",
       "1688  tt0469494   25000000    76181545   \n",
       "863   tt0167261   79000000   926287400   \n",
       "155   tt2980516   15000000   121201940   \n",
       "1563  tt0338013   20000000    72258126   \n",
       "\n",
       "                                     original_title  \\\n",
       "599                                 The Dark Knight   \n",
       "125                              The Imitation Game   \n",
       "9                                        Inside Out   \n",
       "118                                    Interstellar   \n",
       "34                                             Room   \n",
       "1081  The Lord of the Rings: The Return of the King   \n",
       "138                        The Grand Budapest Hotel   \n",
       "1183                        The Wolf of Wall Street   \n",
       "370                                       Inception   \n",
       "119                         Guardians of the Galaxy   \n",
       "1800                                        Memento   \n",
       "128                                       Gone Girl   \n",
       "872                                     The Pianist   \n",
       "1191                               12 Years a Slave   \n",
       "283                                      Mr. Nobody   \n",
       "1688                            There Will Be Blood   \n",
       "863           The Lord of the Rings: The Two Towers   \n",
       "155                        The Theory of Everything   \n",
       "1563          Eternal Sunshine of the Spotless Mind   \n",
       "\n",
       "                                                   cast  \\\n",
       "599   [Christian Bale, Michael Caine, Heath Ledger, ...   \n",
       "125   [Benedict Cumberbatch, Keira Knightley, Matthe...   \n",
       "9     [Amy Poehler, Phyllis Smith, Richard Kind, Bil...   \n",
       "118   [Matthew McConaughey, Jessica Chastain, Anne H...   \n",
       "34    [Brie Larson, Jacob Tremblay, Joan Allen, Sean...   \n",
       "1081  [Elijah Wood, Ian McKellen, Viggo Mortensen, L...   \n",
       "138   [Ralph Fiennes, Tony Revolori, F. Murray Abrah...   \n",
       "1183  [Leonardo DiCaprio, Jonah Hill, Margot Robbie,...   \n",
       "370   [Leonardo DiCaprio, Joseph Gordon-Levitt, Elle...   \n",
       "119   [Chris Pratt, Zoe Saldana, Dave Bautista, Vin ...   \n",
       "1800  [Guy Pearce, Carrie-Anne Moss, Joe Pantoliano,...   \n",
       "128   [Ben Affleck, Rosamund Pike, Carrie Coon, Neil...   \n",
       "872   [Adrien Brody, Thomas Kretschmann, Frank Finla...   \n",
       "1191  [Chiwetel Ejiofor, Michael Fassbender, Lupita ...   \n",
       "283   [Jared Leto, Diane Kruger, Linh Äan Pháº¡m, Sa...   \n",
       "1688  [Daniel Day-Lewis, Paul Dano, Dillon Freasier,...   \n",
       "863   [Elijah Wood, Ian McKellen, Viggo Mortensen, L...   \n",
       "155   [Eddie Redmayne, Felicity Jones, Harry Lloyd, ...   \n",
       "1563  [Jim Carrey, Kate Winslet, Elijah Wood, Mark R...   \n",
       "\n",
       "                    director  \\\n",
       "599      [Christopher Nolan]   \n",
       "125          [Morten Tyldum]   \n",
       "9              [Pete Docter]   \n",
       "118      [Christopher Nolan]   \n",
       "34        [Lenny Abrahamson]   \n",
       "1081         [Peter Jackson]   \n",
       "138           [Wes Anderson]   \n",
       "1183       [Martin Scorsese]   \n",
       "370      [Christopher Nolan]   \n",
       "119             [James Gunn]   \n",
       "1800     [Christopher Nolan]   \n",
       "128          [David Fincher]   \n",
       "872         [Roman Polanski]   \n",
       "1191         [Steve McQueen]   \n",
       "283       [Jaco Van Dormael]   \n",
       "1688  [Paul Thomas Anderson]   \n",
       "863          [Peter Jackson]   \n",
       "155            [James Marsh]   \n",
       "1563         [Michel Gondry]   \n",
       "\n",
       "                                                tagline  \\\n",
       "599                                     Why So Serious?   \n",
       "125   The true enigma was the man who cracked the code.   \n",
       "9              Meet the little voices inside your head.   \n",
       "118   Mankind was born on Earth. It was never meant ...   \n",
       "34                             Love knows no boundaries   \n",
       "1081                    The eye of the enemy is moving.   \n",
       "138             A perfect holiday without leaving home.   \n",
       "1183                                EARN. SPEND. PARTY.   \n",
       "370                Your mind is the scene of the crime.   \n",
       "119                         All heroes start somewhere.   \n",
       "1800                  Some memories are best forgotten.   \n",
       "128         You don't know what you've got 'til it's...   \n",
       "872   Music was his passion. Survival was his master...   \n",
       "1191    The extraordinary true story of Solomon Northup   \n",
       "283            Nothing is real, everything is possible.   \n",
       "1688      There Will Be Greed. There Will Be Vengeance.   \n",
       "863                              A New Power Is Rising.   \n",
       "155   His Mind Changed Our World. Her Love Changed His.   \n",
       "1563     I already forget how I used to feel about you.   \n",
       "\n",
       "                                               overview  runtime  \\\n",
       "599   Batman raises the stakes in his war on crime. ...      152   \n",
       "125   Based on the real life story of legendary cryp...      113   \n",
       "9     Growing up can be a bumpy road, and it's no ex...       94   \n",
       "118   Interstellar chronicles the adventures of a gr...      169   \n",
       "34    Jack is a young boy of 5 years old who has liv...      117   \n",
       "1081  Aragorn is revealed as the heir to the ancient...      201   \n",
       "138   The Grand Budapest Hotel tells of a legendary ...       99   \n",
       "1183  A New York stockbroker refuses to cooperate in...      180   \n",
       "370   Cobb, a skilled thief who commits corporate es...      148   \n",
       "119   Light years from Earth, 26 years after being a...      121   \n",
       "1800  Suffering short-term memory loss after a head ...      113   \n",
       "128   With his wife's disappearance having become th...      145   \n",
       "872   The Pianist is a film adapted from the biograp...      150   \n",
       "1191  In the pre-Civil War United States, Solomon No...      134   \n",
       "283   Nemo Nobody leads an ordinary existence with h...      141   \n",
       "1688  When ruthless oil prospector, Daniel Plainview...      158   \n",
       "863   Frodo and Sam are trekking to Mordor to destro...      179   \n",
       "155   A look at the relationship between the famous ...      123   \n",
       "1563  Joel Barish, heartbroken that his girlfriend u...      108   \n",
       "\n",
       "                                                 genres  \\\n",
       "599                    [Drama, Action, Crime, Thriller]   \n",
       "125                     [History, Drama, Thriller, War]   \n",
       "9                           [Comedy, Animation, Family]   \n",
       "118                 [Adventure, Drama, Science Fiction]   \n",
       "34                                    [Drama, Thriller]   \n",
       "1081                       [Adventure, Fantasy, Action]   \n",
       "138                                     [Comedy, Drama]   \n",
       "1183                             [Crime, Drama, Comedy]   \n",
       "370   [Action, Thriller, Science Fiction, Mystery, A...   \n",
       "119                [Action, Science Fiction, Adventure]   \n",
       "1800                                [Mystery, Thriller]   \n",
       "128                          [Mystery, Thriller, Drama]   \n",
       "872                                        [Drama, War]   \n",
       "1191                                   [Drama, History]   \n",
       "283          [Science Fiction, Drama, Romance, Fantasy]   \n",
       "1688                                            [Drama]   \n",
       "863                        [Adventure, Fantasy, Action]   \n",
       "155                                    [Drama, Romance]   \n",
       "1563                  [Science Fiction, Drama, Romance]   \n",
       "\n",
       "                                   production_companies release_date  \\\n",
       "599   [DC Comics, Legendary Pictures, Warner Bros., ...   2008-07-16   \n",
       "125           [Black Bear Pictures, Bristol Automotive]   2014-11-14   \n",
       "9     [Walt Disney Pictures, Pixar Animation Studios...   2015-06-09   \n",
       "118   [Paramount Pictures, Legendary Pictures, Warne...   2014-11-05   \n",
       "34    [Element Pictures, No Trace Camping, A24, Dupe...   2015-10-16   \n",
       "1081                   [WingNut Films, New Line Cinema]   2003-12-01   \n",
       "138   [Fox Searchlight Pictures, Scott Rudin Product...   2014-02-26   \n",
       "1183  [Paramount Pictures, Appian Way, EMJAG Product...   2013-12-25   \n",
       "370         [Legendary Pictures, Warner Bros., Syncopy]   2010-07-14   \n",
       "119   [Marvel Studios, Moving Picture Company (MPC),...   2014-07-30   \n",
       "1800  [Summit Entertainment, Newmarket Capital Group...   2000-10-11   \n",
       "128   [Twentieth Century Fox Film Corporation, Regen...   2014-10-01   \n",
       "872   [Bac Films, Canal+Polska, Heritage Films, Stud...   2002-09-24   \n",
       "1191  [Plan B Entertainment, Regency Enterprises, Ri...   2013-10-18   \n",
       "283         [Pan EuropÃ©enne Production, Virtual Films]   2009-09-11   \n",
       "1688  [Miramax Films, Ghoulardi Film Company, Paramo...   2007-12-28   \n",
       "863   [WingNut Films, New Line Cinema, The Saul Zaen...   2002-12-18   \n",
       "155                               [Working Title Films]   2014-11-26   \n",
       "1563  [Anonymous Content, This Is That Productions, ...   2004-03-19   \n",
       "\n",
       "      vote_average  release_year      profit  release_month  \n",
       "599            8.1          2008   816921825              7  \n",
       "125            8.0          2014   219555708             11  \n",
       "9              8.0          2015   678708609              6  \n",
       "118            8.0          2014   456752480             11  \n",
       "34             8.0          2015    29401758             10  \n",
       "1081           7.9          2003  1024888979             12  \n",
       "138            7.9          2014   144600318              2  \n",
       "1183           7.9          2013   292000694             12  \n",
       "370            7.9          2010   665500000              7  \n",
       "119            7.9          2014   603312399              7  \n",
       "1800           7.9          2000    30723096             10  \n",
       "128            7.9          2014   308330363             10  \n",
       "872            7.9          2002    85072577              9  \n",
       "1191           7.9          2013   167000000             10  \n",
       "283            7.8          2009   -43452791              9  \n",
       "1688           7.8          2007    51181545             12  \n",
       "863            7.8          2002   847287400             12  \n",
       "155            7.8          2014   106201940             11  \n",
       "1563           7.8          2004    52258126              3  "
      ]
     },
     "execution_count": 143,
     "metadata": {},
     "output_type": "execute_result"
    }
   ],
   "source": [
    "votes = data['vote_average'].sort_values(ascending=False)\n",
    "\n",
    "length = round(len(votes)*0.01)\n",
    "votes_1percent = votes[0:length]\n",
    "\n",
    "data_best_vote = data.iloc[list(votes_1percent.index)]\n",
    "data_best_vote"
   ]
  },
  {
   "cell_type": "code",
   "execution_count": 144,
   "metadata": {},
   "outputs": [],
   "source": [
    "# set of options proposed:\n",
    "titles1 = ['Inside Out', 'The Dark Knight', '12 Years a Slave']\n",
    "titles2 = ['BloodRayne', 'The Adventures of Rocky & Bullwinkle']\n",
    "titles3 = ['Batman Begins', 'The Lord of the Rings: The Return of the King', 'Upside Down']\n",
    "titles4 = ['300', 'Lucky Number Slevin', 'Kill Bill: Vol. 1']\n",
    "titles5 = ['Upside Down', 'Inside Out', 'Iron Man']"
   ]
  },
  {
   "cell_type": "code",
   "execution_count": 145,
   "metadata": {},
   "outputs": [
    {
     "data": {
      "text/plain": [
       "1"
      ]
     },
     "execution_count": 145,
     "metadata": {},
     "output_type": "execute_result"
    }
   ],
   "source": [
    "titles_list = [titles1, titles2, titles3, titles4, titles5]\n",
    "\n",
    "find_set(titles_list)"
   ]
  },
  {
   "cell_type": "markdown",
   "metadata": {
    "colab_type": "text",
    "id": "MdXsUXbCVqAV"
   },
   "source": [
    "# 27. Какие актеры чаще всего снимаются в одном фильме вместе?\n"
   ]
  },
  {
   "cell_type": "markdown",
   "metadata": {
    "colab_type": "text",
    "id": "4ymnxEVoVqAW"
   },
   "source": [
    "ВАРИАНТ 2"
   ]
  },
  {
   "cell_type": "code",
   "execution_count": 30,
   "metadata": {},
   "outputs": [],
   "source": [
    "answers['27'] = 'Daniel Radcliffe, Rupert Grint'"
   ]
  },
  {
   "cell_type": "code",
   "execution_count": 149,
   "metadata": {},
   "outputs": [
    {
     "data": {
      "text/plain": [
       "(Daniel Radcliffe, Rupert Grint)             8\n",
       "(Daniel Radcliffe, Emma Watson)              8\n",
       "(Rupert Grint, Emma Watson)                  7\n",
       "(Ben Stiller, Owen Wilson)                   6\n",
       "(Johnny Depp, Helena Bonham Carter)          6\n",
       "                                            ..\n",
       "(John Cusack, Matt McKenna)                  1\n",
       "(Amanda Peet, Adam Scott)                    1\n",
       "(Kristen Johnston, Jane Krakowski)           1\n",
       "(Philip Seymour Hoffman, Allie Mickelson)    1\n",
       "(Allison Janney, Cliff Curtis)               1\n",
       "Length: 18121, dtype: int64"
      ]
     },
     "execution_count": 149,
     "metadata": {},
     "output_type": "execute_result"
    }
   ],
   "source": [
    "from itertools import combinations\n",
    "\n",
    "couples_list = (data['cast'].map(lambda x: list(combinations(x, 2)))).sum()\n",
    "couples = pd.Series(couples_list)\n",
    "couples.value_counts(ascending=False)"
   ]
  },
  {
   "cell_type": "markdown",
   "metadata": {
    "colab_type": "text",
    "id": "U0nONFnGVqAX"
   },
   "source": [
    "# Submission"
   ]
  },
  {
   "cell_type": "code",
   "execution_count": 31,
   "metadata": {
    "colab": {},
    "colab_type": "code",
    "id": "IfcaRO9-VqAX",
    "outputId": "0f132912-32bb-4196-c98c-abfbc4ad5a5f"
   },
   "outputs": [
    {
     "data": {
      "text/plain": [
       "{'1': 'tt1298650 Pirates of the Caribbean: On Stranger Tides',\n",
       " '2': 'tt0279111 Gods and Generals',\n",
       " '3': 'tt1449283 Winnie the Pooh',\n",
       " '4': 110,\n",
       " '5': 107,\n",
       " '6': 'tt0499549 Avatar',\n",
       " '7': 'tt1210819 The Lone Ranger',\n",
       " '8': 1478,\n",
       " '9': 'tt0468569 The Dark Knight',\n",
       " '10': 'tt1210819 The Lone Ranger',\n",
       " '11': 'Drama',\n",
       " '12': 'Drama',\n",
       " '13': 'Peter Jackson',\n",
       " '14': 'Robert Rodriguez',\n",
       " '15': 'Chris Hemsworth',\n",
       " '16': 'Matt Damon',\n",
       " '17': 'Action',\n",
       " '18': 'tt0267626 K-19: The Widowmaker',\n",
       " '19': 2015,\n",
       " '20': 2014,\n",
       " '21': 9,\n",
       " '22': 450,\n",
       " '23': 'Peter Jackson',\n",
       " '24': 'Four By Two Productions',\n",
       " '25': 'Midnight Picture Show',\n",
       " '26': 'Inside Out, The Dark Knight, 12 Years a Slave',\n",
       " '27': 'Daniel Radcliffe, Rupert Grint'}"
      ]
     },
     "execution_count": 31,
     "metadata": {},
     "output_type": "execute_result"
    }
   ],
   "source": [
    "# в конце можно посмотреть свои ответы к каждому вопросу\n",
    "answers"
   ]
  },
  {
   "cell_type": "code",
   "execution_count": 32,
   "metadata": {
    "colab": {},
    "colab_type": "code",
    "id": "SiRmHPl8VqAd"
   },
   "outputs": [
    {
     "data": {
      "text/plain": [
       "27"
      ]
     },
     "execution_count": 32,
     "metadata": {},
     "output_type": "execute_result"
    }
   ],
   "source": [
    "# и убедиться что ни чего не пропустил)\n",
    "len(answers)"
   ]
  },
  {
   "cell_type": "code",
   "execution_count": null,
   "metadata": {},
   "outputs": [],
   "source": []
  }
 ],
 "metadata": {
  "colab": {
   "name": "Copy of [SF-DST] Movies IMBD v4.1 TEMPLATE.ipynb",
   "provenance": []
  },
  "kernelspec": {
   "display_name": "Python 3",
   "language": "python",
   "name": "python3"
  },
  "language_info": {
   "codemirror_mode": {
    "name": "ipython",
    "version": 3
   },
   "file_extension": ".py",
   "mimetype": "text/x-python",
   "name": "python",
   "nbconvert_exporter": "python",
   "pygments_lexer": "ipython3",
   "version": "3.7.6"
  }
 },
 "nbformat": 4,
 "nbformat_minor": 1
}
