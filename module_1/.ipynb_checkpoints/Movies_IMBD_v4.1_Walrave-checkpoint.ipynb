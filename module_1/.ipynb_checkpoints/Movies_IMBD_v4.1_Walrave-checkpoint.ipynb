{
 "cells": [
  {
   "cell_type": "code",
   "execution_count": 1,
   "metadata": {
    "_cell_guid": "b1076dfc-b9ad-4769-8c92-a6c4dae69d19",
    "_uuid": "8f2839f25d086af736a60e9eeb907d3b93b6e0e5",
    "colab": {},
    "colab_type": "code",
    "id": "U2D2gTdJVp90"
   },
   "outputs": [],
   "source": [
    "import numpy as np\n",
    "import pandas as pd\n",
    "import seaborn as sns\n",
    "import matplotlib.pyplot as plt\n",
    "from collections import Counter"
   ]
  },
  {
   "cell_type": "code",
   "execution_count": 2,
   "metadata": {
    "_cell_guid": "79c7e3d0-c299-4dcb-8224-4455121ee9b0",
    "_uuid": "d629ff2d2480ee46fbb7e2d37f6b5fab8052498a",
    "colab": {},
    "colab_type": "code",
    "id": "oyGfxL3eVp9-",
    "scrolled": false
   },
   "outputs": [
    {
     "data": {
      "text/html": [
       "<div>\n",
       "<style scoped>\n",
       "    .dataframe tbody tr th:only-of-type {\n",
       "        vertical-align: middle;\n",
       "    }\n",
       "\n",
       "    .dataframe tbody tr th {\n",
       "        vertical-align: top;\n",
       "    }\n",
       "\n",
       "    .dataframe thead th {\n",
       "        text-align: right;\n",
       "    }\n",
       "</style>\n",
       "<table border=\"1\" class=\"dataframe\">\n",
       "  <thead>\n",
       "    <tr style=\"text-align: right;\">\n",
       "      <th></th>\n",
       "      <th>imdb_id</th>\n",
       "      <th>budget</th>\n",
       "      <th>revenue</th>\n",
       "      <th>original_title</th>\n",
       "      <th>cast</th>\n",
       "      <th>director</th>\n",
       "      <th>tagline</th>\n",
       "      <th>overview</th>\n",
       "      <th>runtime</th>\n",
       "      <th>genres</th>\n",
       "      <th>production_companies</th>\n",
       "      <th>release_date</th>\n",
       "      <th>vote_average</th>\n",
       "      <th>release_year</th>\n",
       "    </tr>\n",
       "  </thead>\n",
       "  <tbody>\n",
       "    <tr>\n",
       "      <th>1741</th>\n",
       "      <td>tt0455960</td>\n",
       "      <td>10000000</td>\n",
       "      <td>25399945</td>\n",
       "      <td>The Hitcher</td>\n",
       "      <td>Sean Bean|Sophia Bush|Zachary Knighton|Neal Mc...</td>\n",
       "      <td>Dave Meyers</td>\n",
       "      <td>Never pick up strangers.</td>\n",
       "      <td>While driving through the New Mexico Desert du...</td>\n",
       "      <td>84</td>\n",
       "      <td>Action|Horror|Crime</td>\n",
       "      <td>Intrepid Pictures|Focus Films|Platinum Dunes</td>\n",
       "      <td>1/19/2007</td>\n",
       "      <td>5.4</td>\n",
       "      <td>2007</td>\n",
       "    </tr>\n",
       "    <tr>\n",
       "      <th>1826</th>\n",
       "      <td>tt0186151</td>\n",
       "      <td>31000000</td>\n",
       "      <td>68106245</td>\n",
       "      <td>Frequency</td>\n",
       "      <td>Dennis Quaid|Jim Caviezel|Andre Braugher|Eliza...</td>\n",
       "      <td>Gregory Hoblit</td>\n",
       "      <td>The future is listening.</td>\n",
       "      <td>When a rare phenomenon gives police officer Jo...</td>\n",
       "      <td>118</td>\n",
       "      <td>Crime|Drama|Science Fiction|Thriller</td>\n",
       "      <td>New Line Cinema</td>\n",
       "      <td>4/28/2000</td>\n",
       "      <td>6.8</td>\n",
       "      <td>2000</td>\n",
       "    </tr>\n",
       "    <tr>\n",
       "      <th>1864</th>\n",
       "      <td>tt0203019</td>\n",
       "      <td>32000000</td>\n",
       "      <td>48814909</td>\n",
       "      <td>Men of Honor</td>\n",
       "      <td>Robert De Niro|Cuba Gooding Jr.|Charlize Thero...</td>\n",
       "      <td>George Tillman, Jr.</td>\n",
       "      <td>History is made by those who break the rules.</td>\n",
       "      <td>Against formidable odds -- and an old-school d...</td>\n",
       "      <td>129</td>\n",
       "      <td>Drama</td>\n",
       "      <td>Fox 2000 Pictures</td>\n",
       "      <td>9/13/2000</td>\n",
       "      <td>7.0</td>\n",
       "      <td>2000</td>\n",
       "    </tr>\n",
       "    <tr>\n",
       "      <th>1649</th>\n",
       "      <td>tt0356618</td>\n",
       "      <td>42000000</td>\n",
       "      <td>117575636</td>\n",
       "      <td>The Forgotten</td>\n",
       "      <td>Julianne Moore|Anthony Edwards|Jessica Hecht|C...</td>\n",
       "      <td>Joseph Ruben</td>\n",
       "      <td>You'll Never Forget The Ones You Love</td>\n",
       "      <td>Telly Paretta is a grieving mother struggling ...</td>\n",
       "      <td>91</td>\n",
       "      <td>Crime|Drama|Horror|Mystery|Science Fiction</td>\n",
       "      <td>Revolution Studios|Jinks/Cohen Company|Visual ...</td>\n",
       "      <td>9/24/2004</td>\n",
       "      <td>5.4</td>\n",
       "      <td>2004</td>\n",
       "    </tr>\n",
       "    <tr>\n",
       "      <th>52</th>\n",
       "      <td>tt0810819</td>\n",
       "      <td>15000000</td>\n",
       "      <td>64191523</td>\n",
       "      <td>The Danish Girl</td>\n",
       "      <td>Eddie Redmayne|Alicia Vikander|Matthias Schoen...</td>\n",
       "      <td>Tom Hooper</td>\n",
       "      <td>Find the courage to be yourself.</td>\n",
       "      <td>When Gerda Wegener asks her husband Einar to f...</td>\n",
       "      <td>120</td>\n",
       "      <td>Drama</td>\n",
       "      <td>Pretty Pictures|Working Title Films|ArtÃ©mis P...</td>\n",
       "      <td>11/27/2015</td>\n",
       "      <td>7.3</td>\n",
       "      <td>2015</td>\n",
       "    </tr>\n",
       "  </tbody>\n",
       "</table>\n",
       "</div>"
      ],
      "text/plain": [
       "        imdb_id    budget    revenue   original_title  \\\n",
       "1741  tt0455960  10000000   25399945      The Hitcher   \n",
       "1826  tt0186151  31000000   68106245        Frequency   \n",
       "1864  tt0203019  32000000   48814909     Men of Honor   \n",
       "1649  tt0356618  42000000  117575636    The Forgotten   \n",
       "52    tt0810819  15000000   64191523  The Danish Girl   \n",
       "\n",
       "                                                   cast             director  \\\n",
       "1741  Sean Bean|Sophia Bush|Zachary Knighton|Neal Mc...          Dave Meyers   \n",
       "1826  Dennis Quaid|Jim Caviezel|Andre Braugher|Eliza...       Gregory Hoblit   \n",
       "1864  Robert De Niro|Cuba Gooding Jr.|Charlize Thero...  George Tillman, Jr.   \n",
       "1649  Julianne Moore|Anthony Edwards|Jessica Hecht|C...         Joseph Ruben   \n",
       "52    Eddie Redmayne|Alicia Vikander|Matthias Schoen...           Tom Hooper   \n",
       "\n",
       "                                            tagline  \\\n",
       "1741                       Never pick up strangers.   \n",
       "1826                       The future is listening.   \n",
       "1864  History is made by those who break the rules.   \n",
       "1649          You'll Never Forget The Ones You Love   \n",
       "52                 Find the courage to be yourself.   \n",
       "\n",
       "                                               overview  runtime  \\\n",
       "1741  While driving through the New Mexico Desert du...       84   \n",
       "1826  When a rare phenomenon gives police officer Jo...      118   \n",
       "1864  Against formidable odds -- and an old-school d...      129   \n",
       "1649  Telly Paretta is a grieving mother struggling ...       91   \n",
       "52    When Gerda Wegener asks her husband Einar to f...      120   \n",
       "\n",
       "                                          genres  \\\n",
       "1741                         Action|Horror|Crime   \n",
       "1826        Crime|Drama|Science Fiction|Thriller   \n",
       "1864                                       Drama   \n",
       "1649  Crime|Drama|Horror|Mystery|Science Fiction   \n",
       "52                                         Drama   \n",
       "\n",
       "                                   production_companies release_date  \\\n",
       "1741       Intrepid Pictures|Focus Films|Platinum Dunes    1/19/2007   \n",
       "1826                                    New Line Cinema    4/28/2000   \n",
       "1864                                  Fox 2000 Pictures    9/13/2000   \n",
       "1649  Revolution Studios|Jinks/Cohen Company|Visual ...    9/24/2004   \n",
       "52    Pretty Pictures|Working Title Films|ArtÃ©mis P...   11/27/2015   \n",
       "\n",
       "      vote_average  release_year  \n",
       "1741           5.4          2007  \n",
       "1826           6.8          2000  \n",
       "1864           7.0          2000  \n",
       "1649           5.4          2004  \n",
       "52             7.3          2015  "
      ]
     },
     "execution_count": 2,
     "metadata": {},
     "output_type": "execute_result"
    }
   ],
   "source": [
    "data = pd.read_csv('movie_bd_v5.csv')\n",
    "data.sample(5)"
   ]
  },
  {
   "cell_type": "code",
   "execution_count": 3,
   "metadata": {
    "colab": {},
    "colab_type": "code",
    "id": "CoYUnagMVp-C"
   },
   "outputs": [
    {
     "data": {
      "text/html": [
       "<div>\n",
       "<style scoped>\n",
       "    .dataframe tbody tr th:only-of-type {\n",
       "        vertical-align: middle;\n",
       "    }\n",
       "\n",
       "    .dataframe tbody tr th {\n",
       "        vertical-align: top;\n",
       "    }\n",
       "\n",
       "    .dataframe thead th {\n",
       "        text-align: right;\n",
       "    }\n",
       "</style>\n",
       "<table border=\"1\" class=\"dataframe\">\n",
       "  <thead>\n",
       "    <tr style=\"text-align: right;\">\n",
       "      <th></th>\n",
       "      <th>budget</th>\n",
       "      <th>revenue</th>\n",
       "      <th>runtime</th>\n",
       "      <th>vote_average</th>\n",
       "      <th>release_year</th>\n",
       "    </tr>\n",
       "  </thead>\n",
       "  <tbody>\n",
       "    <tr>\n",
       "      <th>count</th>\n",
       "      <td>1.889000e+03</td>\n",
       "      <td>1.889000e+03</td>\n",
       "      <td>1889.000000</td>\n",
       "      <td>1889.000000</td>\n",
       "      <td>1889.000000</td>\n",
       "    </tr>\n",
       "    <tr>\n",
       "      <th>mean</th>\n",
       "      <td>5.431083e+07</td>\n",
       "      <td>1.553653e+08</td>\n",
       "      <td>109.658549</td>\n",
       "      <td>6.140762</td>\n",
       "      <td>2007.860773</td>\n",
       "    </tr>\n",
       "    <tr>\n",
       "      <th>std</th>\n",
       "      <td>4.858721e+07</td>\n",
       "      <td>2.146698e+08</td>\n",
       "      <td>18.017041</td>\n",
       "      <td>0.764763</td>\n",
       "      <td>4.468841</td>\n",
       "    </tr>\n",
       "    <tr>\n",
       "      <th>min</th>\n",
       "      <td>5.000000e+06</td>\n",
       "      <td>2.033165e+06</td>\n",
       "      <td>63.000000</td>\n",
       "      <td>3.300000</td>\n",
       "      <td>2000.000000</td>\n",
       "    </tr>\n",
       "    <tr>\n",
       "      <th>25%</th>\n",
       "      <td>2.000000e+07</td>\n",
       "      <td>3.456058e+07</td>\n",
       "      <td>97.000000</td>\n",
       "      <td>5.600000</td>\n",
       "      <td>2004.000000</td>\n",
       "    </tr>\n",
       "    <tr>\n",
       "      <th>50%</th>\n",
       "      <td>3.800000e+07</td>\n",
       "      <td>8.361541e+07</td>\n",
       "      <td>107.000000</td>\n",
       "      <td>6.100000</td>\n",
       "      <td>2008.000000</td>\n",
       "    </tr>\n",
       "    <tr>\n",
       "      <th>75%</th>\n",
       "      <td>7.200000e+07</td>\n",
       "      <td>1.782626e+08</td>\n",
       "      <td>120.000000</td>\n",
       "      <td>6.600000</td>\n",
       "      <td>2012.000000</td>\n",
       "    </tr>\n",
       "    <tr>\n",
       "      <th>max</th>\n",
       "      <td>3.800000e+08</td>\n",
       "      <td>2.781506e+09</td>\n",
       "      <td>214.000000</td>\n",
       "      <td>8.100000</td>\n",
       "      <td>2015.000000</td>\n",
       "    </tr>\n",
       "  </tbody>\n",
       "</table>\n",
       "</div>"
      ],
      "text/plain": [
       "             budget       revenue      runtime  vote_average  release_year\n",
       "count  1.889000e+03  1.889000e+03  1889.000000   1889.000000   1889.000000\n",
       "mean   5.431083e+07  1.553653e+08   109.658549      6.140762   2007.860773\n",
       "std    4.858721e+07  2.146698e+08    18.017041      0.764763      4.468841\n",
       "min    5.000000e+06  2.033165e+06    63.000000      3.300000   2000.000000\n",
       "25%    2.000000e+07  3.456058e+07    97.000000      5.600000   2004.000000\n",
       "50%    3.800000e+07  8.361541e+07   107.000000      6.100000   2008.000000\n",
       "75%    7.200000e+07  1.782626e+08   120.000000      6.600000   2012.000000\n",
       "max    3.800000e+08  2.781506e+09   214.000000      8.100000   2015.000000"
      ]
     },
     "execution_count": 3,
     "metadata": {},
     "output_type": "execute_result"
    }
   ],
   "source": [
    "data.describe()"
   ]
  },
  {
   "cell_type": "code",
   "execution_count": 4,
   "metadata": {},
   "outputs": [
    {
     "name": "stdout",
     "output_type": "stream",
     "text": [
      "<class 'pandas.core.frame.DataFrame'>\n",
      "RangeIndex: 1889 entries, 0 to 1888\n",
      "Data columns (total 14 columns):\n",
      " #   Column                Non-Null Count  Dtype  \n",
      "---  ------                --------------  -----  \n",
      " 0   imdb_id               1889 non-null   object \n",
      " 1   budget                1889 non-null   int64  \n",
      " 2   revenue               1889 non-null   int64  \n",
      " 3   original_title        1889 non-null   object \n",
      " 4   cast                  1889 non-null   object \n",
      " 5   director              1889 non-null   object \n",
      " 6   tagline               1889 non-null   object \n",
      " 7   overview              1889 non-null   object \n",
      " 8   runtime               1889 non-null   int64  \n",
      " 9   genres                1889 non-null   object \n",
      " 10  production_companies  1889 non-null   object \n",
      " 11  release_date          1889 non-null   object \n",
      " 12  vote_average          1889 non-null   float64\n",
      " 13  release_year          1889 non-null   int64  \n",
      "dtypes: float64(1), int64(4), object(9)\n",
      "memory usage: 206.7+ KB\n"
     ]
    }
   ],
   "source": [
    "data.info()"
   ]
  },
  {
   "cell_type": "markdown",
   "metadata": {
    "colab_type": "text",
    "id": "DTIt7ezGVp-G"
   },
   "source": [
    "# Предобработка"
   ]
  },
  {
   "cell_type": "code",
   "execution_count": 3,
   "metadata": {
    "colab": {},
    "colab_type": "code",
    "id": "jNb40DwKVp-H"
   },
   "outputs": [],
   "source": [
    "answers = {} # создадим словарь для ответов\n",
    "\n",
    "# тут другие ваши предобработки колонок например:\n",
    "\n",
    "#the time given in the dataset is in string format.\n",
    "#So we need to change this in datetime format\n",
    "# ..."
   ]
  },
  {
   "cell_type": "code",
   "execution_count": 4,
   "metadata": {},
   "outputs": [
    {
     "data": {
      "text/plain": [
       "0      2015-06-09\n",
       "1      2015-05-13\n",
       "2      2015-03-18\n",
       "3      2015-12-15\n",
       "4      2015-04-01\n",
       "          ...    \n",
       "1884   2000-07-13\n",
       "1885   2000-10-27\n",
       "1886   2000-06-30\n",
       "1887   2000-02-16\n",
       "1888   2000-07-19\n",
       "Name: release_date, Length: 1889, dtype: datetime64[ns]"
      ]
     },
     "execution_count": 4,
     "metadata": {},
     "output_type": "execute_result"
    }
   ],
   "source": [
    "# 1\n",
    "data['release_date'] = pd.to_datetime(data['release_date']) # turning release date strings into a Series with dtype datetime64[ns]\n",
    "data['release_date']"
   ]
  },
  {
   "cell_type": "code",
   "execution_count": 5,
   "metadata": {},
   "outputs": [
    {
     "data": {
      "text/plain": [
       "0       [Action, Adventure, Science Fiction, Thriller]\n",
       "1       [Action, Adventure, Science Fiction, Thriller]\n",
       "2               [Adventure, Science Fiction, Thriller]\n",
       "3        [Action, Adventure, Science Fiction, Fantasy]\n",
       "4                            [Action, Crime, Thriller]\n",
       "                             ...                      \n",
       "1884              [Adventure, Action, Science Fiction]\n",
       "1885                         [Horror, Family, Foreign]\n",
       "1886    [Adventure, Animation, Action, Comedy, Family]\n",
       "1887                                   [Comedy, Drama]\n",
       "1888                                        [Thriller]\n",
       "Name: genres, Length: 1889, dtype: object"
      ]
     },
     "execution_count": 5,
     "metadata": {},
     "output_type": "execute_result"
    }
   ],
   "source": [
    "# 2\n",
    "data['genres'] = data['genres'].apply(lambda x: x.split('|')) # splitting genres strings into lists\n",
    "data['genres']"
   ]
  },
  {
   "cell_type": "code",
   "execution_count": 6,
   "metadata": {},
   "outputs": [
    {
     "data": {
      "text/plain": [
       "0        [Colin Trevorrow]\n",
       "1          [George Miller]\n",
       "2       [Robert Schwentke]\n",
       "3            [J.J. Abrams]\n",
       "4              [James Wan]\n",
       "               ...        \n",
       "1884        [Bryan Singer]\n",
       "1885            [Uli Edel]\n",
       "1886         [Des McAnuff]\n",
       "1887        [Diane Keaton]\n",
       "1888        [Mary Lambert]\n",
       "Name: director, Length: 1889, dtype: object"
      ]
     },
     "execution_count": 6,
     "metadata": {},
     "output_type": "execute_result"
    }
   ],
   "source": [
    "# 3\n",
    "data['director'] = data['director'].apply(lambda x: x.split('|')) # splitting directors strings into lists\n",
    "data['director']"
   ]
  },
  {
   "cell_type": "code",
   "execution_count": 7,
   "metadata": {},
   "outputs": [
    {
     "data": {
      "text/plain": [
       "0       [Chris Pratt, Bryce Dallas Howard, Irrfan Khan...\n",
       "1       [Tom Hardy, Charlize Theron, Hugh Keays-Byrne,...\n",
       "2       [Shailene Woodley, Theo James, Kate Winslet, A...\n",
       "3       [Harrison Ford, Mark Hamill, Carrie Fisher, Ad...\n",
       "4       [Vin Diesel, Paul Walker, Jason Statham, Miche...\n",
       "                              ...                        \n",
       "1884    [Patrick Stewart, Hugh Jackman, Ian McKellen, ...\n",
       "1885    [Richard E. Grant, Jonathan Lipnicki, Jim Cart...\n",
       "1886    [Rene Russo, Jason Alexander, Piper Perabo, Ra...\n",
       "1887    [Meg Ryan, Diane Keaton, Lisa Kudrow, Walter M...\n",
       "1888    [Susan Ward, Lori Heuring, Matthew Settle, Nat...\n",
       "Name: cast, Length: 1889, dtype: object"
      ]
     },
     "execution_count": 7,
     "metadata": {},
     "output_type": "execute_result"
    }
   ],
   "source": [
    "# 4\n",
    "data['cast'] = data['cast'].apply(lambda x: x.split('|')) # splitting actors strings into lists\n",
    "data['cast']"
   ]
  },
  {
   "cell_type": "code",
   "execution_count": 8,
   "metadata": {},
   "outputs": [
    {
     "data": {
      "text/plain": [
       "0       [Universal Studios, Amblin Entertainment, Lege...\n",
       "1       [Village Roadshow Pictures, Kennedy Miller Pro...\n",
       "2       [Summit Entertainment, Mandeville Films, Red W...\n",
       "3           [Lucasfilm, Truenorth Productions, Bad Robot]\n",
       "4       [Universal Pictures, Original Film, Media Righ...\n",
       "                              ...                        \n",
       "1884    [Twentieth Century Fox Film Corporation, Donne...\n",
       "1885                                    [New Line Cinema]\n",
       "1886    [Universal Pictures, Capella International, KC...\n",
       "1887    [Laurence Mark Productions, Columbia Pictures ...\n",
       "1888                              [Warner Bros. Pictures]\n",
       "Name: production_companies, Length: 1889, dtype: object"
      ]
     },
     "execution_count": 8,
     "metadata": {},
     "output_type": "execute_result"
    }
   ],
   "source": [
    "# 5\n",
    "data['production_companies'] = data['production_companies'].apply(lambda x: x.split('|')) # splitting prod companies strings into lists\n",
    "data['production_companies']"
   ]
  },
  {
   "cell_type": "code",
   "execution_count": null,
   "metadata": {},
   "outputs": [],
   "source": [
    "import re\n",
    "\n",
    "# data['imdb_id'] = data['imdb_id'].apply(lambda x: re.search('\\d+', x)[0]) # removing 'tt' from imdb_id's\n",
    "data.head(10)"
   ]
  },
  {
   "cell_type": "code",
   "execution_count": null,
   "metadata": {},
   "outputs": [],
   "source": [
    "# data['cast'] = data['cast'].apply(lambda x: x.split('|')) # splitting string into a list\n",
    "data['cast'][0]"
   ]
  },
  {
   "cell_type": "code",
   "execution_count": 9,
   "metadata": {
    "scrolled": true
   },
   "outputs": [
    {
     "data": {
      "text/html": [
       "<div>\n",
       "<style scoped>\n",
       "    .dataframe tbody tr th:only-of-type {\n",
       "        vertical-align: middle;\n",
       "    }\n",
       "\n",
       "    .dataframe tbody tr th {\n",
       "        vertical-align: top;\n",
       "    }\n",
       "\n",
       "    .dataframe thead th {\n",
       "        text-align: right;\n",
       "    }\n",
       "</style>\n",
       "<table border=\"1\" class=\"dataframe\">\n",
       "  <thead>\n",
       "    <tr style=\"text-align: right;\">\n",
       "      <th></th>\n",
       "      <th>imdb_id</th>\n",
       "      <th>budget</th>\n",
       "      <th>revenue</th>\n",
       "      <th>original_title</th>\n",
       "      <th>cast</th>\n",
       "      <th>director</th>\n",
       "      <th>tagline</th>\n",
       "      <th>overview</th>\n",
       "      <th>runtime</th>\n",
       "      <th>genres</th>\n",
       "      <th>production_companies</th>\n",
       "      <th>release_date</th>\n",
       "      <th>vote_average</th>\n",
       "      <th>release_year</th>\n",
       "      <th>profit</th>\n",
       "    </tr>\n",
       "  </thead>\n",
       "  <tbody>\n",
       "    <tr>\n",
       "      <th>0</th>\n",
       "      <td>tt0369610</td>\n",
       "      <td>150000000</td>\n",
       "      <td>1513528810</td>\n",
       "      <td>Jurassic World</td>\n",
       "      <td>[Chris Pratt, Bryce Dallas Howard, Irrfan Khan...</td>\n",
       "      <td>[Colin Trevorrow]</td>\n",
       "      <td>The park is open.</td>\n",
       "      <td>Twenty-two years after the events of Jurassic ...</td>\n",
       "      <td>124</td>\n",
       "      <td>[Action, Adventure, Science Fiction, Thriller]</td>\n",
       "      <td>[Universal Studios, Amblin Entertainment, Lege...</td>\n",
       "      <td>2015-06-09</td>\n",
       "      <td>6.5</td>\n",
       "      <td>2015</td>\n",
       "      <td>1363528810</td>\n",
       "    </tr>\n",
       "    <tr>\n",
       "      <th>1</th>\n",
       "      <td>tt1392190</td>\n",
       "      <td>150000000</td>\n",
       "      <td>378436354</td>\n",
       "      <td>Mad Max: Fury Road</td>\n",
       "      <td>[Tom Hardy, Charlize Theron, Hugh Keays-Byrne,...</td>\n",
       "      <td>[George Miller]</td>\n",
       "      <td>What a Lovely Day.</td>\n",
       "      <td>An apocalyptic story set in the furthest reach...</td>\n",
       "      <td>120</td>\n",
       "      <td>[Action, Adventure, Science Fiction, Thriller]</td>\n",
       "      <td>[Village Roadshow Pictures, Kennedy Miller Pro...</td>\n",
       "      <td>2015-05-13</td>\n",
       "      <td>7.1</td>\n",
       "      <td>2015</td>\n",
       "      <td>228436354</td>\n",
       "    </tr>\n",
       "    <tr>\n",
       "      <th>2</th>\n",
       "      <td>tt2908446</td>\n",
       "      <td>110000000</td>\n",
       "      <td>295238201</td>\n",
       "      <td>Insurgent</td>\n",
       "      <td>[Shailene Woodley, Theo James, Kate Winslet, A...</td>\n",
       "      <td>[Robert Schwentke]</td>\n",
       "      <td>One Choice Can Destroy You</td>\n",
       "      <td>Beatrice Prior must confront her inner demons ...</td>\n",
       "      <td>119</td>\n",
       "      <td>[Adventure, Science Fiction, Thriller]</td>\n",
       "      <td>[Summit Entertainment, Mandeville Films, Red W...</td>\n",
       "      <td>2015-03-18</td>\n",
       "      <td>6.3</td>\n",
       "      <td>2015</td>\n",
       "      <td>185238201</td>\n",
       "    </tr>\n",
       "    <tr>\n",
       "      <th>3</th>\n",
       "      <td>tt2488496</td>\n",
       "      <td>200000000</td>\n",
       "      <td>2068178225</td>\n",
       "      <td>Star Wars: The Force Awakens</td>\n",
       "      <td>[Harrison Ford, Mark Hamill, Carrie Fisher, Ad...</td>\n",
       "      <td>[J.J. Abrams]</td>\n",
       "      <td>Every generation has a story.</td>\n",
       "      <td>Thirty years after defeating the Galactic Empi...</td>\n",
       "      <td>136</td>\n",
       "      <td>[Action, Adventure, Science Fiction, Fantasy]</td>\n",
       "      <td>[Lucasfilm, Truenorth Productions, Bad Robot]</td>\n",
       "      <td>2015-12-15</td>\n",
       "      <td>7.5</td>\n",
       "      <td>2015</td>\n",
       "      <td>1868178225</td>\n",
       "    </tr>\n",
       "    <tr>\n",
       "      <th>4</th>\n",
       "      <td>tt2820852</td>\n",
       "      <td>190000000</td>\n",
       "      <td>1506249360</td>\n",
       "      <td>Furious 7</td>\n",
       "      <td>[Vin Diesel, Paul Walker, Jason Statham, Miche...</td>\n",
       "      <td>[James Wan]</td>\n",
       "      <td>Vengeance Hits Home</td>\n",
       "      <td>Deckard Shaw seeks revenge against Dominic Tor...</td>\n",
       "      <td>137</td>\n",
       "      <td>[Action, Crime, Thriller]</td>\n",
       "      <td>[Universal Pictures, Original Film, Media Righ...</td>\n",
       "      <td>2015-04-01</td>\n",
       "      <td>7.3</td>\n",
       "      <td>2015</td>\n",
       "      <td>1316249360</td>\n",
       "    </tr>\n",
       "  </tbody>\n",
       "</table>\n",
       "</div>"
      ],
      "text/plain": [
       "     imdb_id     budget     revenue                original_title  \\\n",
       "0  tt0369610  150000000  1513528810                Jurassic World   \n",
       "1  tt1392190  150000000   378436354            Mad Max: Fury Road   \n",
       "2  tt2908446  110000000   295238201                     Insurgent   \n",
       "3  tt2488496  200000000  2068178225  Star Wars: The Force Awakens   \n",
       "4  tt2820852  190000000  1506249360                     Furious 7   \n",
       "\n",
       "                                                cast            director  \\\n",
       "0  [Chris Pratt, Bryce Dallas Howard, Irrfan Khan...   [Colin Trevorrow]   \n",
       "1  [Tom Hardy, Charlize Theron, Hugh Keays-Byrne,...     [George Miller]   \n",
       "2  [Shailene Woodley, Theo James, Kate Winslet, A...  [Robert Schwentke]   \n",
       "3  [Harrison Ford, Mark Hamill, Carrie Fisher, Ad...       [J.J. Abrams]   \n",
       "4  [Vin Diesel, Paul Walker, Jason Statham, Miche...         [James Wan]   \n",
       "\n",
       "                         tagline  \\\n",
       "0              The park is open.   \n",
       "1             What a Lovely Day.   \n",
       "2     One Choice Can Destroy You   \n",
       "3  Every generation has a story.   \n",
       "4            Vengeance Hits Home   \n",
       "\n",
       "                                            overview  runtime  \\\n",
       "0  Twenty-two years after the events of Jurassic ...      124   \n",
       "1  An apocalyptic story set in the furthest reach...      120   \n",
       "2  Beatrice Prior must confront her inner demons ...      119   \n",
       "3  Thirty years after defeating the Galactic Empi...      136   \n",
       "4  Deckard Shaw seeks revenge against Dominic Tor...      137   \n",
       "\n",
       "                                           genres  \\\n",
       "0  [Action, Adventure, Science Fiction, Thriller]   \n",
       "1  [Action, Adventure, Science Fiction, Thriller]   \n",
       "2          [Adventure, Science Fiction, Thriller]   \n",
       "3   [Action, Adventure, Science Fiction, Fantasy]   \n",
       "4                       [Action, Crime, Thriller]   \n",
       "\n",
       "                                production_companies release_date  \\\n",
       "0  [Universal Studios, Amblin Entertainment, Lege...   2015-06-09   \n",
       "1  [Village Roadshow Pictures, Kennedy Miller Pro...   2015-05-13   \n",
       "2  [Summit Entertainment, Mandeville Films, Red W...   2015-03-18   \n",
       "3      [Lucasfilm, Truenorth Productions, Bad Robot]   2015-12-15   \n",
       "4  [Universal Pictures, Original Film, Media Righ...   2015-04-01   \n",
       "\n",
       "   vote_average  release_year      profit  \n",
       "0           6.5          2015  1363528810  \n",
       "1           7.1          2015   228436354  \n",
       "2           6.3          2015   185238201  \n",
       "3           7.5          2015  1868178225  \n",
       "4           7.3          2015  1316249360  "
      ]
     },
     "execution_count": 9,
     "metadata": {},
     "output_type": "execute_result"
    }
   ],
   "source": [
    "# 6\n",
    "data['profit'] = data['revenue'] - data['budget'] # add the column with profit\n",
    "data.head()"
   ]
  },
  {
   "cell_type": "markdown",
   "metadata": {
    "colab_type": "text",
    "id": "YxZaH-nPVp-L"
   },
   "source": [
    "# 1. У какого фильма из списка самый большой бюджет?"
   ]
  },
  {
   "cell_type": "markdown",
   "metadata": {
    "colab_type": "text",
    "id": "Nd-G5gX6Vp-M"
   },
   "source": [
    "Использовать варианты ответов в коде решения запрещено.    \n",
    "Вы думаете и в жизни у вас будут варианты ответов?)"
   ]
  },
  {
   "cell_type": "code",
   "execution_count": 15,
   "metadata": {
    "colab": {},
    "colab_type": "code",
    "id": "uVnXAY5RVp-O"
   },
   "outputs": [],
   "source": [
    "# в словарь вставляем номер вопроса и ваш ответ на него\n",
    "# Пример: \n",
    "# answers['1'] = '2. Spider-Man 3 (tt0413300)'\n",
    "# запишите свой вариант ответа\n",
    "answers['1'] = 'tt1298650 Pirates of the Caribbean: On Stranger Tides'\n",
    "# если ответили верно, можете добавить комментарий со значком \"+\""
   ]
  },
  {
   "cell_type": "code",
   "execution_count": 16,
   "metadata": {
    "colab": {},
    "colab_type": "code",
    "id": "dZwb3m28Vp-S"
   },
   "outputs": [
    {
     "data": {
      "text/html": [
       "<div>\n",
       "<style scoped>\n",
       "    .dataframe tbody tr th:only-of-type {\n",
       "        vertical-align: middle;\n",
       "    }\n",
       "\n",
       "    .dataframe tbody tr th {\n",
       "        vertical-align: top;\n",
       "    }\n",
       "\n",
       "    .dataframe thead th {\n",
       "        text-align: right;\n",
       "    }\n",
       "</style>\n",
       "<table border=\"1\" class=\"dataframe\">\n",
       "  <thead>\n",
       "    <tr style=\"text-align: right;\">\n",
       "      <th></th>\n",
       "      <th>imdb_id</th>\n",
       "      <th>original_title</th>\n",
       "      <th>budget</th>\n",
       "    </tr>\n",
       "  </thead>\n",
       "  <tbody>\n",
       "    <tr>\n",
       "      <th>723</th>\n",
       "      <td>tt1298650</td>\n",
       "      <td>Pirates of the Caribbean: On Stranger Tides</td>\n",
       "      <td>380000000</td>\n",
       "    </tr>\n",
       "  </tbody>\n",
       "</table>\n",
       "</div>"
      ],
      "text/plain": [
       "       imdb_id                               original_title     budget\n",
       "723  tt1298650  Pirates of the Caribbean: On Stranger Tides  380000000"
      ]
     },
     "execution_count": 16,
     "metadata": {},
     "output_type": "execute_result"
    }
   ],
   "source": [
    "# тут пишем ваш код для решения данного вопроса:\n",
    "data[data['budget'] == data['budget'].max()][['imdb_id', 'original_title', 'budget']]"
   ]
  },
  {
   "cell_type": "markdown",
   "metadata": {
    "colab_type": "text",
    "id": "K7L3nbRXVp-X"
   },
   "source": [
    "ВАРИАНТ 2"
   ]
  },
  {
   "cell_type": "code",
   "execution_count": null,
   "metadata": {
    "colab": {},
    "colab_type": "code",
    "id": "OGaoQI7rVp-X"
   },
   "outputs": [],
   "source": [
    "# можно добавлять разные варианты решения"
   ]
  },
  {
   "cell_type": "markdown",
   "metadata": {
    "colab_type": "text",
    "id": "FNRbbI3vVp-c"
   },
   "source": [
    "# 2. Какой из фильмов самый длительный (в минутах)?"
   ]
  },
  {
   "cell_type": "code",
   "execution_count": 17,
   "metadata": {
    "colab": {},
    "colab_type": "code",
    "id": "vHAoEXNTVp-d"
   },
   "outputs": [],
   "source": [
    "# думаю логику работы с этим словарем вы уже поняли, \n",
    "# по этому не буду больше его дублировать\n",
    "answers['2'] = 'tt0279111 Gods and Generals'"
   ]
  },
  {
   "cell_type": "code",
   "execution_count": 18,
   "metadata": {
    "colab": {},
    "colab_type": "code",
    "id": "ot-VX2XrVp-g"
   },
   "outputs": [
    {
     "data": {
      "text/html": [
       "<div>\n",
       "<style scoped>\n",
       "    .dataframe tbody tr th:only-of-type {\n",
       "        vertical-align: middle;\n",
       "    }\n",
       "\n",
       "    .dataframe tbody tr th {\n",
       "        vertical-align: top;\n",
       "    }\n",
       "\n",
       "    .dataframe thead th {\n",
       "        text-align: right;\n",
       "    }\n",
       "</style>\n",
       "<table border=\"1\" class=\"dataframe\">\n",
       "  <thead>\n",
       "    <tr style=\"text-align: right;\">\n",
       "      <th></th>\n",
       "      <th>imdb_id</th>\n",
       "      <th>original_title</th>\n",
       "      <th>runtime</th>\n",
       "    </tr>\n",
       "  </thead>\n",
       "  <tbody>\n",
       "    <tr>\n",
       "      <th>1157</th>\n",
       "      <td>tt0279111</td>\n",
       "      <td>Gods and Generals</td>\n",
       "      <td>214</td>\n",
       "    </tr>\n",
       "  </tbody>\n",
       "</table>\n",
       "</div>"
      ],
      "text/plain": [
       "        imdb_id     original_title  runtime\n",
       "1157  tt0279111  Gods and Generals      214"
      ]
     },
     "execution_count": 18,
     "metadata": {},
     "output_type": "execute_result"
    }
   ],
   "source": [
    "data[data['runtime'] == data['runtime'].max()][['imdb_id', 'original_title', 'runtime']]"
   ]
  },
  {
   "cell_type": "markdown",
   "metadata": {
    "colab_type": "text",
    "id": "bapLlpW8Vp-k"
   },
   "source": [
    "# 3. Какой из фильмов самый короткий (в минутах)?\n",
    "\n",
    "\n",
    "\n"
   ]
  },
  {
   "cell_type": "code",
   "execution_count": 19,
   "metadata": {},
   "outputs": [],
   "source": [
    "answers['3'] = 'tt1449283 Winnie the Pooh'"
   ]
  },
  {
   "cell_type": "code",
   "execution_count": 20,
   "metadata": {
    "colab": {},
    "colab_type": "code",
    "id": "YBxaSHuAVp-l"
   },
   "outputs": [
    {
     "data": {
      "text/html": [
       "<div>\n",
       "<style scoped>\n",
       "    .dataframe tbody tr th:only-of-type {\n",
       "        vertical-align: middle;\n",
       "    }\n",
       "\n",
       "    .dataframe tbody tr th {\n",
       "        vertical-align: top;\n",
       "    }\n",
       "\n",
       "    .dataframe thead th {\n",
       "        text-align: right;\n",
       "    }\n",
       "</style>\n",
       "<table border=\"1\" class=\"dataframe\">\n",
       "  <thead>\n",
       "    <tr style=\"text-align: right;\">\n",
       "      <th></th>\n",
       "      <th>imdb_id</th>\n",
       "      <th>original_title</th>\n",
       "      <th>runtime</th>\n",
       "    </tr>\n",
       "  </thead>\n",
       "  <tbody>\n",
       "    <tr>\n",
       "      <th>768</th>\n",
       "      <td>tt1449283</td>\n",
       "      <td>Winnie the Pooh</td>\n",
       "      <td>63</td>\n",
       "    </tr>\n",
       "  </tbody>\n",
       "</table>\n",
       "</div>"
      ],
      "text/plain": [
       "       imdb_id   original_title  runtime\n",
       "768  tt1449283  Winnie the Pooh       63"
      ]
     },
     "execution_count": 20,
     "metadata": {},
     "output_type": "execute_result"
    }
   ],
   "source": [
    "data[data['runtime'] == data['runtime'].min()][['imdb_id', 'original_title', 'runtime']]"
   ]
  },
  {
   "cell_type": "markdown",
   "metadata": {
    "colab_type": "text",
    "id": "TfQbxbfNVp-p"
   },
   "source": [
    "# 4. Какова средняя длительность фильмов?\n"
   ]
  },
  {
   "cell_type": "code",
   "execution_count": 21,
   "metadata": {},
   "outputs": [],
   "source": [
    "answers['4'] = 110"
   ]
  },
  {
   "cell_type": "code",
   "execution_count": 22,
   "metadata": {
    "colab": {},
    "colab_type": "code",
    "id": "5K6dKZYVVp-q"
   },
   "outputs": [
    {
     "data": {
      "text/plain": [
       "109.6585494970884"
      ]
     },
     "execution_count": 22,
     "metadata": {},
     "output_type": "execute_result"
    }
   ],
   "source": [
    "data['runtime'].mean()"
   ]
  },
  {
   "cell_type": "markdown",
   "metadata": {
    "colab_type": "text",
    "id": "r5TvbnT_Vp-u"
   },
   "source": [
    "# 5. Каково медианное значение длительности фильмов? "
   ]
  },
  {
   "cell_type": "code",
   "execution_count": 23,
   "metadata": {
    "colab": {},
    "colab_type": "code",
    "id": "iBROplKnVp-v"
   },
   "outputs": [],
   "source": [
    "answers['5'] = 107"
   ]
  },
  {
   "cell_type": "code",
   "execution_count": 24,
   "metadata": {},
   "outputs": [
    {
     "data": {
      "text/plain": [
       "107.0"
      ]
     },
     "execution_count": 24,
     "metadata": {},
     "output_type": "execute_result"
    }
   ],
   "source": [
    "data['runtime'].median()"
   ]
  },
  {
   "cell_type": "markdown",
   "metadata": {
    "colab_type": "text",
    "id": "39P-deDSVp-y"
   },
   "source": [
    "# 6. Какой самый прибыльный фильм?\n",
    "#### Внимание! Здесь и далее под «прибылью» или «убытками» понимается разность между сборами и бюджетом фильма. (прибыль = сборы - бюджет) в нашем датасете это будет (profit = revenue - budget) "
   ]
  },
  {
   "cell_type": "code",
   "execution_count": 25,
   "metadata": {},
   "outputs": [],
   "source": [
    "answers['6'] = 'tt0499549 Avatar'"
   ]
  },
  {
   "cell_type": "code",
   "execution_count": 26,
   "metadata": {
    "colab": {},
    "colab_type": "code",
    "id": "UYZh4T9WVp-y"
   },
   "outputs": [
    {
     "data": {
      "text/html": [
       "<div>\n",
       "<style scoped>\n",
       "    .dataframe tbody tr th:only-of-type {\n",
       "        vertical-align: middle;\n",
       "    }\n",
       "\n",
       "    .dataframe tbody tr th {\n",
       "        vertical-align: top;\n",
       "    }\n",
       "\n",
       "    .dataframe thead th {\n",
       "        text-align: right;\n",
       "    }\n",
       "</style>\n",
       "<table border=\"1\" class=\"dataframe\">\n",
       "  <thead>\n",
       "    <tr style=\"text-align: right;\">\n",
       "      <th></th>\n",
       "      <th>imdb_id</th>\n",
       "      <th>original_title</th>\n",
       "      <th>profit</th>\n",
       "    </tr>\n",
       "  </thead>\n",
       "  <tbody>\n",
       "    <tr>\n",
       "      <th>239</th>\n",
       "      <td>tt0499549</td>\n",
       "      <td>Avatar</td>\n",
       "      <td>2544505847</td>\n",
       "    </tr>\n",
       "  </tbody>\n",
       "</table>\n",
       "</div>"
      ],
      "text/plain": [
       "       imdb_id original_title      profit\n",
       "239  tt0499549         Avatar  2544505847"
      ]
     },
     "execution_count": 26,
     "metadata": {},
     "output_type": "execute_result"
    }
   ],
   "source": [
    "# лучше код получения столбца profit вынести в Предобработку что в начале\n",
    "data[data['profit'] == data['profit'].max()][['imdb_id', 'original_title', 'profit']]"
   ]
  },
  {
   "cell_type": "markdown",
   "metadata": {
    "colab_type": "text",
    "id": "M99JmIX4Vp-2"
   },
   "source": [
    "# 7. Какой фильм самый убыточный? "
   ]
  },
  {
   "cell_type": "code",
   "execution_count": 27,
   "metadata": {
    "colab": {},
    "colab_type": "code",
    "id": "w-D2m4XPVp-3"
   },
   "outputs": [],
   "source": [
    "answers['7'] = 'tt1210819 The Lone Ranger'"
   ]
  },
  {
   "cell_type": "code",
   "execution_count": 28,
   "metadata": {},
   "outputs": [
    {
     "data": {
      "text/html": [
       "<div>\n",
       "<style scoped>\n",
       "    .dataframe tbody tr th:only-of-type {\n",
       "        vertical-align: middle;\n",
       "    }\n",
       "\n",
       "    .dataframe tbody tr th {\n",
       "        vertical-align: top;\n",
       "    }\n",
       "\n",
       "    .dataframe thead th {\n",
       "        text-align: right;\n",
       "    }\n",
       "</style>\n",
       "<table border=\"1\" class=\"dataframe\">\n",
       "  <thead>\n",
       "    <tr style=\"text-align: right;\">\n",
       "      <th></th>\n",
       "      <th>imdb_id</th>\n",
       "      <th>original_title</th>\n",
       "      <th>profit</th>\n",
       "    </tr>\n",
       "  </thead>\n",
       "  <tbody>\n",
       "    <tr>\n",
       "      <th>1245</th>\n",
       "      <td>tt1210819</td>\n",
       "      <td>The Lone Ranger</td>\n",
       "      <td>-165710090</td>\n",
       "    </tr>\n",
       "  </tbody>\n",
       "</table>\n",
       "</div>"
      ],
      "text/plain": [
       "        imdb_id   original_title     profit\n",
       "1245  tt1210819  The Lone Ranger -165710090"
      ]
     },
     "execution_count": 28,
     "metadata": {},
     "output_type": "execute_result"
    }
   ],
   "source": [
    "data[data['profit'] == data['profit'].min()][['imdb_id', 'original_title', 'profit']]"
   ]
  },
  {
   "cell_type": "markdown",
   "metadata": {
    "colab_type": "text",
    "id": "wEOM5ERVVp-6"
   },
   "source": [
    "# 8. У скольких фильмов из датасета объем сборов оказался выше бюджета?"
   ]
  },
  {
   "cell_type": "code",
   "execution_count": 29,
   "metadata": {
    "colab": {},
    "colab_type": "code",
    "id": "y00_7HD6Vp-7"
   },
   "outputs": [],
   "source": [
    "answers['8'] = 1478"
   ]
  },
  {
   "cell_type": "code",
   "execution_count": 30,
   "metadata": {},
   "outputs": [
    {
     "data": {
      "text/plain": [
       "1478"
      ]
     },
     "execution_count": 30,
     "metadata": {},
     "output_type": "execute_result"
    }
   ],
   "source": [
    "len(data[data['profit'] > 0])"
   ]
  },
  {
   "cell_type": "markdown",
   "metadata": {
    "colab_type": "text",
    "id": "xhpspA9KVp_A"
   },
   "source": [
    "# 9. Какой фильм оказался самым кассовым в 2008 году?"
   ]
  },
  {
   "cell_type": "code",
   "execution_count": 31,
   "metadata": {
    "colab": {},
    "colab_type": "code",
    "id": "MoUyQr9RVp_B"
   },
   "outputs": [],
   "source": [
    "answers['9'] = 'tt0468569 The Dark Knight'"
   ]
  },
  {
   "cell_type": "markdown",
   "metadata": {},
   "source": [
    "* FIRST METHOD: Using the column 'release_date'. If 'release_date' stays string."
   ]
  },
  {
   "cell_type": "code",
   "execution_count": 6,
   "metadata": {
    "scrolled": true
   },
   "outputs": [
    {
     "name": "stdout",
     "output_type": "stream",
     "text": [
      "1.46 ms ± 366 µs per loop (mean ± std. dev. of 7 runs, 1000 loops each)\n"
     ]
    },
    {
     "data": {
      "text/html": [
       "<div>\n",
       "<style scoped>\n",
       "    .dataframe tbody tr th:only-of-type {\n",
       "        vertical-align: middle;\n",
       "    }\n",
       "\n",
       "    .dataframe tbody tr th {\n",
       "        vertical-align: top;\n",
       "    }\n",
       "\n",
       "    .dataframe thead th {\n",
       "        text-align: right;\n",
       "    }\n",
       "</style>\n",
       "<table border=\"1\" class=\"dataframe\">\n",
       "  <thead>\n",
       "    <tr style=\"text-align: right;\">\n",
       "      <th></th>\n",
       "      <th>imdb_id</th>\n",
       "      <th>original_title</th>\n",
       "      <th>revenue</th>\n",
       "    </tr>\n",
       "  </thead>\n",
       "  <tbody>\n",
       "    <tr>\n",
       "      <th>599</th>\n",
       "      <td>tt0468569</td>\n",
       "      <td>The Dark Knight</td>\n",
       "      <td>1001921825</td>\n",
       "    </tr>\n",
       "  </tbody>\n",
       "</table>\n",
       "</div>"
      ],
      "text/plain": [
       "       imdb_id   original_title     revenue\n",
       "599  tt0468569  The Dark Knight  1001921825"
      ]
     },
     "execution_count": 6,
     "metadata": {},
     "output_type": "execute_result"
    }
   ],
   "source": [
    "import time\n",
    "\n",
    "%timeit released_2008 = data[data['release_date'].str.contains('2008')]\n",
    "released_2008[released_2008['revenue'] == released_2008['revenue'].max()][['imdb_id', 'original_title', 'revenue']]"
   ]
  },
  {
   "cell_type": "markdown",
   "metadata": {},
   "source": [
    "* SECOND METHOD: using the column 'release_date'. If 'release_date' is turned into datetime"
   ]
  },
  {
   "cell_type": "code",
   "execution_count": 14,
   "metadata": {
    "scrolled": true
   },
   "outputs": [
    {
     "name": "stdout",
     "output_type": "stream",
     "text": [
      "619 µs ± 15.1 µs per loop (mean ± std. dev. of 7 runs, 1000 loops each)\n"
     ]
    },
    {
     "data": {
      "text/html": [
       "<div>\n",
       "<style scoped>\n",
       "    .dataframe tbody tr th:only-of-type {\n",
       "        vertical-align: middle;\n",
       "    }\n",
       "\n",
       "    .dataframe tbody tr th {\n",
       "        vertical-align: top;\n",
       "    }\n",
       "\n",
       "    .dataframe thead th {\n",
       "        text-align: right;\n",
       "    }\n",
       "</style>\n",
       "<table border=\"1\" class=\"dataframe\">\n",
       "  <thead>\n",
       "    <tr style=\"text-align: right;\">\n",
       "      <th></th>\n",
       "      <th>imdb_id</th>\n",
       "      <th>original_title</th>\n",
       "      <th>revenue</th>\n",
       "    </tr>\n",
       "  </thead>\n",
       "  <tbody>\n",
       "    <tr>\n",
       "      <th>599</th>\n",
       "      <td>tt0468569</td>\n",
       "      <td>The Dark Knight</td>\n",
       "      <td>1001921825</td>\n",
       "    </tr>\n",
       "  </tbody>\n",
       "</table>\n",
       "</div>"
      ],
      "text/plain": [
       "       imdb_id   original_title     revenue\n",
       "599  tt0468569  The Dark Knight  1001921825"
      ]
     },
     "execution_count": 14,
     "metadata": {},
     "output_type": "execute_result"
    }
   ],
   "source": [
    "%timeit released_2008 = data[(data['release_date'] >= '2008-01-01') & (data['release_date'] <= '2008-12-31')]\n",
    "released_2008[released_2008['revenue'] == released_2008['revenue'].max()][['imdb_id', 'original_title', 'revenue']]"
   ]
  },
  {
   "cell_type": "markdown",
   "metadata": {},
   "source": [
    "The second method is much faster"
   ]
  },
  {
   "cell_type": "markdown",
   "metadata": {},
   "source": [
    "* THIRD METHOD: Using the column 'release_year' (int64)"
   ]
  },
  {
   "cell_type": "code",
   "execution_count": 15,
   "metadata": {},
   "outputs": [
    {
     "name": "stdout",
     "output_type": "stream",
     "text": [
      "708 µs ± 7.57 µs per loop (mean ± std. dev. of 7 runs, 1000 loops each)\n"
     ]
    },
    {
     "data": {
      "text/html": [
       "<div>\n",
       "<style scoped>\n",
       "    .dataframe tbody tr th:only-of-type {\n",
       "        vertical-align: middle;\n",
       "    }\n",
       "\n",
       "    .dataframe tbody tr th {\n",
       "        vertical-align: top;\n",
       "    }\n",
       "\n",
       "    .dataframe thead th {\n",
       "        text-align: right;\n",
       "    }\n",
       "</style>\n",
       "<table border=\"1\" class=\"dataframe\">\n",
       "  <thead>\n",
       "    <tr style=\"text-align: right;\">\n",
       "      <th></th>\n",
       "      <th>imdb_id</th>\n",
       "      <th>original_title</th>\n",
       "      <th>revenue</th>\n",
       "    </tr>\n",
       "  </thead>\n",
       "  <tbody>\n",
       "    <tr>\n",
       "      <th>599</th>\n",
       "      <td>tt0468569</td>\n",
       "      <td>The Dark Knight</td>\n",
       "      <td>1001921825</td>\n",
       "    </tr>\n",
       "  </tbody>\n",
       "</table>\n",
       "</div>"
      ],
      "text/plain": [
       "       imdb_id   original_title     revenue\n",
       "599  tt0468569  The Dark Knight  1001921825"
      ]
     },
     "execution_count": 15,
     "metadata": {},
     "output_type": "execute_result"
    }
   ],
   "source": [
    "%timeit released_2008 = data[data['release_year'] == 2008]\n",
    "released_2008[released_2008['revenue'] == released_2008['revenue'].max()][['imdb_id', 'original_title', 'revenue']]"
   ]
  },
  {
   "cell_type": "markdown",
   "metadata": {
    "colab_type": "text",
    "id": "Zi4hDKidVp_F"
   },
   "source": [
    "# 10. Самый убыточный фильм за период с 2012 по 2014 г. (включительно)?\n"
   ]
  },
  {
   "cell_type": "code",
   "execution_count": null,
   "metadata": {
    "colab": {},
    "colab_type": "code",
    "id": "XqyRmufJVp_F"
   },
   "outputs": [],
   "source": [
    "answers['10'] = 'tt1210819 The Lone Ranger'"
   ]
  },
  {
   "cell_type": "markdown",
   "metadata": {},
   "source": [
    "* FIRST METHOD: Using the column 'release_date'. If 'release_date' is turned into datetime"
   ]
  },
  {
   "cell_type": "code",
   "execution_count": null,
   "metadata": {},
   "outputs": [],
   "source": [
    "%timeit movies_2012_2014 = data[(data['release_date'] >= '2012-01-01') & (data['release_date'] <= '2014-12-31')]\n",
    "movies_2012_2014[movies_2012_2014['profit'] == movies_2012_2014['profit'].min()][['imdb_id', 'original_title', 'profit']]"
   ]
  },
  {
   "cell_type": "markdown",
   "metadata": {},
   "source": [
    "* SECOND METHOD: Using the column 'release_year' (int64)"
   ]
  },
  {
   "cell_type": "code",
   "execution_count": null,
   "metadata": {
    "scrolled": true
   },
   "outputs": [],
   "source": [
    "%timeit movies_2012_2014 = data[(data['release_year'] >= 2012) & (data['release_year'] <= 2014)]\n",
    "movies_2012_2014[movies_2012_2014['profit'] == movies_2012_2014['profit'].min()][['imdb_id', 'original_title', 'profit']]"
   ]
  },
  {
   "cell_type": "markdown",
   "metadata": {},
   "source": [
    "Working with pandas datetimes is faster after all."
   ]
  },
  {
   "cell_type": "markdown",
   "metadata": {
    "colab_type": "text",
    "id": "EA7Sa9dkVp_I"
   },
   "source": [
    "# 11. Какого жанра фильмов больше всего?"
   ]
  },
  {
   "cell_type": "code",
   "execution_count": null,
   "metadata": {
    "colab": {},
    "colab_type": "code",
    "id": "zsJAwJ8QVp_J"
   },
   "outputs": [],
   "source": [
    "# эту задачу тоже можно решать разными подходами, попробуй реализовать разные варианты\n",
    "# если будешь добавлять функцию - выноси ее в предобработку что в начале"
   ]
  },
  {
   "cell_type": "code",
   "execution_count": null,
   "metadata": {},
   "outputs": [],
   "source": [
    "answers['11'] = 'Drama'"
   ]
  },
  {
   "cell_type": "markdown",
   "metadata": {},
   "source": [
    "* FIRST METHOD"
   ]
  },
  {
   "cell_type": "code",
   "execution_count": null,
   "metadata": {},
   "outputs": [],
   "source": [
    "genres_counter = Counter() # genres Counter\n",
    "for genre_list in data['genres']: # listing each list in Series\n",
    "    for genre in genre_list: # listing each genre in list\n",
    "        genres_counter[genre] += 1\n",
    "\n",
    "genres_counter_ordered = {\n",
    "    key: value for key, value in sorted(genres_counter.items(), key=lambda item: item[1], reverse=True)\n",
    "    } # sorting dictionary by values - giving a dictionary\n",
    "genres_counter_ordered"
   ]
  },
  {
   "cell_type": "markdown",
   "metadata": {},
   "source": [
    "* Another method of sorting"
   ]
  },
  {
   "cell_type": "code",
   "execution_count": null,
   "metadata": {},
   "outputs": [],
   "source": [
    "genres_counter_ordered_keys = sorted(genres_counter, key=genres_counter.get, reverse=True) # sorting dictionary by values - giving a list of keys\n",
    "genres_counter_ordered_keys[0]"
   ]
  },
  {
   "cell_type": "markdown",
   "metadata": {},
   "source": [
    "* SECOND METHOD - adviced in Slack"
   ]
  },
  {
   "cell_type": "code",
   "execution_count": null,
   "metadata": {},
   "outputs": [],
   "source": [
    "genres = data['genres'].sum() # merging the lists\n",
    "c = Counter()\n",
    "for item in genres:\n",
    "    c[item] += 1\n",
    "sorted(c, key=c.get, reverse=True)[0] # decending sorting and getting the first item"
   ]
  },
  {
   "cell_type": "markdown",
   "metadata": {
    "colab": {},
    "colab_type": "code",
    "id": "Tmt8MaK1Vp_R"
   },
   "source": [
    "# 12. Фильмы какого жанра чаще всего становятся прибыльными?"
   ]
  },
  {
   "cell_type": "code",
   "execution_count": null,
   "metadata": {},
   "outputs": [],
   "source": [
    "answers['12'] = 'Drama'"
   ]
  },
  {
   "cell_type": "code",
   "execution_count": null,
   "metadata": {},
   "outputs": [],
   "source": [
    "def genres_profit(row, counter):\n",
    "    \"\"\"\n",
    "    Takes a row of a movies dataframe and an outer genres Counter, adds up 1 to the genre if the movie is profitable.\n",
    "    \"\"\"\n",
    "    \n",
    "    for genre in row['genres']:\n",
    "        if row['profit'] > 0:\n",
    "            counter[genre] += 1\n",
    "    return True\n",
    "\n",
    "\n",
    "genres_profit_counter = Counter()\n",
    "data.apply(genres_profit, axis=1, counter=genres_profit_counter) # applying function to the dataframe\n",
    "\n",
    "genres_profit_counter_ordered = {\n",
    "    key: value for key, value in sorted(genres_profit_counter.items(), key=lambda item: item[1], reverse=True)\n",
    "} # sorting dictionary by values - giving a dictionary\n",
    "\n",
    "genres_profit_counter_ordered"
   ]
  },
  {
   "cell_type": "code",
   "execution_count": null,
   "metadata": {
    "scrolled": false
   },
   "outputs": [],
   "source": [
    "data[data['genres'].map(lambda x: 'Foreign' in x) == True] # why genre 'Foreign' is not in 'genres_profit_counter_ordered'\n",
    "# using usual sorting of df in [] but also using map cause each member of Series contains a list"
   ]
  },
  {
   "cell_type": "markdown",
   "metadata": {},
   "source": [
    "=> see that their profit is < 0"
   ]
  },
  {
   "cell_type": "markdown",
   "metadata": {},
   "source": [
    "Ответ получен (драма), ОДНАКО частота различных жанров различна - соответственно, ожидаемо, что прибыльность наиболее часто встречающихся жанров будет выше. Поэтому имеет смысл посчитать прибыльность относительно частоты \"встречаемости\" жанра."
   ]
  },
  {
   "cell_type": "code",
   "execution_count": null,
   "metadata": {},
   "outputs": [],
   "source": [
    "genres_profit_counter_ordered['Foreign'] = 0 # adding profitability of the genre 'Foreign' to 'genres_profit_counter_ordered' (to make lengths of both dicts equal)"
   ]
  },
  {
   "cell_type": "code",
   "execution_count": null,
   "metadata": {},
   "outputs": [],
   "source": [
    "# create a dataframe of genres profitability\n",
    "genres = pd.DataFrame({\n",
    "    'frequency': [value for value in genres_counter_ordered.values()],\n",
    "    'abs_profitability': [value for value in genres_profit_counter_ordered.values()]\n",
    "})\n",
    "genres['rel_profitability'] = round(genres['abs_profitability'] / genres['frequency'], 4)\n",
    "genres.index = [key for key in genres_counter_ordered.keys()]\n",
    "genres"
   ]
  },
  {
   "cell_type": "code",
   "execution_count": null,
   "metadata": {},
   "outputs": [],
   "source": [
    "genres.describe()"
   ]
  },
  {
   "cell_type": "code",
   "execution_count": null,
   "metadata": {},
   "outputs": [],
   "source": [
    "genres[genres['rel_profitability'] >= 0.8294] # checking the 4th quartile"
   ]
  },
  {
   "cell_type": "markdown",
   "metadata": {},
   "source": [
    "Таким образом, из всех выпущенных фильмов в жанрах семейные, фэнтэзи, хоррор, анимационные, документальные наибольшее процентное количество становится прибыльными."
   ]
  },
  {
   "cell_type": "markdown",
   "metadata": {
    "colab_type": "text",
    "id": "0F23bgsDVp_U"
   },
   "source": [
    "# 13. У какого режиссера самые большие суммарные кассовые сборы?"
   ]
  },
  {
   "cell_type": "code",
   "execution_count": 68,
   "metadata": {
    "colab": {},
    "colab_type": "code",
    "id": "K6Z3J8ygVp_X"
   },
   "outputs": [],
   "source": [
    "answers['13'] = 'Peter Jackson'"
   ]
  },
  {
   "cell_type": "code",
   "execution_count": 82,
   "metadata": {},
   "outputs": [
    {
     "data": {
      "text/plain": [
       "Peter Jackson        6490593685\n",
       "Christopher Nolan    4167548502\n",
       "David Yates          4154295625\n",
       "Michael Bay          3886938960\n",
       "J.J. Abrams          3579169916\n",
       "                        ...    \n",
       "David MichÃ´d           2295423\n",
       "Steven Shainberg        2281089\n",
       "Paul Schrader           2062066\n",
       "Keanu Reeves            2054941\n",
       "Simon Hunter            2033165\n",
       "Length: 997, dtype: int64"
      ]
     },
     "execution_count": 82,
     "metadata": {},
     "output_type": "execute_result"
    }
   ],
   "source": [
    "dir_rev = pd.Series(data['director'].sum()) # merging lists of directors into Series\n",
    "dir_rev = dir_rev.value_counts() # now index contains unique directors; we could also use Series.unique() for this -> numpy.ndarray of directors\n",
    "for director in dir_rev.index:\n",
    "    dir_rev[director] = data[data['director'].map(lambda x: director in x)]['revenue'].sum()\n",
    "dir_rev.sort_values(ascending=False)"
   ]
  },
  {
   "cell_type": "markdown",
   "metadata": {
    "colab_type": "text",
    "id": "PsYC9FgRVp_a"
   },
   "source": [
    "# 14. Какой режисер снял больше всего фильмов в стиле Action?"
   ]
  },
  {
   "cell_type": "code",
   "execution_count": null,
   "metadata": {
    "colab": {},
    "colab_type": "code",
    "id": "wd2M-wHeVp_b"
   },
   "outputs": [],
   "source": [
    "answers['14'] = 'Robert Rodriguez'"
   ]
  },
  {
   "cell_type": "markdown",
   "metadata": {},
   "source": [
    "FIRST METHOD: Using collections.Counter"
   ]
  },
  {
   "cell_type": "code",
   "execution_count": null,
   "metadata": {},
   "outputs": [],
   "source": [
    "action_dir_counter = Counter()\n",
    "\n",
    "def action_dir_count(row, counter):\n",
    "    \"\"\"\n",
    "    Counts directors of action movies in a dataframe row by row. Uses an external collections.Counter.\n",
    "    \"\"\"\n",
    "    \n",
    "    for director in row['director']:\n",
    "        if 'Action' in row['genres']:\n",
    "            counter[director] += 1\n",
    "    \n",
    "    return True\n",
    "\n",
    "\n",
    "data.apply(action_dir_count, axis=1, counter=action_dir_counter)\n",
    "\n",
    "# sort counter dictionary keys by descending values, take the first key\n",
    "sorted(action_dir_counter, key=action_dir_counter.get, reverse=True)[0]"
   ]
  },
  {
   "cell_type": "code",
   "execution_count": null,
   "metadata": {},
   "outputs": [],
   "source": [
    "# sorting action_dir_counter items by descending values\n",
    "action_dir_counter_sorted = {\n",
    "    key: value for key, value in sorted(action_dir_counter.items(), key=lambda item: item[1], reverse=True)\n",
    "}\n",
    "action_dir_counter_sorted"
   ]
  },
  {
   "cell_type": "markdown",
   "metadata": {},
   "source": [
    "SECOND METHOD"
   ]
  },
  {
   "cell_type": "code",
   "execution_count": 36,
   "metadata": {},
   "outputs": [],
   "source": [
    "data_action = data[data['genres'].map(lambda genres: 'Action' in genres)] # using usual sorting of df in [] but also using map cause each member of Series contains list\n",
    "\n",
    "directors = data_action['director'].sum() # merging the Series of lists of directors"
   ]
  },
  {
   "cell_type": "markdown",
   "metadata": {},
   "source": [
    "a) Using collections.Counter()"
   ]
  },
  {
   "cell_type": "code",
   "execution_count": 53,
   "metadata": {
    "scrolled": true
   },
   "outputs": [
    {
     "data": {
      "text/plain": [
       "{'Robert Rodriguez': 9,\n",
       " 'Michael Bay': 7,\n",
       " 'Paul W.S. Anderson': 7,\n",
       " 'Antoine Fuqua': 6,\n",
       " 'Ridley Scott': 6,\n",
       " 'Brett Ratner': 5,\n",
       " 'Quentin Tarantino': 5,\n",
       " 'Zack Snyder': 5,\n",
       " 'Roland Emmerich': 5,\n",
       " 'Andrzej Bartkowiak': 5,\n",
       " 'Louis Leterrier': 5,\n",
       " 'Tony Scott': 5,\n",
       " 'Paul Greengrass': 5,\n",
       " 'Peter Jackson': 5,\n",
       " 'Lee Tamahori': 5,\n",
       " 'Gore Verbinski': 5,\n",
       " 'Rob Cohen': 5,\n",
       " 'Peter Berg': 5,\n",
       " 'J.J. Abrams': 4,\n",
       " 'Lana Wachowski': 4,\n",
       " 'Lilly Wachowski': 4,\n",
       " 'Olivier Megaton': 4,\n",
       " 'Guy Ritchie': 4,\n",
       " 'Bryan Singer': 4,\n",
       " 'Tim Story': 4,\n",
       " 'Renny Harlin': 4,\n",
       " 'Mark Neveldine': 4,\n",
       " 'Brian Taylor': 4,\n",
       " 'Dominic Sena': 4,\n",
       " 'Justin Lin': 4,\n",
       " 'Christopher Nolan': 4,\n",
       " 'Simon West': 4,\n",
       " 'John Moore': 4,\n",
       " 'Steven Spielberg': 4,\n",
       " 'Martin Campbell': 4,\n",
       " 'John Singleton': 4,\n",
       " 'Len Wiseman': 4,\n",
       " 'Brad Bird': 3,\n",
       " 'Matthew Vaughn': 3,\n",
       " 'Neill Blomkamp': 3,\n",
       " 'Jaume Collet-Serra': 3,\n",
       " 'Breck Eisner': 3,\n",
       " 'Pierre Morel': 3,\n",
       " 'David Ayer': 3,\n",
       " 'Doug Liman': 3,\n",
       " 'Clint Eastwood': 3,\n",
       " 'Phil Lord': 3,\n",
       " 'Christopher Miller': 3,\n",
       " 'McG': 3,\n",
       " 'Stephen Sommers': 3,\n",
       " 'Shawn Levy': 3,\n",
       " 'Jonathan Mostow': 3,\n",
       " 'Jon Favreau': 3,\n",
       " 'Jon Turteltaub': 3,\n",
       " 'Joe Carnahan': 3,\n",
       " 'M. Night Shyamalan': 3,\n",
       " 'Harald Zwart': 3,\n",
       " 'Marc Forster': 3,\n",
       " 'D.J. Caruso': 3,\n",
       " 'Edward Zwick': 3,\n",
       " 'Sam Raimi': 3,\n",
       " 'Barry Sonnenfeld': 3,\n",
       " 'Guillermo del Toro': 3,\n",
       " 'John Woo': 3,\n",
       " 'Uwe Boll': 3,\n",
       " 'David Twohy': 3,\n",
       " 'James Wan': 2,\n",
       " 'Alan Taylor': 2,\n",
       " 'Sam Mendes': 2,\n",
       " 'Joss Whedon': 2,\n",
       " 'Peyton Reed': 2,\n",
       " 'Brad Peyton': 2,\n",
       " 'Wes Ball': 2,\n",
       " 'Michael Mann': 2,\n",
       " 'Paul Feig': 2,\n",
       " 'Ron Howard': 2,\n",
       " 'Camille Delamarre': 2,\n",
       " 'Luc Besson': 2,\n",
       " 'Jonathan Liebesman': 2,\n",
       " 'Matt Reeves': 2,\n",
       " 'Marc Webb': 2,\n",
       " 'Evan Goldberg': 2,\n",
       " 'Seth Rogen': 2,\n",
       " 'Roger Donaldson': 2,\n",
       " 'J.C. Chandor': 2,\n",
       " 'Kenneth Branagh': 2,\n",
       " 'Scott Waugh': 2,\n",
       " 'Alex Proyas': 2,\n",
       " 'James McTeigue': 2,\n",
       " 'NimrÃ³d Antal': 2,\n",
       " 'Gavin Hood': 2,\n",
       " 'Sylvester Stallone': 2,\n",
       " 'Joseph Kosinski': 2,\n",
       " 'Edgar Wright': 2,\n",
       " 'Robert Schwentke': 2,\n",
       " 'James Mangold': 2,\n",
       " 'Neil Marshall': 2,\n",
       " 'Kevin Munroe': 2,\n",
       " 'Peter Howitt': 2,\n",
       " 'Frank Oz': 2,\n",
       " 'Joe Johnston': 2,\n",
       " 'Peter Hyams': 2,\n",
       " 'Timur Bekmambetov': 2,\n",
       " 'David Gordon Green': 2,\n",
       " 'Pete Travis': 2,\n",
       " 'Frank Miller': 2,\n",
       " 'Jason Friedberg': 2,\n",
       " 'Aaron Seltzer': 2,\n",
       " 'Rob Marshall': 2,\n",
       " 'Andrew Niccol': 2,\n",
       " 'Marcus Nispel': 2,\n",
       " 'Ruben Fleischer': 2,\n",
       " 'George Lucas': 2,\n",
       " 'Andrew Davis': 2,\n",
       " 'Walter Hill': 2,\n",
       " 'Rob Bowman': 2,\n",
       " 'Ang Lee': 2,\n",
       " 'Baltasar KormÃ¡kur': 2,\n",
       " 'Mark Steven Johnson': 2,\n",
       " 'F. Gary Gray': 2,\n",
       " 'David Dobkin': 2,\n",
       " 'Clark Johnson': 2,\n",
       " 'Richard Donner': 2,\n",
       " 'William Friedkin': 2,\n",
       " 'Francis Lawrence': 2,\n",
       " 'Courtney Solomon': 2,\n",
       " 'David R. Ellis': 2,\n",
       " 'David S. Goyer': 2,\n",
       " 'Colin Trevorrow': 1,\n",
       " 'George Miller': 1,\n",
       " 'Chris Columbus': 1,\n",
       " 'Christopher McQuarrie': 1,\n",
       " 'Ilya Naishuller': 1,\n",
       " 'Ericson Core': 1,\n",
       " 'Denis Villeneuve': 1,\n",
       " 'Josh Trank': 1,\n",
       " 'Aleksander Bach': 1,\n",
       " 'Andy Fickman': 1,\n",
       " 'John Erick Dowdle': 1,\n",
       " 'Anne Fletcher': 1,\n",
       " 'James Gunn': 1,\n",
       " 'Joe Russo': 1,\n",
       " 'Anthony Russo': 1,\n",
       " 'Chad Stahelski': 1,\n",
       " 'David Leitch': 1,\n",
       " 'Don Hall': 1,\n",
       " 'Chris Williams': 1,\n",
       " 'Neil Burger': 1,\n",
       " 'Gareth Edwards': 1,\n",
       " 'Robert Stromberg': 1,\n",
       " 'Dean DeBlois': 1,\n",
       " 'Patrick Hughes': 1,\n",
       " 'Gary Shore': 1,\n",
       " 'Noam Murro': 1,\n",
       " 'Vic Armstrong': 1,\n",
       " 'JosÃ© Padilha': 1,\n",
       " 'George Clooney': 1,\n",
       " 'Brian A Miller': 1,\n",
       " 'Steven Quale': 1,\n",
       " 'Adam Wingard': 1,\n",
       " 'James Cameron': 1,\n",
       " 'Patrick Tatopoulos': 1,\n",
       " 'Shane Acker': 1,\n",
       " 'Steve Carr': 1,\n",
       " 'Christian Alvart': 1,\n",
       " 'Hoyt Yeatman': 1,\n",
       " 'Kevin Macdonald': 1,\n",
       " 'Michael Spierig': 1,\n",
       " 'Peter Spierig': 1,\n",
       " 'Paul McGuigan': 1,\n",
       " 'Troy Duffy': 1,\n",
       " 'Paul Weitz': 1,\n",
       " 'David Bowers': 1,\n",
       " 'Daniel Barber': 1,\n",
       " 'Michael J. Bassett': 1,\n",
       " 'Pierre Coffin': 1,\n",
       " 'Chris Renaud': 1,\n",
       " 'Phillip Noyce': 1,\n",
       " 'Florian Henckel von Donnersmarck': 1,\n",
       " 'Mike Newell': 1,\n",
       " 'Ethan Maniquis': 1,\n",
       " 'Albert Hughes': 1,\n",
       " 'Allen Hughes': 1,\n",
       " 'Tom McGrath': 1,\n",
       " 'Adam McKay': 1,\n",
       " 'Miguel Sapochnik': 1,\n",
       " 'Andy Tennant': 1,\n",
       " 'Jonathan Lynn': 1,\n",
       " 'Jimmy Hayward': 1,\n",
       " 'Robert Luketic': 1,\n",
       " 'John Luessenhop': 1,\n",
       " 'Kevin Smith': 1,\n",
       " 'Jorma Taccone': 1,\n",
       " 'Brian Levant': 1,\n",
       " 'Stuart Beattie': 1,\n",
       " 'Tim Burton': 1,\n",
       " 'Brian Helgeland': 1,\n",
       " 'John A. Davis': 1,\n",
       " 'Chris Nahon': 1,\n",
       " 'Hironobu Sakaguchi': 1,\n",
       " 'Motonori Sakakibara': 1,\n",
       " 'Rod Lurie': 1,\n",
       " 'John Herzfeld': 1,\n",
       " 'Ivan Reitman': 1,\n",
       " 'Demian Lichtenstein': 1,\n",
       " 'John Carpenter': 1,\n",
       " 'Bobby Farrelly': 1,\n",
       " 'Peter Farrelly': 1,\n",
       " 'Barry Levinson': 1,\n",
       " 'Luke Greenfield': 1,\n",
       " 'Les Mayfield': 1,\n",
       " 'Henry Selick': 1,\n",
       " 'Rob Pritts': 1,\n",
       " 'Ernest R. Dickerson': 1,\n",
       " 'DJ Pooh': 1,\n",
       " 'Eric Brevig': 1,\n",
       " 'Ben Stiller': 1,\n",
       " 'Jeff Wadlow': 1,\n",
       " 'Lexi Alexander': 1,\n",
       " 'Peter Segal': 1,\n",
       " 'Mathieu Kassovitz': 1,\n",
       " 'Rob Minkoff': 1,\n",
       " 'Jon Avnet': 1,\n",
       " 'Dennis Dugan': 1,\n",
       " 'Howard McCain': 1,\n",
       " 'Oxide Pang Chun': 1,\n",
       " 'Danny Pang': 1,\n",
       " 'Craig Mazin': 1,\n",
       " 'Simon Hunter': 1,\n",
       " 'Nicolas Winding Refn': 1,\n",
       " 'Rupert Wyatt': 1,\n",
       " 'Patrick Lussier': 1,\n",
       " 'Gary McKendry': 1,\n",
       " 'Scott Stewart': 1,\n",
       " 'Tarsem Singh': 1,\n",
       " 'Chris Gorak': 1,\n",
       " 'Chris Miller': 1,\n",
       " 'Michel Gondry': 1,\n",
       " 'Oliver Parker': 1,\n",
       " 'Joe Cornish': 1,\n",
       " 'Joe Wright': 1,\n",
       " 'John Michael McDonagh': 1,\n",
       " 'Alister Grierson': 1,\n",
       " 'Sean McNamara': 1,\n",
       " 'John Whitesell': 1,\n",
       " 'Benny Chan': 1,\n",
       " 'Corey Yuen Kwai': 1,\n",
       " 'Stuart Baird': 1,\n",
       " 'Kurt Wimmer': 1,\n",
       " 'Jay Roach': 1,\n",
       " 'Jim Gillespie': 1,\n",
       " 'Chuck Russell': 1,\n",
       " 'Betty Thomas': 1,\n",
       " 'Randall Wallace': 1,\n",
       " 'Ron Shelton': 1,\n",
       " 'Simon Wells': 1,\n",
       " 'Roger Michell': 1,\n",
       " 'Michael Apted': 1,\n",
       " 'Tom Dey': 1,\n",
       " 'Joel Schumacher': 1,\n",
       " 'Luis Mandoki': 1,\n",
       " 'Tamra Davis': 1,\n",
       " 'Ron Underwood': 1,\n",
       " 'Kevin Bray': 1,\n",
       " 'Malcolm D. Lee': 1,\n",
       " 'MÃ¥ns MÃ¥rlind': 1,\n",
       " 'BjÃ¶rn Stein': 1,\n",
       " 'Tony Gilroy': 1,\n",
       " 'Mark Andrews': 1,\n",
       " 'Steve Purcell': 1,\n",
       " 'Brenda Chapman': 1,\n",
       " 'Boaz Yakin': 1,\n",
       " 'Andrew Stanton': 1,\n",
       " 'Rian Johnson': 1,\n",
       " 'Mike McCoy': 1,\n",
       " 'Stephen St. Leger': 1,\n",
       " 'James Mather': 1,\n",
       " 'Daniel Espinosa': 1,\n",
       " 'Asger Leth': 1,\n",
       " 'Mabrouk El Mechri': 1,\n",
       " 'Dan Bradley': 1,\n",
       " 'Julie Anne Robinson': 1,\n",
       " 'Anthony Hemingway': 1,\n",
       " 'David Koepp': 1,\n",
       " 'David Barrett': 1,\n",
       " 'Stephen Norrington': 1,\n",
       " 'Jan de Bont': 1,\n",
       " 'Jon Amiel': 1,\n",
       " 'John McTiernan': 1,\n",
       " 'Shane Black': 1,\n",
       " 'Tommy Wirkola': 1,\n",
       " 'Carl Rinsch': 1,\n",
       " 'Gary Fleder': 1,\n",
       " 'Mikael HÃ¥fstrÃ¶m': 1,\n",
       " 'Taylor Hackford': 1,\n",
       " 'Steven Knight': 1,\n",
       " 'Spike Lee': 1,\n",
       " 'Dito Montiel': 1,\n",
       " 'Keanu Reeves': 1,\n",
       " 'Fyodor Bondarchuk': 1,\n",
       " 'Karyn Kusama': 1,\n",
       " 'Adam Shankman': 1,\n",
       " 'John Stockwell': 1,\n",
       " 'Sydney Pollack': 1,\n",
       " 'Terry Gilliam': 1,\n",
       " 'Jay Chandrasekhar': 1,\n",
       " 'Richard Shepard': 1,\n",
       " 'John Dahl': 1,\n",
       " 'Bruce Hunt': 1,\n",
       " 'Alfonso CuarÃ³n': 1,\n",
       " 'Stefen Fangmeier': 1,\n",
       " 'Mel Gibson': 1,\n",
       " 'Bruce Beresford': 1,\n",
       " 'Wolfgang Petersen': 1,\n",
       " 'Jeff Tremaine': 1,\n",
       " 'John Bonito': 1,\n",
       " 'Geoffrey Sax': 1,\n",
       " 'Tony Bill': 1,\n",
       " 'Wayne Kramer': 1,\n",
       " 'Sanjay Gadhvi': 1,\n",
       " 'Phil Joanou': 1,\n",
       " 'Alexander Witt': 1,\n",
       " 'Bibo Bergeron': 1,\n",
       " 'Vicky Jenson': 1,\n",
       " 'Rob Letterman': 1,\n",
       " 'Kerry Conran': 1,\n",
       " 'Oliver Stone': 1,\n",
       " 'Jonathan Hensleigh': 1,\n",
       " 'Pitof': 1,\n",
       " 'Philip Kaufman': 1,\n",
       " 'Trey Parker': 1,\n",
       " 'Steven Brill': 1,\n",
       " 'Frank Coraci': 1,\n",
       " 'Paul Abascal': 1,\n",
       " 'Joseph Kahn': 1,\n",
       " 'David Mamet': 1,\n",
       " 'Jay Russell': 1,\n",
       " 'Robert Redford': 1,\n",
       " 'Philip G. Atwell': 1,\n",
       " 'Michael Davis': 1,\n",
       " 'Xavier Gens': 1,\n",
       " 'Eli Roth': 1,\n",
       " 'Rob Zombie': 1,\n",
       " 'Jason Eisener': 1,\n",
       " 'Dave Meyers': 1,\n",
       " 'Russell Mulcahy': 1,\n",
       " 'Andrew Dominik': 1,\n",
       " 'Doug Lefler': 1,\n",
       " 'David Leland': 1,\n",
       " 'Feng Xiaogang': 1,\n",
       " 'Ben Garant': 1,\n",
       " 'Joel Coen': 1,\n",
       " 'Donald Petrie': 1,\n",
       " 'Paul Verhoeven': 1,\n",
       " 'Roger Spottiswoode': 1,\n",
       " 'Antony Hoffman': 1,\n",
       " 'Stephen T. Kay': 1,\n",
       " 'Don Bluth': 1,\n",
       " 'Gary Goldman': 1,\n",
       " 'Christian Duguay': 1,\n",
       " 'Douglas Aarniokoski': 1,\n",
       " 'Gina Prince-Bythewood': 1,\n",
       " 'Brian Robbins': 1,\n",
       " 'Des McAnuff': 1}"
      ]
     },
     "execution_count": 53,
     "metadata": {},
     "output_type": "execute_result"
    }
   ],
   "source": [
    "# counting using collections.Counter\n",
    "dir_count = Counter()\n",
    "for director in directors:\n",
    "    dir_count[director] += 1\n",
    "\n",
    "dir_count_sorted = {\n",
    "    key: value for key, value in sorted(dir_count.items(), key=lambda item: item[1], reverse=True)\n",
    "}\n",
    "dir_count_sorted"
   ]
  },
  {
   "cell_type": "markdown",
   "metadata": {},
   "source": [
    "b) Using Series.value_counts()"
   ]
  },
  {
   "cell_type": "code",
   "execution_count": 39,
   "metadata": {},
   "outputs": [
    {
     "data": {
      "text/plain": [
       "Robert Rodriguez      9\n",
       "Michael Bay           7\n",
       "Paul W.S. Anderson    7\n",
       "Antoine Fuqua         6\n",
       "Ridley Scott          6\n",
       "                     ..\n",
       "Robert Stromberg      1\n",
       "Roger Michell         1\n",
       "Jay Russell           1\n",
       "Brian Levant          1\n",
       "Tamra Davis           1\n",
       "Length: 364, dtype: int64"
      ]
     },
     "execution_count": 39,
     "metadata": {},
     "output_type": "execute_result"
    }
   ],
   "source": [
    "# counting using pd.Series.value_counts()\n",
    "directors = pd.Series(directors)\n",
    "directors.value_counts(ascending=False)"
   ]
  },
  {
   "cell_type": "markdown",
   "metadata": {
    "colab_type": "text",
    "id": "PQ0KciD7Vp_f"
   },
   "source": [
    "# 15. Фильмы с каким актером принесли самые высокие кассовые сборы в 2012 году? "
   ]
  },
  {
   "cell_type": "code",
   "execution_count": null,
   "metadata": {
    "colab": {},
    "colab_type": "code",
    "id": "aga62oeKVp_g"
   },
   "outputs": [],
   "source": [
    "answers['15'] = ''"
   ]
  },
  {
   "cell_type": "code",
   "execution_count": 45,
   "metadata": {},
   "outputs": [],
   "source": [
    "data_2012 = data.query('release_year == 2012')"
   ]
  },
  {
   "cell_type": "markdown",
   "metadata": {},
   "source": [
    "* FIRST METHOD - Using collections.Counter()"
   ]
  },
  {
   "cell_type": "code",
   "execution_count": null,
   "metadata": {},
   "outputs": [],
   "source": [
    "actor_revenue_count = Counter()\n",
    "\n",
    "def actor_revenue(row):\n",
    "    \"\"\"\n",
    "    Sums up each actor revenues from a dataframe using external collections.Counter dictionary.\n",
    "    \"\"\"\n",
    "    \n",
    "    for actor in row['cast']:\n",
    "        actor_revenue_count[actor] += row['revenue']\n",
    "    \n",
    "    return True\n",
    "\n",
    "\n",
    "data_2012.apply(actor_revenue, axis=1)\n",
    "actor_revenue_count = sorted(actor_revenue_count.items(), key=lambda item: item[1], reverse=True) # sorting dictionary into list of tuples\n",
    "actor_revenue_count"
   ]
  },
  {
   "cell_type": "markdown",
   "metadata": {},
   "source": [
    "* SECOND METHOD - Using pd.Series.value_counts() - adviced in Slack"
   ]
  },
  {
   "cell_type": "code",
   "execution_count": 67,
   "metadata": {},
   "outputs": [
    {
     "data": {
      "text/plain": [
       "Chris Hemsworth    2027450773\n",
       "Denis Leary        1629460639\n",
       "Anne Hathaway      1522851057\n",
       "Chris Evans        1519557910\n",
       "Mark Ruffalo       1519557910\n",
       "                      ...    \n",
       "Hope Davis            3428048\n",
       "Danny Huston          2106557\n",
       "Josh Lucas            2106557\n",
       "Sami Gayle            2106557\n",
       "Nicolas Cage          2106557\n",
       "Length: 466, dtype: int64"
      ]
     },
     "execution_count": 67,
     "metadata": {},
     "output_type": "execute_result"
    }
   ],
   "source": [
    "cast = pd.Series(data_2012['cast'].sum())\n",
    "cast = cast.value_counts(ascending=False)\n",
    "for actor in cast.index:\n",
    "    cast[actor] = data_2012[data_2012['cast'].map(lambda x: True if actor in x else False)]['revenue'].sum() # sorting the rows containing every certain actor out of the dataframe, summing up revenues\n",
    "cast.sort_values(ascending=False)"
   ]
  },
  {
   "cell_type": "markdown",
   "metadata": {
    "colab_type": "text",
    "id": "mWHyyL7QVp_j"
   },
   "source": [
    "# 16. Какой актер снялся в большем количестве высокобюджетных фильмов?"
   ]
  },
  {
   "cell_type": "code",
   "execution_count": 85,
   "metadata": {},
   "outputs": [],
   "source": [
    "answers['16'] = 'Matt Damon'"
   ]
  },
  {
   "cell_type": "code",
   "execution_count": 84,
   "metadata": {
    "colab": {},
    "colab_type": "code",
    "id": "qQtmHKTFVp_k"
   },
   "outputs": [
    {
     "data": {
      "text/plain": [
       "Matt Damon           18\n",
       "Adam Sandler         17\n",
       "Angelina Jolie       16\n",
       "Samuel L. Jackson    15\n",
       "Tom Cruise           15\n",
       "                     ..\n",
       "Eddie Deezen          1\n",
       "Janeane Garofalo      1\n",
       "Kim Coates            1\n",
       "Aziz Ansari           1\n",
       "Heather Locklear      1\n",
       "Length: 1505, dtype: int64"
      ]
     },
     "execution_count": 84,
     "metadata": {},
     "output_type": "execute_result"
    }
   ],
   "source": [
    "high_budget_data = data[data['budget'] > data['budget'].mean()]\n",
    "pd.Series(high_budget_data['cast'].sum()).value_counts(ascending=False)"
   ]
  },
  {
   "cell_type": "markdown",
   "metadata": {
    "colab_type": "text",
    "id": "NIh6AaW5Vp_n"
   },
   "source": [
    "# 17. В фильмах какого жанра больше всего снимался Nicolas Cage? "
   ]
  },
  {
   "cell_type": "code",
   "execution_count": 90,
   "metadata": {},
   "outputs": [],
   "source": [
    "answers['17'] = 'Action'"
   ]
  },
  {
   "cell_type": "code",
   "execution_count": 89,
   "metadata": {
    "colab": {},
    "colab_type": "code",
    "id": "H74SJDIBVp_n"
   },
   "outputs": [
    {
     "data": {
      "text/plain": [
       "Action             17\n",
       "Thriller           15\n",
       "Drama              12\n",
       "Crime              10\n",
       "Fantasy             8\n",
       "Adventure           7\n",
       "Comedy              6\n",
       "Science Fiction     4\n",
       "Mystery             3\n",
       "Family              3\n",
       "Animation           3\n",
       "History             2\n",
       "Horror              1\n",
       "Romance             1\n",
       "War                 1\n",
       "dtype: int64"
      ]
     },
     "execution_count": 89,
     "metadata": {},
     "output_type": "execute_result"
    }
   ],
   "source": [
    "NCage_data = data[data['cast'].map(lambda x: 'Nicolas Cage' in x)]\n",
    "pd.Series(NCage_data['genres'].sum()).value_counts(ascending=False)"
   ]
  },
  {
   "cell_type": "markdown",
   "metadata": {
    "colab_type": "text",
    "id": "RqOmPRfWVp_q"
   },
   "source": [
    "# 18. Самый убыточный фильм от Paramount Pictures"
   ]
  },
  {
   "cell_type": "code",
   "execution_count": 98,
   "metadata": {},
   "outputs": [],
   "source": [
    "answers['18'] = 'tt0267626 K-19: The Widowmaker'"
   ]
  },
  {
   "cell_type": "code",
   "execution_count": 97,
   "metadata": {
    "colab": {},
    "colab_type": "code",
    "id": "9E_B0Y96Vp_r"
   },
   "outputs": [
    {
     "data": {
      "text/html": [
       "<div>\n",
       "<style scoped>\n",
       "    .dataframe tbody tr th:only-of-type {\n",
       "        vertical-align: middle;\n",
       "    }\n",
       "\n",
       "    .dataframe tbody tr th {\n",
       "        vertical-align: top;\n",
       "    }\n",
       "\n",
       "    .dataframe thead th {\n",
       "        text-align: right;\n",
       "    }\n",
       "</style>\n",
       "<table border=\"1\" class=\"dataframe\">\n",
       "  <thead>\n",
       "    <tr style=\"text-align: right;\">\n",
       "      <th></th>\n",
       "      <th>imdb_id</th>\n",
       "      <th>original_title</th>\n",
       "      <th>profit</th>\n",
       "    </tr>\n",
       "  </thead>\n",
       "  <tbody>\n",
       "    <tr>\n",
       "      <th>925</th>\n",
       "      <td>tt0267626</td>\n",
       "      <td>K-19: The Widowmaker</td>\n",
       "      <td>-64831034</td>\n",
       "    </tr>\n",
       "  </tbody>\n",
       "</table>\n",
       "</div>"
      ],
      "text/plain": [
       "       imdb_id        original_title    profit\n",
       "925  tt0267626  K-19: The Widowmaker -64831034"
      ]
     },
     "execution_count": 97,
     "metadata": {},
     "output_type": "execute_result"
    }
   ],
   "source": [
    "ParPic_data = data[data['production_companies'].map(lambda x: 'Paramount Pictures' in x)]\n",
    "ParPic_data[ParPic_data['profit'] == ParPic_data['profit'].min()][['imdb_id', 'original_title', 'profit']]"
   ]
  },
  {
   "cell_type": "markdown",
   "metadata": {
    "colab_type": "text",
    "id": "vS8Ur6ddVp_u"
   },
   "source": [
    "# 19. Какой год стал самым успешным по суммарным кассовым сборам?"
   ]
  },
  {
   "cell_type": "code",
   "execution_count": 131,
   "metadata": {
    "colab": {},
    "colab_type": "code",
    "id": "Dnbt4GdIVp_v"
   },
   "outputs": [],
   "source": [
    "answers['19'] = '2015'"
   ]
  },
  {
   "cell_type": "code",
   "execution_count": 130,
   "metadata": {},
   "outputs": [
    {
     "data": {
      "text/plain": [
       "2015    25449202382\n",
       "2014    23405862953\n",
       "2013    23213799791\n",
       "2012    23079001687\n",
       "2011    22676791872\n",
       "2010    21071204961\n",
       "2009    20261791024\n",
       "2008    18252781990\n",
       "2007    18162406801\n",
       "2004    15663430720\n",
       "2005    15309425558\n",
       "2006    14775042320\n",
       "2003    14346123312\n",
       "2002    14136361487\n",
       "2001    13017764865\n",
       "2000    10664099805\n",
       "Name: release_year, dtype: int64"
      ]
     },
     "execution_count": 130,
     "metadata": {},
     "output_type": "execute_result"
    }
   ],
   "source": [
    "year_revenue = data['release_year'].value_counts().sort_index()\n",
    "for year in year_revenue.index:\n",
    "    year_revenue[year] = data[data['release_year'] == year]['revenue'].sum()\n",
    "year_revenue.sort_values(ascending=False)"
   ]
  },
  {
   "cell_type": "code",
   "execution_count": 108,
   "metadata": {},
   "outputs": [
    {
     "data": {
      "text/plain": [
       "Counter({2015: 25449202382,\n",
       "         2014: 23405862953,\n",
       "         2009: 20261791024,\n",
       "         2010: 21071204961,\n",
       "         2001: 13017764865,\n",
       "         2008: 18252781990,\n",
       "         2011: 22676791872,\n",
       "         2002: 14136361487,\n",
       "         2012: 23079001687,\n",
       "         2003: 14346123312,\n",
       "         2013: 23213799791,\n",
       "         2005: 15309425558,\n",
       "         2006: 14775042320,\n",
       "         2004: 15663430720,\n",
       "         2007: 18162406801,\n",
       "         2000: 10664099805})"
      ]
     },
     "execution_count": 108,
     "metadata": {},
     "output_type": "execute_result"
    }
   ],
   "source": [
    "# написать решение с помощью Counter()\n",
    "year_revenue = Counter()\n",
    "for year in data['release_year'].values:\n",
    "    year_revenue[year] = data[data['release_year'] == year]['revenue'].sum()\n",
    "year_revenue"
   ]
  },
  {
   "cell_type": "markdown",
   "metadata": {
    "colab_type": "text",
    "id": "JAzJh4QAVp_z"
   },
   "source": [
    "# 20. Какой самый прибыльный год для студии Warner Bros?"
   ]
  },
  {
   "cell_type": "code",
   "execution_count": 143,
   "metadata": {
    "colab": {},
    "colab_type": "code",
    "id": "wgVu02DEVp_0"
   },
   "outputs": [],
   "source": [
    "answers['20'] = '2007'"
   ]
  },
  {
   "cell_type": "code",
   "execution_count": 87,
   "metadata": {
    "scrolled": true
   },
   "outputs": [
    {
     "data": {
      "text/plain": [
       "Warp Films                                  1\n",
       "Warner Independent Pictures (WIP)           4\n",
       "Warner Bros. Pictures                      13\n",
       "Warner Bros. Interactive Entertainment      1\n",
       "Warner Bros. Animation                      5\n",
       "Warner Bros.                              168\n",
       "Wandering Star Pictures                     1\n",
       "Walt Disney Television Animation            2\n",
       "Walt Disney Studios Motion Pictures         3\n",
       "Walt Disney Pictures                       82\n",
       "dtype: int64"
      ]
     },
     "execution_count": 87,
     "metadata": {},
     "output_type": "execute_result"
    }
   ],
   "source": [
    "companies = pd.Series(data['production_companies'].sum()).value_counts() # проверяем название компании в датасете, тк по 'Warner Bros' найти нечего не удалось\n",
    "companies.sort_index(ascending=False)[60:70] # видим, что в поиск включать нужно все 4"
   ]
  },
  {
   "cell_type": "code",
   "execution_count": 75,
   "metadata": {},
   "outputs": [
    {
     "data": {
      "text/plain": [
       "2014    3243064519\n",
       "2007    3183675217\n",
       "2008    3050595031\n",
       "2010    3008712985\n",
       "2011    2845393682\n",
       "2003    2745493377\n",
       "2009    2737954136\n",
       "2004    2731933725\n",
       "2013    2599953400\n",
       "2005    2412980298\n",
       "2001    2266545668\n",
       "2012    1869520056\n",
       "2002    1702709901\n",
       "2015    1691168351\n",
       "2006    1521170743\n",
       "2000    1025531386\n",
       "Name: release_year, dtype: int64"
      ]
     },
     "execution_count": 75,
     "metadata": {},
     "output_type": "execute_result"
    }
   ],
   "source": [
    "WB_data = data[data['production_companies'].map(lambda x: 'Warner Bros' in '|'.join(x))]\n",
    "WB_year_revenue = WB_data['release_year'].value_counts().sort_index() # collecting all release years into index of Series\n",
    "for year in WB_year_revenue.index:\n",
    "    WB_year_revenue[year] = WB_data[WB_data['release_year'] == year]['revenue'].sum()\n",
    "# companies = pd.Series(data['production_companies'].sum()).value_counts() # проверяем название компании в датасете, тк по 'Warner Bros' найти нечего не удалось\n",
    "companies.sort_index(ascending=False)[60:70] # видим, что в поиск включать нужно все 4WB_year_revenue.sort_values(ascending=False)"
   ]
  },
  {
   "cell_type": "code",
   "execution_count": 76,
   "metadata": {},
   "outputs": [
    {
     "data": {
      "text/plain": [
       "2007    3114367993\n",
       "2008    3050595031\n",
       "2011    2845393682\n",
       "2010    2807128844\n",
       "2014    2773903827\n",
       "2003    2745493377\n",
       "2004    2725125175\n",
       "2009    2708981628\n",
       "2013    2599953400\n",
       "2005    2412980298\n",
       "2001    2206174853\n",
       "2012    1869520056\n",
       "2015    1691168351\n",
       "2002    1587248589\n",
       "2006    1465989614\n",
       "2000    1015205068\n",
       "Name: release_year, dtype: int64"
      ]
     },
     "execution_count": 76,
     "metadata": {},
     "output_type": "execute_result"
    }
   ],
   "source": [
    "# код неверен, тк у WB есть \"филиалы\"\n",
    "# WB_data = data[data['production_companies'].map(lambda x: 'Warner Bros.' in x)]\n",
    "# WB_year_revenue = WB_data['release_year'].value_counts().sort_index() # collecting all release years into index of Series\n",
    "# for year in WB_year_revenue.index:\n",
    "#     WB_year_revenue[year] = WB_data[WB_data['release_year'] == year]['revenue'].sum()\n",
    "# WB_year_revenue.sort_values(ascending=False)"
   ]
  },
  {
   "cell_type": "markdown",
   "metadata": {
    "colab_type": "text",
    "id": "8Im1S2HRVp_4"
   },
   "source": [
    "# 21. В каком месяце за все годы суммарно вышло больше всего фильмов?"
   ]
  },
  {
   "cell_type": "code",
   "execution_count": 43,
   "metadata": {
    "colab": {},
    "colab_type": "code",
    "id": "lev6TH7gVp_4"
   },
   "outputs": [],
   "source": [
    "answers['21'] = '9'"
   ]
  },
  {
   "cell_type": "code",
   "execution_count": 42,
   "metadata": {},
   "outputs": [
    {
     "data": {
      "text/plain": [
       "9     227\n",
       "12    190\n",
       "10    186\n",
       "8     161\n",
       "3     156\n",
       "4     149\n",
       "6     147\n",
       "11    146\n",
       "7     142\n",
       "5     140\n",
       "2     135\n",
       "1     110\n",
       "Name: release_month, dtype: int64"
      ]
     },
     "execution_count": 42,
     "metadata": {},
     "output_type": "execute_result"
    }
   ],
   "source": [
    "data['release_month'] = data['release_date'].dt.month\n",
    "month_movies = data['release_month'].value_counts().sort_index() # creating index of month movies Series\n",
    "for month in month_movies.index:\n",
    "    month_movies[month] = len(data[data['release_month'] == month]) # filling it in with movies numbers\n",
    "month_movies.sort_values(ascending=False)"
   ]
  },
  {
   "cell_type": "markdown",
   "metadata": {
    "colab_type": "text",
    "id": "uAJsZ_NeVp_7"
   },
   "source": [
    "# 22. Сколько суммарно вышло фильмов летом? (за июнь, июль, август)"
   ]
  },
  {
   "cell_type": "code",
   "execution_count": 61,
   "metadata": {
    "colab": {},
    "colab_type": "code",
    "id": "Aa-hEREoVp_8"
   },
   "outputs": [],
   "source": [
    "answers['22'] = '450'"
   ]
  },
  {
   "cell_type": "markdown",
   "metadata": {},
   "source": [
    "* FIRST METHOD"
   ]
  },
  {
   "cell_type": "code",
   "execution_count": 63,
   "metadata": {
    "scrolled": true
   },
   "outputs": [
    {
     "data": {
      "text/plain": [
       "450"
      ]
     },
     "execution_count": 63,
     "metadata": {},
     "output_type": "execute_result"
    }
   ],
   "source": [
    "len(data[(data['release_month'] >= 6) & (data['release_month'] < 9)]) # or dataframe.count()"
   ]
  },
  {
   "cell_type": "markdown",
   "metadata": {},
   "source": [
    "* SECOND METHOD"
   ]
  },
  {
   "cell_type": "code",
   "execution_count": 66,
   "metadata": {
    "scrolled": true
   },
   "outputs": [
    {
     "data": {
      "text/plain": [
       "450"
      ]
     },
     "execution_count": 66,
     "metadata": {},
     "output_type": "execute_result"
    }
   ],
   "source": [
    "len(data[data['release_month'].isin(range(6, 9))])"
   ]
  },
  {
   "cell_type": "markdown",
   "metadata": {
    "colab_type": "text",
    "id": "G94ppOY1VqAA"
   },
   "source": [
    "# 23. Для какого режиссера зима – самое продуктивное время года? "
   ]
  },
  {
   "cell_type": "code",
   "execution_count": 96,
   "metadata": {},
   "outputs": [],
   "source": [
    "answers['23'] = 'Peter Jackson'"
   ]
  },
  {
   "cell_type": "code",
   "execution_count": 95,
   "metadata": {
    "colab": {},
    "colab_type": "code",
    "id": "RhNTsamuVqAB",
    "scrolled": false
   },
   "outputs": [
    {
     "data": {
      "text/plain": [
       "Peter Jackson            7\n",
       "Steven Soderbergh        6\n",
       "Clint Eastwood           6\n",
       "Adam Shankman            4\n",
       "Shawn Levy               4\n",
       "                        ..\n",
       "Chris Gorak              1\n",
       "David Gordon Green       1\n",
       "Xavier Palud             1\n",
       "Jonathan Lynn            1\n",
       "Matt Bettinelli-Olpin    1\n",
       "Length: 358, dtype: int64"
      ]
     },
     "execution_count": 95,
     "metadata": {},
     "output_type": "execute_result"
    }
   ],
   "source": [
    "data_winter = data[data['release_month'].isin([12, 1, 2])]\n",
    "pd.Series(data_winter['director'].sum()).value_counts().sort_values(ascending=False)"
   ]
  },
  {
   "cell_type": "markdown",
   "metadata": {
    "colab_type": "text",
    "id": "RBo0JVjVVqAF"
   },
   "source": [
    "# 24. Какая студия дает самые длинные названия своим фильмам по количеству символов?"
   ]
  },
  {
   "cell_type": "code",
   "execution_count": 63,
   "metadata": {
    "colab": {},
    "colab_type": "code",
    "id": "QRGS8L0iVqAG"
   },
   "outputs": [],
   "source": [
    "answers['24'] = 'Universal Pictures'"
   ]
  },
  {
   "cell_type": "code",
   "execution_count": 122,
   "metadata": {
    "scrolled": true
   },
   "outputs": [
    {
     "data": {
      "text/plain": [
       "Universal Pictures                        67\n",
       "Paramount Pictures                        57\n",
       "Warner Bros.                              57\n",
       "Twentieth Century Fox Film Corporation    48\n",
       "Columbia Pictures                         42\n",
       "                                          ..\n",
       "After Dark Films                           1\n",
       "Chockstone Pictures                        1\n",
       "Aegis Film Fund                            1\n",
       "Gaylord Films                              1\n",
       "Catch Productions                          1\n",
       "Length: 897, dtype: int64"
      ]
     },
     "execution_count": 122,
     "metadata": {},
     "output_type": "execute_result"
    }
   ],
   "source": [
    "mean_length = data['original_title'].map(lambda x: len(x)).mean()\n",
    "long_title = data[data['original_title'].map(lambda x: len(x) > mean_length)]\n",
    "companies = pd.Series(long_title['production_companies'].sum()).value_counts(ascending=False)\n",
    "companies\n",
    "\n",
    "# display(companies)\n",
    "# companies.filter(like='Columbia')"
   ]
  },
  {
   "cell_type": "markdown",
   "metadata": {
    "colab_type": "text",
    "id": "9G0hbvR7VqAK"
   },
   "source": [
    "# 25. Описание фильмов какой студии в среднем самые длинные по количеству слов?"
   ]
  },
  {
   "cell_type": "code",
   "execution_count": 174,
   "metadata": {},
   "outputs": [],
   "source": [
    "answers['25'] = 'Midnight Picture Show'"
   ]
  },
  {
   "cell_type": "code",
   "execution_count": 173,
   "metadata": {},
   "outputs": [
    {
     "data": {
      "text/plain": [
       "[('Midnight Picture Show', 175),\n",
       " ('Heineken Branded Entertainment', 161),\n",
       " ('Room 9 Entertainment', 161),\n",
       " ('98 MPH Productions', 159),\n",
       " ('Brookwell-McNamara Entertainment', 156),\n",
       " ('Lions Gate Family Entertainment', 152),\n",
       " ('Crest Animation Productions', 152),\n",
       " ('Art Pictures Studio', 147),\n",
       " ('Cinema Gypsy Productions', 144),\n",
       " ('Starbucks Entertainment', 144),\n",
       " ('Sanctum Australia', 138),\n",
       " ('Great Wight Productions/ Osford Films', 138),\n",
       " ('Wayfare Entertainment', 138),\n",
       " ('Sudden Storm Productions', 134),\n",
       " ('Scooter Braun Films', 132),\n",
       " ('Magical Elves Productions', 132),\n",
       " ('Disney Double Dare You (DDY)', 130),\n",
       " ('K. JAM Media', 128),\n",
       " ('Radical Studios', 127.5),\n",
       " ('Silent Hill DCP Inc.', 126),\n",
       " ('Konami', 126),\n",
       " ('Omega Entertainment', 122),\n",
       " ('Oceana Media Finance', 122),\n",
       " ('Pantheon Entertainment Corporation', 122),\n",
       " ('Innocence Productions', 122),\n",
       " ('David Ladd Films', 119.5),\n",
       " ('O.N.C. Entertainment', 117),\n",
       " ('Crying Box Productions', 116),\n",
       " ('Ten Thirteen Productions', 116),\n",
       " ('Red Om Films', 115),\n",
       " ('Xingu Films', 113),\n",
       " ('Double Nickel Entertainment', 113),\n",
       " ('Cappa Productions', 113),\n",
       " ('Ex3 Productions', 113),\n",
       " ('Lunar Industries', 113),\n",
       " ('Limelight Fund', 113),\n",
       " ('Liberty Films UK', 113),\n",
       " ('Broken Chair Flickz', 112),\n",
       " ('Langley Park Production', 111),\n",
       " ('Esperanto Filmoj', 111),\n",
       " ('Panay Films', 111),\n",
       " ('Darlow Smithson Productions', 109),\n",
       " ('Varsity Pictures', 108),\n",
       " ('Andalasia Productions', 108),\n",
       " ('Right Coast Productions', 108),\n",
       " ('Alta Loma Entertainment', 108),\n",
       " ('Yash Raj Films', 107),\n",
       " ('China Film Group', 107),\n",
       " ('Farewell Productions', 107),\n",
       " ('Hemisphere Media Capital', 106.33333333333333),\n",
       " ('Upstairs Canada Productions', 106),\n",
       " ('FidÃ©litÃ© Films', 106),\n",
       " ('New Upstairs Productions', 106),\n",
       " ('Hwy61', 106),\n",
       " ('Front Street Productions', 105),\n",
       " ('Spitfire Pictures', 105),\n",
       " ('Walt Disney Studios Motion Pictures', 104),\n",
       " ('Mimran Schur Pictures', 104),\n",
       " ('Davis-Panzer Productions', 104),\n",
       " ('Stone Productions', 104),\n",
       " ('Out of the Blue... Entertainment', 103),\n",
       " ('Vidhu Vinod Chopra Productions', 103),\n",
       " ('Cube Vision', 102),\n",
       " ('Darko Entertainment', 102),\n",
       " ('Gaylord Films', 101),\n",
       " ('Catch Productions', 101),\n",
       " ('Bird and a Bear Entertainment', 101),\n",
       " ('Hallway Pictures', 101),\n",
       " ('MacDonald/Parkes Productions', 100),\n",
       " ('Washington Square Films', 99.5),\n",
       " ('Before the Door Pictures', 99.5),\n",
       " ('Kerner Entertainment Company', 99),\n",
       " ('Brownstone Productions', 98),\n",
       " ('Y Productions', 98),\n",
       " ('Mediana Productions Filmgesellschaft', 98),\n",
       " ('Flynn Picture Company', 97.5),\n",
       " ('Random Films', 97),\n",
       " ('Cannell Studios', 97),\n",
       " ('Rice Films', 97),\n",
       " ('Trackform Film Productions', 97),\n",
       " ('Trademark Films', 96),\n",
       " ('Bay Films', 96),\n",
       " ('Lip Sync Post', 96),\n",
       " ('Rhythm and Hues', 96),\n",
       " ('Picnic Basket', 96),\n",
       " ('Fastnet Films', 95),\n",
       " ('Helena Productions', 95),\n",
       " ('New Redemption Pictures', 95),\n",
       " ('Mark Johnson Productions', 95),\n",
       " ('Caramel Film', 95),\n",
       " ('Curmudgeon Films', 95),\n",
       " ('Animationwerks', 94),\n",
       " (\"It's a Laugh Productions\", 94),\n",
       " ('Storm King Productions', 94),\n",
       " ('Millar Gough Ink', 94),\n",
       " ('Josephson Entertainment', 93.5),\n",
       " ('NeoReel', 93.33333333333333),\n",
       " ('Film 44', 93),\n",
       " ('Ascension Pictures', 92),\n",
       " ('Cloud Atlas Productions', 92),\n",
       " ('Pioneer Pictures', 92),\n",
       " ('TF1 Droits Audiovisuels', 92),\n",
       " ('LBI Entertainment', 92),\n",
       " ('Metrol Technology', 92),\n",
       " ('ARD Degeto Film', 92),\n",
       " ('Qwerty Films', 92),\n",
       " ('Pinewood Studios', 92),\n",
       " ('Alpha Core', 91.5),\n",
       " ('Gerber Pictures', 91.33333333333333),\n",
       " ('Indochina Productions', 90.5),\n",
       " ('Nickelodeon Animation Studios', 90),\n",
       " ('United Plankton Pictures', 90),\n",
       " ('Sony', 90),\n",
       " ('Media Magik Entertainment', 89.5),\n",
       " ('Internationale Filmproduktion Stella-del-Sud Second', 89),\n",
       " ('Bedford Falls Productions', 88.33333333333333),\n",
       " ('Perdido Productions', 88),\n",
       " ('Talisman Productions', 88),\n",
       " ('Peach Trees', 87),\n",
       " ('Dutch Oven', 87),\n",
       " ('NuAmerica Entertainment', 87),\n",
       " ('Reiner-Greisman', 87),\n",
       " ('Emergency Films', 87),\n",
       " ('Disney Enterprises', 87),\n",
       " ('Toledo Productions', 87),\n",
       " ('New Regency Productions', 87),\n",
       " ('Rena Film', 87),\n",
       " ('Apotheosis Media Group', 87),\n",
       " ('Compulsion Inc.', 87),\n",
       " ('Troika Pictures', 87),\n",
       " ('Splendid Medien AG', 87),\n",
       " ('Mad Hatter Entertainment', 86),\n",
       " ('Zohar International', 86),\n",
       " ('Monolith Pictures (III)', 86),\n",
       " ('TSBD Canada Productions', 86),\n",
       " ('Total Entertainment', 86),\n",
       " ('Tooley Productions', 86),\n",
       " ('LStar Capital', 85.5),\n",
       " ('Michael Lobell Productions', 85),\n",
       " ('Storefront Films', 85),\n",
       " ('Edmonds Entertainment Group (EEG)', 84),\n",
       " ('Epidemic Pictures', 84),\n",
       " ('Lauren Levine Productions Inc.', 84),\n",
       " ('David Foster Productions', 83.33333333333333),\n",
       " ('The Ladd Company', 83),\n",
       " ('Mad Chance Productions', 83),\n",
       " ('Fireworks Pictures', 83),\n",
       " ('Samuelson Productions', 83),\n",
       " ('Emperor Motion Pictures', 82.5),\n",
       " ('Hollywood Pictures', 82.5),\n",
       " ('Octagon Films', 82),\n",
       " ('Avi Arad Productions', 82),\n",
       " ('The Javelina Film Company', 82),\n",
       " ('Pendle Mountain Productions', 82),\n",
       " ('Birnbaum/Barber', 82),\n",
       " ('Matt Tolmach Productions', 82),\n",
       " ('Roth Films', 81.85714285714286),\n",
       " ('Reliance BIG Entertainment', 81.5),\n",
       " ('Bedlam Productions', 81),\n",
       " ('See-Saw Films', 81),\n",
       " ('Chako Film Company', 81),\n",
       " ('MBC Beteiligungs Filmproduktion', 81),\n",
       " ('Parkes/MacDonald Productions', 80.75),\n",
       " ('China Film Co-Production Corporation', 80.25),\n",
       " ('Hammer Film Productions', 80),\n",
       " ('Shawn Danielle Productions Ltd.', 80),\n",
       " ('Friuli Venezia Giulia Film Commission', 80),\n",
       " ('MJW Films', 80),\n",
       " ('DefyNite Films', 80),\n",
       " ('Ozla Pictures', 80),\n",
       " ('Business Location Sudtirol Alto Adige', 80),\n",
       " ('Witness Protection Films', 80),\n",
       " ('Paco Cinematografica', 80),\n",
       " ('Constantin Film International', 80),\n",
       " ('Greenestreet Films', 80),\n",
       " ('Regione Lazio', 80),\n",
       " ('WV Films III', 79.66666666666667),\n",
       " ('Insurge Pictures', 79.66666666666667),\n",
       " ('Village Roadshow Pictures Asia', 79),\n",
       " ('Reaper Productions', 79),\n",
       " ('Ott Medien', 79),\n",
       " ('Millenium Films', 79),\n",
       " ('Lucasfilm', 78.25),\n",
       " ('Goldmann Pictures', 78),\n",
       " ('LionsGate', 78),\n",
       " ('Prime Focus', 78),\n",
       " ('SGF Entertainment', 78),\n",
       " ('I Remember Productions', 78),\n",
       " ('Case 39 Productions', 78),\n",
       " ('Riddick Canada Productions', 78),\n",
       " ('Raygun Productions', 78),\n",
       " ('Province of British Columbia Film Incentive BC', 78),\n",
       " ('Rosey Film Productions LLC', 78),\n",
       " ('Cattleya', 78),\n",
       " ('FilmDistrict', 77.85714285714286),\n",
       " ('Aardman Animations', 77.75),\n",
       " ('Team Todd', 77.66666666666667),\n",
       " ('Parkes+MacDonald Image Nation', 77.33333333333333),\n",
       " ('Intertainment AG', 77),\n",
       " ('Cott Productions', 77),\n",
       " ('Mythology Entertainment (II)', 77),\n",
       " ('Furia de Titanes II, A.I.E.', 77),\n",
       " ('Clubdeal', 77),\n",
       " ('Milagro Films', 77),\n",
       " ('Dreamworks Pictures', 77),\n",
       " ('Magic Light Pictures', 77),\n",
       " ('Harlequin Pictures', 77),\n",
       " ('DoRo Fiction Film', 77),\n",
       " ('Blackout Productions Inc.', 77),\n",
       " ('Cinema Four', 77),\n",
       " ('Akil Production Company', 77),\n",
       " ('Matador Pictures', 77),\n",
       " ('Riche-Ludwig Productions', 76),\n",
       " ('Universal Pictures International (UPI)', 76),\n",
       " ('Apaches Entertainment', 76),\n",
       " ('Mr. Smith Productions', 76),\n",
       " ('Unique Features', 76),\n",
       " ('Sociedad General de Cine S.A.', 76),\n",
       " ('Initial Entertainment Group (IEG)', 75.6),\n",
       " (\"Mel's Cite du Cinema\", 75.33333333333333),\n",
       " ('Three Strange Angels', 75),\n",
       " ('X-Filme Creative Pool', 75),\n",
       " ('Electronic Arts', 75),\n",
       " ('MavroCine Pictures GmbH & Co. KG', 75),\n",
       " ('Also Known As Pictures', 75),\n",
       " ('D8', 75),\n",
       " ('Propeler', 75),\n",
       " ('Serenade Films', 75),\n",
       " ('Ozumi Films', 75),\n",
       " ('TC Productions', 74.33333333333333),\n",
       " ('Infinitum Nihil', 74),\n",
       " ('Jackie Chan Films Limited', 74),\n",
       " ('2S Films', 74),\n",
       " ('All Knight Productions', 74),\n",
       " ('Chime Films', 74),\n",
       " ('TF1 Films Productions', 74),\n",
       " ('Hart-Sharp Entertainment', 74),\n",
       " ('Wild Ocean Films', 74),\n",
       " ('3Foot7', 74),\n",
       " ('Gone North Productions', 74),\n",
       " ('Goldcrest Pictures', 73.57142857142857),\n",
       " ('Winkler Films', 73.5),\n",
       " ('Type A Films', 73.5),\n",
       " ('Envision Entertainment Corporation', 73),\n",
       " ('SVT Drama', 73),\n",
       " ('Cliffjack Motion Pictures', 73),\n",
       " ('Kasdan Pictures', 73),\n",
       " ('Fine Line Features', 73),\n",
       " ('Zentropa Entertainments', 73),\n",
       " ('Arte', 73),\n",
       " ('Danmarks Radio (DR)', 73),\n",
       " ('Rainforest Films', 72.4),\n",
       " ('Strike Entertainment', 72),\n",
       " ('GreeneStreet Films', 72),\n",
       " ('Two Ton Films', 72),\n",
       " ('No Trace Camping', 72),\n",
       " ('Apparatus Productions', 72),\n",
       " ('Motion Picture KAPPA Produktionsgesellschaft', 72),\n",
       " ('Native Pictures Productions', 72),\n",
       " ('EFTI', 72),\n",
       " ('WV Films LLC', 72),\n",
       " ('Failure to Launch Productions', 72),\n",
       " ('Davis-Films', 71.8),\n",
       " ('Neal Street Productions', 71.75),\n",
       " ('Atmosphere Entertainment MM', 71.71428571428571),\n",
       " ('Imaginary Forces', 71.5),\n",
       " ('Tapestry Films', 71.4),\n",
       " ('Laika Entertainment', 71),\n",
       " ('Merlin Films', 71),\n",
       " ('Camelot Pictures', 71),\n",
       " ('Obelisk Productions', 71),\n",
       " ('Max Films Productions', 71),\n",
       " ('Mindfire Entertainment', 71),\n",
       " ('Illusion Entertainment', 71),\n",
       " ('Morag Loves Company', 71),\n",
       " ('K/O Camera Toys', 71),\n",
       " ('Pistolero Productions LLC', 71),\n",
       " ('Viz Media', 71),\n",
       " ('Bekmambetov Projects Ltd.', 71),\n",
       " ('Liveplanet', 71),\n",
       " ('MHF Zweite Academy Film', 70.5),\n",
       " ('26 Films', 70.5),\n",
       " ('H2F Entertainment', 70.5),\n",
       " ('Prana Animation Studios', 70),\n",
       " ('Anton Capital Entertainment (ACE)', 70),\n",
       " ('Seven West Media', 70),\n",
       " ('Cohen/Pearl Productions', 70),\n",
       " ('Fear of God Films', 70),\n",
       " ('Mark Gordon Productions', 70),\n",
       " ('Seven Group Holdings', 70),\n",
       " ('Nancy Tenenbaum Films', 70),\n",
       " ('Smokewood Entertainment Group', 70),\n",
       " ('What to Expect Productions', 70),\n",
       " ('Huayi Brothers', 70),\n",
       " ('Tezuka Production Company Ltd.', 70),\n",
       " ('Great Scott Productions Pty. Ltd.', 70),\n",
       " ('Infinity Features Entertainment', 70),\n",
       " ('Bad Robot', 69.66666666666667),\n",
       " ('Sony Pictures Animation', 69.33333333333333),\n",
       " ('The Safran Company', 69.33333333333333),\n",
       " ('Alliance Films', 69.25),\n",
       " ('The Mark Gordon Company', 69),\n",
       " ('Ambience Entertainment', 69),\n",
       " ('Fake Empire', 69),\n",
       " ('Kennedy Miller Productions', 69),\n",
       " ('Omnilab Media', 69),\n",
       " ('Curse Productions', 69),\n",
       " ('Dark Lot Entertainment', 69),\n",
       " ('Triple Threat Talent', 69),\n",
       " ('Moonrise', 69),\n",
       " ('UTV Motion Pictures', 69),\n",
       " ('Gold Circle Films', 68.33333333333333),\n",
       " ('Imprint Entertainment', 68.33333333333333),\n",
       " ('Instituto de la CinematografÃ\\xada y de las Artes Audiovisuales (ICAA)',\n",
       "  68.33333333333333),\n",
       " ('Isle of Man Film', 68.2),\n",
       " ('Odyssey Entertainment', 68),\n",
       " ('Nine Yards Productions', 68),\n",
       " ('Starz Media', 68),\n",
       " ('Riff Raff Film Productions', 68),\n",
       " ('Filmauro', 68),\n",
       " ('Summertime Entertainment', 68),\n",
       " ('City Productions', 68),\n",
       " ('Natural Nylon Entertainment', 68),\n",
       " ('Jaffilms Inc.', 68),\n",
       " ('Horsepower Films', 68),\n",
       " ('Studiopolis', 68),\n",
       " ('Silver Bullet Productions (II)', 68),\n",
       " ('Blue Flower Productions', 68),\n",
       " ('Really Useful Films', 68),\n",
       " ('Cineblue Internationale Filmproduktionsgesellschaft', 68),\n",
       " ('Cranium Films', 68),\n",
       " ('Vanguard Animation', 68),\n",
       " ('Rational Packaging Company', 68),\n",
       " ('Red Hour Productions', 68),\n",
       " ('Core Productions', 68),\n",
       " ('Blind Wink Productions', 68),\n",
       " ('Skydance Productions', 67.88888888888889),\n",
       " ('Icon Productions', 67.75),\n",
       " ('Bluegrass Films', 67.5),\n",
       " ('Hollywood Gang Productions', 67.5),\n",
       " ('One Race Films', 67.5),\n",
       " ('KMP Film Invest', 67.5),\n",
       " ('RatPac-Dune Entertainment', 67.375),\n",
       " ('Spring Creek Productions', 67.33333333333333),\n",
       " ('Affirm Films', 67.33333333333333),\n",
       " ('Overbrook Entertainment', 67.3),\n",
       " ('Sony Pictures Entertainment (SPE)', 67.25),\n",
       " ('Nimar Studios', 67.25),\n",
       " ('Nickelodeon Movies', 67),\n",
       " ('TOKYOPOP', 67),\n",
       " ('Toho Company', 67),\n",
       " ('Mediastream Dritte Film', 67),\n",
       " ('Universal CGI', 67),\n",
       " ('Golden Mean', 67),\n",
       " ('Rickshaw Productions', 67),\n",
       " ('First Foot Films', 67),\n",
       " ('Dentsu Inc.', 67),\n",
       " ('IFP Westcoast Erste', 67),\n",
       " ('Shutt/Jones Productions', 67),\n",
       " ('QED International', 66.66666666666667),\n",
       " ('Mid Atlantic Films', 66.6),\n",
       " ('Wayans Bros. Entertainment', 66.5),\n",
       " ('Energy Entertainment', 66.5),\n",
       " ('Hypnotic', 66.33333333333333),\n",
       " ('Centropolis Entertainment', 66),\n",
       " ('Zanuck Company, The', 66),\n",
       " ('Baltimore Spring Creek Productions', 66),\n",
       " ('Kemp Company', 66),\n",
       " ('Hofflund/Polone', 66),\n",
       " ('Handprint Entertainment', 66),\n",
       " ('Berlanti Productions', 66),\n",
       " ('4M', 66),\n",
       " ('Studio Babelsberg Motion Pictures', 66),\n",
       " ('Burg/Koules Productions', 66),\n",
       " ('Iron Film', 66),\n",
       " ('Indelible Productions', 66),\n",
       " ('Ventanarosa Productions', 66),\n",
       " ('Gran Via Productions', 65.8),\n",
       " ('Millennium Films', 65.70588235294117),\n",
       " ('Bedford Falls Company, The', 65.66666666666667),\n",
       " ('Walt Disney', 65.6),\n",
       " ('Participant Productions', 65.5),\n",
       " ('Internationale Filmproduktion Blackbird Dritte', 65.33333333333333),\n",
       " ('Jerry Weintraub Productions', 65.25),\n",
       " ('Michael De Luca Productions', 65.16666666666667),\n",
       " ('FilmEngine', 65),\n",
       " ('40 Acres & A Mule Filmworks', 65),\n",
       " ('Zadan / Meron Productions', 65),\n",
       " ('Runteam Ltd.', 65),\n",
       " ('Tripod Entertainment', 65),\n",
       " ('Motion Picture THETA Produktionsgesellschaft', 65),\n",
       " ('R.P. Productions', 65),\n",
       " ('GK Films', 64.9090909090909),\n",
       " ('Amen Ra Films', 64.75),\n",
       " ('Buckaroo Entertainment', 64.66666666666667),\n",
       " ('Kurtzman/Orci', 64.5),\n",
       " ('Twins Financing', 64.5),\n",
       " ('Evolution Entertainment', 64.33333333333333),\n",
       " ('Newmarket Capital Group', 64.25),\n",
       " ('Broken Road Productions', 64.2),\n",
       " ('Red Hour Films', 64),\n",
       " ('VCL Communications', 64),\n",
       " ('Whamaphram Productions', 64),\n",
       " ('JLT Productions', 64),\n",
       " ('HorrorFlix', 64),\n",
       " ('Cruella Productions', 64),\n",
       " ('BrownHouse Productions', 64),\n",
       " ('Bottom of the Ninth Productions', 64),\n",
       " ('Top Rope', 64),\n",
       " ('Konami Corporation Ltd.', 64),\n",
       " ('Myriad Pictures', 64),\n",
       " ('Jeepers Creepers II', 64),\n",
       " ('Eketahuna LLC', 64),\n",
       " ('Cinerenta-Cinebeta', 64),\n",
       " ('Tyler Perry Company, The', 64),\n",
       " ('Escape Artists', 63.92307692307692),\n",
       " ('Cloud Eight Films', 63.666666666666664),\n",
       " ('Wonderland Sound and Vision', 63.6),\n",
       " ('International Traders', 63.5),\n",
       " ('Nu Image Films', 63.36363636363637),\n",
       " ('Starz Animation', 63.333333333333336),\n",
       " ('Don Carmody Productions', 63),\n",
       " ('Rogue Marble', 63),\n",
       " ('Kanbar Entertainment', 63),\n",
       " ('Nine Yards Two Productions', 63),\n",
       " ('The Shuman Company', 63),\n",
       " ('Marvel Entertainment, LLC', 63),\n",
       " ('Internationale Filmproduktion Richter', 63),\n",
       " ('20th Century Fox Home Entertainment', 63),\n",
       " ('Vision View Entertainment', 63),\n",
       " ('Milk & Honey', 63),\n",
       " ('Rifkin-Eberts', 63),\n",
       " ('Littlestar', 63),\n",
       " ('Bungalow Productions', 63),\n",
       " ('Catch 23 Entertainment', 63),\n",
       " ('Stephen J. Cannell Productions', 63),\n",
       " ('Clipsal Films', 63),\n",
       " ('Persistent Entertainment', 63),\n",
       " ('Midnight Sun Pictures', 63),\n",
       " ('The Cantillon Company', 63),\n",
       " ('Eclipse Catering', 63),\n",
       " ('Silver Lion Films', 63),\n",
       " ('UW3 Film Productions', 63),\n",
       " ('Blue Yonder Films', 63),\n",
       " ('Playtone', 62.75),\n",
       " ('Chris Lee Productions', 62.5),\n",
       " ('Stars Road Entertainment', 62.5),\n",
       " ('Pixar Animation Studios', 62.15384615384615),\n",
       " ('Treehouse Pictures', 62),\n",
       " ('Scope Pictures', 62),\n",
       " ('Evergreen Media Group', 62),\n",
       " ('Pandemonium Productions', 62),\n",
       " ('Wind Dancer Productions', 62),\n",
       " ('MMCB Film Produktion 2004', 62),\n",
       " ('Yellow Bird', 62),\n",
       " ('Visual Arts Entertainment', 62),\n",
       " ('Post No Bills Films', 62),\n",
       " ('Clinica Estetico', 61.666666666666664),\n",
       " ('Storyline Entertainment', 61.5),\n",
       " ('Blue Star Pictures', 61.5),\n",
       " ('Jinks/Cohen Company', 61.333333333333336),\n",
       " ('Current Entertainment', 61),\n",
       " ('Miramax', 61),\n",
       " ('Ludlum Entertainment', 61),\n",
       " ('Envision Entertainment', 61),\n",
       " ('Scanbox', 61),\n",
       " ('Ixtlan Productions', 61),\n",
       " ('Alberto Grimaldi Productions', 61),\n",
       " ('Global Entertainment Group', 61),\n",
       " ('360 Pictures', 61),\n",
       " ('Camp / Thompson Pictures', 61),\n",
       " ('Dee Gee Entertainment', 61),\n",
       " ('Mill Film', 61),\n",
       " ('Prufrock Pictures', 61),\n",
       " ('Polsky Films', 61),\n",
       " ('Sunset Gower Studios', 61),\n",
       " ('Earthship Productions', 61),\n",
       " ('Thunder Road Pictures', 60.75),\n",
       " ('Tribeca Productions', 60.666666666666664),\n",
       " ('Eon Productions', 60.666666666666664),\n",
       " ('Marc Platt Productions', 60.6),\n",
       " ('Wild West Picture Show Productions', 60.6),\n",
       " ('Revolution Sun Studios', 60.5),\n",
       " ('Herold Productions', 60.5),\n",
       " ('Boll Kino Beteiligungs GmbH & Co. KG', 60.5),\n",
       " ('Lin Pictures', 60.2),\n",
       " ('Walt Disney Animation Studios', 60.1),\n",
       " ('Focus Features', 60),\n",
       " ('Karz Entertainment', 60),\n",
       " ('Mikona Productions GmbH & Co. KG', 60),\n",
       " ('Film i VÃ¤st', 60),\n",
       " ('Clifford Werber Productions', 60),\n",
       " ('China Film Group Corporation (CFGC)', 60),\n",
       " ('Crystal Lake Entertainment', 60),\n",
       " ('Sean S. Cunningham Films', 60),\n",
       " ('Visiona Romantica', 60),\n",
       " ('KirchMedia', 60),\n",
       " ('Alan Greenspan Productions', 60),\n",
       " ('Pierce/Williams Entertainment', 60),\n",
       " ('True Grit Productions', 60),\n",
       " ('Initial Entertainment Group', 60),\n",
       " ('Bernard Gayle Productions', 60),\n",
       " ('Headline Pictures', 60),\n",
       " ('Starlite Films', 60),\n",
       " ('Crystal Sky Pictures', 60),\n",
       " ('Zehnte Babelsberg', 60),\n",
       " ('Sea Breeze Productions Inc.', 60),\n",
       " ('Zero Gravity Management', 60),\n",
       " ('Sweetpea Entertainment', 60),\n",
       " ('Screen Gems', 59.96774193548387),\n",
       " ('Signature Pictures', 59.666666666666664),\n",
       " ('Craven-Maddalena Films', 59.5),\n",
       " ('DreamWorks Animation', 59.46153846153846),\n",
       " ('FilmNation Entertainment', 59.4),\n",
       " ('Beacon Communications', 59.333333333333336),\n",
       " ('Dylan Sellers Productions', 59.333333333333336),\n",
       " ('Saturn Films', 59.30769230769231),\n",
       " ('Rogue Pictures', 59.22222222222222),\n",
       " ('Anarchos Productions', 59.2),\n",
       " ('Fortis Films', 59),\n",
       " ('Marvel Knights', 59),\n",
       " ('Biscayne Pictures', 59),\n",
       " ('DJ Films', 59),\n",
       " ('Vast Entertainment', 59),\n",
       " ('MFP Munich Film Partners', 59),\n",
       " ('Kumar Mobiliengesellschaft mbH & Co. Projekt Nr. 3 KG', 59),\n",
       " ('AZL Productions KG', 59),\n",
       " ('Primal Foe Productions', 59),\n",
       " ('Phase 1 Productions', 59),\n",
       " ('Alloy Entertainment', 59),\n",
       " ('Internationale Filmproduktion', 59),\n",
       " ('BenderSpink', 58.875),\n",
       " ('Stuber Productions', 58.714285714285715),\n",
       " ('This Is That Productions', 58.666666666666664),\n",
       " ('Disruption Entertainment', 58.666666666666664),\n",
       " ('Laura Ziskin Productions', 58.6),\n",
       " ('Rat Entertainment', 58.5),\n",
       " ('Andell Entertainment', 58.5),\n",
       " ('Hal Lieberman Company', 58.5),\n",
       " ('Australian Film Finance Corporation (AFFC)', 58.5),\n",
       " ('2929 Productions', 58.333333333333336),\n",
       " ('Radiant Productions', 58.333333333333336),\n",
       " ('Junction Entertainment', 58.333333333333336),\n",
       " ('Silver Pictures', 58.1764705882353),\n",
       " ('Lions Gate Films', 58.1578947368421),\n",
       " ('87Eleven', 58),\n",
       " ('David Brown Productions', 58),\n",
       " ('Jet Tone Production', 58),\n",
       " ('Achte Babelsberg Film', 58),\n",
       " ('Producers Circle', 58),\n",
       " ('Yuma', 58),\n",
       " ('KC Medien AG', 58),\n",
       " ('Black and Blu Entertainment', 58),\n",
       " ('Jessie Nelson Productions', 58),\n",
       " ('Block 2 Pictures', 58),\n",
       " ('Capella International', 58),\n",
       " ('Lou Yi Inc.', 58),\n",
       " ('Finestkind', 58),\n",
       " ('City Light Films', 58),\n",
       " ('Don Simpson/Jerry Bruckheimer Films', 58),\n",
       " ('Farah Films & Management', 58),\n",
       " ('Munich Film Partners & Company (MFP) MI2 Productions', 58),\n",
       " ('Vinyl Films', 57.8),\n",
       " ('TriStar Pictures', 57.64705882352941),\n",
       " ('Imagenation Abu Dhabi FZ', 57.583333333333336),\n",
       " ('Heyday Films', 57.583333333333336),\n",
       " ('DreamWorks SKG', 57.58064516129032),\n",
       " ('Columbia Pictures', 57.51282051282051),\n",
       " ('Cheyenne Enterprises', 57.5),\n",
       " ('Lion Rock Productions', 57.5),\n",
       " ('ApolloMedia Distribution', 57.5),\n",
       " ('Kaplan/Perrone Entertainment', 57.5),\n",
       " ('Revolution Studios', 57.46666666666667),\n",
       " ('Ghost House Pictures', 57.333333333333336),\n",
       " ('Voltage Pictures', 57.333333333333336),\n",
       " ('Impact Pictures', 57.22222222222222),\n",
       " ('Walt Disney Pictures', 57.15853658536585),\n",
       " ('De Line Pictures', 57.111111111111114),\n",
       " ('Alphaville Films', 57),\n",
       " ('One Race Productions', 57),\n",
       " ('British Film Institute (BFI)', 57),\n",
       " ('Monarch Pictures', 57),\n",
       " ('Prana Studios', 57),\n",
       " ('Bourne Again', 57),\n",
       " ('Cruise-Wagner Productions', 57),\n",
       " ('Charenton Productions', 57),\n",
       " ('Walrus & Associates', 57),\n",
       " ('Scared Productions', 57),\n",
       " ('SKA Films', 57),\n",
       " ('Fat Free', 57),\n",
       " ('Patalex Productions', 57),\n",
       " ('Anka Film', 57),\n",
       " ('Oops Doughnuts Productions', 57),\n",
       " ('Block / Hanson', 57),\n",
       " ('Daybreak Productions', 57),\n",
       " ('Image Entertainment', 57),\n",
       " ('Hollywood Partners', 57),\n",
       " ('Reel FX Creative Studios', 57),\n",
       " ('Motion Picture BETA Produktionsgesellschaft', 57),\n",
       " ('Frontier Pictures', 57),\n",
       " ('Furry Vengeance Productions', 57),\n",
       " ('Legendary Pictures', 56.8235294117647),\n",
       " ('Mutual Film Company', 56.8),\n",
       " ('Franchise Pictures', 56.69230769230769),\n",
       " ('Hasbro', 56.6),\n",
       " ('Happy Madison Productions', 56.52173913043478),\n",
       " ('John Wells Productions', 56.5),\n",
       " ('Iron Horse Entertainment (II)', 56.5),\n",
       " ('Figment Films', 56.5),\n",
       " ('Maverick Films', 56.4),\n",
       " ('Prescience', 56.333333333333336),\n",
       " ('Virtual Studios', 56.285714285714285),\n",
       " ('Everyman Pictures', 56.25),\n",
       " ('Color Force', 56.125),\n",
       " ('Intrepid Pictures', 56),\n",
       " ('Mace Neufeld Productions', 56),\n",
       " ('Big Kid Pictures', 56),\n",
       " ('Genre Films', 56),\n",
       " ('Bandito Brothers', 56),\n",
       " ('Screen Queensland', 56),\n",
       " ('Zippcast Films', 56),\n",
       " ('On Entertainment', 56),\n",
       " ('Exclusive Films', 56),\n",
       " ('Constantin Film Ltd.', 56),\n",
       " ('Orange Studios', 56),\n",
       " ('Baumgarten Management and Productions (BMP)', 56),\n",
       " ('Polygram Filmed Entertainment', 56),\n",
       " ('Wolfhound Pictures', 56),\n",
       " ('Fellah Pictures', 56),\n",
       " ('CityMation', 56),\n",
       " ('On the Road', 56),\n",
       " ('Blacklab Entertainment', 56),\n",
       " ('Interscope Communications', 56),\n",
       " ('Saga Film', 56),\n",
       " ('Chambara Pictures', 56),\n",
       " ('Polish Film Institute', 56),\n",
       " ('Monolith Films', 56),\n",
       " ('Earth Canada Productions', 56),\n",
       " ('Imagine Entertainment', 55.92),\n",
       " ('Casey Silver Productions', 55.75),\n",
       " ('Spyglass Entertainment', 55.71875),\n",
       " ('CBS Films', 55.7),\n",
       " ('Linson Entertainment', 55.666666666666664),\n",
       " ('Screen Australia', 55.666666666666664),\n",
       " ('Fox Searchlight Pictures', 55.625),\n",
       " ('Mike Zoss Productions', 55.6),\n",
       " ('Dark Horse Entertainment', 55.6),\n",
       " ('Rogue', 55.5),\n",
       " ('Kopelson Entertainment', 55.5),\n",
       " ('USA Films', 55.5),\n",
       " ('Mediastream Vierte Film GmbH & Co. Vermarktungs KG', 55.5),\n",
       " ('TF1 Films Production', 55.45454545454545),\n",
       " ('Amblin Entertainment', 55.34782608695652),\n",
       " ('River Road Entertainment', 55.333333333333336),\n",
       " ('Paramount Pictures', 55.278688524590166),\n",
       " ('Marvel Studios', 55.25),\n",
       " ('Columbia Pictures Corporation', 55.212765957446805),\n",
       " ('Cheetah Vision', 55),\n",
       " ('Lonely Film Productions GmbH & Co. KG.', 55),\n",
       " ('David Dobkin Productions', 55),\n",
       " ('Storefront Pictures', 55),\n",
       " ('TPS Star', 55),\n",
       " ('Trigger Street Productions', 55),\n",
       " ('Sommers Company, The', 55),\n",
       " ('Finding Forrester Productions', 55),\n",
       " ('Loofah Productions', 55),\n",
       " ('Harry Potter Publishing Rights', 55),\n",
       " ('Daybreak', 55),\n",
       " ('Columbus 81 Productions', 55),\n",
       " ('Europa Corp', 55),\n",
       " ('Gimages', 55),\n",
       " ('Frantic Films', 55),\n",
       " ('Sahara Productions', 55),\n",
       " ('Silvatar Media', 55),\n",
       " ('Universal Cartoon Studios', 55),\n",
       " ('Maple Shade Films', 55),\n",
       " ('Loumolo & Co.', 55),\n",
       " ('De Milo', 55),\n",
       " ('Saints LA', 55),\n",
       " ('Cool Music', 55),\n",
       " ('Film Colony', 55),\n",
       " ('Fountainbridge Films', 55),\n",
       " ('FidÃ©litÃ© Productions', 55),\n",
       " ('Toma 78', 55),\n",
       " ('FOZ', 55),\n",
       " ('Callahan Filmworks', 55),\n",
       " ('NPV Entertainment', 54.9),\n",
       " ('Edward R. Pressman Film', 54.8),\n",
       " ('Warner Bros. Animation', 54.8),\n",
       " ('Vertigo Entertainment', 54.6875),\n",
       " ('Depth of Field', 54.666666666666664),\n",
       " ('Village Roadshow Pictures', 54.65079365079365),\n",
       " ('Warner Bros.', 54.601190476190474),\n",
       " ('Scott Rudin Productions', 54.541666666666664),\n",
       " ('DNA Films', 54.5),\n",
       " ('Miramax Films', 54.46153846153846),\n",
       " ('Lawrence Gordon Productions', 54.333333333333336),\n",
       " ('Endgame Entertainment', 54.27272727272727),\n",
       " ('Illumination Entertainment', 54.2),\n",
       " ('Constantin Film Produktion', 54.1),\n",
       " ('Dark Castle Entertainment', 54),\n",
       " ('Cruise/Wagner Productions', 54),\n",
       " ('Marvel Entertainment', 54),\n",
       " ('Twisted Pictures', 54),\n",
       " ('WWE Studios', 54),\n",
       " ('Free State Pictures', 54),\n",
       " ('Bagdasarian Productions', 54),\n",
       " ('Media Asia Films', 54),\n",
       " ('Pit Bull Productions', 54),\n",
       " ('Las Producciones del Escorpion', 54),\n",
       " ('ScreenWest', 54),\n",
       " ('Nightfall Productions', 54),\n",
       " ('Fantail Films Inc.', 54),\n",
       " ('Black & White Productions', 54),\n",
       " ('SNL Studios', 54),\n",
       " ('Ghost Ship Films Pty. Ltd.', 54),\n",
       " ('Sogecine', 54),\n",
       " ('Square USA', 54),\n",
       " ('Versus Pictures', 54),\n",
       " ('Informant Media', 54),\n",
       " (\"Butcher's Run Films\", 54),\n",
       " ('Jerry Bruckheimer Films', 53.94736842105263),\n",
       " ('Moving Picture Company (MPC)', 53.90909090909091),\n",
       " ('Gary Sanchez Productions', 53.857142857142854),\n",
       " ('Offspring Entertainment', 53.833333333333336),\n",
       " ('Media Rights Capital', 53.714285714285715),\n",
       " ('Mandalay Pictures', 53.714285714285715),\n",
       " ('Metro-Goldwyn-Mayer (MGM)', 53.6875),\n",
       " ('Universal Pictures', 53.68208092485549),\n",
       " ('Forward Pass', 53.666666666666664),\n",
       " ('A Band Apart', 53.666666666666664),\n",
       " ('Eyetronics', 53.5),\n",
       " ('Relativity Media', 53.4040404040404),\n",
       " ('1492 Pictures', 53.38461538461539),\n",
       " ('Art Linson Productions', 53.333333333333336),\n",
       " ('New Line Cinema', 53.30681818181818),\n",
       " ('Stillking Films', 53.125),\n",
       " ('StudioCanal', 53.08695652173913),\n",
       " ('Cinerenta Medienbeteiligungs KG', 53),\n",
       " ('Ghoulardi Film Company', 53),\n",
       " ('Crave Films', 53),\n",
       " ('Senator International', 53),\n",
       " ('Aegis Film Fund', 53),\n",
       " ('Onyx Films', 53),\n",
       " ('Birnbaum / Barber Productions', 53),\n",
       " ('Intellectual Properties Worldwide', 53),\n",
       " ('Wessler Entertainment', 53),\n",
       " ('Outlaw Sinema', 53),\n",
       " ('Hammerhead Productions', 53),\n",
       " ('Colossal Pictures', 53),\n",
       " ('Mystery Clock Cinema', 53),\n",
       " ('Terra Firma Films', 53),\n",
       " ('Allspark Pictures', 53),\n",
       " ('Prospect Park', 53),\n",
       " ('Telegraph Films', 53),\n",
       " ('Hasbro Studios', 53),\n",
       " ('Baumgarten Merims Productions', 53),\n",
       " ('Romero-Grunwald Productions', 53),\n",
       " ('Inferno International', 53),\n",
       " ('New Wave Entertainment', 53),\n",
       " ('Parabolic Pictures', 53),\n",
       " ('Millbrook Farm Productions', 53),\n",
       " ('Granada Film Productions', 53),\n",
       " ('N1 European Film Produktions GmbH & Co. KG', 53),\n",
       " ('Big Beach Productions', 53),\n",
       " ('Exception Wild Bunch', 53),\n",
       " ('Simon Fields Productions', 53),\n",
       " ('British Film Council', 53),\n",
       " ('Superfinger Entertainment', 53),\n",
       " ('Entertainment Manufacturing Company', 53),\n",
       " ('Imhotep Productions', 53),\n",
       " ('Lakeshore Entertainment', 52.916666666666664),\n",
       " ('EuropaCorp', 52.88235294117647),\n",
       " ('DC Entertainment', 52.8),\n",
       " ('Original Film', 52.793103448275865),\n",
       " ('Paramount Animation', 52.6),\n",
       " ('Contrafilm', 52.57142857142857),\n",
       " ('Babelsberg Film', 52.5),\n",
       " ('Home Box Office (HBO)', 52.5),\n",
       " ('Lionsgate', 52.42857142857143),\n",
       " ('Morgan Creek Productions', 52.333333333333336),\n",
       " ('Valhalla Motion Pictures', 52.333333333333336),\n",
       " ('Ram Bergman Productions', 52.333333333333336),\n",
       " ('Studio Babelsberg', 52.25),\n",
       " ('Sidney Kimmel Entertainment', 52.25),\n",
       " ('Sunswept Entertainment', 52.2),\n",
       " ('American Zoetrope', 52.2),\n",
       " ('Radar Pictures', 52.111111111111114),\n",
       " ('Mosaic Media Group', 52),\n",
       " ('Reliance Entertainment', 52),\n",
       " ('Pacific Data Images (PDI)', 52),\n",
       " ('Fox Searchlight', 52),\n",
       " ('Sketch Films', 52),\n",
       " ('The Saul Zaentz Company', 52),\n",
       " ('American Empirical Pictures', 52),\n",
       " ('Debra Hill Productions', 52),\n",
       " (\"Eric's Boy\", 52),\n",
       " ('Many Rivers Productions', 52),\n",
       " ('Hydraulx', 52),\n",
       " ('Technical Black', 52),\n",
       " ('Boll KG', 52),\n",
       " ('The Halcyon Company', 52),\n",
       " ('Transmission Pictures', 52),\n",
       " ('Jim Henson Company, The', 52),\n",
       " ('Doom Buggy Productions', 52),\n",
       " ('Gratitude International', 52),\n",
       " ('Boy of the Year', 52),\n",
       " ('TF 1 Film Productions', 52),\n",
       " ('Moving Pictures', 52),\n",
       " ('Run It Up Productions Inc.', 52),\n",
       " ('Industrial Development Corporation of South Africa', 52),\n",
       " ('Jonathan Krane Group', 52),\n",
       " ('XM2 Productions', 52),\n",
       " ('Miracle Pictures', 52),\n",
       " ('Robert Simonds Productions', 51.9),\n",
       " ('Blinding Edge Pictures', 51.875),\n",
       " ('Global Entertainment Productions GmbH & Company Medien KG', 51.75),\n",
       " ('Colombia Pictures', 51.666666666666664),\n",
       " ('Canal Plus', 51.57142857142857),\n",
       " ('Scion Films', 51.54545454545455),\n",
       " ('Icon Entertainment International', 51.5),\n",
       " ('Emmett/Furla Films', 51.44444444444444),\n",
       " ('WingNut Films', 51.2),\n",
       " ('Temple Hill Entertainment', 51),\n",
       " ('Focus Films', 51),\n",
       " ('British Broadcasting Corporation (BBC)', 51),\n",
       " ('Big Talk Productions', 51),\n",
       " ('Revelations Entertainment', 51),\n",
       " ('\"DIA\" Productions GmbH & Co. KG', 51),\n",
       " ('Le Tax Shelter du Gouvernement FÃ©dÃ©ral de Belgique', 51),\n",
       " ('Fast Track Productions', 51),\n",
       " ('ETIC Films', 51),\n",
       " ('Halcyon Pictures', 51),\n",
       " ('Aldrich Group', 51),\n",
       " ('Optional Pictures', 51),\n",
       " ('Twentieth Century Fox', 51),\n",
       " ('ArtÃ©mis Productions', 51),\n",
       " ('Kinematograf Wien', 51),\n",
       " ('Dr D Studios', 51),\n",
       " ('Arts Council of England', 51),\n",
       " ('Kennedy Miller Mitchell', 51),\n",
       " ('Newman/Tooley Films', 51),\n",
       " ('Pretty Pictures', 51),\n",
       " ('Joseph Nittolo Entertainment', 51),\n",
       " ('Taxshelter. be', 51),\n",
       " ('Canal+', 50.68181818181818),\n",
       " ('Blue Sky Studios', 50.666666666666664),\n",
       " ('Conundrum Entertainment', 50.666666666666664),\n",
       " ('Cold Spring Pictures', 50.666666666666664),\n",
       " ('Dino De Laurentiis Company', 50.6),\n",
       " ('Super Cool ManChu', 50.5),\n",
       " ('WideAwake', 50.5),\n",
       " ('C-2 Pictures', 50.5),\n",
       " ('21 Laps Entertainment', 50.333333333333336),\n",
       " ('Canadian Film or Video Production Tax Credit (CPTC)', 50.25),\n",
       " ('Avery Pix', 50.25),\n",
       " ('The Zanuck Company', 50.166666666666664),\n",
       " ('Summit Entertainment', 50.02439024390244),\n",
       " ('Plan B Entertainment', 50),\n",
       " ('Imagi Animation Studios', 50),\n",
       " ('Mars Media Beteiligungs', 50),\n",
       " ('Castel Film Romania', 50),\n",
       " ('Transfilm', 50),\n",
       " ('Liddell Entertainment', 50),\n",
       " ('Grand Slam Productions', 50),\n",
       " ('Wonderful Films PLC', 50),\n",
       " ('Pacific Renaissance Pictures Ltd.', 50),\n",
       " ('Mile High Productions', 50),\n",
       " ('Reforma Films', 50),\n",
       " ('Captivate Entertainment', 50),\n",
       " ('Kevin Messick Productions', 50),\n",
       " ('Screenland Pictures', 50),\n",
       " ('Kontsept Film Company', 50),\n",
       " ('Infogrames Entertainment', 50),\n",
       " ('Watermark', 50),\n",
       " ('Fox Atomic', 49.8),\n",
       " ('Marvel Enterprises', 49.76923076923077),\n",
       " ('Weed Road Pictures', 49.714285714285715),\n",
       " ('New Legacy', 49.5),\n",
       " ('CinemaNX', 49.5),\n",
       " ('Appian Way', 49.333333333333336),\n",
       " ('Good Machine', 49.333333333333336),\n",
       " ('LivePlanet', 49.25),\n",
       " ('PathÃ© Renn Productions', 49.25),\n",
       " ('Twentieth Century Fox Animation', 49.1),\n",
       " ('Toho-Towa', 49),\n",
       " ('Bazmark Films', 49),\n",
       " ('Alberta Film Entertainment', 49),\n",
       " ('Zanagar Films', 49),\n",
       " ('Friday Night Lights LLC', 49),\n",
       " ('Havana Nights LLC', 49),\n",
       " ('Duperele Films', 49),\n",
       " ('Lazio Film Commission', 49),\n",
       " ('Underground', 49),\n",
       " ('Foresight Unlimited', 49),\n",
       " ('Hungarian National Film Office', 49),\n",
       " ('RAMCO', 49),\n",
       " ('Mr. Mudd Production', 49),\n",
       " ('Spy Next Door', 49),\n",
       " ('Captivity Productions', 49),\n",
       " ('MDBF Filmgesellschaft mbH & Company KG', 49),\n",
       " ('Flower Films (II)', 48.8),\n",
       " ('Waverly Films', 48.75),\n",
       " ('Castle Rock Entertainment', 48.733333333333334),\n",
       " ('Firm Films', 48.666666666666664),\n",
       " ('Film Rites', 48.666666666666664),\n",
       " ('Sony Pictures Releasing', 48.666666666666664),\n",
       " ('Sony Pictures', 48.6),\n",
       " ('Warner Bros. Pictures', 48.53846153846154),\n",
       " ('Malpaso Productions', 48.5),\n",
       " ('Konrad Pictures', 48.5),\n",
       " ('WV Films II', 48.5),\n",
       " ('Walt Disney Feature Animation', 48.42857142857143),\n",
       " ('Peninsula Films', 48.333333333333336),\n",
       " ('Tree Line Films', 48.333333333333336),\n",
       " ('UK Film Council', 48.23529411764706),\n",
       " ('Working Title Films', 48.18518518518518),\n",
       " ('The Weinstein Company', 48.035714285714285),\n",
       " ('Canal+ EspaÃ±a', 48),\n",
       " ('Gold/Miller Productions', 48),\n",
       " ('Telecinco Cinema', 48),\n",
       " ('Key Creatives', 48),\n",
       " ('Abandon Entertainment', 48),\n",
       " ('Collision Entertainment', 48),\n",
       " ('Blind Wink', 48),\n",
       " ('Barry Mendel Productions', 48),\n",
       " ('Universal Pictures Corporation', 48),\n",
       " ('Milkshake Films', 48),\n",
       " ('Chrysalis Films', 48),\n",
       " ('Turner Pictures', 48),\n",
       " ('Atlantic Television', 48),\n",
       " ('Antietam Filmworks', 48),\n",
       " ('Foxtor Productions', 48),\n",
       " ('Medienproduktion Prometheus Filmgesellschaft', 48),\n",
       " ('Limited Edition Productions Inc.', 48),\n",
       " ('Hargitay & Hargitay Pictures in Motion', 48),\n",
       " ('Filmax Entertainment', 48),\n",
       " ('ICF', 48),\n",
       " ('Cowboy Films', 48),\n",
       " ('Portobello Studios', 48),\n",
       " ('Open Road Films', 47.8),\n",
       " ('Twentieth Century Fox Film Corporation', 47.75229357798165),\n",
       " ('United Artists', 47.666666666666664),\n",
       " ('Atlas Entertainment', 47.666666666666664),\n",
       " ('Ascendant Pictures', 47.666666666666664),\n",
       " ('Splendid Pictures', 47.666666666666664),\n",
       " ('Syncopy', 47.5),\n",
       " ('Montecito Picture Company, The', 47.5),\n",
       " ('Grindstone Entertainment Group', 47.5),\n",
       " ('Sony Pictures Home Entertainment', 47.5),\n",
       " ('Virgin Produced', 47.4),\n",
       " ('Dune Entertainment III', 47.35294117647059),\n",
       " ('International Production Company', 47.333333333333336),\n",
       " ('Misher Films', 47.25),\n",
       " ('Cruel and Unusual Films', 47.25),\n",
       " ('Province of British Columbia Production Services Tax Credit',\n",
       "  47.166666666666664),\n",
       " ('DC Comics', 47.111111111111114),\n",
       " ('Dentsu', 47.083333333333336),\n",
       " ('DMG Entertainment', 47),\n",
       " ('Vendome Pictures', 47),\n",
       " ('Lions Gate', 47),\n",
       " ('Albert S. Ruddy Productions', 47),\n",
       " ('Electric Shepherd Productions', 47),\n",
       " ('MVL Incredible Productions', 47),\n",
       " ('Subterranean Productions UK Ltd.', 47),\n",
       " ('M Productions', 47),\n",
       " ('Pandora Pictures', 47),\n",
       " ('Laurinfilm', 47),\n",
       " ('Toff Guy Films', 47),\n",
       " ('Pink Machine', 47),\n",
       " ('Di Bonaventura Picture', 47),\n",
       " ('Le Grisbi Productions', 47),\n",
       " ('Gambit Pictures', 47),\n",
       " ('A113', 47),\n",
       " ('Subterranean Productions LLC', 47),\n",
       " ('Underworld Produktions GmbH', 47),\n",
       " ('Sid & Marty Krofft Pictures', 47),\n",
       " ('Dimension Films', 46.891891891891895),\n",
       " ('Bel Air Entertainment', 46.8),\n",
       " ('Gunn Films', 46.75),\n",
       " ('Grosvenor Park Media Ltd.', 46.75),\n",
       " ('Zide-Perry Productions', 46.666666666666664),\n",
       " ('Touchstone Pictures', 46.62068965517241),\n",
       " ('Davis Entertainment', 46.611111111111114),\n",
       " ('CinÃ©+', 46.5),\n",
       " ('Nu Image Entertainment GmbH', 46.5),\n",
       " ('Overture Films', 46.5),\n",
       " ('Allied Filmmakers', 46.5),\n",
       " ('Origin Pictures', 46.5),\n",
       " ('Huayi Brothers Media', 46.5),\n",
       " ('Participant Media', 46.46666666666667),\n",
       " ('Mad Chance', 46.4),\n",
       " ('Marv Films', 46.4),\n",
       " ('Odd Lot Entertainment', 46.333333333333336),\n",
       " ('Marty Katz Productions', 46.333333333333336),\n",
       " ('Wigram Productions', 46.333333333333336),\n",
       " ('Wildwood Enterprises', 46.25),\n",
       " ('Mandate Pictures', 46.22222222222222),\n",
       " ('DiNovi Pictures', 46),\n",
       " ('DreamWorks', 46),\n",
       " ...]"
      ]
     },
     "execution_count": 173,
     "metadata": {},
     "output_type": "execute_result"
    }
   ],
   "source": [
    "from statistics import mean\n",
    "\n",
    "comp_descr = pd.Series(data['production_companies'].sum()).value_counts() # creating a list of unique company names (Series.index)\n",
    "# display(comp_descr)\n",
    "\n",
    "comp_descr_dict = Counter()\n",
    "for company in comp_descr.index:\n",
    "    temp = list(data[data['production_companies'].map(lambda x: company in x)]['overview'].values) # list of overviews of a certain company\n",
    "    comp_descr_dict[company] = mean([len(item.split(' ')) for item in temp]) # turning temp into a list of overview lengths, calculating mean length, writing down into the dictionary\n",
    "\n",
    "sorted(comp_descr_dict.items(), key=(lambda item: item[1]), reverse=True)"
   ]
  },
  {
   "cell_type": "markdown",
   "metadata": {
    "colab_type": "text",
    "id": "FJ1AFt90VqAP"
   },
   "source": [
    "# 26. Какие фильмы входят в 1 процент лучших по рейтингу? \n",
    "по vote_average"
   ]
  },
  {
   "cell_type": "code",
   "execution_count": 21,
   "metadata": {
    "colab": {},
    "colab_type": "code",
    "id": "8qmJVq4CVqAQ",
    "scrolled": true
   },
   "outputs": [
    {
     "data": {
      "text/plain": [
       "RangeIndex(start=0, stop=1889, step=1)"
      ]
     },
     "execution_count": 21,
     "metadata": {},
     "output_type": "execute_result"
    }
   ],
   "source": [
    "answers['26'] == ''"
   ]
  },
  {
   "cell_type": "code",
   "execution_count": 66,
   "metadata": {
    "scrolled": true
   },
   "outputs": [
    {
     "data": {
      "text/html": [
       "<div>\n",
       "<style scoped>\n",
       "    .dataframe tbody tr th:only-of-type {\n",
       "        vertical-align: middle;\n",
       "    }\n",
       "\n",
       "    .dataframe tbody tr th {\n",
       "        vertical-align: top;\n",
       "    }\n",
       "\n",
       "    .dataframe thead th {\n",
       "        text-align: right;\n",
       "    }\n",
       "</style>\n",
       "<table border=\"1\" class=\"dataframe\">\n",
       "  <thead>\n",
       "    <tr style=\"text-align: right;\">\n",
       "      <th></th>\n",
       "      <th>imdb_id</th>\n",
       "      <th>budget</th>\n",
       "      <th>revenue</th>\n",
       "      <th>original_title</th>\n",
       "      <th>cast</th>\n",
       "      <th>director</th>\n",
       "      <th>tagline</th>\n",
       "      <th>overview</th>\n",
       "      <th>runtime</th>\n",
       "      <th>genres</th>\n",
       "      <th>production_companies</th>\n",
       "      <th>release_date</th>\n",
       "      <th>vote_average</th>\n",
       "      <th>release_year</th>\n",
       "      <th>profit</th>\n",
       "    </tr>\n",
       "  </thead>\n",
       "  <tbody>\n",
       "    <tr>\n",
       "      <th>599</th>\n",
       "      <td>tt0468569</td>\n",
       "      <td>185000000</td>\n",
       "      <td>1001921825</td>\n",
       "      <td>The Dark Knight</td>\n",
       "      <td>[Christian Bale, Michael Caine, Heath Ledger, ...</td>\n",
       "      <td>[Christopher Nolan]</td>\n",
       "      <td>Why So Serious?</td>\n",
       "      <td>Batman raises the stakes in his war on crime. ...</td>\n",
       "      <td>152</td>\n",
       "      <td>[Drama, Action, Crime, Thriller]</td>\n",
       "      <td>[DC Comics, Legendary Pictures, Warner Bros., ...</td>\n",
       "      <td>2008-07-16</td>\n",
       "      <td>8.1</td>\n",
       "      <td>2008</td>\n",
       "      <td>816921825</td>\n",
       "    </tr>\n",
       "    <tr>\n",
       "      <th>125</th>\n",
       "      <td>tt2084970</td>\n",
       "      <td>14000000</td>\n",
       "      <td>233555708</td>\n",
       "      <td>The Imitation Game</td>\n",
       "      <td>[Benedict Cumberbatch, Keira Knightley, Matthe...</td>\n",
       "      <td>[Morten Tyldum]</td>\n",
       "      <td>The true enigma was the man who cracked the code.</td>\n",
       "      <td>Based on the real life story of legendary cryp...</td>\n",
       "      <td>113</td>\n",
       "      <td>[History, Drama, Thriller, War]</td>\n",
       "      <td>[Black Bear Pictures, Bristol Automotive]</td>\n",
       "      <td>2014-11-14</td>\n",
       "      <td>8.0</td>\n",
       "      <td>2014</td>\n",
       "      <td>219555708</td>\n",
       "    </tr>\n",
       "    <tr>\n",
       "      <th>9</th>\n",
       "      <td>tt2096673</td>\n",
       "      <td>175000000</td>\n",
       "      <td>853708609</td>\n",
       "      <td>Inside Out</td>\n",
       "      <td>[Amy Poehler, Phyllis Smith, Richard Kind, Bil...</td>\n",
       "      <td>[Pete Docter]</td>\n",
       "      <td>Meet the little voices inside your head.</td>\n",
       "      <td>Growing up can be a bumpy road, and it's no ex...</td>\n",
       "      <td>94</td>\n",
       "      <td>[Comedy, Animation, Family]</td>\n",
       "      <td>[Walt Disney Pictures, Pixar Animation Studios...</td>\n",
       "      <td>2015-06-09</td>\n",
       "      <td>8.0</td>\n",
       "      <td>2015</td>\n",
       "      <td>678708609</td>\n",
       "    </tr>\n",
       "    <tr>\n",
       "      <th>118</th>\n",
       "      <td>tt0816692</td>\n",
       "      <td>165000000</td>\n",
       "      <td>621752480</td>\n",
       "      <td>Interstellar</td>\n",
       "      <td>[Matthew McConaughey, Jessica Chastain, Anne H...</td>\n",
       "      <td>[Christopher Nolan]</td>\n",
       "      <td>Mankind was born on Earth. It was never meant ...</td>\n",
       "      <td>Interstellar chronicles the adventures of a gr...</td>\n",
       "      <td>169</td>\n",
       "      <td>[Adventure, Drama, Science Fiction]</td>\n",
       "      <td>[Paramount Pictures, Legendary Pictures, Warne...</td>\n",
       "      <td>2014-11-05</td>\n",
       "      <td>8.0</td>\n",
       "      <td>2014</td>\n",
       "      <td>456752480</td>\n",
       "    </tr>\n",
       "    <tr>\n",
       "      <th>34</th>\n",
       "      <td>tt3170832</td>\n",
       "      <td>6000000</td>\n",
       "      <td>35401758</td>\n",
       "      <td>Room</td>\n",
       "      <td>[Brie Larson, Jacob Tremblay, Joan Allen, Sean...</td>\n",
       "      <td>[Lenny Abrahamson]</td>\n",
       "      <td>Love knows no boundaries</td>\n",
       "      <td>Jack is a young boy of 5 years old who has liv...</td>\n",
       "      <td>117</td>\n",
       "      <td>[Drama, Thriller]</td>\n",
       "      <td>[Element Pictures, No Trace Camping, A24, Dupe...</td>\n",
       "      <td>2015-10-16</td>\n",
       "      <td>8.0</td>\n",
       "      <td>2015</td>\n",
       "      <td>29401758</td>\n",
       "    </tr>\n",
       "    <tr>\n",
       "      <th>1081</th>\n",
       "      <td>tt0167260</td>\n",
       "      <td>94000000</td>\n",
       "      <td>1118888979</td>\n",
       "      <td>The Lord of the Rings: The Return of the King</td>\n",
       "      <td>[Elijah Wood, Ian McKellen, Viggo Mortensen, L...</td>\n",
       "      <td>[Peter Jackson]</td>\n",
       "      <td>The eye of the enemy is moving.</td>\n",
       "      <td>Aragorn is revealed as the heir to the ancient...</td>\n",
       "      <td>201</td>\n",
       "      <td>[Adventure, Fantasy, Action]</td>\n",
       "      <td>[WingNut Films, New Line Cinema]</td>\n",
       "      <td>2003-12-01</td>\n",
       "      <td>7.9</td>\n",
       "      <td>2003</td>\n",
       "      <td>1024888979</td>\n",
       "    </tr>\n",
       "    <tr>\n",
       "      <th>138</th>\n",
       "      <td>tt2278388</td>\n",
       "      <td>30000000</td>\n",
       "      <td>174600318</td>\n",
       "      <td>The Grand Budapest Hotel</td>\n",
       "      <td>[Ralph Fiennes, Tony Revolori, F. Murray Abrah...</td>\n",
       "      <td>[Wes Anderson]</td>\n",
       "      <td>A perfect holiday without leaving home.</td>\n",
       "      <td>The Grand Budapest Hotel tells of a legendary ...</td>\n",
       "      <td>99</td>\n",
       "      <td>[Comedy, Drama]</td>\n",
       "      <td>[Fox Searchlight Pictures, Scott Rudin Product...</td>\n",
       "      <td>2014-02-26</td>\n",
       "      <td>7.9</td>\n",
       "      <td>2014</td>\n",
       "      <td>144600318</td>\n",
       "    </tr>\n",
       "    <tr>\n",
       "      <th>1183</th>\n",
       "      <td>tt0993846</td>\n",
       "      <td>100000000</td>\n",
       "      <td>392000694</td>\n",
       "      <td>The Wolf of Wall Street</td>\n",
       "      <td>[Leonardo DiCaprio, Jonah Hill, Margot Robbie,...</td>\n",
       "      <td>[Martin Scorsese]</td>\n",
       "      <td>EARN. SPEND. PARTY.</td>\n",
       "      <td>A New York stockbroker refuses to cooperate in...</td>\n",
       "      <td>180</td>\n",
       "      <td>[Crime, Drama, Comedy]</td>\n",
       "      <td>[Paramount Pictures, Appian Way, EMJAG Product...</td>\n",
       "      <td>2013-12-25</td>\n",
       "      <td>7.9</td>\n",
       "      <td>2013</td>\n",
       "      <td>292000694</td>\n",
       "    </tr>\n",
       "    <tr>\n",
       "      <th>370</th>\n",
       "      <td>tt1375666</td>\n",
       "      <td>160000000</td>\n",
       "      <td>825500000</td>\n",
       "      <td>Inception</td>\n",
       "      <td>[Leonardo DiCaprio, Joseph Gordon-Levitt, Elle...</td>\n",
       "      <td>[Christopher Nolan]</td>\n",
       "      <td>Your mind is the scene of the crime.</td>\n",
       "      <td>Cobb, a skilled thief who commits corporate es...</td>\n",
       "      <td>148</td>\n",
       "      <td>[Action, Thriller, Science Fiction, Mystery, A...</td>\n",
       "      <td>[Legendary Pictures, Warner Bros., Syncopy]</td>\n",
       "      <td>2010-07-14</td>\n",
       "      <td>7.9</td>\n",
       "      <td>2010</td>\n",
       "      <td>665500000</td>\n",
       "    </tr>\n",
       "    <tr>\n",
       "      <th>119</th>\n",
       "      <td>tt2015381</td>\n",
       "      <td>170000000</td>\n",
       "      <td>773312399</td>\n",
       "      <td>Guardians of the Galaxy</td>\n",
       "      <td>[Chris Pratt, Zoe Saldana, Dave Bautista, Vin ...</td>\n",
       "      <td>[James Gunn]</td>\n",
       "      <td>All heroes start somewhere.</td>\n",
       "      <td>Light years from Earth, 26 years after being a...</td>\n",
       "      <td>121</td>\n",
       "      <td>[Action, Science Fiction, Adventure]</td>\n",
       "      <td>[Marvel Studios, Moving Picture Company (MPC),...</td>\n",
       "      <td>2014-07-30</td>\n",
       "      <td>7.9</td>\n",
       "      <td>2014</td>\n",
       "      <td>603312399</td>\n",
       "    </tr>\n",
       "    <tr>\n",
       "      <th>1800</th>\n",
       "      <td>tt0209144</td>\n",
       "      <td>9000000</td>\n",
       "      <td>39723096</td>\n",
       "      <td>Memento</td>\n",
       "      <td>[Guy Pearce, Carrie-Anne Moss, Joe Pantoliano,...</td>\n",
       "      <td>[Christopher Nolan]</td>\n",
       "      <td>Some memories are best forgotten.</td>\n",
       "      <td>Suffering short-term memory loss after a head ...</td>\n",
       "      <td>113</td>\n",
       "      <td>[Mystery, Thriller]</td>\n",
       "      <td>[Summit Entertainment, Newmarket Capital Group...</td>\n",
       "      <td>2000-10-11</td>\n",
       "      <td>7.9</td>\n",
       "      <td>2000</td>\n",
       "      <td>30723096</td>\n",
       "    </tr>\n",
       "    <tr>\n",
       "      <th>128</th>\n",
       "      <td>tt2267998</td>\n",
       "      <td>61000000</td>\n",
       "      <td>369330363</td>\n",
       "      <td>Gone Girl</td>\n",
       "      <td>[Ben Affleck, Rosamund Pike, Carrie Coon, Neil...</td>\n",
       "      <td>[David Fincher]</td>\n",
       "      <td>You don't know what you've got 'til it's...</td>\n",
       "      <td>With his wife's disappearance having become th...</td>\n",
       "      <td>145</td>\n",
       "      <td>[Mystery, Thriller, Drama]</td>\n",
       "      <td>[Twentieth Century Fox Film Corporation, Regen...</td>\n",
       "      <td>2014-10-01</td>\n",
       "      <td>7.9</td>\n",
       "      <td>2014</td>\n",
       "      <td>308330363</td>\n",
       "    </tr>\n",
       "    <tr>\n",
       "      <th>872</th>\n",
       "      <td>tt0253474</td>\n",
       "      <td>35000000</td>\n",
       "      <td>120072577</td>\n",
       "      <td>The Pianist</td>\n",
       "      <td>[Adrien Brody, Thomas Kretschmann, Frank Finla...</td>\n",
       "      <td>[Roman Polanski]</td>\n",
       "      <td>Music was his passion. Survival was his master...</td>\n",
       "      <td>The Pianist is a film adapted from the biograp...</td>\n",
       "      <td>150</td>\n",
       "      <td>[Drama, War]</td>\n",
       "      <td>[Bac Films, Canal+Polska, Heritage Films, Stud...</td>\n",
       "      <td>2002-09-24</td>\n",
       "      <td>7.9</td>\n",
       "      <td>2002</td>\n",
       "      <td>85072577</td>\n",
       "    </tr>\n",
       "    <tr>\n",
       "      <th>1191</th>\n",
       "      <td>tt2024544</td>\n",
       "      <td>20000000</td>\n",
       "      <td>187000000</td>\n",
       "      <td>12 Years a Slave</td>\n",
       "      <td>[Chiwetel Ejiofor, Michael Fassbender, Lupita ...</td>\n",
       "      <td>[Steve McQueen]</td>\n",
       "      <td>The extraordinary true story of Solomon Northup</td>\n",
       "      <td>In the pre-Civil War United States, Solomon No...</td>\n",
       "      <td>134</td>\n",
       "      <td>[Drama, History]</td>\n",
       "      <td>[Plan B Entertainment, Regency Enterprises, Ri...</td>\n",
       "      <td>2013-10-18</td>\n",
       "      <td>7.9</td>\n",
       "      <td>2013</td>\n",
       "      <td>167000000</td>\n",
       "    </tr>\n",
       "    <tr>\n",
       "      <th>283</th>\n",
       "      <td>tt0485947</td>\n",
       "      <td>47000000</td>\n",
       "      <td>3547209</td>\n",
       "      <td>Mr. Nobody</td>\n",
       "      <td>[Jared Leto, Diane Kruger, Linh Äan Pháº¡m, Sa...</td>\n",
       "      <td>[Jaco Van Dormael]</td>\n",
       "      <td>Nothing is real, everything is possible.</td>\n",
       "      <td>Nemo Nobody leads an ordinary existence with h...</td>\n",
       "      <td>141</td>\n",
       "      <td>[Science Fiction, Drama, Romance, Fantasy]</td>\n",
       "      <td>[Pan EuropÃ©enne Production, Virtual Films]</td>\n",
       "      <td>2009-09-11</td>\n",
       "      <td>7.8</td>\n",
       "      <td>2009</td>\n",
       "      <td>-43452791</td>\n",
       "    </tr>\n",
       "    <tr>\n",
       "      <th>1688</th>\n",
       "      <td>tt0469494</td>\n",
       "      <td>25000000</td>\n",
       "      <td>76181545</td>\n",
       "      <td>There Will Be Blood</td>\n",
       "      <td>[Daniel Day-Lewis, Paul Dano, Dillon Freasier,...</td>\n",
       "      <td>[Paul Thomas Anderson]</td>\n",
       "      <td>There Will Be Greed. There Will Be Vengeance.</td>\n",
       "      <td>When ruthless oil prospector, Daniel Plainview...</td>\n",
       "      <td>158</td>\n",
       "      <td>[Drama]</td>\n",
       "      <td>[Miramax Films, Ghoulardi Film Company, Paramo...</td>\n",
       "      <td>2007-12-28</td>\n",
       "      <td>7.8</td>\n",
       "      <td>2007</td>\n",
       "      <td>51181545</td>\n",
       "    </tr>\n",
       "    <tr>\n",
       "      <th>863</th>\n",
       "      <td>tt0167261</td>\n",
       "      <td>79000000</td>\n",
       "      <td>926287400</td>\n",
       "      <td>The Lord of the Rings: The Two Towers</td>\n",
       "      <td>[Elijah Wood, Ian McKellen, Viggo Mortensen, L...</td>\n",
       "      <td>[Peter Jackson]</td>\n",
       "      <td>A New Power Is Rising.</td>\n",
       "      <td>Frodo and Sam are trekking to Mordor to destro...</td>\n",
       "      <td>179</td>\n",
       "      <td>[Adventure, Fantasy, Action]</td>\n",
       "      <td>[WingNut Films, New Line Cinema, The Saul Zaen...</td>\n",
       "      <td>2002-12-18</td>\n",
       "      <td>7.8</td>\n",
       "      <td>2002</td>\n",
       "      <td>847287400</td>\n",
       "    </tr>\n",
       "    <tr>\n",
       "      <th>155</th>\n",
       "      <td>tt2980516</td>\n",
       "      <td>15000000</td>\n",
       "      <td>121201940</td>\n",
       "      <td>The Theory of Everything</td>\n",
       "      <td>[Eddie Redmayne, Felicity Jones, Harry Lloyd, ...</td>\n",
       "      <td>[James Marsh]</td>\n",
       "      <td>His Mind Changed Our World. Her Love Changed His.</td>\n",
       "      <td>A look at the relationship between the famous ...</td>\n",
       "      <td>123</td>\n",
       "      <td>[Drama, Romance]</td>\n",
       "      <td>[Working Title Films]</td>\n",
       "      <td>2014-11-26</td>\n",
       "      <td>7.8</td>\n",
       "      <td>2014</td>\n",
       "      <td>106201940</td>\n",
       "    </tr>\n",
       "    <tr>\n",
       "      <th>1563</th>\n",
       "      <td>tt0338013</td>\n",
       "      <td>20000000</td>\n",
       "      <td>72258126</td>\n",
       "      <td>Eternal Sunshine of the Spotless Mind</td>\n",
       "      <td>[Jim Carrey, Kate Winslet, Elijah Wood, Mark R...</td>\n",
       "      <td>[Michel Gondry]</td>\n",
       "      <td>I already forget how I used to feel about you.</td>\n",
       "      <td>Joel Barish, heartbroken that his girlfriend u...</td>\n",
       "      <td>108</td>\n",
       "      <td>[Science Fiction, Drama, Romance]</td>\n",
       "      <td>[Anonymous Content, This Is That Productions, ...</td>\n",
       "      <td>2004-03-19</td>\n",
       "      <td>7.8</td>\n",
       "      <td>2004</td>\n",
       "      <td>52258126</td>\n",
       "    </tr>\n",
       "  </tbody>\n",
       "</table>\n",
       "</div>"
      ],
      "text/plain": [
       "        imdb_id     budget     revenue  \\\n",
       "599   tt0468569  185000000  1001921825   \n",
       "125   tt2084970   14000000   233555708   \n",
       "9     tt2096673  175000000   853708609   \n",
       "118   tt0816692  165000000   621752480   \n",
       "34    tt3170832    6000000    35401758   \n",
       "1081  tt0167260   94000000  1118888979   \n",
       "138   tt2278388   30000000   174600318   \n",
       "1183  tt0993846  100000000   392000694   \n",
       "370   tt1375666  160000000   825500000   \n",
       "119   tt2015381  170000000   773312399   \n",
       "1800  tt0209144    9000000    39723096   \n",
       "128   tt2267998   61000000   369330363   \n",
       "872   tt0253474   35000000   120072577   \n",
       "1191  tt2024544   20000000   187000000   \n",
       "283   tt0485947   47000000     3547209   \n",
       "1688  tt0469494   25000000    76181545   \n",
       "863   tt0167261   79000000   926287400   \n",
       "155   tt2980516   15000000   121201940   \n",
       "1563  tt0338013   20000000    72258126   \n",
       "\n",
       "                                     original_title  \\\n",
       "599                                 The Dark Knight   \n",
       "125                              The Imitation Game   \n",
       "9                                        Inside Out   \n",
       "118                                    Interstellar   \n",
       "34                                             Room   \n",
       "1081  The Lord of the Rings: The Return of the King   \n",
       "138                        The Grand Budapest Hotel   \n",
       "1183                        The Wolf of Wall Street   \n",
       "370                                       Inception   \n",
       "119                         Guardians of the Galaxy   \n",
       "1800                                        Memento   \n",
       "128                                       Gone Girl   \n",
       "872                                     The Pianist   \n",
       "1191                               12 Years a Slave   \n",
       "283                                      Mr. Nobody   \n",
       "1688                            There Will Be Blood   \n",
       "863           The Lord of the Rings: The Two Towers   \n",
       "155                        The Theory of Everything   \n",
       "1563          Eternal Sunshine of the Spotless Mind   \n",
       "\n",
       "                                                   cast  \\\n",
       "599   [Christian Bale, Michael Caine, Heath Ledger, ...   \n",
       "125   [Benedict Cumberbatch, Keira Knightley, Matthe...   \n",
       "9     [Amy Poehler, Phyllis Smith, Richard Kind, Bil...   \n",
       "118   [Matthew McConaughey, Jessica Chastain, Anne H...   \n",
       "34    [Brie Larson, Jacob Tremblay, Joan Allen, Sean...   \n",
       "1081  [Elijah Wood, Ian McKellen, Viggo Mortensen, L...   \n",
       "138   [Ralph Fiennes, Tony Revolori, F. Murray Abrah...   \n",
       "1183  [Leonardo DiCaprio, Jonah Hill, Margot Robbie,...   \n",
       "370   [Leonardo DiCaprio, Joseph Gordon-Levitt, Elle...   \n",
       "119   [Chris Pratt, Zoe Saldana, Dave Bautista, Vin ...   \n",
       "1800  [Guy Pearce, Carrie-Anne Moss, Joe Pantoliano,...   \n",
       "128   [Ben Affleck, Rosamund Pike, Carrie Coon, Neil...   \n",
       "872   [Adrien Brody, Thomas Kretschmann, Frank Finla...   \n",
       "1191  [Chiwetel Ejiofor, Michael Fassbender, Lupita ...   \n",
       "283   [Jared Leto, Diane Kruger, Linh Äan Pháº¡m, Sa...   \n",
       "1688  [Daniel Day-Lewis, Paul Dano, Dillon Freasier,...   \n",
       "863   [Elijah Wood, Ian McKellen, Viggo Mortensen, L...   \n",
       "155   [Eddie Redmayne, Felicity Jones, Harry Lloyd, ...   \n",
       "1563  [Jim Carrey, Kate Winslet, Elijah Wood, Mark R...   \n",
       "\n",
       "                    director  \\\n",
       "599      [Christopher Nolan]   \n",
       "125          [Morten Tyldum]   \n",
       "9              [Pete Docter]   \n",
       "118      [Christopher Nolan]   \n",
       "34        [Lenny Abrahamson]   \n",
       "1081         [Peter Jackson]   \n",
       "138           [Wes Anderson]   \n",
       "1183       [Martin Scorsese]   \n",
       "370      [Christopher Nolan]   \n",
       "119             [James Gunn]   \n",
       "1800     [Christopher Nolan]   \n",
       "128          [David Fincher]   \n",
       "872         [Roman Polanski]   \n",
       "1191         [Steve McQueen]   \n",
       "283       [Jaco Van Dormael]   \n",
       "1688  [Paul Thomas Anderson]   \n",
       "863          [Peter Jackson]   \n",
       "155            [James Marsh]   \n",
       "1563         [Michel Gondry]   \n",
       "\n",
       "                                                tagline  \\\n",
       "599                                     Why So Serious?   \n",
       "125   The true enigma was the man who cracked the code.   \n",
       "9              Meet the little voices inside your head.   \n",
       "118   Mankind was born on Earth. It was never meant ...   \n",
       "34                             Love knows no boundaries   \n",
       "1081                    The eye of the enemy is moving.   \n",
       "138             A perfect holiday without leaving home.   \n",
       "1183                                EARN. SPEND. PARTY.   \n",
       "370                Your mind is the scene of the crime.   \n",
       "119                         All heroes start somewhere.   \n",
       "1800                  Some memories are best forgotten.   \n",
       "128         You don't know what you've got 'til it's...   \n",
       "872   Music was his passion. Survival was his master...   \n",
       "1191    The extraordinary true story of Solomon Northup   \n",
       "283            Nothing is real, everything is possible.   \n",
       "1688      There Will Be Greed. There Will Be Vengeance.   \n",
       "863                              A New Power Is Rising.   \n",
       "155   His Mind Changed Our World. Her Love Changed His.   \n",
       "1563     I already forget how I used to feel about you.   \n",
       "\n",
       "                                               overview  runtime  \\\n",
       "599   Batman raises the stakes in his war on crime. ...      152   \n",
       "125   Based on the real life story of legendary cryp...      113   \n",
       "9     Growing up can be a bumpy road, and it's no ex...       94   \n",
       "118   Interstellar chronicles the adventures of a gr...      169   \n",
       "34    Jack is a young boy of 5 years old who has liv...      117   \n",
       "1081  Aragorn is revealed as the heir to the ancient...      201   \n",
       "138   The Grand Budapest Hotel tells of a legendary ...       99   \n",
       "1183  A New York stockbroker refuses to cooperate in...      180   \n",
       "370   Cobb, a skilled thief who commits corporate es...      148   \n",
       "119   Light years from Earth, 26 years after being a...      121   \n",
       "1800  Suffering short-term memory loss after a head ...      113   \n",
       "128   With his wife's disappearance having become th...      145   \n",
       "872   The Pianist is a film adapted from the biograp...      150   \n",
       "1191  In the pre-Civil War United States, Solomon No...      134   \n",
       "283   Nemo Nobody leads an ordinary existence with h...      141   \n",
       "1688  When ruthless oil prospector, Daniel Plainview...      158   \n",
       "863   Frodo and Sam are trekking to Mordor to destro...      179   \n",
       "155   A look at the relationship between the famous ...      123   \n",
       "1563  Joel Barish, heartbroken that his girlfriend u...      108   \n",
       "\n",
       "                                                 genres  \\\n",
       "599                    [Drama, Action, Crime, Thriller]   \n",
       "125                     [History, Drama, Thriller, War]   \n",
       "9                           [Comedy, Animation, Family]   \n",
       "118                 [Adventure, Drama, Science Fiction]   \n",
       "34                                    [Drama, Thriller]   \n",
       "1081                       [Adventure, Fantasy, Action]   \n",
       "138                                     [Comedy, Drama]   \n",
       "1183                             [Crime, Drama, Comedy]   \n",
       "370   [Action, Thriller, Science Fiction, Mystery, A...   \n",
       "119                [Action, Science Fiction, Adventure]   \n",
       "1800                                [Mystery, Thriller]   \n",
       "128                          [Mystery, Thriller, Drama]   \n",
       "872                                        [Drama, War]   \n",
       "1191                                   [Drama, History]   \n",
       "283          [Science Fiction, Drama, Romance, Fantasy]   \n",
       "1688                                            [Drama]   \n",
       "863                        [Adventure, Fantasy, Action]   \n",
       "155                                    [Drama, Romance]   \n",
       "1563                  [Science Fiction, Drama, Romance]   \n",
       "\n",
       "                                   production_companies release_date  \\\n",
       "599   [DC Comics, Legendary Pictures, Warner Bros., ...   2008-07-16   \n",
       "125           [Black Bear Pictures, Bristol Automotive]   2014-11-14   \n",
       "9     [Walt Disney Pictures, Pixar Animation Studios...   2015-06-09   \n",
       "118   [Paramount Pictures, Legendary Pictures, Warne...   2014-11-05   \n",
       "34    [Element Pictures, No Trace Camping, A24, Dupe...   2015-10-16   \n",
       "1081                   [WingNut Films, New Line Cinema]   2003-12-01   \n",
       "138   [Fox Searchlight Pictures, Scott Rudin Product...   2014-02-26   \n",
       "1183  [Paramount Pictures, Appian Way, EMJAG Product...   2013-12-25   \n",
       "370         [Legendary Pictures, Warner Bros., Syncopy]   2010-07-14   \n",
       "119   [Marvel Studios, Moving Picture Company (MPC),...   2014-07-30   \n",
       "1800  [Summit Entertainment, Newmarket Capital Group...   2000-10-11   \n",
       "128   [Twentieth Century Fox Film Corporation, Regen...   2014-10-01   \n",
       "872   [Bac Films, Canal+Polska, Heritage Films, Stud...   2002-09-24   \n",
       "1191  [Plan B Entertainment, Regency Enterprises, Ri...   2013-10-18   \n",
       "283         [Pan EuropÃ©enne Production, Virtual Films]   2009-09-11   \n",
       "1688  [Miramax Films, Ghoulardi Film Company, Paramo...   2007-12-28   \n",
       "863   [WingNut Films, New Line Cinema, The Saul Zaen...   2002-12-18   \n",
       "155                               [Working Title Films]   2014-11-26   \n",
       "1563  [Anonymous Content, This Is That Productions, ...   2004-03-19   \n",
       "\n",
       "      vote_average  release_year      profit  \n",
       "599            8.1          2008   816921825  \n",
       "125            8.0          2014   219555708  \n",
       "9              8.0          2015   678708609  \n",
       "118            8.0          2014   456752480  \n",
       "34             8.0          2015    29401758  \n",
       "1081           7.9          2003  1024888979  \n",
       "138            7.9          2014   144600318  \n",
       "1183           7.9          2013   292000694  \n",
       "370            7.9          2010   665500000  \n",
       "119            7.9          2014   603312399  \n",
       "1800           7.9          2000    30723096  \n",
       "128            7.9          2014   308330363  \n",
       "872            7.9          2002    85072577  \n",
       "1191           7.9          2013   167000000  \n",
       "283            7.8          2009   -43452791  \n",
       "1688           7.8          2007    51181545  \n",
       "863            7.8          2002   847287400  \n",
       "155            7.8          2014   106201940  \n",
       "1563           7.8          2004    52258126  "
      ]
     },
     "execution_count": 66,
     "metadata": {},
     "output_type": "execute_result"
    }
   ],
   "source": [
    "votes = data['vote_average'].sort_values(ascending=False)\n",
    "\n",
    "length = round(len(votes)*0.01)\n",
    "votes_1percent = votes[0:length]\n",
    "\n",
    "data_sorted = data.iloc[list(votes_1percent.index)]\n",
    "data_sorted"
   ]
  },
  {
   "cell_type": "code",
   "execution_count": 67,
   "metadata": {},
   "outputs": [],
   "source": [
    "# set of options proposed:\n",
    "titles1 = ['Inside Out', 'The Dark Knight', '12 Years a Slave']\n",
    "titles2 = ['BloodRayne', 'The Adventures of Rocky & Bullwinkle']\n",
    "titles3 = ['Batman Begins', 'The Lord of the Rings: The Return of the King', 'Upside Down']\n",
    "titles4 = ['300', 'Lucky Number Slevin', 'Kill Bill: Vol. 1']\n",
    "titles5 = ['Upside Down', 'Inside Out', 'Iron Man']"
   ]
  },
  {
   "cell_type": "code",
   "execution_count": 68,
   "metadata": {},
   "outputs": [
    {
     "data": {
      "text/plain": [
       "1"
      ]
     },
     "execution_count": 68,
     "metadata": {},
     "output_type": "execute_result"
    }
   ],
   "source": [
    "titles_list = [titles1, titles2, titles3, titles4, titles5]\n",
    "\n",
    "def find_set(titles_list):\n",
    "    \"\"\"\n",
    "    Returns the number of list that fully matches with dataframe containing 1% best voted movies.\n",
    "    \"\"\"\n",
    "    \n",
    "    for i in range(len(titles_list)):\n",
    "        temp_data = data_sorted[data_sorted['original_title'].isin(titles_list[i])]\n",
    "        if len(temp_data) == len(titles_list[i]):\n",
    "            return i+1\n",
    "\n",
    "\n",
    "find_set(titles_list)"
   ]
  },
  {
   "cell_type": "markdown",
   "metadata": {
    "colab_type": "text",
    "id": "MdXsUXbCVqAV"
   },
   "source": [
    "# 27. Какие актеры чаще всего снимаются в одном фильме вместе?\n"
   ]
  },
  {
   "cell_type": "markdown",
   "metadata": {
    "colab_type": "text",
    "id": "4ymnxEVoVqAW"
   },
   "source": [
    "ВАРИАНТ 2"
   ]
  },
  {
   "cell_type": "code",
   "execution_count": null,
   "metadata": {},
   "outputs": [],
   "source": []
  },
  {
   "cell_type": "code",
   "execution_count": null,
   "metadata": {},
   "outputs": [],
   "source": []
  },
  {
   "cell_type": "markdown",
   "metadata": {
    "colab_type": "text",
    "id": "U0nONFnGVqAX"
   },
   "source": [
    "# Submission"
   ]
  },
  {
   "cell_type": "code",
   "execution_count": null,
   "metadata": {
    "colab": {},
    "colab_type": "code",
    "id": "IfcaRO9-VqAX",
    "outputId": "0f132912-32bb-4196-c98c-abfbc4ad5a5f"
   },
   "outputs": [],
   "source": [
    "# в конце можно посмотреть свои ответы к каждому вопросу\n",
    "answers"
   ]
  },
  {
   "cell_type": "code",
   "execution_count": null,
   "metadata": {
    "colab": {},
    "colab_type": "code",
    "id": "SiRmHPl8VqAd"
   },
   "outputs": [],
   "source": [
    "# и убедиться что ни чего не пропустил)\n",
    "len(answers)"
   ]
  },
  {
   "cell_type": "code",
   "execution_count": null,
   "metadata": {
    "colab": {},
    "colab_type": "code",
    "id": "uCfuTkRbVqAg"
   },
   "outputs": [],
   "source": []
  },
  {
   "cell_type": "code",
   "execution_count": null,
   "metadata": {
    "colab": {},
    "colab_type": "code",
    "id": "Vwx3NrkSVqAl"
   },
   "outputs": [],
   "source": []
  }
 ],
 "metadata": {
  "colab": {
   "name": "Copy of [SF-DST] Movies IMBD v4.1 TEMPLATE.ipynb",
   "provenance": []
  },
  "kernelspec": {
   "display_name": "Python 3",
   "language": "python",
   "name": "python3"
  },
  "language_info": {
   "codemirror_mode": {
    "name": "ipython",
    "version": 3
   },
   "file_extension": ".py",
   "mimetype": "text/x-python",
   "name": "python",
   "nbconvert_exporter": "python",
   "pygments_lexer": "ipython3",
   "version": "3.7.6"
  }
 },
 "nbformat": 4,
 "nbformat_minor": 1
}
