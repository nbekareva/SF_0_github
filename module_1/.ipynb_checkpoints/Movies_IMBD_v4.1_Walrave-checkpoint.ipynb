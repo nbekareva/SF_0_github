{
 "cells": [
  {
   "cell_type": "code",
   "execution_count": 10,
   "metadata": {
    "_cell_guid": "b1076dfc-b9ad-4769-8c92-a6c4dae69d19",
    "_uuid": "8f2839f25d086af736a60e9eeb907d3b93b6e0e5",
    "colab": {},
    "colab_type": "code",
    "id": "U2D2gTdJVp90"
   },
   "outputs": [],
   "source": [
    "import numpy as np\n",
    "import pandas as pd\n",
    "import seaborn as sns\n",
    "import matplotlib.pyplot as plt\n",
    "from collections import Counter\n",
    "import time\n",
    "from datetime import datetime"
   ]
  },
  {
   "cell_type": "code",
   "execution_count": 83,
   "metadata": {
    "_cell_guid": "79c7e3d0-c299-4dcb-8224-4455121ee9b0",
    "_uuid": "d629ff2d2480ee46fbb7e2d37f6b5fab8052498a",
    "colab": {},
    "colab_type": "code",
    "id": "oyGfxL3eVp9-",
    "scrolled": true
   },
   "outputs": [
    {
     "data": {
      "text/html": [
       "<div>\n",
       "<style scoped>\n",
       "    .dataframe tbody tr th:only-of-type {\n",
       "        vertical-align: middle;\n",
       "    }\n",
       "\n",
       "    .dataframe tbody tr th {\n",
       "        vertical-align: top;\n",
       "    }\n",
       "\n",
       "    .dataframe thead th {\n",
       "        text-align: right;\n",
       "    }\n",
       "</style>\n",
       "<table border=\"1\" class=\"dataframe\">\n",
       "  <thead>\n",
       "    <tr style=\"text-align: right;\">\n",
       "      <th></th>\n",
       "      <th>imdb_id</th>\n",
       "      <th>budget</th>\n",
       "      <th>revenue</th>\n",
       "      <th>original_title</th>\n",
       "      <th>cast</th>\n",
       "      <th>director</th>\n",
       "      <th>tagline</th>\n",
       "      <th>overview</th>\n",
       "      <th>runtime</th>\n",
       "      <th>genres</th>\n",
       "      <th>production_companies</th>\n",
       "      <th>release_date</th>\n",
       "      <th>vote_average</th>\n",
       "      <th>release_year</th>\n",
       "    </tr>\n",
       "  </thead>\n",
       "  <tbody>\n",
       "    <tr>\n",
       "      <th>1224</th>\n",
       "      <td>tt0481499</td>\n",
       "      <td>135000000</td>\n",
       "      <td>585178928</td>\n",
       "      <td>The Croods</td>\n",
       "      <td>Nicolas Cage|Emma Stone|Ryan Reynolds|Catherin...</td>\n",
       "      <td>Kirk De Micco|Chris Sanders</td>\n",
       "      <td>Meet the first modern family.</td>\n",
       "      <td>The Croods is a prehistoric comedy adventure t...</td>\n",
       "      <td>98</td>\n",
       "      <td>Adventure|Animation|Comedy|Family|Fantasy</td>\n",
       "      <td>DreamWorks Animation</td>\n",
       "      <td>3/20/2013</td>\n",
       "      <td>6.8</td>\n",
       "      <td>2013</td>\n",
       "    </tr>\n",
       "    <tr>\n",
       "      <th>203</th>\n",
       "      <td>tt2980706</td>\n",
       "      <td>50000000</td>\n",
       "      <td>151165787</td>\n",
       "      <td>Planes: Fire &amp; Rescue</td>\n",
       "      <td>Dane Cook|Ed Harris|Julie Bowen|Curtis Armstro...</td>\n",
       "      <td>Roberts Gannaway</td>\n",
       "      <td>When others fly out, heroes fly in.</td>\n",
       "      <td>When world-famous air racer Dusty learns that ...</td>\n",
       "      <td>83</td>\n",
       "      <td>Animation|Comedy|Adventure|Family</td>\n",
       "      <td>Walt Disney Pictures|DisneyToon Studios|Prana ...</td>\n",
       "      <td>7/17/2014</td>\n",
       "      <td>5.9</td>\n",
       "      <td>2014</td>\n",
       "    </tr>\n",
       "    <tr>\n",
       "      <th>924</th>\n",
       "      <td>tt0264472</td>\n",
       "      <td>45000000</td>\n",
       "      <td>94935764</td>\n",
       "      <td>Changing Lanes</td>\n",
       "      <td>Ben Affleck|Samuel L. Jackson|Kim Staunton|Ton...</td>\n",
       "      <td>Roger Michell</td>\n",
       "      <td>An ambitious lawyer, a desperate father, they ...</td>\n",
       "      <td>A rush-hour fender-bender on New York City's c...</td>\n",
       "      <td>89</td>\n",
       "      <td>Action|Adventure|Crime|Thriller</td>\n",
       "      <td>Paramount Pictures</td>\n",
       "      <td>4/7/2002</td>\n",
       "      <td>5.7</td>\n",
       "      <td>2002</td>\n",
       "    </tr>\n",
       "    <tr>\n",
       "      <th>1823</th>\n",
       "      <td>tt0181984</td>\n",
       "      <td>26000000</td>\n",
       "      <td>28780255</td>\n",
       "      <td>Boiler Room</td>\n",
       "      <td>Giovanni Ribisi|Vin Diesel|Nia Long|Tom Everet...</td>\n",
       "      <td>Ben Younger</td>\n",
       "      <td>Welcome to the new American dream.</td>\n",
       "      <td>A college dropout gets a job as a broker for a...</td>\n",
       "      <td>118</td>\n",
       "      <td>Crime|Drama|Thriller</td>\n",
       "      <td>New Line Cinema</td>\n",
       "      <td>2/18/2000</td>\n",
       "      <td>6.5</td>\n",
       "      <td>2000</td>\n",
       "    </tr>\n",
       "    <tr>\n",
       "      <th>475</th>\n",
       "      <td>tt1321509</td>\n",
       "      <td>21000000</td>\n",
       "      <td>49050886</td>\n",
       "      <td>Death at a Funeral</td>\n",
       "      <td>Zoe Saldana|James Marsden|Martin Lawrence|Pete...</td>\n",
       "      <td>Neil LaBute</td>\n",
       "      <td>This is one sad family.</td>\n",
       "      <td>Aaron's father's funeral is today at the famil...</td>\n",
       "      <td>92</td>\n",
       "      <td>Comedy</td>\n",
       "      <td>Parabolic Pictures|Screen Gems</td>\n",
       "      <td>4/15/2010</td>\n",
       "      <td>5.7</td>\n",
       "      <td>2010</td>\n",
       "    </tr>\n",
       "  </tbody>\n",
       "</table>\n",
       "</div>"
      ],
      "text/plain": [
       "        imdb_id     budget    revenue         original_title  \\\n",
       "1224  tt0481499  135000000  585178928             The Croods   \n",
       "203   tt2980706   50000000  151165787  Planes: Fire & Rescue   \n",
       "924   tt0264472   45000000   94935764         Changing Lanes   \n",
       "1823  tt0181984   26000000   28780255            Boiler Room   \n",
       "475   tt1321509   21000000   49050886     Death at a Funeral   \n",
       "\n",
       "                                                   cast  \\\n",
       "1224  Nicolas Cage|Emma Stone|Ryan Reynolds|Catherin...   \n",
       "203   Dane Cook|Ed Harris|Julie Bowen|Curtis Armstro...   \n",
       "924   Ben Affleck|Samuel L. Jackson|Kim Staunton|Ton...   \n",
       "1823  Giovanni Ribisi|Vin Diesel|Nia Long|Tom Everet...   \n",
       "475   Zoe Saldana|James Marsden|Martin Lawrence|Pete...   \n",
       "\n",
       "                         director  \\\n",
       "1224  Kirk De Micco|Chris Sanders   \n",
       "203              Roberts Gannaway   \n",
       "924                 Roger Michell   \n",
       "1823                  Ben Younger   \n",
       "475                   Neil LaBute   \n",
       "\n",
       "                                                tagline  \\\n",
       "1224                      Meet the first modern family.   \n",
       "203                 When others fly out, heroes fly in.   \n",
       "924   An ambitious lawyer, a desperate father, they ...   \n",
       "1823                 Welcome to the new American dream.   \n",
       "475                             This is one sad family.   \n",
       "\n",
       "                                               overview  runtime  \\\n",
       "1224  The Croods is a prehistoric comedy adventure t...       98   \n",
       "203   When world-famous air racer Dusty learns that ...       83   \n",
       "924   A rush-hour fender-bender on New York City's c...       89   \n",
       "1823  A college dropout gets a job as a broker for a...      118   \n",
       "475   Aaron's father's funeral is today at the famil...       92   \n",
       "\n",
       "                                         genres  \\\n",
       "1224  Adventure|Animation|Comedy|Family|Fantasy   \n",
       "203           Animation|Comedy|Adventure|Family   \n",
       "924             Action|Adventure|Crime|Thriller   \n",
       "1823                       Crime|Drama|Thriller   \n",
       "475                                      Comedy   \n",
       "\n",
       "                                   production_companies release_date  \\\n",
       "1224                               DreamWorks Animation    3/20/2013   \n",
       "203   Walt Disney Pictures|DisneyToon Studios|Prana ...    7/17/2014   \n",
       "924                                  Paramount Pictures     4/7/2002   \n",
       "1823                                    New Line Cinema    2/18/2000   \n",
       "475                      Parabolic Pictures|Screen Gems    4/15/2010   \n",
       "\n",
       "      vote_average  release_year  \n",
       "1224           6.8          2013  \n",
       "203            5.9          2014  \n",
       "924            5.7          2002  \n",
       "1823           6.5          2000  \n",
       "475            5.7          2010  "
      ]
     },
     "execution_count": 83,
     "metadata": {},
     "output_type": "execute_result"
    }
   ],
   "source": [
    "data = pd.read_csv('movie_bd_v5.csv')\n",
    "data.sample(5)"
   ]
  },
  {
   "cell_type": "code",
   "execution_count": null,
   "metadata": {
    "colab": {},
    "colab_type": "code",
    "id": "CoYUnagMVp-C"
   },
   "outputs": [],
   "source": [
    "data.describe()"
   ]
  },
  {
   "cell_type": "code",
   "execution_count": null,
   "metadata": {},
   "outputs": [],
   "source": [
    "data.info()"
   ]
  },
  {
   "cell_type": "markdown",
   "metadata": {
    "colab_type": "text",
    "id": "DTIt7ezGVp-G"
   },
   "source": [
    "# Предобработка"
   ]
  },
  {
   "cell_type": "code",
   "execution_count": null,
   "metadata": {
    "colab": {},
    "colab_type": "code",
    "id": "jNb40DwKVp-H"
   },
   "outputs": [],
   "source": [
    "answers = {} # создадим словарь для ответов\n",
    "\n",
    "# тут другие ваши предобработки колонок например:\n",
    "\n",
    "#the time given in the dataset is in string format.\n",
    "#So we need to change this in datetime format\n",
    "# ..."
   ]
  },
  {
   "cell_type": "code",
   "execution_count": null,
   "metadata": {},
   "outputs": [],
   "source": [
    "# 1\n",
    "data['release_date'] = pd.to_datetime(data['release_date']) # turning release date strings into a Series with dtype datetime64[ns]\n",
    "data['release_date']"
   ]
  },
  {
   "cell_type": "code",
   "execution_count": 34,
   "metadata": {},
   "outputs": [
    {
     "data": {
      "text/plain": [
       "0       [Action, Adventure, Science Fiction, Thriller]\n",
       "1       [Action, Adventure, Science Fiction, Thriller]\n",
       "2               [Adventure, Science Fiction, Thriller]\n",
       "3        [Action, Adventure, Science Fiction, Fantasy]\n",
       "4                            [Action, Crime, Thriller]\n",
       "                             ...                      \n",
       "1884              [Adventure, Action, Science Fiction]\n",
       "1885                         [Horror, Family, Foreign]\n",
       "1886    [Adventure, Animation, Action, Comedy, Family]\n",
       "1887                                   [Comedy, Drama]\n",
       "1888                                        [Thriller]\n",
       "Name: genres, Length: 1889, dtype: object"
      ]
     },
     "execution_count": 34,
     "metadata": {},
     "output_type": "execute_result"
    }
   ],
   "source": [
    "# 2\n",
    "data['genres'] = data['genres'].apply(lambda x: x.split('|')) # splitting genres strings into lists\n",
    "data['genres']"
   ]
  },
  {
   "cell_type": "code",
   "execution_count": null,
   "metadata": {},
   "outputs": [],
   "source": [
    "# 3\n",
    "data['director'] = data['director'].apply(lambda x: x.split('|')) # splitting directors strings into lists\n",
    "data['director']"
   ]
  },
  {
   "cell_type": "code",
   "execution_count": null,
   "metadata": {},
   "outputs": [],
   "source": [
    "# 4\n",
    "data['cast'] = data['cast'].apply(lambda x: x.split('|')) # splitting actors strings into lists\n",
    "data['cast']"
   ]
  },
  {
   "cell_type": "code",
   "execution_count": null,
   "metadata": {},
   "outputs": [],
   "source": [
    "# 5\n",
    "data['production_companies'] = data['production_companies'].apply(lambda x: x.split('|')) # splitting prod companies strings into lists\n",
    "data['production_companies']"
   ]
  },
  {
   "cell_type": "code",
   "execution_count": null,
   "metadata": {
    "scrolled": true
   },
   "outputs": [],
   "source": [
    "# 6\n",
    "data['profit'] = data['revenue'] - data['budget'] # add the column with profit\n",
    "data.head()"
   ]
  },
  {
   "cell_type": "code",
   "execution_count": null,
   "metadata": {},
   "outputs": [],
   "source": [
    "# User functions:\n",
    "\n",
    "# to question 12\n",
    "def genres_profit(row, counter):\n",
    "    \"\"\"\n",
    "    Takes a row of a movies dataframe and an outer genres Counter, adds up 1 to each genre if a movie is profitable.\n",
    "    \"\"\"\n",
    "    \n",
    "    for genre in row['genres']:\n",
    "        if row['profit'] > 0:\n",
    "            counter[genre] += 1\n",
    "    \n",
    "    return True\n",
    "\n",
    "\n",
    "# to question 14\n",
    "def action_dir_count(row, counter):\n",
    "    \"\"\"\n",
    "    Counts directors of action movies in a dataframe row by row. Uses an external collections.Counter.\n",
    "    \"\"\"\n",
    "    \n",
    "    for director in row['director']:\n",
    "        if 'Action' in row['genres']:\n",
    "            counter[director] += 1\n",
    "    \n",
    "    return True\n",
    "\n",
    "\n",
    "# to question 15\n",
    "def actor_revenue(row):\n",
    "    \"\"\"\n",
    "    Sums up each actor revenues from a dataframe to an external collections.Counter.\n",
    "    \"\"\"\n",
    "    \n",
    "    for actor in row['cast']:\n",
    "        actor_revenue_count[actor] += row['revenue']\n",
    "    \n",
    "    return True\n",
    "\n",
    "\n",
    "# to question 11 (second method)\n",
    "def genres_count(item):\n",
    "    \"\"\"\n",
    "    Counts up genres into an external collections.Counter().\n",
    "    \"\"\"\n",
    "    \n",
    "    for genre in item: # listing each genre in list\n",
    "        genres_counter[genre] += 1\n",
    "    \n",
    "    return True\n",
    "\n",
    "\n",
    "# to question 26\n",
    "def find_set(df, titles_list):\n",
    "    \"\"\"\n",
    "    Returns the number of titles list that fully matches with dataframe containing 1% best voted movies (given df).\n",
    "    \"\"\"\n",
    "    \n",
    "    for i in range(len(titles_list)):\n",
    "        temp_data = df[df['original_title'].isin(titles_list[i])]\n",
    "        \n",
    "        if len(temp_data) == len(titles_list[i]):\n",
    "            return titles_list[i]"
   ]
  },
  {
   "cell_type": "markdown",
   "metadata": {
    "colab_type": "text",
    "id": "YxZaH-nPVp-L"
   },
   "source": [
    "# 1. У какого фильма из списка самый большой бюджет?"
   ]
  },
  {
   "cell_type": "markdown",
   "metadata": {
    "colab_type": "text",
    "id": "Nd-G5gX6Vp-M"
   },
   "source": [
    "Использовать варианты ответов в коде решения запрещено.    \n",
    "Вы думаете и в жизни у вас будут варианты ответов?)"
   ]
  },
  {
   "cell_type": "code",
   "execution_count": null,
   "metadata": {
    "colab": {},
    "colab_type": "code",
    "id": "uVnXAY5RVp-O"
   },
   "outputs": [],
   "source": [
    "# в словарь вставляем номер вопроса и ваш ответ на него\n",
    "# Пример: \n",
    "# answers['1'] = '2. Spider-Man 3 (tt0413300)'\n",
    "# запишите свой вариант ответа\n",
    "answers['1'] = 'tt1298650 Pirates of the Caribbean: On Stranger Tides'\n",
    "# если ответили верно, можете добавить комментарий со значком \"+\""
   ]
  },
  {
   "cell_type": "code",
   "execution_count": null,
   "metadata": {
    "colab": {},
    "colab_type": "code",
    "id": "dZwb3m28Vp-S"
   },
   "outputs": [],
   "source": [
    "# тут пишем ваш код для решения данного вопроса:\n",
    "data[data['budget'] == data['budget'].max()][['imdb_id', 'original_title', 'budget']]"
   ]
  },
  {
   "cell_type": "markdown",
   "metadata": {
    "colab_type": "text",
    "id": "K7L3nbRXVp-X"
   },
   "source": [
    "ВАРИАНТ 2"
   ]
  },
  {
   "cell_type": "code",
   "execution_count": null,
   "metadata": {
    "colab": {},
    "colab_type": "code",
    "id": "OGaoQI7rVp-X"
   },
   "outputs": [],
   "source": [
    "# можно добавлять разные варианты решения"
   ]
  },
  {
   "cell_type": "markdown",
   "metadata": {
    "colab_type": "text",
    "id": "FNRbbI3vVp-c"
   },
   "source": [
    "# 2. Какой из фильмов самый длительный (в минутах)?"
   ]
  },
  {
   "cell_type": "code",
   "execution_count": null,
   "metadata": {
    "colab": {},
    "colab_type": "code",
    "id": "vHAoEXNTVp-d"
   },
   "outputs": [],
   "source": [
    "answers['2'] = 'tt0279111 Gods and Generals'"
   ]
  },
  {
   "cell_type": "code",
   "execution_count": null,
   "metadata": {
    "colab": {},
    "colab_type": "code",
    "id": "ot-VX2XrVp-g"
   },
   "outputs": [],
   "source": [
    "data[data['runtime'] == data['runtime'].max()][['imdb_id', 'original_title', 'runtime']]"
   ]
  },
  {
   "cell_type": "markdown",
   "metadata": {
    "colab_type": "text",
    "id": "bapLlpW8Vp-k"
   },
   "source": [
    "# 3. Какой из фильмов самый короткий (в минутах)?\n",
    "\n",
    "\n",
    "\n"
   ]
  },
  {
   "cell_type": "code",
   "execution_count": null,
   "metadata": {},
   "outputs": [],
   "source": [
    "answers['3'] = 'tt1449283 Winnie the Pooh'"
   ]
  },
  {
   "cell_type": "code",
   "execution_count": null,
   "metadata": {
    "colab": {},
    "colab_type": "code",
    "id": "YBxaSHuAVp-l"
   },
   "outputs": [],
   "source": [
    "data[data['runtime'] == data['runtime'].min()][['imdb_id', 'original_title', 'runtime']]"
   ]
  },
  {
   "cell_type": "markdown",
   "metadata": {
    "colab_type": "text",
    "id": "TfQbxbfNVp-p"
   },
   "source": [
    "# 4. Какова средняя длительность фильмов?\n"
   ]
  },
  {
   "cell_type": "code",
   "execution_count": null,
   "metadata": {},
   "outputs": [],
   "source": [
    "answers['4'] = 110"
   ]
  },
  {
   "cell_type": "code",
   "execution_count": null,
   "metadata": {
    "colab": {},
    "colab_type": "code",
    "id": "5K6dKZYVVp-q"
   },
   "outputs": [],
   "source": [
    "data['runtime'].mean()"
   ]
  },
  {
   "cell_type": "markdown",
   "metadata": {
    "colab_type": "text",
    "id": "r5TvbnT_Vp-u"
   },
   "source": [
    "# 5. Каково медианное значение длительности фильмов? "
   ]
  },
  {
   "cell_type": "code",
   "execution_count": null,
   "metadata": {
    "colab": {},
    "colab_type": "code",
    "id": "iBROplKnVp-v"
   },
   "outputs": [],
   "source": [
    "answers['5'] = 107"
   ]
  },
  {
   "cell_type": "code",
   "execution_count": null,
   "metadata": {},
   "outputs": [],
   "source": [
    "data['runtime'].median()"
   ]
  },
  {
   "cell_type": "markdown",
   "metadata": {
    "colab_type": "text",
    "id": "39P-deDSVp-y"
   },
   "source": [
    "# 6. Какой самый прибыльный фильм?\n",
    "#### Внимание! Здесь и далее под «прибылью» или «убытками» понимается разность между сборами и бюджетом фильма. (прибыль = сборы - бюджет) в нашем датасете это будет (profit = revenue - budget) "
   ]
  },
  {
   "cell_type": "code",
   "execution_count": null,
   "metadata": {},
   "outputs": [],
   "source": [
    "answers['6'] = 'tt0499549 Avatar'"
   ]
  },
  {
   "cell_type": "code",
   "execution_count": null,
   "metadata": {
    "colab": {},
    "colab_type": "code",
    "id": "UYZh4T9WVp-y"
   },
   "outputs": [],
   "source": [
    "data[data['profit'] == data['profit'].max()][['imdb_id', 'original_title', 'profit']]"
   ]
  },
  {
   "cell_type": "markdown",
   "metadata": {
    "colab_type": "text",
    "id": "M99JmIX4Vp-2"
   },
   "source": [
    "# 7. Какой фильм самый убыточный? "
   ]
  },
  {
   "cell_type": "code",
   "execution_count": null,
   "metadata": {
    "colab": {},
    "colab_type": "code",
    "id": "w-D2m4XPVp-3"
   },
   "outputs": [],
   "source": [
    "answers['7'] = 'tt1210819 The Lone Ranger'"
   ]
  },
  {
   "cell_type": "code",
   "execution_count": null,
   "metadata": {},
   "outputs": [],
   "source": [
    "data[data['profit'] == data['profit'].min()][['imdb_id', 'original_title', 'profit']]"
   ]
  },
  {
   "cell_type": "markdown",
   "metadata": {
    "colab_type": "text",
    "id": "wEOM5ERVVp-6"
   },
   "source": [
    "# 8. У скольких фильмов из датасета объем сборов оказался выше бюджета?"
   ]
  },
  {
   "cell_type": "code",
   "execution_count": null,
   "metadata": {
    "colab": {},
    "colab_type": "code",
    "id": "y00_7HD6Vp-7"
   },
   "outputs": [],
   "source": [
    "answers['8'] = 1478"
   ]
  },
  {
   "cell_type": "code",
   "execution_count": null,
   "metadata": {},
   "outputs": [],
   "source": [
    "len(data[data['profit'] > 0])"
   ]
  },
  {
   "cell_type": "markdown",
   "metadata": {
    "colab_type": "text",
    "id": "xhpspA9KVp_A"
   },
   "source": [
    "# 9. Какой фильм оказался самым кассовым в 2008 году?"
   ]
  },
  {
   "cell_type": "code",
   "execution_count": null,
   "metadata": {
    "colab": {},
    "colab_type": "code",
    "id": "MoUyQr9RVp_B"
   },
   "outputs": [],
   "source": [
    "answers['9'] = 'tt0468569 The Dark Knight'"
   ]
  },
  {
   "cell_type": "markdown",
   "metadata": {},
   "source": [
    "* FIRST METHOD: Using the column 'release_date'. If 'release_date' stays string."
   ]
  },
  {
   "cell_type": "code",
   "execution_count": null,
   "metadata": {
    "scrolled": false
   },
   "outputs": [],
   "source": [
    "# back to str\n",
    "data['release_date'] = data['release_date'].dt.strftime(\"%m/%d/%Y\")\n",
    "released_2008 = data[data['release_date'].str.contains('2008')]\n",
    "\n",
    "# check the processing time\n",
    "%timeit released_2008 = data[data['release_date'].str.contains('2008')]\n",
    "\n",
    "display(\n",
    "    released_2008[released_2008['revenue'] == released_2008['revenue'].max()]\n",
    "    [['imdb_id', 'original_title', 'revenue']])"
   ]
  },
  {
   "cell_type": "markdown",
   "metadata": {},
   "source": [
    "* SECOND METHOD: using the column 'release_date'. If 'release_date' is turned into datetime"
   ]
  },
  {
   "cell_type": "code",
   "execution_count": null,
   "metadata": {
    "scrolled": true
   },
   "outputs": [],
   "source": [
    "# back to datetime\n",
    "data['release_date'] = pd.to_datetime(data['release_date'])\n",
    "released_2008 = data[(data['release_date'] >= '2008-01-01') & (data['release_date'] <= '2008-12-31')]\n",
    "\n",
    "# check the processing time\n",
    "%timeit released_2008 = data[(data['release_date'] >= '2008-01-01') & (data['release_date'] <= '2008-12-31')]\n",
    "\n",
    "display(\n",
    "    released_2008[released_2008['revenue'] == released_2008['revenue'].max()]\n",
    "    [['imdb_id', 'original_title', 'revenue']])"
   ]
  },
  {
   "cell_type": "markdown",
   "metadata": {},
   "source": [
    "The second method is much faster"
   ]
  },
  {
   "cell_type": "markdown",
   "metadata": {},
   "source": [
    "* THIRD METHOD: Using the column 'release_year' (int64)"
   ]
  },
  {
   "cell_type": "code",
   "execution_count": null,
   "metadata": {
    "scrolled": true
   },
   "outputs": [],
   "source": [
    "released_2008 = data[data['release_year'] == 2008]\n",
    "\n",
    "# check the processing time\n",
    "%timeit released_2008 = data[data['release_year'] == 2008]\n",
    "\n",
    "display(\n",
    "    released_2008[released_2008['revenue'] == released_2008['revenue'].max()]\n",
    "    [['imdb_id', 'original_title', 'revenue']])"
   ]
  },
  {
   "cell_type": "markdown",
   "metadata": {},
   "source": [
    "The third method is the fastest (avoids strings parcing)."
   ]
  },
  {
   "cell_type": "markdown",
   "metadata": {
    "colab_type": "text",
    "id": "Zi4hDKidVp_F"
   },
   "source": [
    "# 10. Самый убыточный фильм за период с 2012 по 2014 г. (включительно)?\n"
   ]
  },
  {
   "cell_type": "code",
   "execution_count": null,
   "metadata": {
    "colab": {},
    "colab_type": "code",
    "id": "XqyRmufJVp_F"
   },
   "outputs": [],
   "source": [
    "answers['10'] = 'tt1210819 The Lone Ranger'"
   ]
  },
  {
   "cell_type": "markdown",
   "metadata": {},
   "source": [
    "* FIRST METHOD: Using the column 'release_date'. If 'release_date' is turned into datetime"
   ]
  },
  {
   "cell_type": "code",
   "execution_count": null,
   "metadata": {},
   "outputs": [],
   "source": [
    "movies_2012_2014 = data[(data['release_date'] >= '2012-01-01') & (data['release_date'] <= '2014-12-31')]\n",
    "\n",
    "# check the processing time\n",
    "%timeit movies_2012_2014 = data[(data['release_date'] >= '2012-01-01') & (data['release_date'] <= '2014-12-31')]\n",
    "\n",
    "display(\n",
    "    movies_2012_2014[movies_2012_2014['profit'] == movies_2012_2014['profit'].min()]\n",
    "    [['imdb_id', 'original_title', 'profit']])"
   ]
  },
  {
   "cell_type": "markdown",
   "metadata": {},
   "source": [
    "* SECOND METHOD: Using the column 'release_year' (int64)"
   ]
  },
  {
   "cell_type": "code",
   "execution_count": null,
   "metadata": {
    "scrolled": true
   },
   "outputs": [],
   "source": [
    "movies_2012_2014 = data[(data['release_year'] >= 2012) & (data['release_year'] <= 2014)]\n",
    "\n",
    "# check the processing time\n",
    "%timeit movies_2012_2014 = data[(data['release_year'] >= 2012) & (data['release_year'] <= 2014)]\n",
    "\n",
    "display(\n",
    "    movies_2012_2014[movies_2012_2014['profit'] == movies_2012_2014['profit'].min()]\n",
    "    [['imdb_id', 'original_title', 'profit']])"
   ]
  },
  {
   "cell_type": "markdown",
   "metadata": {},
   "source": [
    "* THIRD METHOD - Using pandas.Series.isin() instead of math operators"
   ]
  },
  {
   "cell_type": "code",
   "execution_count": null,
   "metadata": {},
   "outputs": [],
   "source": [
    "movies_2012_2014 = data[data['release_year'].isin(range(2012, 2015))]\n",
    "\n",
    "# check the processing time\n",
    "%timeit movies_2012_2014 = data[data['release_year'].isin(range(2012, 2015))]\n",
    "\n",
    "display(\n",
    "    movies_2012_2014[movies_2012_2014['profit'] == movies_2012_2014['profit'].min()]\n",
    "    [['imdb_id', 'original_title', 'profit']])"
   ]
  },
  {
   "cell_type": "markdown",
   "metadata": {},
   "source": [
    "Again, working with numerical objects is faster than parcing string dates to datetime objects (but not that much sometimes), therefore using 'release_year' column is better in this case. Moreover, for some reason method 3 is faster that 2 - ?"
   ]
  },
  {
   "cell_type": "markdown",
   "metadata": {
    "colab_type": "text",
    "id": "EA7Sa9dkVp_I"
   },
   "source": [
    "# 11. Какого жанра фильмов больше всего?"
   ]
  },
  {
   "cell_type": "code",
   "execution_count": null,
   "metadata": {
    "colab": {},
    "colab_type": "code",
    "id": "zsJAwJ8QVp_J"
   },
   "outputs": [],
   "source": [
    "# эту задачу тоже можно решать разными подходами, попробуй реализовать разные варианты\n",
    "# если будешь добавлять функцию - выноси ее в предобработку что в начале"
   ]
  },
  {
   "cell_type": "code",
   "execution_count": null,
   "metadata": {},
   "outputs": [],
   "source": [
    "answers['11'] = 'Drama'"
   ]
  },
  {
   "cell_type": "markdown",
   "metadata": {},
   "source": [
    "* FIRST METHOD - Raw, without a function (ineffective)"
   ]
  },
  {
   "cell_type": "code",
   "execution_count": null,
   "metadata": {},
   "outputs": [],
   "source": [
    "genres_counter = Counter()\n",
    "\n",
    "for genre_list in data['genres']: # listing each list in Series\n",
    "    for genre in genre_list:\n",
    "        genres_counter[genre] += 1 # listing each genre in list\n",
    "\n",
    "genres_counter_ordered = {\n",
    "    key: value for key, value in sorted(genres_counter.items(), key=lambda item: item[1], reverse=True)\n",
    "    } # sorting dictionary by values - returning a dictionary\n",
    "genres_counter_ordered"
   ]
  },
  {
   "cell_type": "markdown",
   "metadata": {},
   "source": [
    "* Another method of sorting"
   ]
  },
  {
   "cell_type": "code",
   "execution_count": null,
   "metadata": {},
   "outputs": [],
   "source": [
    "genres_counter_ordered_keys = sorted(genres_counter, key=genres_counter.get, reverse=True) # sorting dictionary by values - returning a list of keys\n",
    "genres_counter_ordered_keys[0]"
   ]
  },
  {
   "cell_type": "markdown",
   "metadata": {},
   "source": [
    "* SECOND METHOD - Using a user function"
   ]
  },
  {
   "cell_type": "code",
   "execution_count": null,
   "metadata": {},
   "outputs": [],
   "source": [
    "genres_counter = Counter() # external genres Counter\n",
    "\n",
    "data['genres'].apply(genres_count)\n",
    "\n",
    "genres_counter_ordered_keys = sorted(genres_counter, key=genres_counter.get, reverse=True) # sorting dictionary by values - returning a list of keys\n",
    "genres_counter_ordered_keys[0]"
   ]
  },
  {
   "cell_type": "markdown",
   "metadata": {},
   "source": [
    "* THIRD METHOD - adviced in Slack"
   ]
  },
  {
   "cell_type": "code",
   "execution_count": null,
   "metadata": {},
   "outputs": [],
   "source": [
    "genres = data['genres'].sum() # merging the lists into one\n",
    "c = Counter(genres)\n",
    "\n",
    "sorted(c, key=c.get, reverse=True)[0] # decending sorting and getting the first item (dict to list)"
   ]
  },
  {
   "cell_type": "markdown",
   "metadata": {},
   "source": [
    "* Another method of sorting"
   ]
  },
  {
   "cell_type": "code",
   "execution_count": null,
   "metadata": {
    "scrolled": true
   },
   "outputs": [],
   "source": [
    "c_sorted = {key: value for key, value in sorted(c.items(), key=lambda item: item[1], reverse=True)} # sorting dict to dict by descending values\n",
    "c_sorted"
   ]
  },
  {
   "cell_type": "markdown",
   "metadata": {},
   "source": [
    "* FORTH METHOD - Using pandas.Series (most effective)"
   ]
  },
  {
   "cell_type": "code",
   "execution_count": null,
   "metadata": {},
   "outputs": [],
   "source": [
    "pd.Series(data['genres'].sum()).value_counts(ascending=False)"
   ]
  },
  {
   "cell_type": "markdown",
   "metadata": {
    "colab": {},
    "colab_type": "code",
    "id": "Tmt8MaK1Vp_R"
   },
   "source": [
    "# 12. Фильмы какого жанра чаще всего становятся прибыльными?"
   ]
  },
  {
   "cell_type": "code",
   "execution_count": null,
   "metadata": {},
   "outputs": [],
   "source": [
    "answers['12'] = 'Drama'"
   ]
  },
  {
   "cell_type": "markdown",
   "metadata": {},
   "source": [
    "* FIRST METHOD - Using collections.Counter()"
   ]
  },
  {
   "cell_type": "code",
   "execution_count": null,
   "metadata": {},
   "outputs": [],
   "source": [
    "genres_profit_counter = Counter()\n",
    "\n",
    "data.apply(genres_profit, axis=1, counter=genres_profit_counter) # applying function to the dataframe\n",
    "\n",
    "genres_profit_counter_ordered = {\n",
    "    key: value for key, value in sorted(genres_profit_counter.items(), key=lambda item: item[1], reverse=True)\n",
    "} # sorting dict to dict by descending values\n",
    "\n",
    "genres_profit_counter_ordered"
   ]
  },
  {
   "cell_type": "code",
   "execution_count": null,
   "metadata": {
    "scrolled": false
   },
   "outputs": [],
   "source": [
    "data[data['genres'].map(lambda x: 'Foreign' in x) == True] # why genre 'Foreign' is not in 'genres_profit_counter_ordered'\n",
    "# using usual sorting of df in [] but also using map cause each member of Series contains a list"
   ]
  },
  {
   "cell_type": "markdown",
   "metadata": {},
   "source": [
    "=> see that their profit is < 0"
   ]
  },
  {
   "cell_type": "markdown",
   "metadata": {},
   "source": [
    "Ответ получен (драма), ОДНАКО количество фильмов в различных жанрах различно - соответственно, ожидаемо, что прибыльность наиболее часто встречающихся жанров будет выше. Поэтому имеет смысл посчитать прибыльность относительно частоты появления фильмов в каждом из жанров."
   ]
  },
  {
   "cell_type": "code",
   "execution_count": null,
   "metadata": {},
   "outputs": [],
   "source": [
    "genres_profit_counter_ordered['Foreign'] = 0 # adding profitability of the genre 'Foreign' to 'genres_profit_counter_ordered' (to make lengths of both dicts equal)"
   ]
  },
  {
   "cell_type": "code",
   "execution_count": null,
   "metadata": {},
   "outputs": [],
   "source": [
    "# creating the dataframe of genres profitability\n",
    "genres = pd.DataFrame({\n",
    "    'movies_number': [value for value in genres_counter_ordered.values()], # dict from question 11\n",
    "    'abs_profitability': [value for value in genres_profit_counter_ordered.values()]\n",
    "})\n",
    "genres['rel_profitability'] = round(genres['abs_profitability'] / genres['movies_number'], 4)\n",
    "genres.index = [key for key in genres_counter_ordered.keys()]\n",
    "genres"
   ]
  },
  {
   "cell_type": "code",
   "execution_count": null,
   "metadata": {},
   "outputs": [],
   "source": [
    "genres.describe()"
   ]
  },
  {
   "cell_type": "code",
   "execution_count": null,
   "metadata": {},
   "outputs": [],
   "source": [
    "genres[genres['rel_profitability'] >= 0.8294] # checking the 4th quartile"
   ]
  },
  {
   "cell_type": "markdown",
   "metadata": {},
   "source": [
    "Таким образом, из всех выпущенных фильмов в жанрах семейные, фэнтэзи, хоррор, анимационные, документальные наибольшее процентное количество становится прибыльными."
   ]
  },
  {
   "cell_type": "markdown",
   "metadata": {},
   "source": [
    "* SECOND METHOD - Using pandas.Series"
   ]
  },
  {
   "cell_type": "code",
   "execution_count": null,
   "metadata": {},
   "outputs": [],
   "source": [
    "profitable = data[data['profit'] > 0]\n",
    "pd.Series(profitable['genres'].sum()).value_counts(ascending=False)"
   ]
  },
  {
   "cell_type": "markdown",
   "metadata": {},
   "source": [
    "Second method, working with Series, is much more effective, clear and short."
   ]
  },
  {
   "cell_type": "markdown",
   "metadata": {
    "colab_type": "text",
    "id": "0F23bgsDVp_U"
   },
   "source": [
    "# 13. У какого режиссера самые большие суммарные кассовые сборы?"
   ]
  },
  {
   "cell_type": "code",
   "execution_count": null,
   "metadata": {
    "colab": {},
    "colab_type": "code",
    "id": "K6Z3J8ygVp_X"
   },
   "outputs": [],
   "source": [
    "answers['13'] = 'Peter Jackson'"
   ]
  },
  {
   "cell_type": "code",
   "execution_count": null,
   "metadata": {},
   "outputs": [],
   "source": [
    "dir_rev = pd.Series(data['director'].sum()) # merging lists of directors into Series; dir_rev = 'director_revenue'\n",
    "dir_rev = dir_rev.value_counts() # now index contains unique directors; we could also use Series.unique() -> numpy.ndarray of directors\n",
    "\n",
    "for director in dir_rev.index:\n",
    "    dir_rev[director] = data[data['director'].map(lambda x: director in x)]['revenue'].sum()\n",
    "\n",
    "dir_rev.sort_values(ascending=False)"
   ]
  },
  {
   "cell_type": "markdown",
   "metadata": {
    "colab_type": "text",
    "id": "PsYC9FgRVp_a"
   },
   "source": [
    "# 14. Какой режисер снял больше всего фильмов в стиле Action?"
   ]
  },
  {
   "cell_type": "code",
   "execution_count": null,
   "metadata": {
    "colab": {},
    "colab_type": "code",
    "id": "wd2M-wHeVp_b"
   },
   "outputs": [],
   "source": [
    "answers['14'] = 'Robert Rodriguez'"
   ]
  },
  {
   "cell_type": "markdown",
   "metadata": {},
   "source": [
    "FIRST METHOD: Using collections.Counter"
   ]
  },
  {
   "cell_type": "code",
   "execution_count": null,
   "metadata": {},
   "outputs": [],
   "source": [
    "action_dir_counter = Counter()\n",
    "\n",
    "data.apply(action_dir_count, axis=1, counter=action_dir_counter)\n",
    "\n",
    "# sorting dict to list of keys by descending values, taking the first key\n",
    "sorted(action_dir_counter, key=action_dir_counter.get, reverse=True)[0]"
   ]
  },
  {
   "cell_type": "code",
   "execution_count": null,
   "metadata": {},
   "outputs": [],
   "source": [
    "# sorting dict to dict by descending values\n",
    "# to avoid displaying the whole dict take only values > 5\n",
    "action_dir_counter_5 = {\n",
    "    key: value for key, value\n",
    "    in sorted(action_dir_counter.items(), key=lambda item: item[1], reverse=True)\n",
    "    if value > 5\n",
    "}\n",
    "action_dir_counter_5"
   ]
  },
  {
   "cell_type": "markdown",
   "metadata": {},
   "source": [
    "* SECOND METHOD"
   ]
  },
  {
   "cell_type": "code",
   "execution_count": null,
   "metadata": {},
   "outputs": [],
   "source": [
    "data_action = data[data['genres'].map(lambda genres: 'Action' in genres)] # using usual sorting of df in [] but also using map cause each cell of 'genres' contains a list\n",
    "directors = data_action['director'].sum() # merging the Series of lists of directors"
   ]
  },
  {
   "cell_type": "markdown",
   "metadata": {},
   "source": [
    "a) Using collections.Counter()"
   ]
  },
  {
   "cell_type": "code",
   "execution_count": null,
   "metadata": {
    "scrolled": true
   },
   "outputs": [],
   "source": [
    "# counting using collections.Counter\n",
    "dir_count = Counter(directors)\n",
    "\n",
    "# sorting dict to dict by descending values\n",
    "# to avoid displaying the whole dict take only values > 5\n",
    "dir_count_sorted_5 = {\n",
    "    key: value for key, value\n",
    "    in sorted(dir_count.items(), key=lambda item: item[1], reverse=True)\n",
    "    if value > 5\n",
    "}\n",
    "dir_count_sorted_5"
   ]
  },
  {
   "cell_type": "markdown",
   "metadata": {},
   "source": [
    "b) Using Series.value_counts()"
   ]
  },
  {
   "cell_type": "code",
   "execution_count": null,
   "metadata": {},
   "outputs": [],
   "source": [
    "# counting using pd.Series.value_counts()\n",
    "directors = pd.Series(directors)\n",
    "\n",
    "directors.value_counts(ascending=False)"
   ]
  },
  {
   "cell_type": "markdown",
   "metadata": {},
   "source": [
    "Second method with value_counts() is preferable."
   ]
  },
  {
   "cell_type": "markdown",
   "metadata": {
    "colab_type": "text",
    "id": "PQ0KciD7Vp_f"
   },
   "source": [
    "# 15. Фильмы с каким актером принесли самые высокие кассовые сборы в 2012 году? "
   ]
  },
  {
   "cell_type": "code",
   "execution_count": null,
   "metadata": {
    "colab": {},
    "colab_type": "code",
    "id": "aga62oeKVp_g"
   },
   "outputs": [],
   "source": [
    "answers['15'] = 'Chris Hemsworth'"
   ]
  },
  {
   "cell_type": "code",
   "execution_count": null,
   "metadata": {},
   "outputs": [],
   "source": [
    "data_2012 = data[data['release_year'] == 2012]"
   ]
  },
  {
   "cell_type": "markdown",
   "metadata": {},
   "source": [
    "* FIRST METHOD - Using collections.Counter()"
   ]
  },
  {
   "cell_type": "code",
   "execution_count": null,
   "metadata": {},
   "outputs": [],
   "source": [
    "actor_revenue_count = Counter()\n",
    "\n",
    "data_2012.apply(actor_revenue, axis=1)\n",
    "\n",
    "# getting only several first items\n",
    "actor_revenue_high = {\n",
    "    key: value for key, value\n",
    "    in sorted(actor_revenue_count.items(), key=lambda item: item[1], reverse=True)\n",
    "    if value > 1112234366\n",
    "}\n",
    "\n",
    "actor_revenue_high"
   ]
  },
  {
   "cell_type": "markdown",
   "metadata": {},
   "source": [
    "* SECOND METHOD - Using pd.Series.value_counts()"
   ]
  },
  {
   "cell_type": "code",
   "execution_count": null,
   "metadata": {},
   "outputs": [],
   "source": [
    "cast = pd.Series(data_2012['cast'].sum())\n",
    "cast = cast.value_counts(ascending=False)\n",
    "\n",
    "for actor in cast.index:\n",
    "    cast[actor] = data_2012[data_2012['cast'].map(lambda x: actor in x)]['revenue'].sum() # sorting the rows containing every certain actor out of the dataframe, summing up their revenues\n",
    "\n",
    "cast.sort_values(ascending=False)"
   ]
  },
  {
   "cell_type": "markdown",
   "metadata": {
    "colab_type": "text",
    "id": "mWHyyL7QVp_j"
   },
   "source": [
    "# 16. Какой актер снялся в большем количестве высокобюджетных фильмов?"
   ]
  },
  {
   "cell_type": "code",
   "execution_count": null,
   "metadata": {},
   "outputs": [],
   "source": [
    "answers['16'] = 'Matt Damon'"
   ]
  },
  {
   "cell_type": "code",
   "execution_count": null,
   "metadata": {
    "colab": {},
    "colab_type": "code",
    "id": "qQtmHKTFVp_k"
   },
   "outputs": [],
   "source": [
    "high_budget_data = data[data['budget'] > data['budget'].mean()]\n",
    "pd.Series(high_budget_data['cast'].sum()).value_counts(ascending=False)"
   ]
  },
  {
   "cell_type": "markdown",
   "metadata": {
    "colab_type": "text",
    "id": "NIh6AaW5Vp_n"
   },
   "source": [
    "# 17. В фильмах какого жанра больше всего снимался Nicolas Cage? "
   ]
  },
  {
   "cell_type": "code",
   "execution_count": null,
   "metadata": {},
   "outputs": [],
   "source": [
    "answers['17'] = 'Action'"
   ]
  },
  {
   "cell_type": "code",
   "execution_count": null,
   "metadata": {
    "colab": {},
    "colab_type": "code",
    "id": "H74SJDIBVp_n"
   },
   "outputs": [],
   "source": [
    "NCage_data = data[data['cast'].map(lambda x: 'Nicolas Cage' in x)]\n",
    "pd.Series(NCage_data['genres'].sum()).value_counts(ascending=False)"
   ]
  },
  {
   "cell_type": "markdown",
   "metadata": {
    "colab_type": "text",
    "id": "RqOmPRfWVp_q"
   },
   "source": [
    "# 18. Самый убыточный фильм от Paramount Pictures"
   ]
  },
  {
   "cell_type": "code",
   "execution_count": null,
   "metadata": {},
   "outputs": [],
   "source": [
    "answers['18'] = 'tt0267626 K-19: The Widowmaker'"
   ]
  },
  {
   "cell_type": "code",
   "execution_count": null,
   "metadata": {
    "colab": {},
    "colab_type": "code",
    "id": "9E_B0Y96Vp_r"
   },
   "outputs": [],
   "source": [
    "ParPic_data = data[data['production_companies'].map(lambda x: 'Paramount Pictures' in x)]\n",
    "ParPic_data[ParPic_data['profit'] == ParPic_data['profit'].min()][['imdb_id', 'original_title', 'profit']]"
   ]
  },
  {
   "cell_type": "markdown",
   "metadata": {
    "colab_type": "text",
    "id": "vS8Ur6ddVp_u"
   },
   "source": [
    "# 19. Какой год стал самым успешным по суммарным кассовым сборам?"
   ]
  },
  {
   "cell_type": "code",
   "execution_count": null,
   "metadata": {
    "colab": {},
    "colab_type": "code",
    "id": "Dnbt4GdIVp_v"
   },
   "outputs": [],
   "source": [
    "answers['19'] = 2015"
   ]
  },
  {
   "cell_type": "markdown",
   "metadata": {},
   "source": [
    "* FIRST METHOD - Using pandas.Series"
   ]
  },
  {
   "cell_type": "code",
   "execution_count": null,
   "metadata": {},
   "outputs": [],
   "source": [
    "year_revenue = data['release_year'].value_counts()\n",
    "\n",
    "for year in year_revenue.index:\n",
    "    year_revenue[year] = data[data['release_year'] == year]['revenue'].sum()\n",
    "\n",
    "year_revenue.sort_values(ascending=False)"
   ]
  },
  {
   "cell_type": "markdown",
   "metadata": {},
   "source": [
    "* SECOND METHOD - Using collections.Counter()"
   ]
  },
  {
   "cell_type": "code",
   "execution_count": null,
   "metadata": {},
   "outputs": [],
   "source": [
    "year_revenue_dict = Counter()\n",
    "\n",
    "for year in data['release_year'].value_counts().index:\n",
    "    year_revenue_dict[year] = data[data['release_year'] == year]['revenue'].sum()\n",
    "\n",
    "year_revenue_dict = {\n",
    "    key: value for key, value in sorted(year_revenue_dict.items(), key=lambda item: item[1], reverse=True)\n",
    "} # sorting dict to dict by descending values\n",
    "\n",
    "year_revenue_dict"
   ]
  },
  {
   "cell_type": "markdown",
   "metadata": {
    "colab_type": "text",
    "id": "JAzJh4QAVp_z"
   },
   "source": [
    "# 20. Какой самый прибыльный год для студии Warner Bros?"
   ]
  },
  {
   "cell_type": "code",
   "execution_count": null,
   "metadata": {
    "colab": {},
    "colab_type": "code",
    "id": "wgVu02DEVp_0"
   },
   "outputs": [],
   "source": [
    "answers['20'] = 2014"
   ]
  },
  {
   "cell_type": "code",
   "execution_count": null,
   "metadata": {
    "scrolled": true
   },
   "outputs": [],
   "source": [
    "# preprocessing\n",
    "companies = pd.Series(data['production_companies'].sum()).value_counts() # проверяем название компании в датасете, тк по 'Warner Bros' найти нечего не удалось\n",
    "companies.sort_index(ascending=False)[60:70] # видим, что в поиск включать нужно все 4"
   ]
  },
  {
   "cell_type": "code",
   "execution_count": null,
   "metadata": {},
   "outputs": [],
   "source": [
    "WB_data = data[data['production_companies'].map(lambda x: 'Warner Bros' in '|'.join(x))] # join companies back to string because of 4 different company names include 'Warner Bros' string\n",
    "WB_year_revenue = WB_data['release_year'].value_counts() # collecting all unique release years\n",
    "\n",
    "for year in WB_year_revenue.index:\n",
    "    WB_year_revenue[year] = WB_data[WB_data['release_year'] == year]['revenue'].sum()\n",
    "\n",
    "WB_year_revenue.sort_values(ascending=False)"
   ]
  },
  {
   "cell_type": "markdown",
   "metadata": {
    "colab_type": "text",
    "id": "8Im1S2HRVp_4"
   },
   "source": [
    "# 21. В каком месяце за все годы суммарно вышло больше всего фильмов?"
   ]
  },
  {
   "cell_type": "code",
   "execution_count": null,
   "metadata": {
    "colab": {},
    "colab_type": "code",
    "id": "lev6TH7gVp_4"
   },
   "outputs": [],
   "source": [
    "answers['21'] = 9"
   ]
  },
  {
   "cell_type": "code",
   "execution_count": null,
   "metadata": {},
   "outputs": [],
   "source": [
    "data['release_month'] = data['release_date'].dt.month\n",
    "month_movies = data['release_month'].value_counts().sort_index() # creating index of month movies Series\n",
    "\n",
    "for month in month_movies.index:\n",
    "    month_movies[month] = len(data[data['release_month'] == month]) # filling it in with movies numbers\n",
    "\n",
    "month_movies.sort_values(ascending=False)"
   ]
  },
  {
   "cell_type": "markdown",
   "metadata": {
    "colab_type": "text",
    "id": "uAJsZ_NeVp_7"
   },
   "source": [
    "# 22. Сколько суммарно вышло фильмов летом? (за июнь, июль, август)"
   ]
  },
  {
   "cell_type": "code",
   "execution_count": null,
   "metadata": {
    "colab": {},
    "colab_type": "code",
    "id": "Aa-hEREoVp_8"
   },
   "outputs": [],
   "source": [
    "answers['22'] = 450"
   ]
  },
  {
   "cell_type": "markdown",
   "metadata": {},
   "source": [
    "* FIRST METHOD"
   ]
  },
  {
   "cell_type": "code",
   "execution_count": null,
   "metadata": {
    "scrolled": true
   },
   "outputs": [],
   "source": [
    "num = len(data[(data['release_month'] >= 6) & (data['release_month'] < 9)]) # or dataframe.count()\n",
    "\n",
    "# check the processing time\n",
    "%timeit num = len(data[(data['release_month'] >= 6) & (data['release_month'] < 9)]) # or dataframe.count()\n",
    "\n",
    "num"
   ]
  },
  {
   "cell_type": "markdown",
   "metadata": {},
   "source": [
    "* SECOND METHOD"
   ]
  },
  {
   "cell_type": "code",
   "execution_count": null,
   "metadata": {
    "scrolled": true
   },
   "outputs": [],
   "source": [
    "num1 = len(data[data['release_month'].isin(range(6, 9))])\n",
    "\n",
    "# check the processing time\n",
    "%timeit num1 = len(data[data['release_month'].isin(range(6, 9))])\n",
    "\n",
    "num1"
   ]
  },
  {
   "cell_type": "markdown",
   "metadata": {
    "colab_type": "text",
    "id": "G94ppOY1VqAA"
   },
   "source": [
    "# 23. Для какого режиссера зима – самое продуктивное время года? "
   ]
  },
  {
   "cell_type": "code",
   "execution_count": null,
   "metadata": {},
   "outputs": [],
   "source": [
    "answers['23'] = 'Peter Jackson'"
   ]
  },
  {
   "cell_type": "code",
   "execution_count": null,
   "metadata": {
    "colab": {},
    "colab_type": "code",
    "id": "RhNTsamuVqAB",
    "scrolled": false
   },
   "outputs": [],
   "source": [
    "data_winter = data[data['release_month'].isin([12, 1, 2])]\n",
    "pd.Series(data_winter['director'].sum()).value_counts().sort_values(ascending=False)"
   ]
  },
  {
   "cell_type": "markdown",
   "metadata": {
    "colab_type": "text",
    "id": "RBo0JVjVVqAF"
   },
   "source": [
    "# 24. Какая студия дает самые длинные названия своим фильмам по количеству символов?"
   ]
  },
  {
   "cell_type": "code",
   "execution_count": null,
   "metadata": {
    "colab": {},
    "colab_type": "code",
    "id": "QRGS8L0iVqAG"
   },
   "outputs": [],
   "source": [
    "answers['24'] = 'Four By Two Productions'"
   ]
  },
  {
   "cell_type": "code",
   "execution_count": null,
   "metadata": {
    "scrolled": true
   },
   "outputs": [],
   "source": [
    "comp_titles = pd.Series(data['production_companies'].sum()).value_counts()\n",
    "\n",
    "for company in comp_titles.index:\n",
    "    titles = data[data['production_companies'].map(lambda x: company in x)]['original_title']\n",
    "    titles = titles.map(lambda x: len(x))\n",
    "    comp_titles[company] = round(titles.mean())\n",
    "\n",
    "comp_titles.sort_values(ascending=False)"
   ]
  },
  {
   "cell_type": "code",
   "execution_count": null,
   "metadata": {},
   "outputs": [],
   "source": [
    "# let's see how come the average title length is 83 symbols\n",
    "data[data['production_companies'].map(lambda x: 'Four By Two Productions' in x)]"
   ]
  },
  {
   "cell_type": "markdown",
   "metadata": {
    "colab_type": "text",
    "id": "9G0hbvR7VqAK"
   },
   "source": [
    "# 25. Описание фильмов какой студии в среднем самые длинные по количеству слов?"
   ]
  },
  {
   "cell_type": "code",
   "execution_count": null,
   "metadata": {},
   "outputs": [],
   "source": [
    "answers['25'] = 'Midnight Picture Show'"
   ]
  },
  {
   "cell_type": "code",
   "execution_count": null,
   "metadata": {},
   "outputs": [],
   "source": [
    "from statistics import mean\n",
    "\n",
    "comp_descr = pd.Series(data['production_companies'].sum()).value_counts() # creating a list of unique company names (Series.index)\n",
    "# display(comp_descr)\n",
    "\n",
    "for company in comp_descr.index:\n",
    "    temp = list(data[data['production_companies'].map(lambda x: company in x)]['overview'].values) # list of overviews of a certain company\n",
    "    comp_descr[company] = mean([len(item.split(' ')) for item in temp]) # turning temp into a list of overview lengths, calculating mean length, writing down into Series\n",
    "\n",
    "comp_descr.sort_values(ascending=False)"
   ]
  },
  {
   "cell_type": "markdown",
   "metadata": {
    "colab_type": "text",
    "id": "FJ1AFt90VqAP"
   },
   "source": [
    "# 26. Какие фильмы входят в 1 процент лучших по рейтингу? \n",
    "по vote_average"
   ]
  },
  {
   "cell_type": "code",
   "execution_count": null,
   "metadata": {
    "colab": {},
    "colab_type": "code",
    "id": "8qmJVq4CVqAQ",
    "scrolled": true
   },
   "outputs": [],
   "source": [
    "answers['26'] = 'Inside Out, The Dark Knight, 12 Years a Slave'"
   ]
  },
  {
   "cell_type": "code",
   "execution_count": null,
   "metadata": {},
   "outputs": [],
   "source": [
    "# set of options proposed:\n",
    "titles1 = ['Inside Out', 'The Dark Knight', '12 Years a Slave']\n",
    "titles2 = ['BloodRayne', 'The Adventures of Rocky & Bullwinkle']\n",
    "titles3 = ['Batman Begins', 'The Lord of the Rings: The Return of the King', 'Upside Down']\n",
    "titles4 = ['300', 'Lucky Number Slevin', 'Kill Bill: Vol. 1']\n",
    "titles5 = ['Upside Down', 'Inside Out', 'Iron Man']\n",
    "\n",
    "titles_list = [titles1, titles2, titles3, titles4, titles5]"
   ]
  },
  {
   "cell_type": "markdown",
   "metadata": {},
   "source": [
    "* FIRST METHOD - Simply"
   ]
  },
  {
   "cell_type": "code",
   "execution_count": null,
   "metadata": {
    "scrolled": false
   },
   "outputs": [],
   "source": [
    "votes = data['vote_average'].sort_values(ascending=False)\n",
    "\n",
    "length = round(len(votes)*0.01)\n",
    "votes_1percent = votes[:length]\n",
    "\n",
    "data_best1 = data.iloc[list(votes_1percent.index)]\n",
    "\n",
    "print('The answer is: {}'.format(find_set(data_best1, titles_list)))\n",
    "\n",
    "display(data_best1.head())"
   ]
  },
  {
   "cell_type": "markdown",
   "metadata": {},
   "source": [
    "* SECOND METHOD - Using pandas tools"
   ]
  },
  {
   "cell_type": "code",
   "execution_count": null,
   "metadata": {},
   "outputs": [],
   "source": [
    "data_best2 = data.sort_values(by='vote_average', axis=0, ascending=False).iloc[:round(len(data)*0.01)]\n",
    "\n",
    "print('The answer is: {}'.format(find_set(data_best2, titles_list)))\n",
    "\n",
    "display(data_best2.head())"
   ]
  },
  {
   "cell_type": "markdown",
   "metadata": {},
   "source": [
    "* THIRD METHOD - Using np.quantile()"
   ]
  },
  {
   "cell_type": "code",
   "execution_count": null,
   "metadata": {},
   "outputs": [],
   "source": [
    "quantile = np.quantile(data['vote_average'], 0.99)\n",
    "data_best3 = data[data['vote_average'] >= quantile]\n",
    "\n",
    "print('The answer is: {}'.format(find_set(data_best3, titles_list)))\n",
    "\n",
    "display(data_best3.head())"
   ]
  },
  {
   "cell_type": "markdown",
   "metadata": {},
   "source": [
    "**METHODS CHECK-UP**<br><br>\n",
    "Let's check sorted df lengths and vote ranges of movies contained:"
   ]
  },
  {
   "cell_type": "code",
   "execution_count": null,
   "metadata": {},
   "outputs": [],
   "source": [
    "print(len(data_best1), len(data_best2), len(data_best3))\n",
    "print(data_best1['vote_average'].max(), data_best2['vote_average'].max(), data_best3['vote_average'].max())\n",
    "print(data_best1['vote_average'].min(), data_best2['vote_average'].min(), data_best3['vote_average'].min())"
   ]
  },
  {
   "cell_type": "markdown",
   "metadata": {},
   "source": [
    "As we see, the vote ranges are the same, whereas the dataframe lengths are different. This is due to the concept mistake made while sorting movies out: the task was to sort out <i>1% of best by vote</i> movies. In the fisrt two methods we took 1% of the <i>total number</i> of movies whereas we were supposed to take movies by <i>the vote value</i>. Therefore, the third method using 0.99-quantile value is the most correct one."
   ]
  },
  {
   "cell_type": "markdown",
   "metadata": {
    "colab_type": "text",
    "id": "MdXsUXbCVqAV"
   },
   "source": [
    "# 27. Какие актеры чаще всего снимаются в одном фильме вместе?\n"
   ]
  },
  {
   "cell_type": "markdown",
   "metadata": {
    "colab_type": "text",
    "id": "4ymnxEVoVqAW"
   },
   "source": [
    "ВАРИАНТ 2"
   ]
  },
  {
   "cell_type": "code",
   "execution_count": null,
   "metadata": {},
   "outputs": [],
   "source": [
    "answers['27'] = 'Daniel Radcliffe, Rupert Grint'"
   ]
  },
  {
   "cell_type": "code",
   "execution_count": null,
   "metadata": {},
   "outputs": [],
   "source": [
    "from itertools import combinations\n",
    "\n",
    "couples_list = (data['cast'].map(lambda x: list(combinations(x, 2)))).sum()\n",
    "couples = pd.Series(couples_list)\n",
    "couples.value_counts(ascending=False)"
   ]
  },
  {
   "cell_type": "markdown",
   "metadata": {
    "colab_type": "text",
    "id": "U0nONFnGVqAX"
   },
   "source": [
    "# Submission"
   ]
  },
  {
   "cell_type": "code",
   "execution_count": null,
   "metadata": {
    "colab": {},
    "colab_type": "code",
    "id": "IfcaRO9-VqAX",
    "outputId": "0f132912-32bb-4196-c98c-abfbc4ad5a5f"
   },
   "outputs": [],
   "source": [
    "# в конце можно посмотреть свои ответы к каждому вопросу\n",
    "answers"
   ]
  },
  {
   "cell_type": "code",
   "execution_count": null,
   "metadata": {
    "colab": {},
    "colab_type": "code",
    "id": "SiRmHPl8VqAd"
   },
   "outputs": [],
   "source": [
    "# и убедиться что ни чего не пропустил)\n",
    "len(answers)"
   ]
  },
  {
   "cell_type": "code",
   "execution_count": null,
   "metadata": {},
   "outputs": [],
   "source": []
  }
 ],
 "metadata": {
  "colab": {
   "name": "Copy of [SF-DST] Movies IMBD v4.1 TEMPLATE.ipynb",
   "provenance": []
  },
  "kernelspec": {
   "display_name": "Python 3",
   "language": "python",
   "name": "python3"
  },
  "language_info": {
   "codemirror_mode": {
    "name": "ipython",
    "version": 3
   },
   "file_extension": ".py",
   "mimetype": "text/x-python",
   "name": "python",
   "nbconvert_exporter": "python",
   "pygments_lexer": "ipython3",
   "version": "3.7.6"
  }
 },
 "nbformat": 4,
 "nbformat_minor": 1
}
